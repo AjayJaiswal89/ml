{
 "cells": [
  {
   "cell_type": "markdown",
   "metadata": {},
   "source": [
    "# Generating simple audio samples with music21\n",
    "\n",
    "We'd like to synthesize simple audio samples containing a single note or a chord. The samples, however, should be parameterized by several attributes. We'd like to modify:\n",
    "\n",
    "- pitch\n",
    "- [precise frequency]\n",
    "- instrument\n",
    "- volume\n",
    "- duration\n",
    "- location in the sample\n",
    "\n",
    "The main output should be MIDI which can be synthesized to audio. Besides that we'd like to store the parameters and metadata like the the pitch class, frequency, etc.\n",
    "\n",
    "In this notebook we'll explore how to acomplish this with the `music21` library."
   ]
  },
  {
   "cell_type": "code",
   "execution_count": 243,
   "metadata": {
    "collapsed": true
   },
   "outputs": [],
   "source": [
    "import music21\n",
    "from music21.note import Note\n",
    "from music21.stream import Stream\n",
    "from music21.duration import Duration\n",
    "from music21.volume import Volume\n",
    "from music21.chord import Chord\n",
    "from music21.tempo import MetronomeMark"
   ]
  },
  {
   "cell_type": "code",
   "execution_count": 244,
   "metadata": {
    "collapsed": true
   },
   "outputs": [],
   "source": [
    "import os\n",
    "data_dir = 'data/working/example-parametric-note'\n",
    "os.makedirs(data_dir, exist_ok=True)"
   ]
  },
  {
   "cell_type": "markdown",
   "metadata": {},
   "source": [
    "We're about to create a Note object which represents a single note and both its pitch and duration."
   ]
  },
  {
   "cell_type": "code",
   "execution_count": 245,
   "metadata": {
    "collapsed": false
   },
   "outputs": [
    {
     "data": {
      "text/plain": [
       "<music21.note.Note C>"
      ]
     },
     "execution_count": 245,
     "metadata": {},
     "output_type": "execute_result"
    }
   ],
   "source": [
    "Note('C')"
   ]
  },
  {
   "cell_type": "code",
   "execution_count": 246,
   "metadata": {
    "collapsed": false
   },
   "outputs": [],
   "source": [
    "s = Stream([Note('C')])"
   ]
  },
  {
   "cell_type": "markdown",
   "metadata": {},
   "source": [
    "If we have MuseScore installed, we can we the music sheet representation."
   ]
  },
  {
   "cell_type": "code",
   "execution_count": 247,
   "metadata": {
    "collapsed": false
   },
   "outputs": [
    {
     "data": {
      "image/png": "[encoded data removed]",
      "text/plain": [
       "<music21.ipython21.objects.IPythonPNGObject at 0x109f906d8>"
      ]
     },
     "execution_count": 247,
     "metadata": {},
     "output_type": "execute_result"
    }
   ],
   "source": [
    "s.show()"
   ]
  },
  {
   "cell_type": "code",
   "execution_count": 248,
   "metadata": {
    "collapsed": false
   },
   "outputs": [
    {
     "data": {
      "text/html": [
       "\n",
       "                <div id='midiPlayerDiv926'></div>\n",
       "                <link rel=\"stylesheet\" href=\"http://artusi.xyz/music21j/css/m21.css\" \n",
       "                    type=\"text/css\" />\n",
       "                <script>\n",
       "                require.config({\n",
       "                    paths: {'music21': 'http://artusi.xyz/music21j/src/music21'} \n",
       "                }); \n",
       "                require(['music21'], function() { \n",
       "                               mp = new music21.miditools.MidiPlayer();\n",
       "                               mp.addPlayer('#midiPlayerDiv926'); \n",
       "                               mp.base64Load('data:audio/midi;base64,TVRoZAAAAAYAAQABBABNVHJrAAAAFwD/AwAA4ABAiACQPFqIAIA8AIgA/y8A'); \n",
       "                        });\n",
       "                </script>"
      ],
      "text/plain": [
       "<IPython.core.display.HTML object>"
      ]
     },
     "metadata": {},
     "output_type": "display_data"
    }
   ],
   "source": [
    "s.show('midi')"
   ]
  },
  {
   "cell_type": "code",
   "execution_count": 249,
   "metadata": {
    "collapsed": false,
    "scrolled": true
   },
   "outputs": [
    {
     "data": {
      "text/plain": [
       "'data/working/example-parametric-note/c.midi'"
      ]
     },
     "execution_count": 249,
     "metadata": {},
     "output_type": "execute_result"
    }
   ],
   "source": [
    "s.write('midi', data_dir + '/c.midi')"
   ]
  },
  {
   "cell_type": "markdown",
   "metadata": {},
   "source": [
    "## Properties of the Note"
   ]
  },
  {
   "cell_type": "code",
   "execution_count": 250,
   "metadata": {
    "collapsed": false
   },
   "outputs": [
    {
     "data": {
      "text/plain": [
       "<music21.note.Note C>"
      ]
     },
     "execution_count": 250,
     "metadata": {},
     "output_type": "execute_result"
    }
   ],
   "source": [
    "n = Note('C')\n",
    "n"
   ]
  },
  {
   "cell_type": "code",
   "execution_count": 251,
   "metadata": {
    "collapsed": true
   },
   "outputs": [],
   "source": [
    "def describe_note(note):\n",
    "    p = note.pitch\n",
    "    print(note)\n",
    "    print('pitch:', note.pitch)\n",
    "    print('duration:', note.duration)\n",
    "    print('name:', p.name)\n",
    "    print('full name:', p.fullName)\n",
    "    print('pitch class:', p.pitchClass)\n",
    "    print('octave:', p.octave)\n",
    "    print('frequency', p.frequency, 'Hz')\n",
    "    print('midi:', p.midi)\n",
    "    print('pitch space:', p.ps) # like MIDI, but floating point"
   ]
  },
  {
   "cell_type": "code",
   "execution_count": 252,
   "metadata": {
    "collapsed": false
   },
   "outputs": [
    {
     "name": "stdout",
     "output_type": "stream",
     "text": [
      "<music21.note.Note C>\n",
      "pitch: C\n",
      "duration: <music21.duration.Duration 1.0>\n",
      "name: C\n",
      "full name: C\n",
      "pitch class: 0\n",
      "octave: None\n",
      "frequency 261.6255653005985 Hz\n",
      "midi: 60\n",
      "pitch space: 60.0\n"
     ]
    }
   ],
   "source": [
    "describe_note(n)"
   ]
  },
  {
   "cell_type": "markdown",
   "metadata": {},
   "source": [
    "## Creating Note with parameters"
   ]
  },
  {
   "cell_type": "code",
   "execution_count": 253,
   "metadata": {
    "collapsed": false
   },
   "outputs": [
    {
     "name": "stdout",
     "output_type": "stream",
     "text": [
      "<music21.note.Note E>\n",
      "pitch: E\n",
      "duration: <music21.duration.Duration 1.0>\n",
      "name: E\n",
      "full name: E\n",
      "pitch class: 4\n",
      "octave: None\n",
      "frequency 329.62755691286986 Hz\n",
      "midi: 64\n",
      "pitch space: 64.0\n"
     ]
    }
   ],
   "source": [
    "# different note in the default octave\n",
    "describe_note(Note('E'))"
   ]
  },
  {
   "cell_type": "code",
   "execution_count": 254,
   "metadata": {
    "collapsed": false
   },
   "outputs": [
    {
     "name": "stdout",
     "output_type": "stream",
     "text": [
      "<music21.note.Note G#>\n",
      "pitch: G#3\n",
      "duration: <music21.duration.Duration 1.0>\n",
      "name: G#\n",
      "full name: G-sharp in octave 3\n",
      "pitch class: 8\n",
      "octave: 3\n",
      "frequency 207.65234878997245 Hz\n",
      "midi: 56\n",
      "pitch space: 56.0\n"
     ]
    }
   ],
   "source": [
    "# a note in the specific octave\n",
    "describe_note(Note('G#3'))"
   ]
  },
  {
   "cell_type": "code",
   "execution_count": 255,
   "metadata": {
    "collapsed": false
   },
   "outputs": [
    {
     "name": "stdout",
     "output_type": "stream",
     "text": [
      "<music21.note.Note E->\n",
      "pitch: E-2\n",
      "duration: <music21.duration.Duration 1.0>\n",
      "name: E-\n",
      "full name: E-flat in octave 2\n",
      "pitch class: 3\n",
      "octave: 2\n",
      "frequency 77.78174593052012 Hz\n",
      "midi: 39\n",
      "pitch space: 39.0\n"
     ]
    }
   ],
   "source": [
    "# note specified by its octave and pitch class within an octave\n",
    "describe_note(Note(octave=2, pitchClass=3))"
   ]
  },
  {
   "cell_type": "code",
   "execution_count": 256,
   "metadata": {
    "collapsed": false
   },
   "outputs": [
    {
     "name": "stdout",
     "output_type": "stream",
     "text": [
      "<music21.note.Note A>\n",
      "pitch: A0\n",
      "duration: <music21.duration.Duration 1.0>\n",
      "name: A\n",
      "full name: A in octave 0\n",
      "pitch class: 9\n",
      "octave: 0\n",
      "frequency 27.499999999999947 Hz\n",
      "midi: 21\n",
      "pitch space: 21.0\n"
     ]
    }
   ],
   "source": [
    "# note specified by its integer MIDI number\n",
    "describe_note(Note(midi=21))"
   ]
  },
  {
   "cell_type": "code",
   "execution_count": 257,
   "metadata": {
    "collapsed": false
   },
   "outputs": [
    {
     "name": "stdout",
     "output_type": "stream",
     "text": [
      "<music21.note.Note A>\n",
      "pitch: A0(+25c)\n",
      "duration: <music21.duration.Duration 1.0>\n",
      "name: A\n",
      "full name: A in octave 0 (+25c)\n",
      "pitch class: 9\n",
      "octave: 0\n",
      "frequency 27.899996710781842 Hz\n",
      "midi: 21\n",
      "pitch space: 21.25\n"
     ]
    }
   ],
   "source": [
    "# microtonal pitch using the pitch space attribute (like MIDI but floating point)\n",
    "describe_note(Note(ps=21.25))"
   ]
  },
  {
   "cell_type": "markdown",
   "metadata": {},
   "source": [
    "## Changing duration"
   ]
  },
  {
   "cell_type": "code",
   "execution_count": 258,
   "metadata": {
    "collapsed": false
   },
   "outputs": [
    {
     "name": "stdout",
     "output_type": "stream",
     "text": [
      "<music21.note.Note A>\n",
      "pitch: A0\n",
      "duration: <music21.duration.Duration 0.5>\n",
      "name: A\n",
      "full name: A in octave 0\n",
      "pitch class: 9\n",
      "octave: 0\n",
      "frequency 27.499999999999947 Hz\n",
      "midi: 21\n",
      "pitch space: 21.0\n"
     ]
    }
   ],
   "source": [
    "# note with duration of half of a quarter note\n",
    "note = Note(midi=21, duration=Duration(0.5))\n",
    "describe_note(note)"
   ]
  },
  {
   "cell_type": "code",
   "execution_count": 259,
   "metadata": {
    "collapsed": false
   },
   "outputs": [
    {
     "name": "stdout",
     "output_type": "stream",
     "text": [
      "<music21.note.Note A>\n",
      "pitch: A0\n",
      "duration: <music21.duration.Duration 2.5>\n",
      "name: A\n",
      "full name: A in octave 0\n",
      "pitch class: 9\n",
      "octave: 0\n",
      "frequency 27.499999999999947 Hz\n",
      "midi: 21\n",
      "pitch space: 21.0\n"
     ]
    }
   ],
   "source": [
    "# note with duration of half of a quarter note\n",
    "note = Note(midi=21, duration=Duration(2.5))\n",
    "describe_note(note)"
   ]
  },
  {
   "cell_type": "markdown",
   "metadata": {},
   "source": [
    "## Changing volume\n",
    "\n",
    "Volume can be specified by parameters:\n",
    "\n",
    "- `velocity` with range from 0 to 127 or by\n",
    "- `velocityScalar` with range from 0.0 to 1.0"
   ]
  },
  {
   "cell_type": "code",
   "execution_count": 260,
   "metadata": {
    "collapsed": false,
    "scrolled": true
   },
   "outputs": [
    {
     "name": "stdout",
     "output_type": "stream",
     "text": [
      "<music21.volume.Volume realized=0.0>\n",
      "<music21.volume.Volume realized=0.25>\n",
      "<music21.volume.Volume realized=0.5>\n",
      "<music21.volume.Volume realized=1.0>\n"
     ]
    }
   ],
   "source": [
    "for v in [0, 32, 64, 127]:\n",
    "    print(Volume(velocity=v))"
   ]
  },
  {
   "cell_type": "code",
   "execution_count": 261,
   "metadata": {
    "collapsed": false
   },
   "outputs": [
    {
     "name": "stdout",
     "output_type": "stream",
     "text": [
      "<music21.volume.Volume realized=0.0>\n",
      "<music21.volume.Volume realized=0.25>\n",
      "<music21.volume.Volume realized=0.5>\n",
      "<music21.volume.Volume realized=1.0>\n"
     ]
    }
   ],
   "source": [
    "for v in [0, 0.25, 0.5, 1.0]:\n",
    "    print(Volume(velocityScalar=v))"
   ]
  },
  {
   "cell_type": "code",
   "execution_count": 262,
   "metadata": {
    "collapsed": false
   },
   "outputs": [
    {
     "data": {
      "text/plain": [
       "<music21.volume.Volume realized=0.71>"
      ]
     },
     "execution_count": 262,
     "metadata": {},
     "output_type": "execute_result"
    }
   ],
   "source": [
    "Chord(['C']).volume"
   ]
  },
  {
   "cell_type": "code",
   "execution_count": 263,
   "metadata": {
    "collapsed": false
   },
   "outputs": [
    {
     "data": {
      "text/plain": [
       "<music21.volume.Volume realized=0.25>"
      ]
     },
     "execution_count": 263,
     "metadata": {},
     "output_type": "execute_result"
    }
   ],
   "source": [
    "c = Chord([Note('C')])\n",
    "c.volume = Volume(velocityScalar=0.25)\n",
    "c.volume"
   ]
  },
  {
   "cell_type": "markdown",
   "metadata": {},
   "source": [
    "## How to set tempo?"
   ]
  },
  {
   "cell_type": "code",
   "execution_count": 264,
   "metadata": {
    "collapsed": false
   },
   "outputs": [
    {
     "data": {
      "text/plain": [
       "1.0"
      ]
     },
     "execution_count": 264,
     "metadata": {},
     "output_type": "execute_result"
    }
   ],
   "source": [
    "metronome = MetronomeMark(number=60)\n",
    "metronome.durationToSeconds(Duration(1.0))"
   ]
  },
  {
   "cell_type": "markdown",
   "metadata": {},
   "source": [
    "Just add a metronome mark at the beginning of the stream."
   ]
  },
  {
   "cell_type": "code",
   "execution_count": 265,
   "metadata": {
    "collapsed": false
   },
   "outputs": [
    {
     "data": {
      "image/png": "[encoded data removed]",
      "text/plain": [
       "<music21.ipython21.objects.IPythonPNGObject at 0x109f78be0>"
      ]
     },
     "execution_count": 265,
     "metadata": {},
     "output_type": "execute_result"
    }
   ],
   "source": [
    "Stream([MetronomeMark(number=60), Note('C')]).show()"
   ]
  }
 ],
 "metadata": {
  "kernelspec": {
   "display_name": "Python 3",
   "language": "python",
   "name": "python3"
  },
  "language_info": {
   "codemirror_mode": {
    "name": "ipython",
    "version": 3
   },
   "file_extension": ".py",
   "mimetype": "text/x-python",
   "name": "python",
   "nbconvert_exporter": "python",
   "pygments_lexer": "ipython3",
   "version": "3.4.4"
  }
 },
 "nbformat": 4,
 "nbformat_minor": 0
}
