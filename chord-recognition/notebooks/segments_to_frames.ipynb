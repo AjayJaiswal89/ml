{
 "cells": [
  {
   "cell_type": "markdown",
   "metadata": {},
   "source": [
    "# Segments to frames\n",
    "\n",
    "The goal is to map a sequence of variable-length segments to fixed-length frames.\n",
    "\n",
    "Input format:\n",
    "\n",
    "Chords in the annotated dataset are represented in segments. The song is a sequence of segments. Each segment has a start, end time and value (in this case chord label). Segments have to be contuguous, non-overlapping and non-empty. \n",
    "The song starts and time 0.0.\n",
    "\n",
    "Output format:\n",
    "\n",
    "We'd like to use features like spectrogram, chomagrams, etc. When a digital audio recording is analyzed with such spectral methods, it is split into fixed-size frames. Each frame represents also a time interval with start and end time. Since the signal in each frame is typically windowed and the frames are overlapping we can describe the frame just by the time of its center.\n",
    "\n",
    "Since we'd like to use the chord annotations as labels for the features we have to map them to frames.\n",
    "\n",
    "This can be done quite easily. In pseuodocode:\n",
    "\n",
    "```\n",
    "for each frame:\n",
    "    take its center time\n",
    "    find the segment containing this time\n",
    "    assign that segment's value as the frame label\n",
    "```"
   ]
  },
  {
   "cell_type": "code",
   "execution_count": 146,
   "metadata": {
    "collapsed": false
   },
   "outputs": [
    {
     "name": "stdout",
     "output_type": "stream",
     "text": [
      "Populating the interactive namespace from numpy and matplotlib\n"
     ]
    }
   ],
   "source": [
    "%pylab inline\n",
    "import pandas as pd\n",
    "import matplotlib.pyplot as plt\n",
    "from matplotlib.patches import Rectangle\n",
    "pylab.rcParams['figure.figsize'] = (12, 6)"
   ]
  },
  {
   "cell_type": "code",
   "execution_count": 22,
   "metadata": {
    "collapsed": false
   },
   "outputs": [
    {
     "data": {
      "text/html": [
       "<div>\n",
       "<table border=\"1\" class=\"dataframe\">\n",
       "  <thead>\n",
       "    <tr style=\"text-align: right;\">\n",
       "      <th></th>\n",
       "      <th>start</th>\n",
       "      <th>end</th>\n",
       "      <th>label</th>\n",
       "    </tr>\n",
       "  </thead>\n",
       "  <tbody>\n",
       "    <tr>\n",
       "      <th>0</th>\n",
       "      <td>0.0</td>\n",
       "      <td>2.4</td>\n",
       "      <td>C</td>\n",
       "    </tr>\n",
       "    <tr>\n",
       "      <th>1</th>\n",
       "      <td>2.4</td>\n",
       "      <td>2.8</td>\n",
       "      <td>F</td>\n",
       "    </tr>\n",
       "    <tr>\n",
       "      <th>2</th>\n",
       "      <td>2.8</td>\n",
       "      <td>4.7</td>\n",
       "      <td>G</td>\n",
       "    </tr>\n",
       "    <tr>\n",
       "      <th>3</th>\n",
       "      <td>4.7</td>\n",
       "      <td>5.2</td>\n",
       "      <td>C</td>\n",
       "    </tr>\n",
       "  </tbody>\n",
       "</table>\n",
       "</div>"
      ],
      "text/plain": [
       "   start  end label\n",
       "0    0.0  2.4     C\n",
       "1    2.4  2.8     F\n",
       "2    2.8  4.7     G\n",
       "3    4.7  5.2     C"
      ]
     },
     "execution_count": 22,
     "metadata": {},
     "output_type": "execute_result"
    }
   ],
   "source": [
    "segments = pd.DataFrame.from_records([\n",
    "    (0, 2.4, 'C'),\n",
    "    (2.4, 2.8, 'F'),\n",
    "    (2.8, 4.7, 'G'),\n",
    "    (4.7, 5.2, 'C'),\n",
    "], columns=['start','end','label'])\n",
    "segments"
   ]
  },
  {
   "cell_type": "code",
   "execution_count": 52,
   "metadata": {
    "collapsed": false
   },
   "outputs": [],
   "source": [
    "segment_count = len(segments)\n",
    "total_duration = segments['end'].iloc[-1]\n",
    "frame_duration = 1.0\n",
    "hop_duration = 0.5"
   ]
  },
  {
   "cell_type": "code",
   "execution_count": 276,
   "metadata": {
    "collapsed": false
   },
   "outputs": [],
   "source": [
    "def time_intervals(segments):\n",
    "    return [(v['start'], v['end']) for (k,v) in segments[['start', 'end']].iterrows()]\n",
    "\n",
    "def plot_segments(time_intervals):\n",
    "    ax = plt.gca()\n",
    "    for (i, (s, e)) in enumerate(time_intervals):\n",
    "        j = (i / 5) % 1\n",
    "        yshift = 0.1 * (abs(j - 0.5) - 0.5)\n",
    "        ax.add_patch(Rectangle(\n",
    "                (s, yshift), e-s, yshift + 1, alpha=0.5, linewidth=2,\n",
    "                edgecolor=(1,1,1), facecolor=plt.cm.jet(j)))\n",
    "    pad = 0.1\n",
    "    xlim(0 - pad, total_duration + pad)\n",
    "    ylim(0 - pad, 1 + pad)"
   ]
  },
  {
   "cell_type": "code",
   "execution_count": 277,
   "metadata": {
    "collapsed": false
   },
   "outputs": [
    {
     "data": {
      "image/png": "[encoded data removed]",
      "text/plain": [
       "<matplotlib.figure.Figure at 0x108c0ca90>"
      ]
     },
     "metadata": {},
     "output_type": "display_data"
    }
   ],
   "source": [
    "plot_segments(time_intervals(segments))"
   ]
  },
  {
   "cell_type": "code",
   "execution_count": 270,
   "metadata": {
    "collapsed": false
   },
   "outputs": [
    {
     "data": {
      "text/plain": [
       "10"
      ]
     },
     "execution_count": 270,
     "metadata": {},
     "output_type": "execute_result"
    }
   ],
   "source": [
    "def frame_count(total_duration, frame_duration, hop_duration):\n",
    "    return math.ceil((max(total_duration, frame_duration) - frame_duration) / hop_duration + 1)\n",
    "\n",
    "frame_count(total_duration, frame_duration, hop_duration)"
   ]
  },
  {
   "cell_type": "code",
   "execution_count": 256,
   "metadata": {
    "collapsed": true
   },
   "outputs": [],
   "source": [
    "def frames(total_duration, frame_duration, hop_duration):\n",
    "    count = frame_count(total_duration, frame_duration, hop_duration)\n",
    "    return [(i * hop_duration, i * hop_duration + frame_duration) for i in range(count)]\n",
    "\n",
    "def frame_centers(total_duration, frame_duration, hop_duration):\n",
    "    count = frame_count(total_duration, frame_duration, hop_duration)\n",
    "    return [(0.5  * frame_duration+ i * hop_duration) for i in range(count)]"
   ]
  },
  {
   "cell_type": "code",
   "execution_count": 303,
   "metadata": {
    "collapsed": false
   },
   "outputs": [
    {
     "data": {
      "text/plain": [
       "[0.5, 1.0, 1.5, 2.0, 2.5, 3.0, 3.5, 4.0, 4.5, 5.0]"
      ]
     },
     "execution_count": 303,
     "metadata": {},
     "output_type": "execute_result"
    }
   ],
   "source": [
    "f_centers = frame_centers(total_duration, frame_duration, hop_duration)\n",
    "f_centers"
   ]
  },
  {
   "cell_type": "code",
   "execution_count": 258,
   "metadata": {
    "collapsed": false
   },
   "outputs": [
    {
     "data": {
      "text/plain": [
       "[(0.0, 1.0),\n",
       " (0.5, 1.5),\n",
       " (1.0, 2.0),\n",
       " (1.5, 2.5),\n",
       " (2.0, 3.0),\n",
       " (2.5, 3.5),\n",
       " (3.0, 4.0),\n",
       " (3.5, 4.5),\n",
       " (4.0, 5.0),\n",
       " (4.5, 5.5)]"
      ]
     },
     "execution_count": 258,
     "metadata": {},
     "output_type": "execute_result"
    }
   ],
   "source": [
    "f = frames(total_duration, frame_duration, hop_duration)\n",
    "f"
   ]
  },
  {
   "cell_type": "code",
   "execution_count": 278,
   "metadata": {
    "collapsed": false
   },
   "outputs": [
    {
     "data": {
      "image/png": "[encoded data removed]",
      "text/plain": [
       "<matplotlib.figure.Figure at 0x108045198>"
      ]
     },
     "metadata": {},
     "output_type": "display_data"
    }
   ],
   "source": [
    "plot_segments(f)"
   ]
  },
  {
   "cell_type": "code",
   "execution_count": 317,
   "metadata": {
    "collapsed": false
   },
   "outputs": [],
   "source": [
    "def label_at_time(time, segments):\n",
    "    labels = segments[(segments['start'] <= time) & (segments['end'] >= time)]['label']\n",
    "    if len(labels) >= 0:\n",
    "        return labels.iloc[0]"
   ]
  },
  {
   "cell_type": "code",
   "execution_count": 319,
   "metadata": {
    "collapsed": false
   },
   "outputs": [
    {
     "data": {
      "text/plain": [
       "['C', 'C', 'C', 'C', 'F', 'G', 'G', 'G', 'G', 'C']"
      ]
     },
     "execution_count": 319,
     "metadata": {},
     "output_type": "execute_result"
    }
   ],
   "source": [
    "[label_at_time(t, segments) for t in f_centers]"
   ]
  },
  {
   "cell_type": "code",
   "execution_count": null,
   "metadata": {
    "collapsed": true
   },
   "outputs": [],
   "source": []
  }
 ],
 "metadata": {
  "kernelspec": {
   "display_name": "Python 3",
   "language": "python",
   "name": "python3"
  },
  "language_info": {
   "codemirror_mode": {
    "name": "ipython",
    "version": 3
   },
   "file_extension": ".py",
   "mimetype": "text/x-python",
   "name": "python",
   "nbconvert_exporter": "python",
   "pygments_lexer": "ipython3",
   "version": "3.4.3"
  }
 },
 "nbformat": 4,
 "nbformat_minor": 0
}
