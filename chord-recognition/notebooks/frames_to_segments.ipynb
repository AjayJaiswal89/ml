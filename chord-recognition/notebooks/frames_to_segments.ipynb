{
 "cells": [
  {
   "cell_type": "code",
   "execution_count": 40,
   "metadata": {
    "collapsed": false
   },
   "outputs": [],
   "source": [
    "import numpy as np\n",
    "import pandas as pd\n",
    "import sys\n",
    "\n",
    "sys.path.append('../../tools/music-processing-experiments')\n",
    "\n",
    "from time_intervals import block_labels"
   ]
  },
  {
   "cell_type": "code",
   "execution_count": 2,
   "metadata": {
    "collapsed": true
   },
   "outputs": [],
   "source": [
    "true_segments_df = pd.read_csv('../../data/beatles/_inbox/segmentation/01_09_true_segments.tsv', sep='\\t')"
   ]
  },
  {
   "cell_type": "code",
   "execution_count": 6,
   "metadata": {
    "collapsed": false
   },
   "outputs": [],
   "source": [
    "true_segments_df = true_segments_df[['start', 'end', 'label']]"
   ]
  },
  {
   "cell_type": "code",
   "execution_count": 95,
   "metadata": {
    "collapsed": false
   },
   "outputs": [
    {
     "name": "stdout",
     "output_type": "stream",
     "text": [
      "78\n"
     ]
    }
   ],
   "source": [
    "true_segments_df.head()\n",
    "print(len(true_segments_df))"
   ]
  },
  {
   "cell_type": "code",
   "execution_count": 12,
   "metadata": {
    "collapsed": false
   },
   "outputs": [
    {
     "data": {
      "text/plain": [
       "125.753469"
      ]
     },
     "execution_count": 12,
     "metadata": {},
     "output_type": "execute_result"
    }
   ],
   "source": [
    "duration = true_segments_df['end'].iloc[-1]\n",
    "duration"
   ]
  },
  {
   "cell_type": "code",
   "execution_count": 31,
   "metadata": {
    "collapsed": false
   },
   "outputs": [
    {
     "name": "stdout",
     "output_type": "stream",
     "text": [
      "(2708, 2)\n",
      "     start      end\n",
      "0  0.00000  0.04644\n",
      "1  0.04644  0.09288\n",
      "2  0.09288  0.13932\n",
      "3  0.13932  0.18576\n",
      "4  0.18576  0.23220\n"
     ]
    }
   ],
   "source": [
    "def block_segments(duration, fs=44100.0, hop_size=2048):\n",
    "    \"\"\"\n",
    "    Computes start and end times of regular overlapping blocks.\n",
    "    \"\"\"\n",
    "    hop_duration = hop_size / fs\n",
    "    start_times = np.arange(0, duration, hop_duration)\n",
    "    end_times = start_times + hop_duration\n",
    "    return pd.DataFrame({'start': start_times, 'end': end_times}, columns=['start', 'end'])\n",
    "\n",
    "block_times = block_segments(duration)\n",
    "print(block_times.shape)\n",
    "print(block_times[:5])"
   ]
  },
  {
   "cell_type": "code",
   "execution_count": 62,
   "metadata": {
    "collapsed": false
   },
   "outputs": [],
   "source": [
    "chords = true_segments_df\n",
    "x_times = block_times['start']\n",
    "block_size = 4096\n",
    "hop_size = 2048\n",
    "label_cols = ['label']\n",
    "\n",
    "def time_to_samples(time, fs=44100.0):\n",
    "    return np.round(time * fs)\n",
    "\n",
    "# chords['start_sample'] = time_to_samples(chords['start'])\n",
    "# chords['end_sample'] = time_to_samples(chords['end'])\n",
    "# df_blocks = pd.DataFrame({'start': time_to_samples(x_times).astype(np.int64)})\n",
    "# df_blocks['end'] = df_blocks['start'] + block_size\n",
    "df_blocks = block_times\n",
    "\n",
    "# df_labels = chords[['start_sample', 'end_sample', 'label']].copy()\n",
    "# df_labels.rename(columns={'start_sample': 'start', 'end_sample': 'end'}, inplace=True)\n",
    "\n",
    "# df_labelled_blocks = block_labels(df_blocks, df_labels)\n",
    "df_labelled_blocks = block_labels(df_blocks, chords)"
   ]
  },
  {
   "cell_type": "code",
   "execution_count": 63,
   "metadata": {
    "collapsed": false
   },
   "outputs": [
    {
     "data": {
      "text/html": [
       "<div>\n",
       "<table border=\"1\" class=\"dataframe\">\n",
       "  <thead>\n",
       "    <tr style=\"text-align: right;\">\n",
       "      <th></th>\n",
       "      <th>start</th>\n",
       "      <th>end</th>\n",
       "      <th>label</th>\n",
       "    </tr>\n",
       "  </thead>\n",
       "  <tbody>\n",
       "    <tr>\n",
       "      <th>0</th>\n",
       "      <td>0.000000</td>\n",
       "      <td>0.046440</td>\n",
       "      <td>N</td>\n",
       "    </tr>\n",
       "    <tr>\n",
       "      <th>1</th>\n",
       "      <td>0.046440</td>\n",
       "      <td>0.092880</td>\n",
       "      <td>N</td>\n",
       "    </tr>\n",
       "    <tr>\n",
       "      <th>2</th>\n",
       "      <td>0.092880</td>\n",
       "      <td>0.139320</td>\n",
       "      <td>N</td>\n",
       "    </tr>\n",
       "    <tr>\n",
       "      <th>3</th>\n",
       "      <td>0.139320</td>\n",
       "      <td>0.185760</td>\n",
       "      <td>N</td>\n",
       "    </tr>\n",
       "    <tr>\n",
       "      <th>4</th>\n",
       "      <td>0.185760</td>\n",
       "      <td>0.232200</td>\n",
       "      <td>N</td>\n",
       "    </tr>\n",
       "    <tr>\n",
       "      <th>5</th>\n",
       "      <td>0.232200</td>\n",
       "      <td>0.278639</td>\n",
       "      <td>N</td>\n",
       "    </tr>\n",
       "    <tr>\n",
       "      <th>6</th>\n",
       "      <td>0.278639</td>\n",
       "      <td>0.325079</td>\n",
       "      <td>N</td>\n",
       "    </tr>\n",
       "    <tr>\n",
       "      <th>7</th>\n",
       "      <td>0.325079</td>\n",
       "      <td>0.371519</td>\n",
       "      <td>N</td>\n",
       "    </tr>\n",
       "    <tr>\n",
       "      <th>8</th>\n",
       "      <td>0.371519</td>\n",
       "      <td>0.417959</td>\n",
       "      <td>N</td>\n",
       "    </tr>\n",
       "    <tr>\n",
       "      <th>9</th>\n",
       "      <td>0.417959</td>\n",
       "      <td>0.464399</td>\n",
       "      <td>N</td>\n",
       "    </tr>\n",
       "    <tr>\n",
       "      <th>10</th>\n",
       "      <td>0.464399</td>\n",
       "      <td>0.510839</td>\n",
       "      <td>G</td>\n",
       "    </tr>\n",
       "    <tr>\n",
       "      <th>11</th>\n",
       "      <td>0.510839</td>\n",
       "      <td>0.557279</td>\n",
       "      <td>G</td>\n",
       "    </tr>\n",
       "    <tr>\n",
       "      <th>12</th>\n",
       "      <td>0.557279</td>\n",
       "      <td>0.603719</td>\n",
       "      <td>G</td>\n",
       "    </tr>\n",
       "    <tr>\n",
       "      <th>13</th>\n",
       "      <td>0.603719</td>\n",
       "      <td>0.650159</td>\n",
       "      <td>G</td>\n",
       "    </tr>\n",
       "    <tr>\n",
       "      <th>14</th>\n",
       "      <td>0.650159</td>\n",
       "      <td>0.696599</td>\n",
       "      <td>G</td>\n",
       "    </tr>\n",
       "    <tr>\n",
       "      <th>15</th>\n",
       "      <td>0.696599</td>\n",
       "      <td>0.743039</td>\n",
       "      <td>G</td>\n",
       "    </tr>\n",
       "    <tr>\n",
       "      <th>16</th>\n",
       "      <td>0.743039</td>\n",
       "      <td>0.789478</td>\n",
       "      <td>G</td>\n",
       "    </tr>\n",
       "    <tr>\n",
       "      <th>17</th>\n",
       "      <td>0.789478</td>\n",
       "      <td>0.835918</td>\n",
       "      <td>G</td>\n",
       "    </tr>\n",
       "    <tr>\n",
       "      <th>18</th>\n",
       "      <td>0.835918</td>\n",
       "      <td>0.882358</td>\n",
       "      <td>G</td>\n",
       "    </tr>\n",
       "    <tr>\n",
       "      <th>19</th>\n",
       "      <td>0.882358</td>\n",
       "      <td>0.928798</td>\n",
       "      <td>G</td>\n",
       "    </tr>\n",
       "    <tr>\n",
       "      <th>20</th>\n",
       "      <td>0.928798</td>\n",
       "      <td>0.975238</td>\n",
       "      <td>G</td>\n",
       "    </tr>\n",
       "    <tr>\n",
       "      <th>21</th>\n",
       "      <td>0.975238</td>\n",
       "      <td>1.021678</td>\n",
       "      <td>G</td>\n",
       "    </tr>\n",
       "    <tr>\n",
       "      <th>22</th>\n",
       "      <td>1.021678</td>\n",
       "      <td>1.068118</td>\n",
       "      <td>G</td>\n",
       "    </tr>\n",
       "    <tr>\n",
       "      <th>23</th>\n",
       "      <td>1.068118</td>\n",
       "      <td>1.114558</td>\n",
       "      <td>G</td>\n",
       "    </tr>\n",
       "    <tr>\n",
       "      <th>24</th>\n",
       "      <td>1.114558</td>\n",
       "      <td>1.160998</td>\n",
       "      <td>G</td>\n",
       "    </tr>\n",
       "    <tr>\n",
       "      <th>25</th>\n",
       "      <td>1.160998</td>\n",
       "      <td>1.207438</td>\n",
       "      <td>G</td>\n",
       "    </tr>\n",
       "    <tr>\n",
       "      <th>26</th>\n",
       "      <td>1.207438</td>\n",
       "      <td>1.253878</td>\n",
       "      <td>G</td>\n",
       "    </tr>\n",
       "    <tr>\n",
       "      <th>27</th>\n",
       "      <td>1.253878</td>\n",
       "      <td>1.300317</td>\n",
       "      <td>G</td>\n",
       "    </tr>\n",
       "    <tr>\n",
       "      <th>28</th>\n",
       "      <td>1.300317</td>\n",
       "      <td>1.346757</td>\n",
       "      <td>G</td>\n",
       "    </tr>\n",
       "    <tr>\n",
       "      <th>29</th>\n",
       "      <td>1.346757</td>\n",
       "      <td>1.393197</td>\n",
       "      <td>G</td>\n",
       "    </tr>\n",
       "    <tr>\n",
       "      <th>...</th>\n",
       "      <td>...</td>\n",
       "      <td>...</td>\n",
       "      <td>...</td>\n",
       "    </tr>\n",
       "    <tr>\n",
       "      <th>2678</th>\n",
       "      <td>124.366077</td>\n",
       "      <td>124.412517</td>\n",
       "      <td>N</td>\n",
       "    </tr>\n",
       "    <tr>\n",
       "      <th>2679</th>\n",
       "      <td>124.412517</td>\n",
       "      <td>124.458957</td>\n",
       "      <td>N</td>\n",
       "    </tr>\n",
       "    <tr>\n",
       "      <th>2680</th>\n",
       "      <td>124.458957</td>\n",
       "      <td>124.505397</td>\n",
       "      <td>N</td>\n",
       "    </tr>\n",
       "    <tr>\n",
       "      <th>2681</th>\n",
       "      <td>124.505397</td>\n",
       "      <td>124.551837</td>\n",
       "      <td>N</td>\n",
       "    </tr>\n",
       "    <tr>\n",
       "      <th>2682</th>\n",
       "      <td>124.551837</td>\n",
       "      <td>124.598277</td>\n",
       "      <td>N</td>\n",
       "    </tr>\n",
       "    <tr>\n",
       "      <th>2683</th>\n",
       "      <td>124.598277</td>\n",
       "      <td>124.644717</td>\n",
       "      <td>N</td>\n",
       "    </tr>\n",
       "    <tr>\n",
       "      <th>2684</th>\n",
       "      <td>124.644717</td>\n",
       "      <td>124.691156</td>\n",
       "      <td>N</td>\n",
       "    </tr>\n",
       "    <tr>\n",
       "      <th>2685</th>\n",
       "      <td>124.691156</td>\n",
       "      <td>124.737596</td>\n",
       "      <td>N</td>\n",
       "    </tr>\n",
       "    <tr>\n",
       "      <th>2686</th>\n",
       "      <td>124.737596</td>\n",
       "      <td>124.784036</td>\n",
       "      <td>N</td>\n",
       "    </tr>\n",
       "    <tr>\n",
       "      <th>2687</th>\n",
       "      <td>124.784036</td>\n",
       "      <td>124.830476</td>\n",
       "      <td>N</td>\n",
       "    </tr>\n",
       "    <tr>\n",
       "      <th>2688</th>\n",
       "      <td>124.830476</td>\n",
       "      <td>124.876916</td>\n",
       "      <td>N</td>\n",
       "    </tr>\n",
       "    <tr>\n",
       "      <th>2689</th>\n",
       "      <td>124.876916</td>\n",
       "      <td>124.923356</td>\n",
       "      <td>N</td>\n",
       "    </tr>\n",
       "    <tr>\n",
       "      <th>2690</th>\n",
       "      <td>124.923356</td>\n",
       "      <td>124.969796</td>\n",
       "      <td>N</td>\n",
       "    </tr>\n",
       "    <tr>\n",
       "      <th>2691</th>\n",
       "      <td>124.969796</td>\n",
       "      <td>125.016236</td>\n",
       "      <td>N</td>\n",
       "    </tr>\n",
       "    <tr>\n",
       "      <th>2692</th>\n",
       "      <td>125.016236</td>\n",
       "      <td>125.062676</td>\n",
       "      <td>N</td>\n",
       "    </tr>\n",
       "    <tr>\n",
       "      <th>2693</th>\n",
       "      <td>125.062676</td>\n",
       "      <td>125.109116</td>\n",
       "      <td>N</td>\n",
       "    </tr>\n",
       "    <tr>\n",
       "      <th>2694</th>\n",
       "      <td>125.109116</td>\n",
       "      <td>125.155556</td>\n",
       "      <td>N</td>\n",
       "    </tr>\n",
       "    <tr>\n",
       "      <th>2695</th>\n",
       "      <td>125.155556</td>\n",
       "      <td>125.201995</td>\n",
       "      <td>N</td>\n",
       "    </tr>\n",
       "    <tr>\n",
       "      <th>2696</th>\n",
       "      <td>125.201995</td>\n",
       "      <td>125.248435</td>\n",
       "      <td>N</td>\n",
       "    </tr>\n",
       "    <tr>\n",
       "      <th>2697</th>\n",
       "      <td>125.248435</td>\n",
       "      <td>125.294875</td>\n",
       "      <td>N</td>\n",
       "    </tr>\n",
       "    <tr>\n",
       "      <th>2698</th>\n",
       "      <td>125.294875</td>\n",
       "      <td>125.341315</td>\n",
       "      <td>N</td>\n",
       "    </tr>\n",
       "    <tr>\n",
       "      <th>2699</th>\n",
       "      <td>125.341315</td>\n",
       "      <td>125.387755</td>\n",
       "      <td>N</td>\n",
       "    </tr>\n",
       "    <tr>\n",
       "      <th>2700</th>\n",
       "      <td>125.387755</td>\n",
       "      <td>125.434195</td>\n",
       "      <td>N</td>\n",
       "    </tr>\n",
       "    <tr>\n",
       "      <th>2701</th>\n",
       "      <td>125.434195</td>\n",
       "      <td>125.480635</td>\n",
       "      <td>N</td>\n",
       "    </tr>\n",
       "    <tr>\n",
       "      <th>2702</th>\n",
       "      <td>125.480635</td>\n",
       "      <td>125.527075</td>\n",
       "      <td>N</td>\n",
       "    </tr>\n",
       "    <tr>\n",
       "      <th>2703</th>\n",
       "      <td>125.527075</td>\n",
       "      <td>125.573515</td>\n",
       "      <td>N</td>\n",
       "    </tr>\n",
       "    <tr>\n",
       "      <th>2704</th>\n",
       "      <td>125.573515</td>\n",
       "      <td>125.619955</td>\n",
       "      <td>N</td>\n",
       "    </tr>\n",
       "    <tr>\n",
       "      <th>2705</th>\n",
       "      <td>125.619955</td>\n",
       "      <td>125.666395</td>\n",
       "      <td>N</td>\n",
       "    </tr>\n",
       "    <tr>\n",
       "      <th>2706</th>\n",
       "      <td>125.666395</td>\n",
       "      <td>125.712834</td>\n",
       "      <td>N</td>\n",
       "    </tr>\n",
       "    <tr>\n",
       "      <th>2707</th>\n",
       "      <td>125.712834</td>\n",
       "      <td>125.759274</td>\n",
       "      <td>N</td>\n",
       "    </tr>\n",
       "  </tbody>\n",
       "</table>\n",
       "<p>2708 rows × 3 columns</p>\n",
       "</div>"
      ],
      "text/plain": [
       "           start         end label\n",
       "0       0.000000    0.046440     N\n",
       "1       0.046440    0.092880     N\n",
       "2       0.092880    0.139320     N\n",
       "3       0.139320    0.185760     N\n",
       "4       0.185760    0.232200     N\n",
       "5       0.232200    0.278639     N\n",
       "6       0.278639    0.325079     N\n",
       "7       0.325079    0.371519     N\n",
       "8       0.371519    0.417959     N\n",
       "9       0.417959    0.464399     N\n",
       "10      0.464399    0.510839     G\n",
       "11      0.510839    0.557279     G\n",
       "12      0.557279    0.603719     G\n",
       "13      0.603719    0.650159     G\n",
       "14      0.650159    0.696599     G\n",
       "15      0.696599    0.743039     G\n",
       "16      0.743039    0.789478     G\n",
       "17      0.789478    0.835918     G\n",
       "18      0.835918    0.882358     G\n",
       "19      0.882358    0.928798     G\n",
       "20      0.928798    0.975238     G\n",
       "21      0.975238    1.021678     G\n",
       "22      1.021678    1.068118     G\n",
       "23      1.068118    1.114558     G\n",
       "24      1.114558    1.160998     G\n",
       "25      1.160998    1.207438     G\n",
       "26      1.207438    1.253878     G\n",
       "27      1.253878    1.300317     G\n",
       "28      1.300317    1.346757     G\n",
       "29      1.346757    1.393197     G\n",
       "...          ...         ...   ...\n",
       "2678  124.366077  124.412517     N\n",
       "2679  124.412517  124.458957     N\n",
       "2680  124.458957  124.505397     N\n",
       "2681  124.505397  124.551837     N\n",
       "2682  124.551837  124.598277     N\n",
       "2683  124.598277  124.644717     N\n",
       "2684  124.644717  124.691156     N\n",
       "2685  124.691156  124.737596     N\n",
       "2686  124.737596  124.784036     N\n",
       "2687  124.784036  124.830476     N\n",
       "2688  124.830476  124.876916     N\n",
       "2689  124.876916  124.923356     N\n",
       "2690  124.923356  124.969796     N\n",
       "2691  124.969796  125.016236     N\n",
       "2692  125.016236  125.062676     N\n",
       "2693  125.062676  125.109116     N\n",
       "2694  125.109116  125.155556     N\n",
       "2695  125.155556  125.201995     N\n",
       "2696  125.201995  125.248435     N\n",
       "2697  125.248435  125.294875     N\n",
       "2698  125.294875  125.341315     N\n",
       "2699  125.341315  125.387755     N\n",
       "2700  125.387755  125.434195     N\n",
       "2701  125.434195  125.480635     N\n",
       "2702  125.480635  125.527075     N\n",
       "2703  125.527075  125.573515     N\n",
       "2704  125.573515  125.619955     N\n",
       "2705  125.619955  125.666395     N\n",
       "2706  125.666395  125.712834     N\n",
       "2707  125.712834  125.759274     N\n",
       "\n",
       "[2708 rows x 3 columns]"
      ]
     },
     "execution_count": 63,
     "metadata": {},
     "output_type": "execute_result"
    }
   ],
   "source": [
    "df_labelled_blocks"
   ]
  },
  {
   "cell_type": "code",
   "execution_count": 66,
   "metadata": {
    "collapsed": false
   },
   "outputs": [],
   "source": [
    "df_labelled_blocks.to_csv('../../data/beatles/_inbox/segmentation/01_09_ref_frames_4096_2048_timed_2.tsv',\n",
    "                          sep='\\t', index=None, float_format='%.6f')"
   ]
  },
  {
   "cell_type": "code",
   "execution_count": 52,
   "metadata": {
    "collapsed": false
   },
   "outputs": [
    {
     "data": {
      "text/plain": [
       "True"
      ]
     },
     "execution_count": 52,
     "metadata": {},
     "output_type": "execute_result"
    }
   ],
   "source": [
    "(pd.read_csv('../../data/beatles/_inbox/segmentation/01_09_ref_frames_4096_2048.tsv', sep='\\t')['label'] == df_labelled_blocks['label']).all()"
   ]
  },
  {
   "cell_type": "code",
   "execution_count": 53,
   "metadata": {
    "collapsed": false
   },
   "outputs": [
    {
     "data": {
      "text/plain": [
       "125.80571428571429"
      ]
     },
     "execution_count": 53,
     "metadata": {},
     "output_type": "execute_result"
    }
   ],
   "source": [
    "5548032/44100."
   ]
  },
  {
   "cell_type": "code",
   "execution_count": 55,
   "metadata": {
    "collapsed": false
   },
   "outputs": [
    {
     "data": {
      "text/plain": [
       "start           121.7597\n",
       "end             125.7535\n",
       "label                  N\n",
       "start_sample     5369601\n",
       "end_sample       5545728\n",
       "Name: 77, dtype: object"
      ]
     },
     "execution_count": 55,
     "metadata": {},
     "output_type": "execute_result"
    }
   ],
   "source": [
    "true_segments_df.iloc[-1]"
   ]
  },
  {
   "cell_type": "code",
   "execution_count": 97,
   "metadata": {
    "collapsed": false
   },
   "outputs": [
    {
     "data": {
      "text/html": [
       "<div>\n",
       "<table border=\"1\" class=\"dataframe\">\n",
       "  <thead>\n",
       "    <tr style=\"text-align: right;\">\n",
       "      <th></th>\n",
       "      <th>start</th>\n",
       "      <th>end</th>\n",
       "      <th>label</th>\n",
       "    </tr>\n",
       "  </thead>\n",
       "  <tbody>\n",
       "    <tr>\n",
       "      <th>0</th>\n",
       "      <td>0.00000</td>\n",
       "      <td>0.04644</td>\n",
       "      <td>N</td>\n",
       "    </tr>\n",
       "    <tr>\n",
       "      <th>1</th>\n",
       "      <td>0.04644</td>\n",
       "      <td>0.09288</td>\n",
       "      <td>N</td>\n",
       "    </tr>\n",
       "    <tr>\n",
       "      <th>2</th>\n",
       "      <td>0.09288</td>\n",
       "      <td>0.13932</td>\n",
       "      <td>N</td>\n",
       "    </tr>\n",
       "    <tr>\n",
       "      <th>3</th>\n",
       "      <td>0.13932</td>\n",
       "      <td>0.18576</td>\n",
       "      <td>N</td>\n",
       "    </tr>\n",
       "    <tr>\n",
       "      <th>4</th>\n",
       "      <td>0.18576</td>\n",
       "      <td>0.23220</td>\n",
       "      <td>N</td>\n",
       "    </tr>\n",
       "  </tbody>\n",
       "</table>\n",
       "</div>"
      ],
      "text/plain": [
       "     start      end label\n",
       "0  0.00000  0.04644     N\n",
       "1  0.04644  0.09288     N\n",
       "2  0.09288  0.13932     N\n",
       "3  0.13932  0.18576     N\n",
       "4  0.18576  0.23220     N"
      ]
     },
     "execution_count": 97,
     "metadata": {},
     "output_type": "execute_result"
    }
   ],
   "source": [
    "df_frames = df_labelled_blocks.copy()\n",
    "df_frames.head()"
   ]
  },
  {
   "cell_type": "code",
   "execution_count": 104,
   "metadata": {
    "collapsed": true
   },
   "outputs": [],
   "source": [
    "def frames_to_segments(df_frames, total_duration=None):\n",
    "    df = df_frames.copy()\n",
    "    labels = df['label']\n",
    "    segment_start = labels != labels.shift(1)\n",
    "    df_segments = df[segment_start].copy()\n",
    "    end_time = total_duration if total_duration else df['end'].iloc[-1]\n",
    "    df_segments['end'] = df_segments['start'].shift(-1).fillna(end_time)\n",
    "    return df_segments"
   ]
  },
  {
   "cell_type": "code",
   "execution_count": 109,
   "metadata": {
    "collapsed": false
   },
   "outputs": [
    {
     "data": {
      "text/html": [
       "<div>\n",
       "<table border=\"1\" class=\"dataframe\">\n",
       "  <thead>\n",
       "    <tr style=\"text-align: right;\">\n",
       "      <th></th>\n",
       "      <th>start</th>\n",
       "      <th>end</th>\n",
       "      <th>label</th>\n",
       "    </tr>\n",
       "  </thead>\n",
       "  <tbody>\n",
       "    <tr>\n",
       "      <th>2474</th>\n",
       "      <td>114.892336</td>\n",
       "      <td>117.585850</td>\n",
       "      <td>D</td>\n",
       "    </tr>\n",
       "    <tr>\n",
       "      <th>2532</th>\n",
       "      <td>117.585850</td>\n",
       "      <td>118.050249</td>\n",
       "      <td>Bb</td>\n",
       "    </tr>\n",
       "    <tr>\n",
       "      <th>2542</th>\n",
       "      <td>118.050249</td>\n",
       "      <td>118.514649</td>\n",
       "      <td>C</td>\n",
       "    </tr>\n",
       "    <tr>\n",
       "      <th>2552</th>\n",
       "      <td>118.514649</td>\n",
       "      <td>121.719002</td>\n",
       "      <td>D</td>\n",
       "    </tr>\n",
       "    <tr>\n",
       "      <th>2621</th>\n",
       "      <td>121.719002</td>\n",
       "      <td>125.753469</td>\n",
       "      <td>N</td>\n",
       "    </tr>\n",
       "  </tbody>\n",
       "</table>\n",
       "</div>"
      ],
      "text/plain": [
       "           start         end label\n",
       "2474  114.892336  117.585850     D\n",
       "2532  117.585850  118.050249    Bb\n",
       "2542  118.050249  118.514649     C\n",
       "2552  118.514649  121.719002     D\n",
       "2621  121.719002  125.753469     N"
      ]
     },
     "execution_count": 109,
     "metadata": {},
     "output_type": "execute_result"
    }
   ],
   "source": [
    "df_segments = frames_to_segments(df_frames, total_duration=duration)\n",
    "df_segments.tail()"
   ]
  },
  {
   "cell_type": "code",
   "execution_count": 99,
   "metadata": {
    "collapsed": true
   },
   "outputs": [],
   "source": [
    "df_segments.to_csv('../../data/beatles/_inbox/segmentation/01_09_reconstructed_segments.tsv',\n",
    "                          sep='\\t', index=None, float_format='%.6f')"
   ]
  },
  {
   "cell_type": "code",
   "execution_count": 128,
   "metadata": {
    "collapsed": false
   },
   "outputs": [],
   "source": [
    "with open('../../data/beatles/_inbox/outputs/yesterday_lstm_class.tsv') as file:\n",
    "    yesterday_labels = [line.replace('\\n', '').replace('\\t', '') for line in file.readlines()]"
   ]
  },
  {
   "cell_type": "code",
   "execution_count": 144,
   "metadata": {
    "collapsed": false
   },
   "outputs": [],
   "source": [
    "fs = 44100.\n",
    "hop_size = 2048\n",
    "\n",
    "# no time, just 12 PCS labels\n",
    "def read_label_file(file_name):\n",
    "    with open(file_name) as file:\n",
    "        return [line.replace('\\n', '').replace('\\t', '') for line in file.readlines()]\n",
    "\n",
    "def read_labels_as_df(file_name):\n",
    "    labels = read_label_file(file_name)\n",
    "    # compute frame start and end times\n",
    "    hop_duration = hop_size / fs\n",
    "    start_times = hop_duration * np.arange(len(labels))\n",
    "    return pd.DataFrame({\n",
    "        'start': start_times,\n",
    "        'end': hop_duration + start_times,\n",
    "        'label': labels},\n",
    "         columns=['start', 'end', 'label'])\n",
    "\n",
    "def save_tsv(df, file_name):\n",
    "    df.to_csv(file_name, sep='\\t', index=None, float_format='%.6f')"
   ]
  },
  {
   "cell_type": "code",
   "execution_count": 159,
   "metadata": {
    "collapsed": false
   },
   "outputs": [],
   "source": [
    "df_frames = read_labels_as_df('../../data/beatles/_inbox/outputs/yesterday_lstm_class.tsv')\n",
    "df_segments = frames_to_segments(df_frames)"
   ]
  },
  {
   "cell_type": "code",
   "execution_count": 160,
   "metadata": {
    "collapsed": false
   },
   "outputs": [
    {
     "data": {
      "text/html": [
       "<div>\n",
       "<table border=\"1\" class=\"dataframe\">\n",
       "  <thead>\n",
       "    <tr style=\"text-align: right;\">\n",
       "      <th></th>\n",
       "      <th>start</th>\n",
       "      <th>end</th>\n",
       "      <th>label</th>\n",
       "    </tr>\n",
       "  </thead>\n",
       "  <tbody>\n",
       "    <tr>\n",
       "      <th>0</th>\n",
       "      <td>0.000000</td>\n",
       "      <td>1.857596</td>\n",
       "      <td>100001000000</td>\n",
       "    </tr>\n",
       "    <tr>\n",
       "      <th>40</th>\n",
       "      <td>1.857596</td>\n",
       "      <td>8.173424</td>\n",
       "      <td>100001000100</td>\n",
       "    </tr>\n",
       "    <tr>\n",
       "      <th>176</th>\n",
       "      <td>8.173424</td>\n",
       "      <td>8.219864</td>\n",
       "      <td>000001000100</td>\n",
       "    </tr>\n",
       "    <tr>\n",
       "      <th>177</th>\n",
       "      <td>8.219864</td>\n",
       "      <td>8.452063</td>\n",
       "      <td>100001000100</td>\n",
       "    </tr>\n",
       "    <tr>\n",
       "      <th>182</th>\n",
       "      <td>8.452063</td>\n",
       "      <td>8.498503</td>\n",
       "      <td>000001000100</td>\n",
       "    </tr>\n",
       "  </tbody>\n",
       "</table>\n",
       "</div>"
      ],
      "text/plain": [
       "        start       end         label\n",
       "0    0.000000  1.857596  100001000000\n",
       "40   1.857596  8.173424  100001000100\n",
       "176  8.173424  8.219864  000001000100\n",
       "177  8.219864  8.452063  100001000100\n",
       "182  8.452063  8.498503  000001000100"
      ]
     },
     "execution_count": 160,
     "metadata": {},
     "output_type": "execute_result"
    }
   ],
   "source": [
    "df_segments.head()"
   ]
  },
  {
   "cell_type": "code",
   "execution_count": 161,
   "metadata": {
    "collapsed": false
   },
   "outputs": [],
   "source": [
    "def explode_pitch_classes(df):\n",
    "    df = df.copy()\n",
    "    labels = df['label']\n",
    "    pcs = np.array([[p for p in label] for label in df_segments['label']]).T\n",
    "    pcs_cols = ['C','Db','D','Eb','E','F','Gb','G','Ab','A','Bb','B']\n",
    "    for i, col in enumerate(pcs_cols):\n",
    "        df[col] = pcs[i]\n",
    "    del df['label']\n",
    "    return df"
   ]
  },
  {
   "cell_type": "code",
   "execution_count": 164,
   "metadata": {
    "collapsed": false
   },
   "outputs": [
    {
     "data": {
      "text/html": [
       "<div>\n",
       "<table border=\"1\" class=\"dataframe\">\n",
       "  <thead>\n",
       "    <tr style=\"text-align: right;\">\n",
       "      <th></th>\n",
       "      <th>start</th>\n",
       "      <th>end</th>\n",
       "      <th>C</th>\n",
       "      <th>Db</th>\n",
       "      <th>D</th>\n",
       "      <th>Eb</th>\n",
       "      <th>E</th>\n",
       "      <th>F</th>\n",
       "      <th>Gb</th>\n",
       "      <th>G</th>\n",
       "      <th>Ab</th>\n",
       "      <th>A</th>\n",
       "      <th>Bb</th>\n",
       "      <th>B</th>\n",
       "    </tr>\n",
       "  </thead>\n",
       "  <tbody>\n",
       "    <tr>\n",
       "      <th>0</th>\n",
       "      <td>0.000000</td>\n",
       "      <td>1.857596</td>\n",
       "      <td>1</td>\n",
       "      <td>0</td>\n",
       "      <td>0</td>\n",
       "      <td>0</td>\n",
       "      <td>0</td>\n",
       "      <td>1</td>\n",
       "      <td>0</td>\n",
       "      <td>0</td>\n",
       "      <td>0</td>\n",
       "      <td>0</td>\n",
       "      <td>0</td>\n",
       "      <td>0</td>\n",
       "    </tr>\n",
       "    <tr>\n",
       "      <th>40</th>\n",
       "      <td>1.857596</td>\n",
       "      <td>8.173424</td>\n",
       "      <td>1</td>\n",
       "      <td>0</td>\n",
       "      <td>0</td>\n",
       "      <td>0</td>\n",
       "      <td>0</td>\n",
       "      <td>1</td>\n",
       "      <td>0</td>\n",
       "      <td>0</td>\n",
       "      <td>0</td>\n",
       "      <td>1</td>\n",
       "      <td>0</td>\n",
       "      <td>0</td>\n",
       "    </tr>\n",
       "    <tr>\n",
       "      <th>176</th>\n",
       "      <td>8.173424</td>\n",
       "      <td>8.219864</td>\n",
       "      <td>0</td>\n",
       "      <td>0</td>\n",
       "      <td>0</td>\n",
       "      <td>0</td>\n",
       "      <td>0</td>\n",
       "      <td>1</td>\n",
       "      <td>0</td>\n",
       "      <td>0</td>\n",
       "      <td>0</td>\n",
       "      <td>1</td>\n",
       "      <td>0</td>\n",
       "      <td>0</td>\n",
       "    </tr>\n",
       "    <tr>\n",
       "      <th>177</th>\n",
       "      <td>8.219864</td>\n",
       "      <td>8.452063</td>\n",
       "      <td>1</td>\n",
       "      <td>0</td>\n",
       "      <td>0</td>\n",
       "      <td>0</td>\n",
       "      <td>0</td>\n",
       "      <td>1</td>\n",
       "      <td>0</td>\n",
       "      <td>0</td>\n",
       "      <td>0</td>\n",
       "      <td>1</td>\n",
       "      <td>0</td>\n",
       "      <td>0</td>\n",
       "    </tr>\n",
       "    <tr>\n",
       "      <th>182</th>\n",
       "      <td>8.452063</td>\n",
       "      <td>8.498503</td>\n",
       "      <td>0</td>\n",
       "      <td>0</td>\n",
       "      <td>0</td>\n",
       "      <td>0</td>\n",
       "      <td>0</td>\n",
       "      <td>1</td>\n",
       "      <td>0</td>\n",
       "      <td>0</td>\n",
       "      <td>0</td>\n",
       "      <td>1</td>\n",
       "      <td>0</td>\n",
       "      <td>0</td>\n",
       "    </tr>\n",
       "  </tbody>\n",
       "</table>\n",
       "</div>"
      ],
      "text/plain": [
       "        start       end  C Db  D Eb  E  F Gb  G Ab  A Bb  B\n",
       "0    0.000000  1.857596  1  0  0  0  0  1  0  0  0  0  0  0\n",
       "40   1.857596  8.173424  1  0  0  0  0  1  0  0  0  1  0  0\n",
       "176  8.173424  8.219864  0  0  0  0  0  1  0  0  0  1  0  0\n",
       "177  8.219864  8.452063  1  0  0  0  0  1  0  0  0  1  0  0\n",
       "182  8.452063  8.498503  0  0  0  0  0  1  0  0  0  1  0  0"
      ]
     },
     "execution_count": 164,
     "metadata": {},
     "output_type": "execute_result"
    }
   ],
   "source": [
    "df_segments.head()"
   ]
  },
  {
   "cell_type": "code",
   "execution_count": 163,
   "metadata": {
    "collapsed": true
   },
   "outputs": [],
   "source": [
    "df_segments = explode_pitch_classes(df_segments)\n",
    "save_tsv(df_segments, '../../data/beatles/_inbox/outputs/yesterday_lstm_class_segments.tsv')"
   ]
  },
  {
   "cell_type": "code",
   "execution_count": 166,
   "metadata": {
    "collapsed": false
   },
   "outputs": [
    {
     "data": {
      "text/plain": [
       "1.536"
      ]
     },
     "execution_count": 166,
     "metadata": {},
     "output_type": "execute_result"
    }
   ],
   "source": [
    "24/(1000/64)"
   ]
  },
  {
   "cell_type": "code",
   "execution_count": null,
   "metadata": {
    "collapsed": true
   },
   "outputs": [],
   "source": []
  }
 ],
 "metadata": {
  "kernelspec": {
   "display_name": "Python 3",
   "language": "python",
   "name": "python3"
  },
  "language_info": {
   "codemirror_mode": {
    "name": "ipython",
    "version": 3
   },
   "file_extension": ".py",
   "mimetype": "text/x-python",
   "name": "python",
   "nbconvert_exporter": "python",
   "pygments_lexer": "ipython3",
   "version": "3.4.4"
  }
 },
 "nbformat": 4,
 "nbformat_minor": 0
}
