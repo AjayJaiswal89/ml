{
 "cells": [
  {
   "cell_type": "code",
   "execution_count": 126,
   "metadata": {
    "collapsed": true
   },
   "outputs": [],
   "source": [
    "%matplotlib inline\n",
    "import matplotlib.pyplot as plt\n",
    "from matplotlib import cm\n",
    "import numpy as np\n",
    "import pandas as pd\n",
    "import sys\n",
    "from collections import OrderedDict\n",
    "\n",
    "sys.path.append('../music-processing-experiments')\n",
    "\n",
    "from time_intervals import block_labels\n",
    "from analysis import split_block_times"
   ]
  },
  {
   "cell_type": "code",
   "execution_count": 294,
   "metadata": {
    "collapsed": false
   },
   "outputs": [],
   "source": [
    "# let's generate some segments represented by their start time\n",
    "def segments_from_events(event_times, labels=None):\n",
    "    \"\"\"Create a DataFrame with adjacent segments from a list of border events.\"\"\"\n",
    "    segments = pd.DataFrame({'start': event_times[:-1], 'end': event_times[1:]})\n",
    "    segments['duration'] = segments['end'] - segments['start']\n",
    "    segments = segments[['start', 'end', 'duration']]\n",
    "    if labels != None:\n",
    "        assert(len(event_times) == len(labels) + 1)\n",
    "        segments['label'] = labels\n",
    "    return segments\n",
    "\n",
    "def events_from_segments(segments):\n",
    "    \"\"\"Create a list of border events DataFrame with adjacent segments.\"\"\"\n",
    "    return np.hstack([segments['start'], segments['end'].iloc[-1]])\n",
    "\n",
    "def generate_segments(size, seed=0):\n",
    "    np.random.seed(seed)\n",
    "    event_times = np.random.normal(loc=1, scale=0.25, size=size+1).cumsum()\n",
    "    event_times = event_times - event_times[0]\n",
    "    return segments_from_events(event_times, np.random.randint(4, size=size))"
   ]
  },
  {
   "cell_type": "code",
   "execution_count": 533,
   "metadata": {
    "collapsed": false,
    "scrolled": true
   },
   "outputs": [
    {
     "name": "stderr",
     "output_type": "stream",
     "text": [
      "/Users/bzamecnik/anaconda/lib/python3.4/site-packages/IPython/kernel/__main__.py:7: FutureWarning: comparison to `None` will result in an elementwise object comparison in the future.\n"
     ]
    },
    {
     "data": {
      "text/html": [
       "<div>\n",
       "<table border=\"1\" class=\"dataframe\">\n",
       "  <thead>\n",
       "    <tr style=\"text-align: right;\">\n",
       "      <th></th>\n",
       "      <th>start</th>\n",
       "      <th>end</th>\n",
       "      <th>duration</th>\n",
       "      <th>label</th>\n",
       "    </tr>\n",
       "  </thead>\n",
       "  <tbody>\n",
       "    <tr>\n",
       "      <th>0</th>\n",
       "      <td>0.000000</td>\n",
       "      <td>1.100039</td>\n",
       "      <td>1.100039</td>\n",
       "      <td>3</td>\n",
       "    </tr>\n",
       "    <tr>\n",
       "      <th>1</th>\n",
       "      <td>1.100039</td>\n",
       "      <td>2.344724</td>\n",
       "      <td>1.244684</td>\n",
       "      <td>2</td>\n",
       "    </tr>\n",
       "    <tr>\n",
       "      <th>2</th>\n",
       "      <td>2.344724</td>\n",
       "      <td>3.904947</td>\n",
       "      <td>1.560223</td>\n",
       "      <td>3</td>\n",
       "    </tr>\n",
       "    <tr>\n",
       "      <th>3</th>\n",
       "      <td>3.904947</td>\n",
       "      <td>5.371837</td>\n",
       "      <td>1.466889</td>\n",
       "      <td>2</td>\n",
       "    </tr>\n",
       "    <tr>\n",
       "      <th>4</th>\n",
       "      <td>5.371837</td>\n",
       "      <td>6.127517</td>\n",
       "      <td>0.755681</td>\n",
       "      <td>3</td>\n",
       "    </tr>\n",
       "  </tbody>\n",
       "</table>\n",
       "</div>"
      ],
      "text/plain": [
       "      start       end  duration  label\n",
       "0  0.000000  1.100039  1.100039      3\n",
       "1  1.100039  2.344724  1.244684      2\n",
       "2  2.344724  3.904947  1.560223      3\n",
       "3  3.904947  5.371837  1.466889      2\n",
       "4  5.371837  6.127517  0.755681      3"
      ]
     },
     "execution_count": 533,
     "metadata": {},
     "output_type": "execute_result"
    }
   ],
   "source": [
    "segments = generate_segments(20)\n",
    "segments.head()"
   ]
  },
  {
   "cell_type": "code",
   "execution_count": 285,
   "metadata": {
    "collapsed": false
   },
   "outputs": [
    {
     "data": {
      "text/plain": [
       "array([  0.        ,   1.1000393 ,   2.3447238 ,   3.9049471 ,\n",
       "         5.3718366 ,   6.12751713,   7.36503923,   8.32719993,\n",
       "         9.30139521,  10.40404484,  11.44005573,  12.80362411,\n",
       "        13.99388354,  15.0243023 ,  16.1352681 ,  17.21868669,\n",
       "        18.59220645,  19.54091689,  20.61918381,  21.40565988,  21.76741242])"
      ]
     },
     "execution_count": 285,
     "metadata": {},
     "output_type": "execute_result"
    }
   ],
   "source": [
    "events_from_segments(segments)"
   ]
  },
  {
   "cell_type": "code",
   "execution_count": 286,
   "metadata": {
    "collapsed": false
   },
   "outputs": [],
   "source": [
    "def plot_segments(segments, seed=42):\n",
    "    size = len(segments)\n",
    "    np.random.seed(seed)\n",
    "    if 'label' not in segments.columns:\n",
    "        colors = np.random.permutation(size) / size\n",
    "    else:\n",
    "        labels = segments['label']\n",
    "        unique_labels = sorted(set(segments['label']))\n",
    "        color_by_label = dict([(l, i) for (i, l) in enumerate(unique_labels)])\n",
    "        norm_factor = 1.0 / len(unique_labels)\n",
    "        colors = labels.apply(lambda l: color_by_label[l] * norm_factor)\n",
    "    plt.figure(figsize=(20,5))\n",
    "    plt.bar(segments['start'], np.ones(size), width=segments['duration'], color=cm.jet(colors), alpha=0.5)\n",
    "    plt.xlim(0, segments['end'].iloc[-1])\n",
    "    plt.xlabel('time')\n",
    "    plt.yticks([]);"
   ]
  },
  {
   "cell_type": "code",
   "execution_count": 282,
   "metadata": {
    "collapsed": false
   },
   "outputs": [
    {
     "data": {
      "image/png": "[encoded data removed]",
      "text/plain": [
       "<matplotlib.figure.Figure at 0x10e434dd8>"
      ]
     },
     "metadata": {},
     "output_type": "display_data"
    }
   ],
   "source": [
    "plot_segments(segments)"
   ]
  },
  {
   "cell_type": "code",
   "execution_count": 191,
   "metadata": {
    "collapsed": true
   },
   "outputs": [],
   "source": [
    "def make_blocks(total_duration, block_duration):\n",
    "    return segments_from_events(np.arange(0, total_duration, block_duration))"
   ]
  },
  {
   "cell_type": "code",
   "execution_count": 531,
   "metadata": {
    "collapsed": false
   },
   "outputs": [
    {
     "name": "stdout",
     "output_type": "stream",
     "text": [
      "total duration: 21.7674124243\n",
      "number of blocks: 87\n"
     ]
    },
    {
     "data": {
      "text/html": [
       "<div>\n",
       "<table border=\"1\" class=\"dataframe\">\n",
       "  <thead>\n",
       "    <tr style=\"text-align: right;\">\n",
       "      <th></th>\n",
       "      <th>start</th>\n",
       "      <th>end</th>\n",
       "      <th>duration</th>\n",
       "    </tr>\n",
       "  </thead>\n",
       "  <tbody>\n",
       "    <tr>\n",
       "      <th>0</th>\n",
       "      <td>0.00</td>\n",
       "      <td>0.25</td>\n",
       "      <td>0.25</td>\n",
       "    </tr>\n",
       "    <tr>\n",
       "      <th>1</th>\n",
       "      <td>0.25</td>\n",
       "      <td>0.50</td>\n",
       "      <td>0.25</td>\n",
       "    </tr>\n",
       "    <tr>\n",
       "      <th>2</th>\n",
       "      <td>0.50</td>\n",
       "      <td>0.75</td>\n",
       "      <td>0.25</td>\n",
       "    </tr>\n",
       "    <tr>\n",
       "      <th>3</th>\n",
       "      <td>0.75</td>\n",
       "      <td>1.00</td>\n",
       "      <td>0.25</td>\n",
       "    </tr>\n",
       "    <tr>\n",
       "      <th>4</th>\n",
       "      <td>1.00</td>\n",
       "      <td>1.25</td>\n",
       "      <td>0.25</td>\n",
       "    </tr>\n",
       "  </tbody>\n",
       "</table>\n",
       "</div>"
      ],
      "text/plain": [
       "   start   end  duration\n",
       "0   0.00  0.25      0.25\n",
       "1   0.25  0.50      0.25\n",
       "2   0.50  0.75      0.25\n",
       "3   0.75  1.00      0.25\n",
       "4   1.00  1.25      0.25"
      ]
     },
     "execution_count": 531,
     "metadata": {},
     "output_type": "execute_result"
    }
   ],
   "source": [
    "total_duration = segments.iloc[-1]['end']\n",
    "print('total duration:', total_duration)\n",
    "blocks = make_blocks(total_duration, 0.25)\n",
    "print('number of blocks:', len(blocks))\n",
    "blocks.head()"
   ]
  },
  {
   "cell_type": "code",
   "execution_count": 193,
   "metadata": {
    "collapsed": false
   },
   "outputs": [
    {
     "data": {
      "image/png": "[encoded data removed]",
      "text/plain": [
       "<matplotlib.figure.Figure at 0x10e6e9d30>"
      ]
     },
     "metadata": {},
     "output_type": "display_data"
    }
   ],
   "source": [
    "plot_segments(blocks)"
   ]
  },
  {
   "cell_type": "markdown",
   "metadata": {},
   "source": [
    "# Representation of events"
   ]
  },
  {
   "cell_type": "markdown",
   "metadata": {},
   "source": [
    "- just a list of start times + label, sentinel at the end\n",
    "  - (+) easy to merge\n",
    "  - (-) needs a sentinel\n",
    "- list of segments with start & end times and label\n",
    "  - (+) provided eg. in the Isophonics dataset\n",
    "  - (+) easy to reason about and visualize\n",
    "  - (-) harder to merge"
   ]
  },
  {
   "cell_type": "code",
   "execution_count": 516,
   "metadata": {
    "collapsed": false
   },
   "outputs": [],
   "source": [
    "class Events():\n",
    "    def __init__(self, start_times, labels):\n",
    "        \"\"\"last item must be sentinel with no label\"\"\"\n",
    "        assert(len(labels) >= len(start_times) - 1)\n",
    "        if len(labels) < len(start_times):\n",
    "            labels = labels.append(pd.Series([np.nan]))\n",
    "        self._df = pd.DataFrame({'start': start_times, 'label': labels}, columns=['start', 'label'])\n",
    "    def df(self):\n",
    "        return self._df\n",
    "    \n",
    "class Segments():\n",
    "    def __init__(self, start_times, labels):\n",
    "        \"\"\"last item must be sentinel with NaN label\"\"\"\n",
    "        self._df = segments_from_events(start_times, labels)\n",
    "\n",
    "    def df(self):\n",
    "        return self._df\n",
    "    \n",
    "    def join(self, other):\n",
    "        sentinel_value = '_END_'\n",
    "        def add_sentinel(df):\n",
    "            last_event = df[-1:]\n",
    "            return df.append(pd.DataFrame({\n",
    "                'start': last_event['end'],\n",
    "                'end': last_event['end'],\n",
    "                'duration': 0.0,\n",
    "                'label': sentinel_value\n",
    "            }, columns=last_event.columns))\n",
    "        def remove_sentinel(df, cols):\n",
    "            for col in cols:\n",
    "                df[col] = df[col].apply(lambda v: np.nan if v == sentinel_value else v)\n",
    "        self_df = add_sentinel(self.df())[['start', 'label']].set_index('start')\n",
    "        other_df = add_sentinel(other.df())[['start', 'label']].set_index('start')\n",
    "        joined_df = self_df.join(other_df, lsuffix='_left', rsuffix='_right', how='outer')\n",
    "        joined_df.fillna(method='ffill', inplace=True)\n",
    "        remove_sentinel(joined_df, ['label_right', 'label_left'])\n",
    "        joined_df['label_equals'] = joined_df['label_left'] == joined_df['label_right']\n",
    "        joined_df.reset_index(inplace=True)\n",
    "        joined_df['end'] = joined_df['start'].shift(-1)\n",
    "        joined_df['duration'] = joined_df['end'] - joined_df['start']\n",
    "        joined_df = joined_df[:-1]\n",
    "        return joined_df #Segments(joined_df['start'], joined_df['label'])"
   ]
  },
  {
   "cell_type": "code",
   "execution_count": 517,
   "metadata": {
    "collapsed": false
   },
   "outputs": [
    {
     "data": {
      "text/html": [
       "<div>\n",
       "<table border=\"1\" class=\"dataframe\">\n",
       "  <thead>\n",
       "    <tr style=\"text-align: right;\">\n",
       "      <th></th>\n",
       "      <th>start</th>\n",
       "      <th>end</th>\n",
       "      <th>duration</th>\n",
       "      <th>label</th>\n",
       "    </tr>\n",
       "  </thead>\n",
       "  <tbody>\n",
       "    <tr>\n",
       "      <th>0</th>\n",
       "      <td>0.0</td>\n",
       "      <td>1.0</td>\n",
       "      <td>1.0</td>\n",
       "      <td>A</td>\n",
       "    </tr>\n",
       "    <tr>\n",
       "      <th>1</th>\n",
       "      <td>1.0</td>\n",
       "      <td>2.0</td>\n",
       "      <td>1.0</td>\n",
       "      <td>B</td>\n",
       "    </tr>\n",
       "    <tr>\n",
       "      <th>2</th>\n",
       "      <td>2.0</td>\n",
       "      <td>3.0</td>\n",
       "      <td>1.0</td>\n",
       "      <td>A</td>\n",
       "    </tr>\n",
       "    <tr>\n",
       "      <th>3</th>\n",
       "      <td>3.0</td>\n",
       "      <td>3.5</td>\n",
       "      <td>0.5</td>\n",
       "      <td>C</td>\n",
       "    </tr>\n",
       "    <tr>\n",
       "      <th>4</th>\n",
       "      <td>3.5</td>\n",
       "      <td>4.0</td>\n",
       "      <td>0.5</td>\n",
       "      <td>A</td>\n",
       "    </tr>\n",
       "  </tbody>\n",
       "</table>\n",
       "</div>"
      ],
      "text/plain": [
       "   start  end  duration label\n",
       "0    0.0  1.0       1.0     A\n",
       "1    1.0  2.0       1.0     B\n",
       "2    2.0  3.0       1.0     A\n",
       "3    3.0  3.5       0.5     C\n",
       "4    3.5  4.0       0.5     A"
      ]
     },
     "execution_count": 517,
     "metadata": {},
     "output_type": "execute_result"
    }
   ],
   "source": [
    "annotations = Segments(np.array([0, 1, 2, 3, 3.5, 4]), ['A','B','A','C','A'])\n",
    "annotations.df()"
   ]
  },
  {
   "cell_type": "code",
   "execution_count": 518,
   "metadata": {
    "collapsed": false
   },
   "outputs": [
    {
     "data": {
      "image/png": "[encoded data removed]",
      "text/plain": [
       "<matplotlib.figure.Figure at 0x10de709b0>"
      ]
     },
     "metadata": {},
     "output_type": "display_data"
    }
   ],
   "source": [
    "plot_segments(annotations.df())"
   ]
  },
  {
   "cell_type": "code",
   "execution_count": 519,
   "metadata": {
    "collapsed": false
   },
   "outputs": [
    {
     "data": {
      "text/html": [
       "<div>\n",
       "<table border=\"1\" class=\"dataframe\">\n",
       "  <thead>\n",
       "    <tr style=\"text-align: right;\">\n",
       "      <th></th>\n",
       "      <th>start</th>\n",
       "      <th>end</th>\n",
       "      <th>duration</th>\n",
       "      <th>label</th>\n",
       "    </tr>\n",
       "  </thead>\n",
       "  <tbody>\n",
       "    <tr>\n",
       "      <th>0</th>\n",
       "      <td>0.0</td>\n",
       "      <td>0.9</td>\n",
       "      <td>0.9</td>\n",
       "      <td>A</td>\n",
       "    </tr>\n",
       "    <tr>\n",
       "      <th>1</th>\n",
       "      <td>0.9</td>\n",
       "      <td>1.8</td>\n",
       "      <td>0.9</td>\n",
       "      <td>B</td>\n",
       "    </tr>\n",
       "    <tr>\n",
       "      <th>2</th>\n",
       "      <td>1.8</td>\n",
       "      <td>2.5</td>\n",
       "      <td>0.7</td>\n",
       "      <td>A</td>\n",
       "    </tr>\n",
       "    <tr>\n",
       "      <th>3</th>\n",
       "      <td>2.5</td>\n",
       "      <td>3.1</td>\n",
       "      <td>0.6</td>\n",
       "      <td>B</td>\n",
       "    </tr>\n",
       "    <tr>\n",
       "      <th>4</th>\n",
       "      <td>3.1</td>\n",
       "      <td>3.4</td>\n",
       "      <td>0.3</td>\n",
       "      <td>C</td>\n",
       "    </tr>\n",
       "    <tr>\n",
       "      <th>5</th>\n",
       "      <td>3.4</td>\n",
       "      <td>4.5</td>\n",
       "      <td>1.1</td>\n",
       "      <td>A</td>\n",
       "    </tr>\n",
       "  </tbody>\n",
       "</table>\n",
       "</div>"
      ],
      "text/plain": [
       "   start  end  duration label\n",
       "0    0.0  0.9       0.9     A\n",
       "1    0.9  1.8       0.9     B\n",
       "2    1.8  2.5       0.7     A\n",
       "3    2.5  3.1       0.6     B\n",
       "4    3.1  3.4       0.3     C\n",
       "5    3.4  4.5       1.1     A"
      ]
     },
     "execution_count": 519,
     "metadata": {},
     "output_type": "execute_result"
    }
   ],
   "source": [
    "estimations = Segments(np.array([0, 0.9, 1.8, 2.5, 3.1, 3.4, 4.5]), ['A','B','A','B','C','A'])\n",
    "estimations.df()"
   ]
  },
  {
   "cell_type": "code",
   "execution_count": 396,
   "metadata": {
    "collapsed": false
   },
   "outputs": [
    {
     "data": {
      "image/png": "[encoded data removed]",
      "text/plain": [
       "<matplotlib.figure.Figure at 0x10e40e588>"
      ]
     },
     "metadata": {},
     "output_type": "display_data"
    }
   ],
   "source": [
    "plot_segments(estimations.df())"
   ]
  },
  {
   "cell_type": "code",
   "execution_count": null,
   "metadata": {
    "collapsed": true
   },
   "outputs": [],
   "source": [
    "def join_segments(df1, df2):\n",
    "    \"\"\"Joins two dataframes with segments into a single one (ignoring labels)\"\"\"\n",
    "    np.hstack(events_from_segments(df1), events_from_segments(df1))"
   ]
  },
  {
   "cell_type": "code",
   "execution_count": 222,
   "metadata": {
    "collapsed": false
   },
   "outputs": [
    {
     "data": {
      "text/plain": [
       "array([ 0. ,  0.9,  1. ,  1.8,  2. ,  2.5,  3. ,  3.1,  3.4,  3.5,  4. ,\n",
       "        4.5])"
      ]
     },
     "execution_count": 222,
     "metadata": {},
     "output_type": "execute_result"
    }
   ],
   "source": [
    "events = np.hstack([events_from_segments(annotations), events_from_segments(estimations)])\n",
    "events.sort()\n",
    "events = np.unique(events)\n",
    "events"
   ]
  },
  {
   "cell_type": "code",
   "execution_count": 225,
   "metadata": {
    "collapsed": false
   },
   "outputs": [
    {
     "data": {
      "text/html": [
       "<div>\n",
       "<table border=\"1\" class=\"dataframe\">\n",
       "  <thead>\n",
       "    <tr style=\"text-align: right;\">\n",
       "      <th></th>\n",
       "      <th>start</th>\n",
       "      <th>end</th>\n",
       "      <th>duration</th>\n",
       "    </tr>\n",
       "  </thead>\n",
       "  <tbody>\n",
       "    <tr>\n",
       "      <th>0</th>\n",
       "      <td>0.0</td>\n",
       "      <td>0.9</td>\n",
       "      <td>0.9</td>\n",
       "    </tr>\n",
       "    <tr>\n",
       "      <th>1</th>\n",
       "      <td>0.9</td>\n",
       "      <td>1.0</td>\n",
       "      <td>0.1</td>\n",
       "    </tr>\n",
       "    <tr>\n",
       "      <th>2</th>\n",
       "      <td>1.0</td>\n",
       "      <td>1.8</td>\n",
       "      <td>0.8</td>\n",
       "    </tr>\n",
       "    <tr>\n",
       "      <th>3</th>\n",
       "      <td>1.8</td>\n",
       "      <td>2.0</td>\n",
       "      <td>0.2</td>\n",
       "    </tr>\n",
       "    <tr>\n",
       "      <th>4</th>\n",
       "      <td>2.0</td>\n",
       "      <td>2.5</td>\n",
       "      <td>0.5</td>\n",
       "    </tr>\n",
       "    <tr>\n",
       "      <th>5</th>\n",
       "      <td>2.5</td>\n",
       "      <td>3.0</td>\n",
       "      <td>0.5</td>\n",
       "    </tr>\n",
       "    <tr>\n",
       "      <th>6</th>\n",
       "      <td>3.0</td>\n",
       "      <td>3.1</td>\n",
       "      <td>0.1</td>\n",
       "    </tr>\n",
       "    <tr>\n",
       "      <th>7</th>\n",
       "      <td>3.1</td>\n",
       "      <td>3.4</td>\n",
       "      <td>0.3</td>\n",
       "    </tr>\n",
       "    <tr>\n",
       "      <th>8</th>\n",
       "      <td>3.4</td>\n",
       "      <td>3.5</td>\n",
       "      <td>0.1</td>\n",
       "    </tr>\n",
       "    <tr>\n",
       "      <th>9</th>\n",
       "      <td>3.5</td>\n",
       "      <td>4.0</td>\n",
       "      <td>0.5</td>\n",
       "    </tr>\n",
       "    <tr>\n",
       "      <th>10</th>\n",
       "      <td>4.0</td>\n",
       "      <td>4.5</td>\n",
       "      <td>0.5</td>\n",
       "    </tr>\n",
       "  </tbody>\n",
       "</table>\n",
       "</div>"
      ],
      "text/plain": [
       "    start  end  duration\n",
       "0     0.0  0.9       0.9\n",
       "1     0.9  1.0       0.1\n",
       "2     1.0  1.8       0.8\n",
       "3     1.8  2.0       0.2\n",
       "4     2.0  2.5       0.5\n",
       "5     2.5  3.0       0.5\n",
       "6     3.0  3.1       0.1\n",
       "7     3.1  3.4       0.3\n",
       "8     3.4  3.5       0.1\n",
       "9     3.5  4.0       0.5\n",
       "10    4.0  4.5       0.5"
      ]
     },
     "execution_count": 225,
     "metadata": {},
     "output_type": "execute_result"
    }
   ],
   "source": [
    "merged = segments_from_events(events)\n",
    "merged"
   ]
  },
  {
   "cell_type": "code",
   "execution_count": 244,
   "metadata": {
    "collapsed": false
   },
   "outputs": [
    {
     "data": {
      "image/png": "[encoded data removed]",
      "text/plain": [
       "<matplotlib.figure.Figure at 0x10ebed0b8>"
      ]
     },
     "metadata": {},
     "output_type": "display_data"
    }
   ],
   "source": [
    "plot_segments(merged)"
   ]
  },
  {
   "cell_type": "code",
   "execution_count": 522,
   "metadata": {
    "collapsed": false
   },
   "outputs": [
    {
     "data": {
      "text/html": [
       "<div>\n",
       "<table border=\"1\" class=\"dataframe\">\n",
       "  <thead>\n",
       "    <tr style=\"text-align: right;\">\n",
       "      <th></th>\n",
       "      <th>start</th>\n",
       "      <th>label_left</th>\n",
       "      <th>label_right</th>\n",
       "      <th>label_equals</th>\n",
       "      <th>end</th>\n",
       "      <th>duration</th>\n",
       "    </tr>\n",
       "  </thead>\n",
       "  <tbody>\n",
       "    <tr>\n",
       "      <th>0</th>\n",
       "      <td>0.0</td>\n",
       "      <td>A</td>\n",
       "      <td>A</td>\n",
       "      <td>True</td>\n",
       "      <td>0.9</td>\n",
       "      <td>0.9</td>\n",
       "    </tr>\n",
       "    <tr>\n",
       "      <th>1</th>\n",
       "      <td>0.9</td>\n",
       "      <td>A</td>\n",
       "      <td>B</td>\n",
       "      <td>False</td>\n",
       "      <td>1.0</td>\n",
       "      <td>0.1</td>\n",
       "    </tr>\n",
       "    <tr>\n",
       "      <th>2</th>\n",
       "      <td>1.0</td>\n",
       "      <td>B</td>\n",
       "      <td>B</td>\n",
       "      <td>True</td>\n",
       "      <td>1.8</td>\n",
       "      <td>0.8</td>\n",
       "    </tr>\n",
       "    <tr>\n",
       "      <th>3</th>\n",
       "      <td>1.8</td>\n",
       "      <td>B</td>\n",
       "      <td>A</td>\n",
       "      <td>False</td>\n",
       "      <td>2.0</td>\n",
       "      <td>0.2</td>\n",
       "    </tr>\n",
       "    <tr>\n",
       "      <th>4</th>\n",
       "      <td>2.0</td>\n",
       "      <td>A</td>\n",
       "      <td>A</td>\n",
       "      <td>True</td>\n",
       "      <td>2.5</td>\n",
       "      <td>0.5</td>\n",
       "    </tr>\n",
       "    <tr>\n",
       "      <th>5</th>\n",
       "      <td>2.5</td>\n",
       "      <td>A</td>\n",
       "      <td>B</td>\n",
       "      <td>False</td>\n",
       "      <td>3.0</td>\n",
       "      <td>0.5</td>\n",
       "    </tr>\n",
       "    <tr>\n",
       "      <th>6</th>\n",
       "      <td>3.0</td>\n",
       "      <td>C</td>\n",
       "      <td>B</td>\n",
       "      <td>False</td>\n",
       "      <td>3.1</td>\n",
       "      <td>0.1</td>\n",
       "    </tr>\n",
       "    <tr>\n",
       "      <th>7</th>\n",
       "      <td>3.1</td>\n",
       "      <td>C</td>\n",
       "      <td>C</td>\n",
       "      <td>True</td>\n",
       "      <td>3.4</td>\n",
       "      <td>0.3</td>\n",
       "    </tr>\n",
       "    <tr>\n",
       "      <th>8</th>\n",
       "      <td>3.4</td>\n",
       "      <td>C</td>\n",
       "      <td>A</td>\n",
       "      <td>False</td>\n",
       "      <td>3.5</td>\n",
       "      <td>0.1</td>\n",
       "    </tr>\n",
       "    <tr>\n",
       "      <th>9</th>\n",
       "      <td>3.5</td>\n",
       "      <td>A</td>\n",
       "      <td>A</td>\n",
       "      <td>True</td>\n",
       "      <td>4.0</td>\n",
       "      <td>0.5</td>\n",
       "    </tr>\n",
       "    <tr>\n",
       "      <th>10</th>\n",
       "      <td>4.0</td>\n",
       "      <td>NaN</td>\n",
       "      <td>A</td>\n",
       "      <td>False</td>\n",
       "      <td>4.5</td>\n",
       "      <td>0.5</td>\n",
       "    </tr>\n",
       "  </tbody>\n",
       "</table>\n",
       "</div>"
      ],
      "text/plain": [
       "    start label_left label_right label_equals  end  duration\n",
       "0     0.0          A           A         True  0.9       0.9\n",
       "1     0.9          A           B        False  1.0       0.1\n",
       "2     1.0          B           B         True  1.8       0.8\n",
       "3     1.8          B           A        False  2.0       0.2\n",
       "4     2.0          A           A         True  2.5       0.5\n",
       "5     2.5          A           B        False  3.0       0.5\n",
       "6     3.0          C           B        False  3.1       0.1\n",
       "7     3.1          C           C         True  3.4       0.3\n",
       "8     3.4          C           A        False  3.5       0.1\n",
       "9     3.5          A           A         True  4.0       0.5\n",
       "10    4.0        NaN           A        False  4.5       0.5"
      ]
     },
     "execution_count": 522,
     "metadata": {},
     "output_type": "execute_result"
    }
   ],
   "source": [
    "merged_df = annotations.join(estimations)\n",
    "merged_df"
   ]
  },
  {
   "cell_type": "markdown",
   "metadata": {},
   "source": [
    "# [Weighted] Chord Symbol Recall\n",
    "\n",
    "```\n",
    "CSR = D_equals / D_annot\n",
    "```\n",
    "\n",
    "- `CSR` - chord symbol recall (for a single song)\n",
    "- `D_equals` - total duration of segments where annotation equals estimation\n",
    "- `D_annot` - total duration of annotated segments\n",
    "\n",
    "```\n",
    "WSCR = sum(D_annot[i] * CSR[i])\n",
    "```\n",
    "\n",
    "- `WSCR` - weighted CSR - average of CSR across songs weighted by song durations"
   ]
  },
  {
   "cell_type": "code",
   "execution_count": 529,
   "metadata": {
    "collapsed": false
   },
   "outputs": [],
   "source": [
    "def chord_symbol_recall(pred_segments, true_segments):\n",
    "    merged_df = pred_segments.join(true_segments)\n",
    "    return merged_df[merged_df['label_equals']]['duration'].sum() / merged_df['duration'].sum()"
   ]
  },
  {
   "cell_type": "code",
   "execution_count": 530,
   "metadata": {
    "collapsed": false
   },
   "outputs": [
    {
     "data": {
      "text/plain": [
       "0.6666666666666666"
      ]
     },
     "execution_count": 530,
     "metadata": {},
     "output_type": "execute_result"
    }
   ],
   "source": [
    "chord_symbol_recall(estimations, annotations)"
   ]
  },
  {
   "cell_type": "markdown",
   "metadata": {},
   "source": [
    "# Blocks to segments\n",
    "\n",
    "- merge adjacent blocks with same labels into segments"
   ]
  },
  {
   "cell_type": "code",
   "execution_count": null,
   "metadata": {
    "collapsed": true
   },
   "outputs": [],
   "source": []
  }
 ],
 "metadata": {
  "kernelspec": {
   "display_name": "Python 3",
   "language": "python",
   "name": "python3"
  },
  "language_info": {
   "codemirror_mode": {
    "name": "ipython",
    "version": 3
   },
   "file_extension": ".py",
   "mimetype": "text/x-python",
   "name": "python",
   "nbconvert_exporter": "python",
   "pygments_lexer": "ipython3",
   "version": "3.4.4"
  }
 },
 "nbformat": 4,
 "nbformat_minor": 0
}
