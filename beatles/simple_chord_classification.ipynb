{
 "cells": [
  {
   "cell_type": "markdown",
   "metadata": {},
   "source": [
    "# Simple chord classification\n",
    "\n",
    "The task is to classify chords (or more precisely pitch class sets) based on chromagram features.\n",
    "\n",
    "We use a single Beatles song with just two chord and silence.\n",
    "\n",
    "The task is in fact multilabel classification, since each pitch class is generally independent."
   ]
  },
  {
   "cell_type": "code",
   "execution_count": 1,
   "metadata": {
    "collapsed": false
   },
   "outputs": [
    {
     "name": "stdout",
     "output_type": "stream",
     "text": [
      "Populating the interactive namespace from numpy and matplotlib\n"
     ]
    }
   ],
   "source": [
    "%pylab inline\n",
    "\n",
    "import numpy as np\n",
    "import pandas as pd\n",
    "import keras"
   ]
  },
  {
   "cell_type": "markdown",
   "metadata": {},
   "source": [
    "## Data loading"
   ]
  },
  {
   "cell_type": "code",
   "execution_count": 21,
   "metadata": {
    "collapsed": false
   },
   "outputs": [],
   "source": [
    "labels_file = 'data/beatles/chord-pcs/4096_2048/The_Beatles/01_-_Please_Please_Me/08_-_Love_Me_Do.pcs'\n",
    "features_file = 'data/beatles/chromagram/block=4096_hop=2048_bins=-48,67_div=1/The_Beatles/01_-_Please_Please_Me/08_-_Love_Me_Do.npz'"
   ]
  },
  {
   "cell_type": "code",
   "execution_count": 331,
   "metadata": {
    "collapsed": false
   },
   "outputs": [
    {
     "data": {
      "text/html": [
       "<div>\n",
       "<table border=\"1\" class=\"dataframe\">\n",
       "  <thead>\n",
       "    <tr style=\"text-align: right;\">\n",
       "      <th></th>\n",
       "      <th>label</th>\n",
       "      <th>C</th>\n",
       "      <th>Db</th>\n",
       "      <th>D</th>\n",
       "      <th>Eb</th>\n",
       "      <th>E</th>\n",
       "      <th>F</th>\n",
       "      <th>Gb</th>\n",
       "      <th>G</th>\n",
       "      <th>Ab</th>\n",
       "      <th>A</th>\n",
       "      <th>Bb</th>\n",
       "      <th>B</th>\n",
       "    </tr>\n",
       "  </thead>\n",
       "  <tbody>\n",
       "    <tr>\n",
       "      <th>0</th>\n",
       "      <td>N</td>\n",
       "      <td>0</td>\n",
       "      <td>0</td>\n",
       "      <td>0</td>\n",
       "      <td>0</td>\n",
       "      <td>0</td>\n",
       "      <td>0</td>\n",
       "      <td>0</td>\n",
       "      <td>0</td>\n",
       "      <td>0</td>\n",
       "      <td>0</td>\n",
       "      <td>0</td>\n",
       "      <td>0</td>\n",
       "    </tr>\n",
       "    <tr>\n",
       "      <th>1</th>\n",
       "      <td>N</td>\n",
       "      <td>0</td>\n",
       "      <td>0</td>\n",
       "      <td>0</td>\n",
       "      <td>0</td>\n",
       "      <td>0</td>\n",
       "      <td>0</td>\n",
       "      <td>0</td>\n",
       "      <td>0</td>\n",
       "      <td>0</td>\n",
       "      <td>0</td>\n",
       "      <td>0</td>\n",
       "      <td>0</td>\n",
       "    </tr>\n",
       "    <tr>\n",
       "      <th>2</th>\n",
       "      <td>N</td>\n",
       "      <td>0</td>\n",
       "      <td>0</td>\n",
       "      <td>0</td>\n",
       "      <td>0</td>\n",
       "      <td>0</td>\n",
       "      <td>0</td>\n",
       "      <td>0</td>\n",
       "      <td>0</td>\n",
       "      <td>0</td>\n",
       "      <td>0</td>\n",
       "      <td>0</td>\n",
       "      <td>0</td>\n",
       "    </tr>\n",
       "    <tr>\n",
       "      <th>3</th>\n",
       "      <td>N</td>\n",
       "      <td>0</td>\n",
       "      <td>0</td>\n",
       "      <td>0</td>\n",
       "      <td>0</td>\n",
       "      <td>0</td>\n",
       "      <td>0</td>\n",
       "      <td>0</td>\n",
       "      <td>0</td>\n",
       "      <td>0</td>\n",
       "      <td>0</td>\n",
       "      <td>0</td>\n",
       "      <td>0</td>\n",
       "    </tr>\n",
       "    <tr>\n",
       "      <th>4</th>\n",
       "      <td>N</td>\n",
       "      <td>0</td>\n",
       "      <td>0</td>\n",
       "      <td>0</td>\n",
       "      <td>0</td>\n",
       "      <td>0</td>\n",
       "      <td>0</td>\n",
       "      <td>0</td>\n",
       "      <td>0</td>\n",
       "      <td>0</td>\n",
       "      <td>0</td>\n",
       "      <td>0</td>\n",
       "      <td>0</td>\n",
       "    </tr>\n",
       "    <tr>\n",
       "      <th>5</th>\n",
       "      <td>N</td>\n",
       "      <td>0</td>\n",
       "      <td>0</td>\n",
       "      <td>0</td>\n",
       "      <td>0</td>\n",
       "      <td>0</td>\n",
       "      <td>0</td>\n",
       "      <td>0</td>\n",
       "      <td>0</td>\n",
       "      <td>0</td>\n",
       "      <td>0</td>\n",
       "      <td>0</td>\n",
       "      <td>0</td>\n",
       "    </tr>\n",
       "    <tr>\n",
       "      <th>6</th>\n",
       "      <td>N</td>\n",
       "      <td>0</td>\n",
       "      <td>0</td>\n",
       "      <td>0</td>\n",
       "      <td>0</td>\n",
       "      <td>0</td>\n",
       "      <td>0</td>\n",
       "      <td>0</td>\n",
       "      <td>0</td>\n",
       "      <td>0</td>\n",
       "      <td>0</td>\n",
       "      <td>0</td>\n",
       "      <td>0</td>\n",
       "    </tr>\n",
       "    <tr>\n",
       "      <th>7</th>\n",
       "      <td>N</td>\n",
       "      <td>0</td>\n",
       "      <td>0</td>\n",
       "      <td>0</td>\n",
       "      <td>0</td>\n",
       "      <td>0</td>\n",
       "      <td>0</td>\n",
       "      <td>0</td>\n",
       "      <td>0</td>\n",
       "      <td>0</td>\n",
       "      <td>0</td>\n",
       "      <td>0</td>\n",
       "      <td>0</td>\n",
       "    </tr>\n",
       "    <tr>\n",
       "      <th>8</th>\n",
       "      <td>N</td>\n",
       "      <td>0</td>\n",
       "      <td>0</td>\n",
       "      <td>0</td>\n",
       "      <td>0</td>\n",
       "      <td>0</td>\n",
       "      <td>0</td>\n",
       "      <td>0</td>\n",
       "      <td>0</td>\n",
       "      <td>0</td>\n",
       "      <td>0</td>\n",
       "      <td>0</td>\n",
       "      <td>0</td>\n",
       "    </tr>\n",
       "    <tr>\n",
       "      <th>9</th>\n",
       "      <td>G</td>\n",
       "      <td>0</td>\n",
       "      <td>0</td>\n",
       "      <td>1</td>\n",
       "      <td>0</td>\n",
       "      <td>0</td>\n",
       "      <td>0</td>\n",
       "      <td>0</td>\n",
       "      <td>1</td>\n",
       "      <td>0</td>\n",
       "      <td>0</td>\n",
       "      <td>0</td>\n",
       "      <td>1</td>\n",
       "    </tr>\n",
       "    <tr>\n",
       "      <th>10</th>\n",
       "      <td>G</td>\n",
       "      <td>0</td>\n",
       "      <td>0</td>\n",
       "      <td>1</td>\n",
       "      <td>0</td>\n",
       "      <td>0</td>\n",
       "      <td>0</td>\n",
       "      <td>0</td>\n",
       "      <td>1</td>\n",
       "      <td>0</td>\n",
       "      <td>0</td>\n",
       "      <td>0</td>\n",
       "      <td>1</td>\n",
       "    </tr>\n",
       "    <tr>\n",
       "      <th>11</th>\n",
       "      <td>G</td>\n",
       "      <td>0</td>\n",
       "      <td>0</td>\n",
       "      <td>1</td>\n",
       "      <td>0</td>\n",
       "      <td>0</td>\n",
       "      <td>0</td>\n",
       "      <td>0</td>\n",
       "      <td>1</td>\n",
       "      <td>0</td>\n",
       "      <td>0</td>\n",
       "      <td>0</td>\n",
       "      <td>1</td>\n",
       "    </tr>\n",
       "    <tr>\n",
       "      <th>12</th>\n",
       "      <td>G</td>\n",
       "      <td>0</td>\n",
       "      <td>0</td>\n",
       "      <td>1</td>\n",
       "      <td>0</td>\n",
       "      <td>0</td>\n",
       "      <td>0</td>\n",
       "      <td>0</td>\n",
       "      <td>1</td>\n",
       "      <td>0</td>\n",
       "      <td>0</td>\n",
       "      <td>0</td>\n",
       "      <td>1</td>\n",
       "    </tr>\n",
       "    <tr>\n",
       "      <th>13</th>\n",
       "      <td>G</td>\n",
       "      <td>0</td>\n",
       "      <td>0</td>\n",
       "      <td>1</td>\n",
       "      <td>0</td>\n",
       "      <td>0</td>\n",
       "      <td>0</td>\n",
       "      <td>0</td>\n",
       "      <td>1</td>\n",
       "      <td>0</td>\n",
       "      <td>0</td>\n",
       "      <td>0</td>\n",
       "      <td>1</td>\n",
       "    </tr>\n",
       "    <tr>\n",
       "      <th>14</th>\n",
       "      <td>G</td>\n",
       "      <td>0</td>\n",
       "      <td>0</td>\n",
       "      <td>1</td>\n",
       "      <td>0</td>\n",
       "      <td>0</td>\n",
       "      <td>0</td>\n",
       "      <td>0</td>\n",
       "      <td>1</td>\n",
       "      <td>0</td>\n",
       "      <td>0</td>\n",
       "      <td>0</td>\n",
       "      <td>1</td>\n",
       "    </tr>\n",
       "  </tbody>\n",
       "</table>\n",
       "</div>"
      ],
      "text/plain": [
       "   label  C  Db  D  Eb  E  F  Gb  G  Ab  A  Bb  B\n",
       "0      N  0   0  0   0  0  0   0  0   0  0   0  0\n",
       "1      N  0   0  0   0  0  0   0  0   0  0   0  0\n",
       "2      N  0   0  0   0  0  0   0  0   0  0   0  0\n",
       "3      N  0   0  0   0  0  0   0  0   0  0   0  0\n",
       "4      N  0   0  0   0  0  0   0  0   0  0   0  0\n",
       "5      N  0   0  0   0  0  0   0  0   0  0   0  0\n",
       "6      N  0   0  0   0  0  0   0  0   0  0   0  0\n",
       "7      N  0   0  0   0  0  0   0  0   0  0   0  0\n",
       "8      N  0   0  0   0  0  0   0  0   0  0   0  0\n",
       "9      G  0   0  1   0  0  0   0  1   0  0   0  1\n",
       "10     G  0   0  1   0  0  0   0  1   0  0   0  1\n",
       "11     G  0   0  1   0  0  0   0  1   0  0   0  1\n",
       "12     G  0   0  1   0  0  0   0  1   0  0   0  1\n",
       "13     G  0   0  1   0  0  0   0  1   0  0   0  1\n",
       "14     G  0   0  1   0  0  0   0  1   0  0   0  1"
      ]
     },
     "execution_count": 331,
     "metadata": {},
     "output_type": "execute_result"
    }
   ],
   "source": [
    "df_labels = pd.read_csv(labels_file, sep='\\t')\n",
    "df_labels.head(15)"
   ]
  },
  {
   "cell_type": "code",
   "execution_count": 485,
   "metadata": {
    "collapsed": false
   },
   "outputs": [
    {
     "data": {
      "text/plain": [
       "array([[0, 0, 0, 0, 0, 0, 0, 0, 0, 0, 0, 0],\n",
       "       [0, 0, 0, 0, 0, 0, 0, 0, 0, 0, 0, 0],\n",
       "       [0, 0, 0, 0, 0, 0, 0, 0, 0, 0, 0, 0],\n",
       "       [0, 0, 0, 0, 0, 0, 0, 0, 0, 0, 0, 0],\n",
       "       [0, 0, 0, 0, 0, 0, 0, 0, 0, 0, 0, 0],\n",
       "       [0, 0, 0, 0, 0, 0, 0, 0, 0, 0, 0, 0],\n",
       "       [0, 0, 0, 0, 0, 0, 0, 0, 0, 0, 0, 0],\n",
       "       [0, 0, 0, 0, 0, 0, 0, 0, 0, 0, 0, 0],\n",
       "       [0, 0, 0, 0, 0, 0, 0, 0, 0, 0, 0, 0],\n",
       "       [0, 0, 1, 0, 0, 0, 0, 1, 0, 0, 0, 1]])"
      ]
     },
     "execution_count": 485,
     "metadata": {},
     "output_type": "execute_result"
    }
   ],
   "source": [
    "labels_pcs = df_labels[df_labels.columns[1:]].as_matrix()\n",
    "labels_pcs[:10]"
   ]
  },
  {
   "cell_type": "code",
   "execution_count": 24,
   "metadata": {
    "collapsed": false
   },
   "outputs": [],
   "source": [
    "data = np.load(features_file)"
   ]
  },
  {
   "cell_type": "code",
   "execution_count": 28,
   "metadata": {
    "collapsed": false
   },
   "outputs": [],
   "source": [
    "features = data['X']\n",
    "times = data['times']"
   ]
  },
  {
   "cell_type": "markdown",
   "metadata": {},
   "source": [
    "## Data exploration"
   ]
  },
  {
   "cell_type": "code",
   "execution_count": 29,
   "metadata": {
    "collapsed": false
   },
   "outputs": [
    {
     "data": {
      "text/plain": [
       "(3075, 115)"
      ]
     },
     "execution_count": 29,
     "metadata": {},
     "output_type": "execute_result"
    }
   ],
   "source": [
    "features.shape"
   ]
  },
  {
   "cell_type": "code",
   "execution_count": 31,
   "metadata": {
    "collapsed": false
   },
   "outputs": [
    {
     "data": {
      "text/plain": [
       "(3075,)"
      ]
     },
     "execution_count": 31,
     "metadata": {},
     "output_type": "execute_result"
    }
   ],
   "source": [
    "times.shape"
   ]
  },
  {
   "cell_type": "code",
   "execution_count": 41,
   "metadata": {
    "collapsed": false
   },
   "outputs": [
    {
     "data": {
      "image/png": "[encoded data removed]",
      "text/plain": [
       "<matplotlib.figure.Figure at 0x11081fac8>"
      ]
     },
     "metadata": {},
     "output_type": "display_data"
    }
   ],
   "source": [
    "imshow(features[:100].T, cmap='gray');"
   ]
  },
  {
   "cell_type": "code",
   "execution_count": 43,
   "metadata": {
    "collapsed": false
   },
   "outputs": [
    {
     "data": {
      "image/png": "[encoded data removed]",
      "text/plain": [
       "<matplotlib.figure.Figure at 0x110b92780>"
      ]
     },
     "metadata": {},
     "output_type": "display_data"
    }
   ],
   "source": [
    "hist(features.flatten(), 100);"
   ]
  },
  {
   "cell_type": "code",
   "execution_count": 988,
   "metadata": {
    "collapsed": true
   },
   "outputs": [],
   "source": [
    "from sklearn.preprocessing import MinMaxScaler\n",
    "scaler = MinMaxScaler()\n",
    "X = scaler.fit_transform(features).astype('float32')"
   ]
  },
  {
   "cell_type": "code",
   "execution_count": 990,
   "metadata": {
    "collapsed": false
   },
   "outputs": [
    {
     "data": {
      "image/png": "[encoded data removed]",
      "text/plain": [
       "<matplotlib.figure.Figure at 0x13a31f080>"
      ]
     },
     "metadata": {},
     "output_type": "display_data"
    }
   ],
   "source": [
    "plt.hist(X.flatten(), 100);"
   ]
  },
  {
   "cell_type": "code",
   "execution_count": 52,
   "metadata": {
    "collapsed": false
   },
   "outputs": [
    {
     "data": {
      "image/png": "[encoded data removed]",
      "text/plain": [
       "<matplotlib.figure.Figure at 0x122f21898>"
      ]
     },
     "metadata": {},
     "output_type": "display_data"
    }
   ],
   "source": [
    "# non-zero values\n",
    "hist(X[X > 0].flatten(), 20);"
   ]
  },
  {
   "cell_type": "code",
   "execution_count": 530,
   "metadata": {
    "collapsed": false
   },
   "outputs": [
    {
     "data": {
      "image/png": "[encoded data removed]",
      "text/plain": [
       "<matplotlib.figure.Figure at 0x1419dff98>"
      ]
     },
     "metadata": {},
     "output_type": "display_data"
    }
   ],
   "source": [
    "import scipy.signal\n",
    "def plot_labels(l, fifths=False, resample=True):\n",
    "    figure(figsize=(20,5))\n",
    "    if fifths:\n",
    "        l = l[:,np.arange(12)*7 % 12]\n",
    "    l = l.T\n",
    "    if resample:\n",
    "        l = scipy.signal.resample(l, 200, axis=1)\n",
    "    imshow(l, cmap='gray', interpolation='none')\n",
    "\n",
    "plot_labels(labels_pcs)"
   ]
  },
  {
   "cell_type": "code",
   "execution_count": 496,
   "metadata": {
    "collapsed": false
   },
   "outputs": [
    {
     "data": {
      "image/png": "[encoded data removed]",
      "text/plain": [
       "<matplotlib.figure.Figure at 0x1397bb438>"
      ]
     },
     "metadata": {},
     "output_type": "display_data"
    }
   ],
   "source": [
    "plot_labels(labels_pcs, fifths=True)"
   ]
  },
  {
   "cell_type": "code",
   "execution_count": 241,
   "metadata": {
    "collapsed": false,
    "scrolled": true
   },
   "outputs": [
    {
     "data": {
      "image/png": "[encoded data removed]",
      "text/plain": [
       "<matplotlib.figure.Figure at 0x1251a6048>"
      ]
     },
     "metadata": {},
     "output_type": "display_data"
    }
   ],
   "source": [
    "plot(X[500]);"
   ]
  },
  {
   "cell_type": "code",
   "execution_count": 240,
   "metadata": {
    "collapsed": false,
    "scrolled": false
   },
   "outputs": [
    {
     "data": {
      "image/png": "[encoded data removed]",
      "text/plain": [
       "<matplotlib.figure.Figure at 0x124ea50f0>"
      ]
     },
     "metadata": {},
     "output_type": "display_data"
    }
   ],
   "source": [
    "imshow(X[100,:108].reshape(-1,12), cmap='gray', interpolation='nearest');"
   ]
  },
  {
   "cell_type": "code",
   "execution_count": 243,
   "metadata": {
    "collapsed": false
   },
   "outputs": [
    {
     "data": {
      "image/png": "[encoded data removed]",
      "text/plain": [
       "<matplotlib.figure.Figure at 0x1239b6828>"
      ]
     },
     "metadata": {},
     "output_type": "display_data"
    }
   ],
   "source": [
    "plot(X.mean(axis=0));"
   ]
  },
  {
   "cell_type": "code",
   "execution_count": 249,
   "metadata": {
    "collapsed": false
   },
   "outputs": [
    {
     "data": {
      "image/png": "[encoded data removed]",
      "text/plain": [
       "<matplotlib.figure.Figure at 0x127904be0>"
      ]
     },
     "metadata": {},
     "output_type": "display_data"
    }
   ],
   "source": [
    "imshow(X.mean(axis=0)[:108].reshape(-1,12), cmap='gray', interpolation='nearest');"
   ]
  },
  {
   "cell_type": "code",
   "execution_count": 248,
   "metadata": {
    "collapsed": false
   },
   "outputs": [
    {
     "data": {
      "image/png": "[encoded data removed]",
      "text/plain": [
       "<matplotlib.figure.Figure at 0x126b3cd68>"
      ]
     },
     "metadata": {},
     "output_type": "display_data"
    }
   ],
   "source": [
    "plot(X.mean(axis=0)[:108].reshape(-1,12).max(axis=0), 'o:');"
   ]
  },
  {
   "cell_type": "markdown",
   "metadata": {},
   "source": [
    "## Data preparation"
   ]
  },
  {
   "cell_type": "code",
   "execution_count": 656,
   "metadata": {
    "collapsed": false
   },
   "outputs": [
    {
     "data": {
      "text/plain": [
       "array([[0, 0, 0, 1],\n",
       "       [0, 0, 0, 1],\n",
       "       [0, 0, 0, 1],\n",
       "       ..., \n",
       "       [0, 0, 0, 1],\n",
       "       [0, 0, 0, 1],\n",
       "       [0, 0, 0, 1]], dtype=int32)"
      ]
     },
     "execution_count": 656,
     "metadata": {},
     "output_type": "execute_result"
    }
   ],
   "source": [
    "from sklearn.feature_extraction import DictVectorizer\n",
    "from sklearn.preprocessing import OneHotEncoder\n",
    "label_dict = dict((c,i) for (i, c) in enumerate(sorted(df_labels['label'].drop_duplicates())))\n",
    "label_classes = df_labels['label'].apply(lambda l: label_dict[l]).as_matrix().reshape(-1, 1)\n",
    "n_classes = len(label_dict)\n",
    "label_ohe = OneHotEncoder(n_values=n_classes)\n",
    "labels_ohe = label_ohe.fit_transform(label_classes).toarray().astype(np.int32)\n",
    "labels_ohe"
   ]
  },
  {
   "cell_type": "code",
   "execution_count": 991,
   "metadata": {
    "collapsed": false
   },
   "outputs": [],
   "source": [
    "from sklearn.cross_validation import train_test_split\n",
    "ix_train, ix_test = train_test_split(np.arange(len(X)), test_size=0.2, random_state=42)\n",
    "ix_train, ix_valid = train_test_split(ix_train, test_size=0.2/(1-0.2), random_state=42)\n",
    "X_train, X_valid, X_test = X[ix_train], X[ix_valid], X[ix_test]\n",
    "y_train, y_valid, y_test = labels_pcs[ix_train], labels_pcs[ix_valid], labels_pcs[ix_test]\n",
    "y_ohe_train, y_ohe_valid, y_ohe_test = labels_ohe[ix_train], labels_ohe[ix_valid], labels_ohe[ix_test]\n",
    "y_cls_train, y_cls_valid, y_cls_test = label_classes[ix_train], label_classes[ix_valid], label_classes[ix_test]"
   ]
  },
  {
   "cell_type": "code",
   "execution_count": 992,
   "metadata": {
    "collapsed": false
   },
   "outputs": [
    {
     "name": "stdout",
     "output_type": "stream",
     "text": [
      "(1845, 115)\n",
      "(615, 115)\n",
      "(615, 115)\n",
      "(1845, 12)\n",
      "(615, 12)\n",
      "(615, 12)\n"
     ]
    }
   ],
   "source": [
    "for d in [X_train, X_valid, X_test, y_train, y_valid, y_test]:\n",
    "    print(d.shape)"
   ]
  },
  {
   "cell_type": "code",
   "execution_count": 471,
   "metadata": {
    "collapsed": false
   },
   "outputs": [
    {
     "data": {
      "text/plain": [
       "array([[1, 0, 0, 0],\n",
       "       [1, 0, 0, 0],\n",
       "       [1, 0, 0, 0],\n",
       "       [0, 0, 1, 0],\n",
       "       [1, 0, 0, 0],\n",
       "       [1, 0, 0, 0],\n",
       "       [0, 0, 1, 0],\n",
       "       [0, 1, 0, 0],\n",
       "       [1, 0, 0, 0],\n",
       "       [0, 0, 1, 0]], dtype=int32)"
      ]
     },
     "execution_count": 471,
     "metadata": {},
     "output_type": "execute_result"
    }
   ],
   "source": [
    "y_ohe_train[:10]"
   ]
  },
  {
   "cell_type": "code",
   "execution_count": 470,
   "metadata": {
    "collapsed": false
   },
   "outputs": [
    {
     "data": {
      "text/plain": [
       "array([[1, 0, 0, 0, 1, 0, 0, 1, 0, 0, 0, 0],\n",
       "       [1, 0, 0, 0, 1, 0, 0, 1, 0, 0, 0, 0],\n",
       "       [1, 0, 0, 0, 1, 0, 0, 1, 0, 0, 0, 0],\n",
       "       [0, 0, 1, 0, 0, 0, 0, 1, 0, 0, 0, 1],\n",
       "       [1, 0, 0, 0, 1, 0, 0, 1, 0, 0, 0, 0],\n",
       "       [1, 0, 0, 0, 1, 0, 0, 1, 0, 0, 0, 0],\n",
       "       [0, 0, 1, 0, 0, 0, 0, 1, 0, 0, 0, 1],\n",
       "       [0, 0, 1, 0, 0, 0, 1, 0, 0, 1, 0, 0],\n",
       "       [1, 0, 0, 0, 1, 0, 0, 1, 0, 0, 0, 0],\n",
       "       [0, 0, 1, 0, 0, 0, 0, 1, 0, 0, 0, 1]])"
      ]
     },
     "execution_count": 470,
     "metadata": {},
     "output_type": "execute_result"
    }
   ],
   "source": [
    "y_train[:10]"
   ]
  },
  {
   "cell_type": "markdown",
   "metadata": {},
   "source": [
    "## Training classifiers\n",
    "\n",
    "### Baseline performance - dummy classifier\n",
    "\n",
    "For this data the multi-class problem is easier."
   ]
  },
  {
   "cell_type": "markdown",
   "metadata": {},
   "source": [
    "#### Multi-label"
   ]
  },
  {
   "cell_type": "code",
   "execution_count": 473,
   "metadata": {
    "collapsed": false
   },
   "outputs": [
    {
     "name": "stdout",
     "output_type": "stream",
     "text": [
      "training score: 0.0433604336043\n",
      "validation score: 0.0406504065041\n"
     ]
    },
    {
     "data": {
      "image/png": "[encoded data removed]",
      "text/plain": [
       "<matplotlib.figure.Figure at 0x138a9df98>"
      ]
     },
     "metadata": {},
     "output_type": "display_data"
    }
   ],
   "source": [
    "from sklearn.dummy import DummyClassifier\n",
    "dummy_classifier = DummyClassifier()\n",
    "dummy_classifier.fit(X_train, y_train)\n",
    "print('training score:', dummy_classifier.score(X_train, y_train))\n",
    "print('validation score:', dummy_classifier.score(X_valid, y_valid))\n",
    "plot_labels(dummy_classifier.predict(features))"
   ]
  },
  {
   "cell_type": "markdown",
   "metadata": {},
   "source": [
    "#### Multi-class (one-hot encoding)"
   ]
  },
  {
   "cell_type": "code",
   "execution_count": 474,
   "metadata": {
    "collapsed": false
   },
   "outputs": [
    {
     "name": "stdout",
     "output_type": "stream",
     "text": [
      "training score: 0.188617886179\n",
      "validation score: 0.19512195122\n"
     ]
    },
    {
     "data": {
      "image/png": "[encoded data removed]",
      "text/plain": [
       "<matplotlib.figure.Figure at 0x138bf2a58>"
      ]
     },
     "metadata": {},
     "output_type": "display_data"
    }
   ],
   "source": [
    "from sklearn.dummy import DummyClassifier\n",
    "dummy_classifier_ohe = DummyClassifier()\n",
    "dummy_classifier_ohe.fit(X_train, y_one_train)\n",
    "print('training score:', dummy_classifier_ohe.score(X_train, y_ohe_train))\n",
    "print('validation score:', dummy_classifier_ohe.score(X_valid, y_ohe_valid))\n",
    "plot_labels(dummy_classifier_ohe.predict(features))"
   ]
  },
  {
   "cell_type": "markdown",
   "metadata": {},
   "source": [
    "### Logistic regression\n",
    "\n",
    "#### Multi-label"
   ]
  },
  {
   "cell_type": "code",
   "execution_count": 1176,
   "metadata": {
    "collapsed": true
   },
   "outputs": [],
   "source": [
    "from sklearn.metrics import hamming_loss, accuracy_score \n",
    "\n",
    "def model_report_multilabel(model_predict, X_train, y_train, X_valid, y_valid):\n",
    "    def report_dataset(X, y_true, title):\n",
    "        y_pred = model_predict(X)\n",
    "        print(title + ' accuracy (exatch match):', accuracy_score(y_true, y_pred))\n",
    "        print(title + ' hamming score (non-exatch match):', 1 - hamming_loss(y_true, y_pred))\n",
    "\n",
    "    report_dataset(X_train, y_train, 'training')\n",
    "    report_dataset(X_valid, y_valid, 'validation')"
   ]
  },
  {
   "cell_type": "code",
   "execution_count": 1177,
   "metadata": {
    "collapsed": false
   },
   "outputs": [
    {
     "name": "stderr",
     "output_type": "stream",
     "text": [
      "/Users/bzamecnik/anaconda/lib/python3.4/site-packages/sklearn/multiclass.py:70: UserWarning: Label not 1 is present in all training examples.\n",
      "  str(classes[c]))\n",
      "/Users/bzamecnik/anaconda/lib/python3.4/site-packages/sklearn/multiclass.py:70: UserWarning: Label not 3 is present in all training examples.\n",
      "  str(classes[c]))\n",
      "/Users/bzamecnik/anaconda/lib/python3.4/site-packages/sklearn/multiclass.py:70: UserWarning: Label not 5 is present in all training examples.\n",
      "  str(classes[c]))\n",
      "/Users/bzamecnik/anaconda/lib/python3.4/site-packages/sklearn/multiclass.py:70: UserWarning: Label not 8 is present in all training examples.\n",
      "  str(classes[c]))\n",
      "/Users/bzamecnik/anaconda/lib/python3.4/site-packages/sklearn/multiclass.py:70: UserWarning: Label not 10 is present in all training examples.\n",
      "  str(classes[c]))\n"
     ]
    },
    {
     "name": "stdout",
     "output_type": "stream",
     "text": [
      "training score: 0.773983739837\n",
      "validation score: 0.765853658537\n",
      "training accuracy (exatch match): 0.773983739837\n",
      "training hamming score (non-exatch match): 0.9481481481481482\n",
      "validation accuracy (exatch match): 0.765853658537\n",
      "validation hamming score (non-exatch match): 0.9449864498644986\n"
     ]
    }
   ],
   "source": [
    "from sklearn.linear_model import LogisticRegression\n",
    "from sklearn.multiclass import OneVsRestClassifier\n",
    "\n",
    "log_reg = OneVsRestClassifier(LogisticRegression())\n",
    "log_reg.fit(X_train, y_train)\n",
    "\n",
    "print('training score:', log_reg.score(X_train, y_train))\n",
    "print('validation score:', log_reg.score(X_valid, y_valid))\n",
    "\n",
    "model_report_multilabel(log_reg.predict, X_train, y_train, X_valid, y_valid)"
   ]
  },
  {
   "cell_type": "markdown",
   "metadata": {},
   "source": [
    "It seems that score for OneVsRestClassifier + LogisticRegression is the same as accuracy score."
   ]
  },
  {
   "cell_type": "code",
   "execution_count": 478,
   "metadata": {
    "collapsed": false
   },
   "outputs": [
    {
     "data": {
      "image/png": "[encoded data removed]",
      "text/plain": [
       "<matplotlib.figure.Figure at 0x138a9deb8>"
      ]
     },
     "metadata": {},
     "output_type": "display_data"
    }
   ],
   "source": [
    "plot_labels(log_reg.predict(features))"
   ]
  },
  {
   "cell_type": "code",
   "execution_count": 499,
   "metadata": {
    "collapsed": false
   },
   "outputs": [
    {
     "data": {
      "image/png": "[encoded data removed]",
      "text/plain": [
       "<matplotlib.figure.Figure at 0x1397aa6a0>"
      ]
     },
     "metadata": {},
     "output_type": "display_data"
    }
   ],
   "source": [
    "plot_labels(labels_pcs - log_reg.predict(features))"
   ]
  },
  {
   "cell_type": "code",
   "execution_count": 149,
   "metadata": {
    "collapsed": false
   },
   "outputs": [],
   "source": [
    "import scipy\n",
    "scipy.misc.imsave('log_reg.png', log_reg.predict(features).T)"
   ]
  },
  {
   "cell_type": "code",
   "execution_count": 536,
   "metadata": {
    "collapsed": false
   },
   "outputs": [
    {
     "data": {
      "image/png": "[encoded data removed]",
      "text/plain": [
       "<matplotlib.figure.Figure at 0x14186c2b0>"
      ]
     },
     "metadata": {},
     "output_type": "display_data"
    }
   ],
   "source": [
    "plot_labels(labels_pcs[:100] - log_reg.predict(features[:100]), resample=False)"
   ]
  },
  {
   "cell_type": "code",
   "execution_count": 533,
   "metadata": {
    "collapsed": false
   },
   "outputs": [
    {
     "data": {
      "image/png": "[encoded data removed]",
      "text/plain": [
       "<matplotlib.figure.Figure at 0x141dd0898>"
      ]
     },
     "metadata": {},
     "output_type": "display_data"
    }
   ],
   "source": [
    "plot_labels(labels_pcs[:100], resample=False)"
   ]
  },
  {
   "cell_type": "markdown",
   "metadata": {},
   "source": [
    "#### Multi-class"
   ]
  },
  {
   "cell_type": "code",
   "execution_count": 555,
   "metadata": {
    "collapsed": false
   },
   "outputs": [
    {
     "name": "stdout",
     "output_type": "stream",
     "text": [
      "training score: 0.788075880759\n",
      "validation score: 0.778861788618\n"
     ]
    }
   ],
   "source": [
    "log_reg_ohe = OneVsRestClassifier(LogisticRegression(multi_class='multinomial', solver='lbfgs'))\n",
    "log_reg_ohe.fit(X_train, y_ohe_train)\n",
    "\n",
    "print('training score:', log_reg_ohe.score(X_train, y_ohe_train))\n",
    "print('validation score:', log_reg_ohe.score(X_valid, y_ohe_valid))\n",
    "\n",
    "# model_report_multilabel(log_reg_ohe.predict)"
   ]
  },
  {
   "cell_type": "code",
   "execution_count": 559,
   "metadata": {
    "collapsed": false
   },
   "outputs": [
    {
     "data": {
      "image/png": "[encoded data removed]",
      "text/plain": [
       "<matplotlib.figure.Figure at 0x142e43ef0>"
      ]
     },
     "metadata": {},
     "output_type": "display_data"
    }
   ],
   "source": [
    "plot_labels(log_reg_ohe.predict(features[:100]), resample=False)"
   ]
  },
  {
   "cell_type": "code",
   "execution_count": 560,
   "metadata": {
    "collapsed": false
   },
   "outputs": [
    {
     "data": {
      "text/plain": [
       "array([[0, 0, 1, 1],\n",
       "       [0, 0, 1, 1],\n",
       "       [0, 0, 1, 1],\n",
       "       [0, 0, 1, 1],\n",
       "       [0, 0, 1, 1],\n",
       "       [0, 0, 1, 1],\n",
       "       [0, 0, 1, 1],\n",
       "       [0, 0, 1, 1],\n",
       "       [0, 0, 1, 1],\n",
       "       [0, 0, 1, 1]])"
      ]
     },
     "execution_count": 560,
     "metadata": {},
     "output_type": "execute_result"
    }
   ],
   "source": [
    "log_reg_ohe.predict(features[:10])"
   ]
  },
  {
   "cell_type": "markdown",
   "metadata": {},
   "source": [
    "## Support vector machine"
   ]
  },
  {
   "cell_type": "code",
   "execution_count": 276,
   "metadata": {
    "collapsed": false
   },
   "outputs": [
    {
     "name": "stderr",
     "output_type": "stream",
     "text": [
      "/Users/bzamecnik/anaconda/lib/python3.4/site-packages/sklearn/multiclass.py:70: UserWarning: Label not 1 is present in all training examples.\n",
      "  str(classes[c]))\n",
      "/Users/bzamecnik/anaconda/lib/python3.4/site-packages/sklearn/multiclass.py:70: UserWarning: Label not 3 is present in all training examples.\n",
      "  str(classes[c]))\n",
      "/Users/bzamecnik/anaconda/lib/python3.4/site-packages/sklearn/multiclass.py:70: UserWarning: Label not 5 is present in all training examples.\n",
      "  str(classes[c]))\n",
      "/Users/bzamecnik/anaconda/lib/python3.4/site-packages/sklearn/multiclass.py:70: UserWarning: Label not 8 is present in all training examples.\n",
      "  str(classes[c]))\n"
     ]
    },
    {
     "name": "stdout",
     "output_type": "stream",
     "text": [
      "training score: 0.644444444444\n",
      "validation score: 0.652032520325\n"
     ]
    },
    {
     "name": "stderr",
     "output_type": "stream",
     "text": [
      "/Users/bzamecnik/anaconda/lib/python3.4/site-packages/sklearn/multiclass.py:70: UserWarning: Label not 10 is present in all training examples.\n",
      "  str(classes[c]))\n"
     ]
    }
   ],
   "source": [
    "from sklearn.svm import SVC\n",
    "svc = OneVsRestClassifier(SVC())\n",
    "svc.fit(X_train, y_train)\n",
    "print('training score:', svc.score(X_train, y_train))\n",
    "print('validation score:', svc.score(X_valid, y_valid))"
   ]
  },
  {
   "cell_type": "code",
   "execution_count": 277,
   "metadata": {
    "collapsed": false
   },
   "outputs": [
    {
     "data": {
      "image/png": "[encoded data removed]",
      "text/plain": [
       "<matplotlib.figure.Figure at 0x12d8f8940>"
      ]
     },
     "metadata": {},
     "output_type": "display_data"
    }
   ],
   "source": [
    "plot_labels(svc.predict(features))"
   ]
  },
  {
   "cell_type": "markdown",
   "metadata": {},
   "source": [
    "## Neural nets"
   ]
  },
  {
   "cell_type": "code",
   "execution_count": 1178,
   "metadata": {
    "collapsed": true
   },
   "outputs": [],
   "source": [
    "def conv_reshape(X):\n",
    "    return X.reshape(X.shape[0], X.shape[1], 1)\n",
    "\n",
    "X_conv_train = conv_reshape(X_train)\n",
    "X_conv_valid = conv_reshape(X_valid)"
   ]
  },
  {
   "cell_type": "markdown",
   "metadata": {},
   "source": [
    "#### Notes\n",
    "\n",
    "- the last layer has to be sigmoid, not softmax\n",
    "  - since each output label should be independent a multiple can be active at the same time\n",
    "- very sparse inputs can easily saturate sigmoid activation if it's near the first layer\n",
    "- class_mode='binary' for multi-label classification\n",
    "- predict_classes() then returns a binary vector\n",
    "- loss: MAE or binary_crossentropy?\n",
    "  - why binary_crossentropy gives worse accuracy than MAE?\n",
    "  - binary_crossentropy works ok\n",
    "- problems with loss going to NAN after the first training iteration\n",
    "  - optimizer clipnorm doesn't help\n",
    "  - BatchNormalization doesn't help\n",
    "    - BatchNormalization between convolution and activation works\n",
    "- BatchNormalization might be useful\n",
    "- be aware to use scaled inputs, not raw ones"
   ]
  },
  {
   "cell_type": "code",
   "execution_count": 1065,
   "metadata": {
    "collapsed": true
   },
   "outputs": [],
   "source": [
    "from keras.models import Sequential\n",
    "from keras.layers.core import Dense, Activation, Flatten, Dropout\n",
    "from keras.layers.convolutional import Convolution1D, MaxPooling1D\n",
    "from keras.layers.normalization import BatchNormalization"
   ]
  },
  {
   "cell_type": "code",
   "execution_count": null,
   "metadata": {
    "collapsed": true
   },
   "outputs": [],
   "source": [
    "# working model\n",
    "# results after 150 epochs:\n",
    "# - validation accuracy (exatch match): 0.79837398374\n",
    "# - validation hamming score (non-exatch match): 0.9456639566395664\n",
    "model = Sequential()\n",
    "model.add(Dense(50, input_dim=features.shape[1]))\n",
    "model.add(Activation('relu'))\n",
    "model.add(Dropout(0.5))\n",
    "model.add(Dense(12))\n",
    "model.add(Activation('sigmoid'))\n",
    "\n",
    "print('number of parameters:', model.count_params())\n",
    "print('weights', [w.shape for w in model.get_weights()])\n",
    "\n",
    "model.compile(class_mode='binary', loss='binary_crossentropy', optimizer='adadelta')"
   ]
  },
  {
   "cell_type": "code",
   "execution_count": null,
   "metadata": {
    "collapsed": true
   },
   "outputs": [],
   "source": [
    "# working example with convolutional layers:\n",
    "\n",
    "# results after 100 epochs:\n",
    "# training accuracy (exatch match): 0.810298102981\n",
    "# training hamming score (non-exatch match): 0.9575880758807588\n",
    "# validation accuracy (exatch match): 0.767479674797\n",
    "# validation hamming score (non-exatch match): 0.9387533875338754\n",
    "\n",
    "# number of parameters: 8552\n",
    "# weights [(5, 1, 5, 1), (5,), (111, 5), (111, 5), (111, 5), (111, 5), (10, 5, 5, 1), (10,), (51, 10), (51, 10), (51, 10), (51, 10), (510, 12), (12,)]\n",
    "\n",
    "model = Sequential()\n",
    "model.add(Convolution1D(5, 5, input_shape=(features.shape[1], 1)))\n",
    "model.add(BatchNormalization())\n",
    "model.add(Activation('relu'))\n",
    "model.add(MaxPooling1D(2, 2))\n",
    "model.add(Convolution1D(10, 5))\n",
    "model.add(BatchNormalization())\n",
    "model.add(Activation('relu'))\n",
    "model.add(Flatten())\n",
    "model.add(Dense(12))\n",
    "model.add(Activation('sigmoid'))\n",
    "\n",
    "model.compile(class_mode='binary', loss='binary_crossentropy', optimizer='adam')"
   ]
  },
  {
   "cell_type": "code",
   "execution_count": null,
   "metadata": {
    "collapsed": true
   },
   "outputs": [],
   "source": [
    "# one more dense layer:\n",
    "\n",
    "# 100 epochs\n",
    "# training accuracy (exatch match): 0.931707317073\n",
    "# training hamming score (non-exatch match): 0.984914182475158\n",
    "# validation accuracy (exatch match): 0.827642276423\n",
    "# validation hamming score (non-exatch match): 0.9470189701897019\n",
    "\n",
    "# number of parameters: 54732\n",
    "# weights [(5, 1, 5, 1), (5,), (111, 5), (111, 5), (111, 5), (111, 5), (10, 5, 5, 1), (10,), (51, 10), (51, 10), (51, 10), (51, 10), (510, 100), (100,), (100, 12), (12,)]\n",
    "\n",
    "model = Sequential()\n",
    "model.add(Convolution1D(5, 5, input_shape=(features.shape[1], 1)))\n",
    "model.add(BatchNormalization())\n",
    "model.add(Activation('relu'))\n",
    "model.add(MaxPooling1D(2, 2))\n",
    "model.add(Convolution1D(10, 5))\n",
    "model.add(BatchNormalization())\n",
    "model.add(Activation('relu'))\n",
    "model.add(Flatten())\n",
    "model.add(Dense(100))\n",
    "model.add(Activation('relu'))\n",
    "model.add(Dense(12))\n",
    "model.add(Activation('sigmoid'))\n",
    "\n",
    "print('number of parameters:', model.count_params())\n",
    "print('weights', [w.shape for w in model.get_weights()])\n",
    "\n",
    "model.compile(class_mode='binary', loss='binary_crossentropy', optimizer='adam')"
   ]
  },
  {
   "cell_type": "code",
   "execution_count": null,
   "metadata": {
    "collapsed": true
   },
   "outputs": [],
   "source": [
    "# more convolution filters, more smaller dense layers at the end\n",
    "\n",
    "# number of parameters: 14702\n",
    "# weights [(10, 1, 5, 1), (10,), (111, 10), (111, 10), (111, 10), (111, 10), (10, 10, 5, 1), (10,), (51, 10), (51, 10), (51, 10), (51, 10), (510, 20), (20,), (20, 20), (20,), (20, 12), (12,)]\n",
    "# 100 epochs\n",
    "\n",
    "# last lost: 0.0493504540061\n",
    "# training accuracy (exatch match): 0.918699186992\n",
    "# training hamming score (non-exatch match): 0.9811201445347787\n",
    "# validation accuracy (exatch match): 0.827642276423\n",
    "# validation hamming score (non-exatch match): 0.9518970189701897\n",
    "\n",
    "model = Sequential()\n",
    "\n",
    "model.add(Convolution1D(10, 5, input_shape=(features.shape[1], 1)))\n",
    "model.add(BatchNormalization())\n",
    "model.add(Activation('relu'))\n",
    "\n",
    "model.add(MaxPooling1D(2, 2))\n",
    "\n",
    "model.add(Convolution1D(10, 5))\n",
    "model.add(BatchNormalization())\n",
    "model.add(Activation('relu'))\n",
    "\n",
    "model.add(Flatten())\n",
    "\n",
    "model.add(Dense(20))\n",
    "model.add(Activation('relu'))\n",
    "\n",
    "model.add(Dense(20))\n",
    "model.add(Activation('relu'))\n",
    "\n",
    "model.add(Dense(12))\n",
    "model.add(Activation('sigmoid'))\n",
    "\n",
    "model.compile(class_mode='binary', loss='binary_crossentropy', optimizer='adam')"
   ]
  },
  {
   "cell_type": "code",
   "execution_count": null,
   "metadata": {
    "collapsed": true
   },
   "outputs": [],
   "source": [
    "# max-pooling after the two convolutions\n",
    "\n",
    "# number of parameters: 16522\n",
    "# weights [(10, 1, 3, 1), (10,), (113, 10), (113, 10), (113, 10), (113, 10), (10, 10, 3, 1), (10,), (111, 10), (111, 10), (111, 10), (111, 10), (550, 20), (20,), (20, 20), (20,), (20, 12), (12,)]\n",
    "# 100 epochs\n",
    "\n",
    "# last loss: 0.0579237073095\n",
    "\n",
    "# training accuracy (exatch match): 0.919241192412\n",
    "# training hamming score (non-exatch match): 0.9795392953929539\n",
    "# validation accuracy (exatch match): 0.834146341463\n",
    "# validation hamming score (non-exatch match): 0.9521680216802169\n",
    "\n",
    "model = Sequential()\n",
    "\n",
    "model.add(Convolution1D(10, 3, input_shape=(features.shape[1], 1)))\n",
    "model.add(BatchNormalization())\n",
    "model.add(Activation('relu'))\n",
    "\n",
    "model.add(Convolution1D(10, 3))\n",
    "model.add(BatchNormalization())\n",
    "model.add(Activation('relu'))\n",
    "\n",
    "model.add(MaxPooling1D(2, 2))\n",
    "\n",
    "model.add(Flatten())\n",
    "\n",
    "model.add(Dense(20))\n",
    "model.add(Activation('relu'))\n",
    "\n",
    "model.add(Dense(20))\n",
    "model.add(Activation('relu'))\n",
    "\n",
    "model.add(Dense(12))\n",
    "model.add(Activation('sigmoid'))\n",
    "\n",
    "print('number of parameters:', model.count_params())\n",
    "print('weights', [w.shape for w in model.get_weights()])\n",
    "\n",
    "model.compile(class_mode='binary', loss='binary_crossentropy', optimizer='adam')"
   ]
  },
  {
   "cell_type": "code",
   "execution_count": 1363,
   "metadata": {
    "collapsed": false
   },
   "outputs": [
    {
     "name": "stdout",
     "output_type": "stream",
     "text": [
      "number of parameters: 16522\n",
      "weights [(10, 1, 3, 1), (10,), (113, 10), (113, 10), (113, 10), (113, 10), (10, 10, 3, 1), (10,), (111, 10), (111, 10), (111, 10), (111, 10), (550, 20), (20,), (20, 20), (20,), (20, 12), (12,)]\n"
     ]
    }
   ],
   "source": [
    "model = Sequential()\n",
    "\n",
    "model.add(Convolution1D(10, 3, input_shape=(features.shape[1], 1)))\n",
    "model.add(BatchNormalization())\n",
    "model.add(Activation('relu'))\n",
    "\n",
    "model.add(Convolution1D(10, 3))\n",
    "model.add(BatchNormalization())\n",
    "model.add(Activation('relu'))\n",
    "\n",
    "model.add(MaxPooling1D(2, 2))\n",
    "\n",
    "model.add(Flatten())\n",
    "\n",
    "model.add(Dense(20))\n",
    "model.add(Activation('relu'))\n",
    "\n",
    "model.add(Dense(20))\n",
    "model.add(Activation('relu'))\n",
    "\n",
    "model.add(Dense(12))\n",
    "model.add(Activation('sigmoid'))\n",
    "\n",
    "print('number of parameters:', model.count_params())\n",
    "print('weights', [w.shape for w in model.get_weights()])\n",
    "\n",
    "model.compile(class_mode='binary', loss='binary_crossentropy', optimizer='adam')"
   ]
  },
  {
   "cell_type": "code",
   "execution_count": 1364,
   "metadata": {
    "collapsed": false
   },
   "outputs": [
    {
     "name": "stdout",
     "output_type": "stream",
     "text": [
      "Epoch 1/100\n",
      "1845/1845 [==============================] - 1s - loss: 0.6832     \n",
      "Epoch 2/100\n",
      "1845/1845 [==============================] - 0s - loss: 0.6374     \n",
      "Epoch 3/100\n",
      "1845/1845 [==============================] - 0s - loss: 0.4797     \n",
      "Epoch 4/100\n",
      "1845/1845 [==============================] - 0s - loss: 0.3638     \n",
      "Epoch 5/100\n",
      "1845/1845 [==============================] - 0s - loss: 0.3277     \n",
      "Epoch 6/100\n",
      "1845/1845 [==============================] - 0s - loss: 0.3127     \n",
      "Epoch 7/100\n",
      "1845/1845 [==============================] - 0s - loss: 0.3031     \n",
      "Epoch 8/100\n",
      "1845/1845 [==============================] - 0s - loss: 0.2934     \n",
      "Epoch 9/100\n",
      "1845/1845 [==============================] - 0s - loss: 0.2806     \n",
      "Epoch 10/100\n",
      "1845/1845 [==============================] - 1s - loss: 0.2645     \n",
      "Epoch 11/100\n",
      "1845/1845 [==============================] - 1s - loss: 0.2478     \n",
      "Epoch 12/100\n",
      "1845/1845 [==============================] - 1s - loss: 0.2317     \n",
      "Epoch 13/100\n",
      "1845/1845 [==============================] - 1s - loss: 0.2187     \n",
      "Epoch 14/100\n",
      "1845/1845 [==============================] - 1s - loss: 0.2057     \n",
      "Epoch 15/100\n",
      "1845/1845 [==============================] - 1s - loss: 0.1968     \n",
      "Epoch 16/100\n",
      "1845/1845 [==============================] - 0s - loss: 0.1875     \n",
      "Epoch 17/100\n",
      "1845/1845 [==============================] - 1s - loss: 0.1780     \n",
      "Epoch 18/100\n",
      "1845/1845 [==============================] - 1s - loss: 0.1677     \n",
      "Epoch 19/100\n",
      "1845/1845 [==============================] - 0s - loss: 0.1597     \n",
      "Epoch 20/100\n",
      "1845/1845 [==============================] - 0s - loss: 0.1547     \n",
      "Epoch 21/100\n",
      "1845/1845 [==============================] - 1s - loss: 0.1478     \n",
      "Epoch 22/100\n",
      "1845/1845 [==============================] - 0s - loss: 0.1436     \n",
      "Epoch 23/100\n",
      "1845/1845 [==============================] - 0s - loss: 0.1383     \n",
      "Epoch 24/100\n",
      "1845/1845 [==============================] - 0s - loss: 0.1333     \n",
      "Epoch 25/100\n",
      "1845/1845 [==============================] - 1s - loss: 0.1301     \n",
      "Epoch 26/100\n",
      "1845/1845 [==============================] - 1s - loss: 0.1278     \n",
      "Epoch 27/100\n",
      "1845/1845 [==============================] - 1s - loss: 0.1251     \n",
      "Epoch 28/100\n",
      "1845/1845 [==============================] - 1s - loss: 0.1225     \n",
      "Epoch 29/100\n",
      "1845/1845 [==============================] - 1s - loss: 0.1211     \n",
      "Epoch 30/100\n",
      "1845/1845 [==============================] - 1s - loss: 0.1187     \n",
      "Epoch 31/100\n",
      "1845/1845 [==============================] - 1s - loss: 0.1156     \n",
      "Epoch 32/100\n",
      "1845/1845 [==============================] - 1s - loss: 0.1141     \n",
      "Epoch 33/100\n",
      "1845/1845 [==============================] - 1s - loss: 0.1128     \n",
      "Epoch 34/100\n",
      "1845/1845 [==============================] - 0s - loss: 0.1100     \n",
      "Epoch 35/100\n",
      "1845/1845 [==============================] - 1s - loss: 0.1092     \n",
      "Epoch 36/100\n",
      "1845/1845 [==============================] - 1s - loss: 0.1080     \n",
      "Epoch 37/100\n",
      "1845/1845 [==============================] - 1s - loss: 0.1061     \n",
      "Epoch 38/100\n",
      "1845/1845 [==============================] - 0s - loss: 0.1052     \n",
      "Epoch 39/100\n",
      "1845/1845 [==============================] - 0s - loss: 0.1036     \n",
      "Epoch 40/100\n",
      "1845/1845 [==============================] - 0s - loss: 0.1030     \n",
      "Epoch 41/100\n",
      "1845/1845 [==============================] - 1s - loss: 0.1020     \n",
      "Epoch 42/100\n",
      "1845/1845 [==============================] - 1s - loss: 0.1001     \n",
      "Epoch 43/100\n",
      "1845/1845 [==============================] - 1s - loss: 0.0999     \n",
      "Epoch 44/100\n",
      "1845/1845 [==============================] - 1s - loss: 0.0983     \n",
      "Epoch 45/100\n",
      "1845/1845 [==============================] - 1s - loss: 0.0972     \n",
      "Epoch 46/100\n",
      "1845/1845 [==============================] - 1s - loss: 0.0997     \n",
      "Epoch 47/100\n",
      "1845/1845 [==============================] - 1s - loss: 0.0961     \n",
      "Epoch 48/100\n",
      "1845/1845 [==============================] - 1s - loss: 0.0943     \n",
      "Epoch 49/100\n",
      "1845/1845 [==============================] - 1s - loss: 0.0936     \n",
      "Epoch 50/100\n",
      "1845/1845 [==============================] - 1s - loss: 0.0921     \n",
      "Epoch 51/100\n",
      "1845/1845 [==============================] - 1s - loss: 0.0926     \n",
      "Epoch 52/100\n",
      "1845/1845 [==============================] - 1s - loss: 0.0907     \n",
      "Epoch 53/100\n",
      "1845/1845 [==============================] - 1s - loss: 0.0896     \n",
      "Epoch 54/100\n",
      "1845/1845 [==============================] - 0s - loss: 0.0884     \n",
      "Epoch 55/100\n",
      "1845/1845 [==============================] - 0s - loss: 0.0872     \n",
      "Epoch 56/100\n",
      "1845/1845 [==============================] - 0s - loss: 0.0856     \n",
      "Epoch 57/100\n",
      "1845/1845 [==============================] - 0s - loss: 0.0877     \n",
      "Epoch 58/100\n",
      "1845/1845 [==============================] - 1s - loss: 0.0855     \n",
      "Epoch 59/100\n",
      "1845/1845 [==============================] - 0s - loss: 0.0832     \n",
      "Epoch 60/100\n",
      "1845/1845 [==============================] - 1s - loss: 0.0837     \n",
      "Epoch 61/100\n",
      "1845/1845 [==============================] - 1s - loss: 0.0845     \n",
      "Epoch 62/100\n",
      "1845/1845 [==============================] - 1s - loss: 0.0817     \n",
      "Epoch 63/100\n",
      "1845/1845 [==============================] - 1s - loss: 0.0832     \n",
      "Epoch 64/100\n",
      "1845/1845 [==============================] - 1s - loss: 0.0817     \n",
      "Epoch 65/100\n",
      "1845/1845 [==============================] - 1s - loss: 0.0829     \n",
      "Epoch 66/100\n",
      "1845/1845 [==============================] - 1s - loss: 0.0814     \n",
      "Epoch 67/100\n",
      "1845/1845 [==============================] - 1s - loss: 0.0787     \n",
      "Epoch 68/100\n",
      "1845/1845 [==============================] - 1s - loss: 0.0780     \n",
      "Epoch 69/100\n",
      "1845/1845 [==============================] - 0s - loss: 0.0788     \n",
      "Epoch 70/100\n",
      "1845/1845 [==============================] - 0s - loss: 0.0760     \n",
      "Epoch 71/100\n",
      "1845/1845 [==============================] - 0s - loss: 0.0744     \n",
      "Epoch 72/100\n",
      "1845/1845 [==============================] - 1s - loss: 0.0752     \n",
      "Epoch 73/100\n",
      "1845/1845 [==============================] - 1s - loss: 0.0737     \n",
      "Epoch 74/100\n",
      "1845/1845 [==============================] - 0s - loss: 0.0734     \n",
      "Epoch 75/100\n",
      "1845/1845 [==============================] - 1s - loss: 0.0743     \n",
      "Epoch 76/100\n",
      "1845/1845 [==============================] - 1s - loss: 0.0729     \n",
      "Epoch 77/100\n",
      "1845/1845 [==============================] - 1s - loss: 0.0702     \n",
      "Epoch 78/100\n",
      "1845/1845 [==============================] - 1s - loss: 0.0705     \n",
      "Epoch 79/100\n",
      "1845/1845 [==============================] - 1s - loss: 0.0700     \n",
      "Epoch 80/100\n",
      "1845/1845 [==============================] - 1s - loss: 0.0686     \n",
      "Epoch 81/100\n",
      "1845/1845 [==============================] - 1s - loss: 0.0680     \n",
      "Epoch 82/100\n",
      "1845/1845 [==============================] - 1s - loss: 0.0666     \n",
      "Epoch 83/100\n",
      "1845/1845 [==============================] - 1s - loss: 0.0665     \n",
      "Epoch 84/100\n",
      "1845/1845 [==============================] - 1s - loss: 0.0686     \n",
      "Epoch 85/100\n",
      "1845/1845 [==============================] - 1s - loss: 0.0657     \n",
      "Epoch 86/100\n",
      "1845/1845 [==============================] - 1s - loss: 0.0659     \n",
      "Epoch 87/100\n",
      "1845/1845 [==============================] - 1s - loss: 0.0642     \n",
      "Epoch 88/100\n",
      "1845/1845 [==============================] - 1s - loss: 0.0625     \n",
      "Epoch 89/100\n",
      "1845/1845 [==============================] - 1s - loss: 0.0625     \n",
      "Epoch 90/100\n",
      "1845/1845 [==============================] - 1s - loss: 0.0636     \n",
      "Epoch 91/100\n",
      "1845/1845 [==============================] - 1s - loss: 0.0623     \n",
      "Epoch 92/100\n",
      "1845/1845 [==============================] - 1s - loss: 0.0640     \n",
      "Epoch 93/100\n",
      "1845/1845 [==============================] - 1s - loss: 0.0610     \n",
      "Epoch 94/100\n",
      "1845/1845 [==============================] - 1s - loss: 0.0609     \n",
      "Epoch 95/100\n",
      "1845/1845 [==============================] - 1s - loss: 0.0600     \n",
      "Epoch 96/100\n",
      "1845/1845 [==============================] - 1s - loss: 0.0633     \n",
      "Epoch 97/100\n",
      "1845/1845 [==============================] - 1s - loss: 0.0589     \n",
      "Epoch 98/100\n",
      "1845/1845 [==============================] - 1s - loss: 0.0580     \n",
      "Epoch 99/100\n",
      "1845/1845 [==============================] - 1s - loss: 0.0606     \n",
      "Epoch 100/100\n",
      "1845/1845 [==============================] - 1s - loss: 0.0579     \n"
     ]
    }
   ],
   "source": [
    "hist = model.fit(X_conv_train, y_train, nb_epoch=100)\n",
    "# hist = model.fit(X_train, y_train, nb_epoch=100)"
   ]
  },
  {
   "cell_type": "code",
   "execution_count": 1365,
   "metadata": {
    "collapsed": false
   },
   "outputs": [
    {
     "name": "stdout",
     "output_type": "stream",
     "text": [
      "0.0579237073095\n"
     ]
    },
    {
     "data": {
      "image/png": "[encoded data removed]",
      "text/plain": [
       "<matplotlib.figure.Figure at 0x141e3fcc0>"
      ]
     },
     "metadata": {},
     "output_type": "display_data"
    }
   ],
   "source": [
    "losses = hist.history['loss']\n",
    "print('last loss:', losses[-1])\n",
    "plot(losses);"
   ]
  },
  {
   "cell_type": "code",
   "execution_count": 1366,
   "metadata": {
    "collapsed": false
   },
   "outputs": [
    {
     "name": "stdout",
     "output_type": "stream",
     "text": [
      "1845/1845 [==============================] - 0s     \n",
      "training accuracy (exatch match): 0.919241192412\n",
      "training hamming score (non-exatch match): 0.9795392953929539\n",
      "615/615 [==============================] - 0s     \n",
      "validation accuracy (exatch match): 0.834146341463\n",
      "validation hamming score (non-exatch match): 0.9521680216802169\n"
     ]
    }
   ],
   "source": [
    "model_report_multilabel(model.predict_classes, X_conv_train, y_train, X_conv_valid, y_valid)"
   ]
  },
  {
   "cell_type": "code",
   "execution_count": 1368,
   "metadata": {
    "collapsed": false
   },
   "outputs": [
    {
     "data": {
      "image/png": "[encoded data removed]",
      "text/plain": [
       "<matplotlib.figure.Figure at 0x1454dbb70>"
      ]
     },
     "metadata": {},
     "output_type": "display_data"
    }
   ],
   "source": [
    "# true labels\n",
    "plot_labels(labels_pcs)"
   ]
  },
  {
   "cell_type": "code",
   "execution_count": 1367,
   "metadata": {
    "collapsed": false
   },
   "outputs": [
    {
     "name": "stdout",
     "output_type": "stream",
     "text": [
      "3075/3075 [==============================] - 0s     \n"
     ]
    },
    {
     "data": {
      "image/png": "[encoded data removed]",
      "text/plain": [
       "<matplotlib.figure.Figure at 0x14ae20f98>"
      ]
     },
     "metadata": {},
     "output_type": "display_data"
    }
   ],
   "source": [
    "# predicted labels\n",
    "labels_pred_full = model.predict_classes(conv_reshape(X))\n",
    "plot_labels(labels_pred_full)"
   ]
  },
  {
   "cell_type": "code",
   "execution_count": 1370,
   "metadata": {
    "collapsed": false
   },
   "outputs": [
    {
     "data": {
      "image/png": "[encoded data removed]",
      "text/plain": [
       "<matplotlib.figure.Figure at 0x146604b38>"
      ]
     },
     "metadata": {},
     "output_type": "display_data"
    }
   ],
   "source": [
    "# difference\n",
    "plot_labels(labels_pcs - labels_pred_full)"
   ]
  },
  {
   "cell_type": "code",
   "execution_count": 1371,
   "metadata": {
    "collapsed": false
   },
   "outputs": [
    {
     "data": {
      "image/png": "[encoded data removed]",
      "text/plain": [
       "<matplotlib.figure.Figure at 0x149e32358>"
      ]
     },
     "metadata": {},
     "output_type": "display_data"
    }
   ],
   "source": [
    "plot_labels(labels_pred_full[:100], resample=False)"
   ]
  },
  {
   "cell_type": "code",
   "execution_count": 1372,
   "metadata": {
    "collapsed": false
   },
   "outputs": [
    {
     "data": {
      "image/png": "[encoded data removed]",
      "text/plain": [
       "<matplotlib.figure.Figure at 0x1436314a8>"
      ]
     },
     "metadata": {},
     "output_type": "display_data"
    }
   ],
   "source": [
    "plot_labels(labels_pcs[:100] - labels_pred_full[:100], resample=False)"
   ]
  }
 ],
 "metadata": {
  "kernelspec": {
   "display_name": "Python 3",
   "language": "python",
   "name": "python3"
  },
  "language_info": {
   "codemirror_mode": {
    "name": "ipython",
    "version": 3
   },
   "file_extension": ".py",
   "mimetype": "text/x-python",
   "name": "python",
   "nbconvert_exporter": "python",
   "pygments_lexer": "ipython3",
   "version": "3.4.3"
  }
 },
 "nbformat": 4,
 "nbformat_minor": 0
}
