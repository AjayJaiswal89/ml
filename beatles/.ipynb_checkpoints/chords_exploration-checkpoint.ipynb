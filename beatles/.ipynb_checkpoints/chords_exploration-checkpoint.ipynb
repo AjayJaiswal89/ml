{
 "cells": [
  {
   "cell_type": "code",
   "execution_count": 4,
   "metadata": {
    "collapsed": false
   },
   "outputs": [
    {
     "name": "stdout",
     "output_type": "stream",
     "text": [
      "Populating the interactive namespace from numpy and matplotlib\n"
     ]
    }
   ],
   "source": [
    "%pylab inline\n",
    "\n",
    "import matplotlib\n",
    "import matplotlib.pyplot as plt\n",
    "import numpy as np\n",
    "import pandas as pd\n",
    "import seaborn as sns\n",
    "import glob\n",
    "\n",
    "pylab.rcParams['figure.figsize'] = (16, 12)"
   ]
  },
  {
   "cell_type": "code",
   "execution_count": 2,
   "metadata": {
    "collapsed": true
   },
   "outputs": [],
   "source": [
    "data_dir = 'data/beatles/chordlab/The_Beatles/'"
   ]
  },
  {
   "cell_type": "code",
   "execution_count": 5,
   "metadata": {
    "collapsed": false
   },
   "outputs": [],
   "source": [
    "chord_files = glob.glob(data_dir + '*/*.lab.pcs.tsv')"
   ]
  },
  {
   "cell_type": "code",
   "execution_count": 9,
   "metadata": {
    "collapsed": false
   },
   "outputs": [
    {
     "name": "stdout",
     "output_type": "stream",
     "text": [
      "total number of songs 180\n"
     ]
    },
    {
     "data": {
      "text/plain": [
       "['data/beatles/chordlab/The_Beatles/01_-_Please_Please_Me/01_-_I_Saw_Her_Standing_There.lab.pcs.tsv',\n",
       " 'data/beatles/chordlab/The_Beatles/01_-_Please_Please_Me/02_-_Misery.lab.pcs.tsv',\n",
       " 'data/beatles/chordlab/The_Beatles/01_-_Please_Please_Me/03_-_Anna_(Go_To_Him).lab.pcs.tsv',\n",
       " 'data/beatles/chordlab/The_Beatles/01_-_Please_Please_Me/04_-_Chains.lab.pcs.tsv',\n",
       " 'data/beatles/chordlab/The_Beatles/01_-_Please_Please_Me/05_-_Boys.lab.pcs.tsv']"
      ]
     },
     "execution_count": 9,
     "metadata": {},
     "output_type": "execute_result"
    }
   ],
   "source": [
    "print('total number of songs', len(chord_files))\n",
    "chord_files[:5]"
   ]
  },
  {
   "cell_type": "code",
   "execution_count": 308,
   "metadata": {
    "collapsed": false
   },
   "outputs": [],
   "source": [
    "def read_chord_file(path):\n",
    "    return pd.read_csv(path, sep='\\t')\n",
    "\n",
    "def add_track_id(df, track_id):\n",
    "    df['track_id'] = track_id\n",
    "    return df\n",
    "\n",
    "def track_title(path):\n",
    "    return '/'.join(path.split('/')[-2:]).replace('.lab.pcs.tsv', '')\n",
    "\n",
    "def read_key_file(path):\n",
    "    return pd.read_csv(path, sep='[\\s]', engine='python', header=None, names=['start', 'end', 'key'])"
   ]
  },
  {
   "cell_type": "code",
   "execution_count": 294,
   "metadata": {
    "collapsed": false
   },
   "outputs": [
    {
     "name": "stdout",
     "output_type": "stream",
     "text": [
      "total number of chord segments 14621\n"
     ]
    }
   ],
   "source": [
    "selected_files = chord_files\n",
    "all_chords = pd.concat(add_track_id(read_chord_file(file), track_id) for (track_id, file) in enumerate(selected_files))\n",
    "\n",
    "all_chords['duration'] = all_chords['end'] - all_chords['start']\n",
    "\n",
    "nonsilent_chords = all_chords[all_chords['label'] != 'N']\n",
    "\n",
    "print('total number of chord segments', len(all_chords))"
   ]
  },
  {
   "cell_type": "code",
   "execution_count": 295,
   "metadata": {
    "collapsed": false
   },
   "outputs": [
    {
     "data": {
      "text/plain": [
       "180"
      ]
     },
     "execution_count": 295,
     "metadata": {},
     "output_type": "execute_result"
    }
   ],
   "source": [
    "key_files = glob.glob('data/beatles/chordlab/The_Beatles/*/*.lab')\n",
    "len(key_files)"
   ]
  },
  {
   "cell_type": "code",
   "execution_count": 296,
   "metadata": {
    "collapsed": true
   },
   "outputs": [],
   "source": [
    "all_keys = pd.concat(add_track_id(read_chord_file(file), track_id) for (track_id, file) in enumerate(key_files))"
   ]
  },
  {
   "cell_type": "code",
   "execution_count": 309,
   "metadata": {
    "collapsed": false
   },
   "outputs": [
    {
     "ename": "ValueError",
     "evalue": "Expected 4 fields in line 1, saw 3",
     "output_type": "error",
     "traceback": [
      "\u001b[0;31m---------------------------------------------------------------------------\u001b[0m",
      "\u001b[0;31mValueError\u001b[0m                                Traceback (most recent call last)",
      "\u001b[0;32m<ipython-input-309-97275cfdd7ce>\u001b[0m in \u001b[0;36m<module>\u001b[0;34m()\u001b[0m\n\u001b[0;32m----> 1\u001b[0;31m \u001b[0mread_key_file\u001b[0m\u001b[0;34m(\u001b[0m\u001b[0mkey_files\u001b[0m\u001b[0;34m[\u001b[0m\u001b[0;36m0\u001b[0m\u001b[0;34m]\u001b[0m\u001b[0;34m)\u001b[0m\u001b[0;34m\u001b[0m\u001b[0m\n\u001b[0m",
      "\u001b[0;32m<ipython-input-308-88f2c7234207>\u001b[0m in \u001b[0;36mread_key_file\u001b[0;34m(path)\u001b[0m\n\u001b[1;32m     10\u001b[0m \u001b[0;34m\u001b[0m\u001b[0m\n\u001b[1;32m     11\u001b[0m \u001b[0;32mdef\u001b[0m \u001b[0mread_key_file\u001b[0m\u001b[0;34m(\u001b[0m\u001b[0mpath\u001b[0m\u001b[0;34m)\u001b[0m\u001b[0;34m:\u001b[0m\u001b[0;34m\u001b[0m\u001b[0m\n\u001b[0;32m---> 12\u001b[0;31m     \u001b[0;32mreturn\u001b[0m \u001b[0mpd\u001b[0m\u001b[0;34m.\u001b[0m\u001b[0mread_csv\u001b[0m\u001b[0;34m(\u001b[0m\u001b[0mpath\u001b[0m\u001b[0;34m,\u001b[0m \u001b[0msep\u001b[0m\u001b[0;34m=\u001b[0m\u001b[0;34m'[\\s]'\u001b[0m\u001b[0;34m,\u001b[0m \u001b[0mengine\u001b[0m\u001b[0;34m=\u001b[0m\u001b[0;34m'python'\u001b[0m\u001b[0;34m,\u001b[0m \u001b[0mheader\u001b[0m\u001b[0;34m=\u001b[0m\u001b[0;32mNone\u001b[0m\u001b[0;34m,\u001b[0m \u001b[0mnames\u001b[0m\u001b[0;34m=\u001b[0m\u001b[0;34m[\u001b[0m\u001b[0;34m'start'\u001b[0m\u001b[0;34m,\u001b[0m \u001b[0;34m'end'\u001b[0m\u001b[0;34m,\u001b[0m \u001b[0;34m'type'\u001b[0m\u001b[0;34m,\u001b[0m \u001b[0;34m'key'\u001b[0m\u001b[0;34m]\u001b[0m\u001b[0;34m)\u001b[0m\u001b[0;34m\u001b[0m\u001b[0m\n\u001b[0m",
      "\u001b[0;32m/Users/bzamecnik/Documents/dev/pyvenv/py3.4/lib/python3.4/site-packages/pandas/io/parsers.py\u001b[0m in \u001b[0;36mparser_f\u001b[0;34m(filepath_or_buffer, sep, dialect, compression, doublequote, escapechar, quotechar, quoting, skipinitialspace, lineterminator, header, index_col, names, prefix, skiprows, skipfooter, skip_footer, na_values, na_fvalues, true_values, false_values, delimiter, converters, dtype, usecols, engine, delim_whitespace, as_recarray, na_filter, compact_ints, use_unsigned, low_memory, buffer_lines, warn_bad_lines, error_bad_lines, keep_default_na, thousands, comment, decimal, parse_dates, keep_date_col, dayfirst, date_parser, memory_map, float_precision, nrows, iterator, chunksize, verbose, encoding, squeeze, mangle_dupe_cols, tupleize_cols, infer_datetime_format, skip_blank_lines)\u001b[0m\n\u001b[1;32m    461\u001b[0m                     skip_blank_lines=skip_blank_lines)\n\u001b[1;32m    462\u001b[0m \u001b[0;34m\u001b[0m\u001b[0m\n\u001b[0;32m--> 463\u001b[0;31m         \u001b[0;32mreturn\u001b[0m \u001b[0m_read\u001b[0m\u001b[0;34m(\u001b[0m\u001b[0mfilepath_or_buffer\u001b[0m\u001b[0;34m,\u001b[0m \u001b[0mkwds\u001b[0m\u001b[0;34m)\u001b[0m\u001b[0;34m\u001b[0m\u001b[0m\n\u001b[0m\u001b[1;32m    464\u001b[0m \u001b[0;34m\u001b[0m\u001b[0m\n\u001b[1;32m    465\u001b[0m     \u001b[0mparser_f\u001b[0m\u001b[0;34m.\u001b[0m\u001b[0m__name__\u001b[0m \u001b[0;34m=\u001b[0m \u001b[0mname\u001b[0m\u001b[0;34m\u001b[0m\u001b[0m\n",
      "\u001b[0;32m/Users/bzamecnik/Documents/dev/pyvenv/py3.4/lib/python3.4/site-packages/pandas/io/parsers.py\u001b[0m in \u001b[0;36m_read\u001b[0;34m(filepath_or_buffer, kwds)\u001b[0m\n\u001b[1;32m    247\u001b[0m         \u001b[0;32mreturn\u001b[0m \u001b[0mparser\u001b[0m\u001b[0;34m\u001b[0m\u001b[0m\n\u001b[1;32m    248\u001b[0m \u001b[0;34m\u001b[0m\u001b[0m\n\u001b[0;32m--> 249\u001b[0;31m     \u001b[0;32mreturn\u001b[0m \u001b[0mparser\u001b[0m\u001b[0;34m.\u001b[0m\u001b[0mread\u001b[0m\u001b[0;34m(\u001b[0m\u001b[0;34m)\u001b[0m\u001b[0;34m\u001b[0m\u001b[0m\n\u001b[0m\u001b[1;32m    250\u001b[0m \u001b[0;34m\u001b[0m\u001b[0m\n\u001b[1;32m    251\u001b[0m _parser_defaults = {\n",
      "\u001b[0;32m/Users/bzamecnik/Documents/dev/pyvenv/py3.4/lib/python3.4/site-packages/pandas/io/parsers.py\u001b[0m in \u001b[0;36mread\u001b[0;34m(self, nrows)\u001b[0m\n\u001b[1;32m    704\u001b[0m                 \u001b[0;32mraise\u001b[0m \u001b[0mValueError\u001b[0m\u001b[0;34m(\u001b[0m\u001b[0;34m'skip_footer not supported for iteration'\u001b[0m\u001b[0;34m)\u001b[0m\u001b[0;34m\u001b[0m\u001b[0m\n\u001b[1;32m    705\u001b[0m \u001b[0;34m\u001b[0m\u001b[0m\n\u001b[0;32m--> 706\u001b[0;31m         \u001b[0mret\u001b[0m \u001b[0;34m=\u001b[0m \u001b[0mself\u001b[0m\u001b[0;34m.\u001b[0m\u001b[0m_engine\u001b[0m\u001b[0;34m.\u001b[0m\u001b[0mread\u001b[0m\u001b[0;34m(\u001b[0m\u001b[0mnrows\u001b[0m\u001b[0;34m)\u001b[0m\u001b[0;34m\u001b[0m\u001b[0m\n\u001b[0m\u001b[1;32m    707\u001b[0m \u001b[0;34m\u001b[0m\u001b[0m\n\u001b[1;32m    708\u001b[0m         \u001b[0;32mif\u001b[0m \u001b[0mself\u001b[0m\u001b[0;34m.\u001b[0m\u001b[0moptions\u001b[0m\u001b[0;34m.\u001b[0m\u001b[0mget\u001b[0m\u001b[0;34m(\u001b[0m\u001b[0;34m'as_recarray'\u001b[0m\u001b[0;34m)\u001b[0m\u001b[0;34m:\u001b[0m\u001b[0;34m\u001b[0m\u001b[0m\n",
      "\u001b[0;32m/Users/bzamecnik/Documents/dev/pyvenv/py3.4/lib/python3.4/site-packages/pandas/io/parsers.py\u001b[0m in \u001b[0;36mread\u001b[0;34m(self, rows)\u001b[0m\n\u001b[1;32m   1542\u001b[0m             \u001b[0mcontent\u001b[0m \u001b[0;34m=\u001b[0m \u001b[0mcontent\u001b[0m\u001b[0;34m[\u001b[0m\u001b[0;36m1\u001b[0m\u001b[0;34m:\u001b[0m\u001b[0;34m]\u001b[0m\u001b[0;34m\u001b[0m\u001b[0m\n\u001b[1;32m   1543\u001b[0m \u001b[0;34m\u001b[0m\u001b[0m\n\u001b[0;32m-> 1544\u001b[0;31m         \u001b[0malldata\u001b[0m \u001b[0;34m=\u001b[0m \u001b[0mself\u001b[0m\u001b[0;34m.\u001b[0m\u001b[0m_rows_to_cols\u001b[0m\u001b[0;34m(\u001b[0m\u001b[0mcontent\u001b[0m\u001b[0;34m)\u001b[0m\u001b[0;34m\u001b[0m\u001b[0m\n\u001b[0m\u001b[1;32m   1545\u001b[0m         \u001b[0mdata\u001b[0m \u001b[0;34m=\u001b[0m \u001b[0mself\u001b[0m\u001b[0;34m.\u001b[0m\u001b[0m_exclude_implicit_index\u001b[0m\u001b[0;34m(\u001b[0m\u001b[0malldata\u001b[0m\u001b[0;34m)\u001b[0m\u001b[0;34m\u001b[0m\u001b[0m\n\u001b[1;32m   1546\u001b[0m \u001b[0;34m\u001b[0m\u001b[0m\n",
      "\u001b[0;32m/Users/bzamecnik/Documents/dev/pyvenv/py3.4/lib/python3.4/site-packages/pandas/io/parsers.py\u001b[0m in \u001b[0;36m_rows_to_cols\u001b[0;34m(self, content)\u001b[0m\n\u001b[1;32m   1917\u001b[0m             msg = ('Expected %d fields in line %d, saw %d' %\n\u001b[1;32m   1918\u001b[0m                    (col_len, row_num + 1, zip_len))\n\u001b[0;32m-> 1919\u001b[0;31m             \u001b[0;32mraise\u001b[0m \u001b[0mValueError\u001b[0m\u001b[0;34m(\u001b[0m\u001b[0mmsg\u001b[0m\u001b[0;34m)\u001b[0m\u001b[0;34m\u001b[0m\u001b[0m\n\u001b[0m\u001b[1;32m   1920\u001b[0m \u001b[0;34m\u001b[0m\u001b[0m\n\u001b[1;32m   1921\u001b[0m         \u001b[0;32mif\u001b[0m \u001b[0mself\u001b[0m\u001b[0;34m.\u001b[0m\u001b[0musecols\u001b[0m\u001b[0;34m:\u001b[0m\u001b[0;34m\u001b[0m\u001b[0m\n",
      "\u001b[0;31mValueError\u001b[0m: Expected 4 fields in line 1, saw 3"
     ]
    }
   ],
   "source": [
    "read_key_file(key_files[0])"
   ]
  },
  {
   "cell_type": "code",
   "execution_count": 123,
   "metadata": {
    "collapsed": false
   },
   "outputs": [],
   "source": [
    "pcs_columns = ['C', 'Db', 'D', 'Eb', 'E', 'F', 'Gb', 'G', 'Ab', 'A', 'Bb', 'B']"
   ]
  },
  {
   "cell_type": "code",
   "execution_count": 124,
   "metadata": {
    "collapsed": false
   },
   "outputs": [],
   "source": [
    "def find_track(name):\n",
    "    return [i for (i, path) in enumerate(chord_files) if name in path]"
   ]
  },
  {
   "cell_type": "code",
   "execution_count": 125,
   "metadata": {
    "collapsed": false
   },
   "outputs": [],
   "source": [
    "def draw_track(track_id):\n",
    "    print(track_title(chord_files[track_id]))\n",
    "    track = all_chords[all_tracks['track_id'] == track_id]\n",
    "    matshow(track[pcs_columns].T)\n",
    "    grid(False)\n",
    "    gca().set_yticks(np.arange(12))\n",
    "    gca().set_yticklabels(pcs_columns)"
   ]
  },
  {
   "cell_type": "markdown",
   "metadata": {},
   "source": [
    "Example time line of chords represented as binary pitch class sets in a single song:"
   ]
  },
  {
   "cell_type": "code",
   "execution_count": 79,
   "metadata": {
    "collapsed": false
   },
   "outputs": [
    {
     "name": "stdout",
     "output_type": "stream",
     "text": [
      "05_-_Help!/13_-_Yesterday\n"
     ]
    },
    {
     "data": {
      "image/png": "[encoded data removed]",
      "text/plain": [
       "<matplotlib.figure.Figure at 0x1126869b0>"
      ]
     },
     "metadata": {},
     "output_type": "display_data"
    }
   ],
   "source": [
    "draw_track(find_track('Yesterday')[0])"
   ]
  },
  {
   "cell_type": "markdown",
   "metadata": {},
   "source": [
    "Distribution of pitch classes accross all songs:"
   ]
  },
  {
   "cell_type": "code",
   "execution_count": 126,
   "metadata": {
    "collapsed": false
   },
   "outputs": [
    {
     "data": {
      "image/png": "[encoded data removed]",
      "text/plain": [
       "<matplotlib.figure.Figure at 0x110a38160>"
      ]
     },
     "metadata": {},
     "output_type": "display_data"
    }
   ],
   "source": [
    "pc_histogram = pd.DataFrame({'pitch_class': pcs_columns, 'relative_count': nonsilent_chords[pcs_columns].mean()})\n",
    "stem(pc_histogram['relative_count'])\n",
    "gca().set_xticks(np.arange(12))\n",
    "gca().set_xticklabels(pcs_columns);"
   ]
  },
  {
   "cell_type": "code",
   "execution_count": 127,
   "metadata": {
    "collapsed": false
   },
   "outputs": [],
   "source": [
    "pc_histogram.sort('relative_count', ascending=False, inplace=True)"
   ]
  },
  {
   "cell_type": "code",
   "execution_count": 128,
   "metadata": {
    "collapsed": false
   },
   "outputs": [
    {
     "data": {
      "image/png": "[encoded data removed]",
      "text/plain": [
       "<matplotlib.figure.Figure at 0x10f9df3c8>"
      ]
     },
     "metadata": {},
     "output_type": "display_data"
    }
   ],
   "source": [
    "plot(pc_histogram['relative_count'],'o:')\n",
    "gca().set_xticks(np.arange(12))\n",
    "gca().set_xticklabels(pc_histogram['pitch_class']);\n",
    "ylim(0, 1);\n",
    "xlim(-.1, 11.1);"
   ]
  },
  {
   "cell_type": "markdown",
   "metadata": {},
   "source": [
    "Observation: Five most used pitch classes in Beates songs are A, E, D, B and G."
   ]
  },
  {
   "cell_type": "code",
   "execution_count": 130,
   "metadata": {
    "collapsed": false
   },
   "outputs": [],
   "source": [
    "chord_histogram = all_chords['label'].value_counts()"
   ]
  },
  {
   "cell_type": "code",
   "execution_count": 131,
   "metadata": {
    "collapsed": false
   },
   "outputs": [
    {
     "data": {
      "text/plain": [
       "A         1568\n",
       "G         1385\n",
       "D         1353\n",
       "E         1039\n",
       "C          966\n",
       "B          503\n",
       "F          489\n",
       "N          427\n",
       "A:min      365\n",
       "E:min      336\n",
       "Bb         318\n",
       "B:min      293\n",
       "F#:min     291\n",
       "D:min      197\n",
       "F#         189\n",
       "...\n",
       "E:min(2)        1\n",
       "G:sus4/5        1\n",
       "E:min(*3)/5     1\n",
       "E:min(*b3)/5    1\n",
       "G/#4            1\n",
       "C#:(1,b3)/b3    1\n",
       "G:dim/b3        1\n",
       "A:7(*5,13)      1\n",
       "C:maj6/5        1\n",
       "A/7             1\n",
       "F#:dim/b7       1\n",
       "Bb:maj          1\n",
       "G:maj6(9)       1\n",
       "G:sus4(b7)      1\n",
       "D:maj(*3)       1\n",
       "Length: 407, dtype: int64"
      ]
     },
     "execution_count": 131,
     "metadata": {},
     "output_type": "execute_result"
    }
   ],
   "source": [
    "chord_histogram"
   ]
  },
  {
   "cell_type": "code",
   "execution_count": 132,
   "metadata": {
    "collapsed": false
   },
   "outputs": [
    {
     "name": "stdout",
     "output_type": "stream",
     "text": [
      "number of unique chords (including silence): 407\n"
     ]
    }
   ],
   "source": [
    "print('number of unique chords (including silence):', len(chord_histogram))"
   ]
  },
  {
   "cell_type": "markdown",
   "metadata": {},
   "source": [
    "Distribution of chords usage:"
   ]
  },
  {
   "cell_type": "code",
   "execution_count": 133,
   "metadata": {
    "collapsed": false
   },
   "outputs": [
    {
     "data": {
      "image/png": "[encoded data removed]",
      "text/plain": [
       "<matplotlib.figure.Figure at 0x110a26cf8>"
      ]
     },
     "metadata": {},
     "output_type": "display_data"
    }
   ],
   "source": [
    "plot(chord_histogram);"
   ]
  },
  {
   "cell_type": "markdown",
   "metadata": {},
   "source": [
    "Distribution of chord root tones (ie. chord stripped of their quality) - excluding silence:"
   ]
  },
  {
   "cell_type": "code",
   "execution_count": 134,
   "metadata": {
    "collapsed": false
   },
   "outputs": [
    {
     "data": {
      "text/plain": [
       "A     2494\n",
       "D     2258\n",
       "G     2035\n",
       "E     1816\n",
       "C     1391\n",
       "B     1091\n",
       "F      866\n",
       "Gb     707\n",
       "Bb     469\n",
       "Db     413\n",
       "Ab     362\n",
       "Eb     292\n",
       "dtype: int64"
      ]
     },
     "execution_count": 134,
     "metadata": {},
     "output_type": "execute_result"
    }
   ],
   "source": [
    "chord_root_histogram = nonsilent_chords['root'].value_counts()\n",
    "# convert index from integers to symbolic names\n",
    "chord_root_histogram.index = pd.Series(pcs_columns)[chord_root_histogram.index].values\n",
    "chord_root_histogram"
   ]
  },
  {
   "cell_type": "markdown",
   "metadata": {},
   "source": [
    "Still [A,D,G,E,C] is the set of most favorite pitch classes."
   ]
  },
  {
   "cell_type": "code",
   "execution_count": 139,
   "metadata": {
    "collapsed": false
   },
   "outputs": [
    {
     "data": {
      "text/html": [
       "<div style=\"max-height:1000px;max-width:1500px;overflow:auto;\">\n",
       "<table border=\"1\" class=\"dataframe\">\n",
       "  <thead>\n",
       "    <tr style=\"text-align: right;\">\n",
       "      <th></th>\n",
       "      <th>C</th>\n",
       "      <th>Db</th>\n",
       "      <th>D</th>\n",
       "      <th>Eb</th>\n",
       "      <th>E</th>\n",
       "      <th>F</th>\n",
       "      <th>Gb</th>\n",
       "      <th>G</th>\n",
       "      <th>Ab</th>\n",
       "      <th>A</th>\n",
       "      <th>Bb</th>\n",
       "      <th>B</th>\n",
       "      <th>track_id</th>\n",
       "    </tr>\n",
       "  </thead>\n",
       "  <tbody>\n",
       "    <tr>\n",
       "      <th>0 </th>\n",
       "      <td> 0</td>\n",
       "      <td> 0</td>\n",
       "      <td> 0</td>\n",
       "      <td> 0</td>\n",
       "      <td> 0</td>\n",
       "      <td> 0</td>\n",
       "      <td> 0</td>\n",
       "      <td> 0</td>\n",
       "      <td> 0</td>\n",
       "      <td> 0</td>\n",
       "      <td> 0</td>\n",
       "      <td> 0</td>\n",
       "      <td>   0</td>\n",
       "    </tr>\n",
       "    <tr>\n",
       "      <th>1 </th>\n",
       "      <td> 0</td>\n",
       "      <td> 0</td>\n",
       "      <td> 0</td>\n",
       "      <td> 0</td>\n",
       "      <td> 1</td>\n",
       "      <td> 0</td>\n",
       "      <td> 0</td>\n",
       "      <td> 0</td>\n",
       "      <td> 1</td>\n",
       "      <td> 0</td>\n",
       "      <td> 0</td>\n",
       "      <td> 1</td>\n",
       "      <td>   0</td>\n",
       "    </tr>\n",
       "    <tr>\n",
       "      <th>2 </th>\n",
       "      <td> 0</td>\n",
       "      <td> 1</td>\n",
       "      <td> 0</td>\n",
       "      <td> 0</td>\n",
       "      <td> 1</td>\n",
       "      <td> 0</td>\n",
       "      <td> 0</td>\n",
       "      <td> 0</td>\n",
       "      <td> 0</td>\n",
       "      <td> 1</td>\n",
       "      <td> 0</td>\n",
       "      <td> 0</td>\n",
       "      <td>   0</td>\n",
       "    </tr>\n",
       "    <tr>\n",
       "      <th>3 </th>\n",
       "      <td> 0</td>\n",
       "      <td> 0</td>\n",
       "      <td> 0</td>\n",
       "      <td> 0</td>\n",
       "      <td> 1</td>\n",
       "      <td> 0</td>\n",
       "      <td> 0</td>\n",
       "      <td> 0</td>\n",
       "      <td> 1</td>\n",
       "      <td> 0</td>\n",
       "      <td> 0</td>\n",
       "      <td> 1</td>\n",
       "      <td>   0</td>\n",
       "    </tr>\n",
       "    <tr>\n",
       "      <th>4 </th>\n",
       "      <td> 0</td>\n",
       "      <td> 0</td>\n",
       "      <td> 0</td>\n",
       "      <td> 1</td>\n",
       "      <td> 0</td>\n",
       "      <td> 0</td>\n",
       "      <td> 1</td>\n",
       "      <td> 0</td>\n",
       "      <td> 0</td>\n",
       "      <td> 0</td>\n",
       "      <td> 0</td>\n",
       "      <td> 1</td>\n",
       "      <td>   0</td>\n",
       "    </tr>\n",
       "    <tr>\n",
       "      <th>5 </th>\n",
       "      <td> 0</td>\n",
       "      <td> 0</td>\n",
       "      <td> 0</td>\n",
       "      <td> 0</td>\n",
       "      <td> 1</td>\n",
       "      <td> 0</td>\n",
       "      <td> 0</td>\n",
       "      <td> 0</td>\n",
       "      <td> 1</td>\n",
       "      <td> 0</td>\n",
       "      <td> 0</td>\n",
       "      <td> 1</td>\n",
       "      <td>   0</td>\n",
       "    </tr>\n",
       "    <tr>\n",
       "      <th>6 </th>\n",
       "      <td> 0</td>\n",
       "      <td> 0</td>\n",
       "      <td> 1</td>\n",
       "      <td> 0</td>\n",
       "      <td> 1</td>\n",
       "      <td> 0</td>\n",
       "      <td> 0</td>\n",
       "      <td> 0</td>\n",
       "      <td> 1</td>\n",
       "      <td> 0</td>\n",
       "      <td> 0</td>\n",
       "      <td> 1</td>\n",
       "      <td>   0</td>\n",
       "    </tr>\n",
       "    <tr>\n",
       "      <th>7 </th>\n",
       "      <td> 0</td>\n",
       "      <td> 1</td>\n",
       "      <td> 0</td>\n",
       "      <td> 0</td>\n",
       "      <td> 1</td>\n",
       "      <td> 0</td>\n",
       "      <td> 0</td>\n",
       "      <td> 0</td>\n",
       "      <td> 0</td>\n",
       "      <td> 1</td>\n",
       "      <td> 0</td>\n",
       "      <td> 0</td>\n",
       "      <td>   0</td>\n",
       "    </tr>\n",
       "    <tr>\n",
       "      <th>8 </th>\n",
       "      <td> 1</td>\n",
       "      <td> 0</td>\n",
       "      <td> 0</td>\n",
       "      <td> 0</td>\n",
       "      <td> 1</td>\n",
       "      <td> 0</td>\n",
       "      <td> 0</td>\n",
       "      <td> 0</td>\n",
       "      <td> 0</td>\n",
       "      <td> 1</td>\n",
       "      <td> 0</td>\n",
       "      <td> 0</td>\n",
       "      <td>   0</td>\n",
       "    </tr>\n",
       "    <tr>\n",
       "      <th>9 </th>\n",
       "      <td> 0</td>\n",
       "      <td> 0</td>\n",
       "      <td> 0</td>\n",
       "      <td> 0</td>\n",
       "      <td> 1</td>\n",
       "      <td> 0</td>\n",
       "      <td> 0</td>\n",
       "      <td> 0</td>\n",
       "      <td> 1</td>\n",
       "      <td> 0</td>\n",
       "      <td> 0</td>\n",
       "      <td> 1</td>\n",
       "      <td>   0</td>\n",
       "    </tr>\n",
       "    <tr>\n",
       "      <th>10</th>\n",
       "      <td> 0</td>\n",
       "      <td> 0</td>\n",
       "      <td> 0</td>\n",
       "      <td> 1</td>\n",
       "      <td> 0</td>\n",
       "      <td> 0</td>\n",
       "      <td> 1</td>\n",
       "      <td> 0</td>\n",
       "      <td> 0</td>\n",
       "      <td> 0</td>\n",
       "      <td> 0</td>\n",
       "      <td> 1</td>\n",
       "      <td>   0</td>\n",
       "    </tr>\n",
       "    <tr>\n",
       "      <th>11</th>\n",
       "      <td> 0</td>\n",
       "      <td> 0</td>\n",
       "      <td> 0</td>\n",
       "      <td> 0</td>\n",
       "      <td> 1</td>\n",
       "      <td> 0</td>\n",
       "      <td> 0</td>\n",
       "      <td> 0</td>\n",
       "      <td> 1</td>\n",
       "      <td> 0</td>\n",
       "      <td> 0</td>\n",
       "      <td> 1</td>\n",
       "      <td>   0</td>\n",
       "    </tr>\n",
       "    <tr>\n",
       "      <th>12</th>\n",
       "      <td> 0</td>\n",
       "      <td> 1</td>\n",
       "      <td> 0</td>\n",
       "      <td> 0</td>\n",
       "      <td> 1</td>\n",
       "      <td> 0</td>\n",
       "      <td> 0</td>\n",
       "      <td> 0</td>\n",
       "      <td> 0</td>\n",
       "      <td> 1</td>\n",
       "      <td> 0</td>\n",
       "      <td> 0</td>\n",
       "      <td>   0</td>\n",
       "    </tr>\n",
       "    <tr>\n",
       "      <th>13</th>\n",
       "      <td> 0</td>\n",
       "      <td> 0</td>\n",
       "      <td> 0</td>\n",
       "      <td> 0</td>\n",
       "      <td> 1</td>\n",
       "      <td> 0</td>\n",
       "      <td> 0</td>\n",
       "      <td> 0</td>\n",
       "      <td> 1</td>\n",
       "      <td> 0</td>\n",
       "      <td> 0</td>\n",
       "      <td> 1</td>\n",
       "      <td>   0</td>\n",
       "    </tr>\n",
       "    <tr>\n",
       "      <th>14</th>\n",
       "      <td> 0</td>\n",
       "      <td> 0</td>\n",
       "      <td> 0</td>\n",
       "      <td> 1</td>\n",
       "      <td> 0</td>\n",
       "      <td> 0</td>\n",
       "      <td> 1</td>\n",
       "      <td> 0</td>\n",
       "      <td> 0</td>\n",
       "      <td> 0</td>\n",
       "      <td> 0</td>\n",
       "      <td> 1</td>\n",
       "      <td>   0</td>\n",
       "    </tr>\n",
       "    <tr>\n",
       "      <th>15</th>\n",
       "      <td> 0</td>\n",
       "      <td> 0</td>\n",
       "      <td> 0</td>\n",
       "      <td> 0</td>\n",
       "      <td> 1</td>\n",
       "      <td> 0</td>\n",
       "      <td> 0</td>\n",
       "      <td> 0</td>\n",
       "      <td> 1</td>\n",
       "      <td> 0</td>\n",
       "      <td> 0</td>\n",
       "      <td> 1</td>\n",
       "      <td>   0</td>\n",
       "    </tr>\n",
       "    <tr>\n",
       "      <th>16</th>\n",
       "      <td> 0</td>\n",
       "      <td> 0</td>\n",
       "      <td> 1</td>\n",
       "      <td> 0</td>\n",
       "      <td> 1</td>\n",
       "      <td> 0</td>\n",
       "      <td> 0</td>\n",
       "      <td> 0</td>\n",
       "      <td> 1</td>\n",
       "      <td> 0</td>\n",
       "      <td> 0</td>\n",
       "      <td> 1</td>\n",
       "      <td>   0</td>\n",
       "    </tr>\n",
       "    <tr>\n",
       "      <th>17</th>\n",
       "      <td> 0</td>\n",
       "      <td> 1</td>\n",
       "      <td> 0</td>\n",
       "      <td> 0</td>\n",
       "      <td> 1</td>\n",
       "      <td> 0</td>\n",
       "      <td> 0</td>\n",
       "      <td> 0</td>\n",
       "      <td> 0</td>\n",
       "      <td> 1</td>\n",
       "      <td> 0</td>\n",
       "      <td> 0</td>\n",
       "      <td>   0</td>\n",
       "    </tr>\n",
       "    <tr>\n",
       "      <th>18</th>\n",
       "      <td> 1</td>\n",
       "      <td> 0</td>\n",
       "      <td> 0</td>\n",
       "      <td> 0</td>\n",
       "      <td> 1</td>\n",
       "      <td> 0</td>\n",
       "      <td> 0</td>\n",
       "      <td> 0</td>\n",
       "      <td> 0</td>\n",
       "      <td> 1</td>\n",
       "      <td> 0</td>\n",
       "      <td> 0</td>\n",
       "      <td>   0</td>\n",
       "    </tr>\n",
       "    <tr>\n",
       "      <th>19</th>\n",
       "      <td> 0</td>\n",
       "      <td> 0</td>\n",
       "      <td> 0</td>\n",
       "      <td> 0</td>\n",
       "      <td> 1</td>\n",
       "      <td> 0</td>\n",
       "      <td> 0</td>\n",
       "      <td> 0</td>\n",
       "      <td> 1</td>\n",
       "      <td> 0</td>\n",
       "      <td> 0</td>\n",
       "      <td> 1</td>\n",
       "      <td>   0</td>\n",
       "    </tr>\n",
       "    <tr>\n",
       "      <th>20</th>\n",
       "      <td> 0</td>\n",
       "      <td> 0</td>\n",
       "      <td> 0</td>\n",
       "      <td> 1</td>\n",
       "      <td> 0</td>\n",
       "      <td> 0</td>\n",
       "      <td> 1</td>\n",
       "      <td> 0</td>\n",
       "      <td> 0</td>\n",
       "      <td> 0</td>\n",
       "      <td> 0</td>\n",
       "      <td> 1</td>\n",
       "      <td>   0</td>\n",
       "    </tr>\n",
       "    <tr>\n",
       "      <th>21</th>\n",
       "      <td> 0</td>\n",
       "      <td> 0</td>\n",
       "      <td> 0</td>\n",
       "      <td> 0</td>\n",
       "      <td> 1</td>\n",
       "      <td> 0</td>\n",
       "      <td> 0</td>\n",
       "      <td> 0</td>\n",
       "      <td> 1</td>\n",
       "      <td> 0</td>\n",
       "      <td> 0</td>\n",
       "      <td> 1</td>\n",
       "      <td>   0</td>\n",
       "    </tr>\n",
       "    <tr>\n",
       "      <th>22</th>\n",
       "      <td> 0</td>\n",
       "      <td> 1</td>\n",
       "      <td> 0</td>\n",
       "      <td> 0</td>\n",
       "      <td> 1</td>\n",
       "      <td> 0</td>\n",
       "      <td> 0</td>\n",
       "      <td> 0</td>\n",
       "      <td> 0</td>\n",
       "      <td> 1</td>\n",
       "      <td> 0</td>\n",
       "      <td> 0</td>\n",
       "      <td>   0</td>\n",
       "    </tr>\n",
       "    <tr>\n",
       "      <th>23</th>\n",
       "      <td> 0</td>\n",
       "      <td> 0</td>\n",
       "      <td> 0</td>\n",
       "      <td> 1</td>\n",
       "      <td> 0</td>\n",
       "      <td> 0</td>\n",
       "      <td> 1</td>\n",
       "      <td> 0</td>\n",
       "      <td> 0</td>\n",
       "      <td> 0</td>\n",
       "      <td> 0</td>\n",
       "      <td> 1</td>\n",
       "      <td>   0</td>\n",
       "    </tr>\n",
       "    <tr>\n",
       "      <th>24</th>\n",
       "      <td> 0</td>\n",
       "      <td> 1</td>\n",
       "      <td> 0</td>\n",
       "      <td> 0</td>\n",
       "      <td> 1</td>\n",
       "      <td> 0</td>\n",
       "      <td> 0</td>\n",
       "      <td> 0</td>\n",
       "      <td> 0</td>\n",
       "      <td> 1</td>\n",
       "      <td> 0</td>\n",
       "      <td> 0</td>\n",
       "      <td>   0</td>\n",
       "    </tr>\n",
       "    <tr>\n",
       "      <th>25</th>\n",
       "      <td> 0</td>\n",
       "      <td> 0</td>\n",
       "      <td> 0</td>\n",
       "      <td> 0</td>\n",
       "      <td> 1</td>\n",
       "      <td> 0</td>\n",
       "      <td> 0</td>\n",
       "      <td> 0</td>\n",
       "      <td> 1</td>\n",
       "      <td> 0</td>\n",
       "      <td> 0</td>\n",
       "      <td> 1</td>\n",
       "      <td>   0</td>\n",
       "    </tr>\n",
       "    <tr>\n",
       "      <th>26</th>\n",
       "      <td> 0</td>\n",
       "      <td> 1</td>\n",
       "      <td> 0</td>\n",
       "      <td> 0</td>\n",
       "      <td> 1</td>\n",
       "      <td> 0</td>\n",
       "      <td> 0</td>\n",
       "      <td> 0</td>\n",
       "      <td> 0</td>\n",
       "      <td> 1</td>\n",
       "      <td> 0</td>\n",
       "      <td> 0</td>\n",
       "      <td>   0</td>\n",
       "    </tr>\n",
       "    <tr>\n",
       "      <th>27</th>\n",
       "      <td> 0</td>\n",
       "      <td> 0</td>\n",
       "      <td> 0</td>\n",
       "      <td> 0</td>\n",
       "      <td> 1</td>\n",
       "      <td> 0</td>\n",
       "      <td> 0</td>\n",
       "      <td> 0</td>\n",
       "      <td> 1</td>\n",
       "      <td> 0</td>\n",
       "      <td> 0</td>\n",
       "      <td> 1</td>\n",
       "      <td>   0</td>\n",
       "    </tr>\n",
       "    <tr>\n",
       "      <th>28</th>\n",
       "      <td> 0</td>\n",
       "      <td> 0</td>\n",
       "      <td> 0</td>\n",
       "      <td> 1</td>\n",
       "      <td> 0</td>\n",
       "      <td> 0</td>\n",
       "      <td> 1</td>\n",
       "      <td> 0</td>\n",
       "      <td> 0</td>\n",
       "      <td> 0</td>\n",
       "      <td> 0</td>\n",
       "      <td> 1</td>\n",
       "      <td>   0</td>\n",
       "    </tr>\n",
       "    <tr>\n",
       "      <th>29</th>\n",
       "      <td> 0</td>\n",
       "      <td> 0</td>\n",
       "      <td> 0</td>\n",
       "      <td> 0</td>\n",
       "      <td> 1</td>\n",
       "      <td> 0</td>\n",
       "      <td> 0</td>\n",
       "      <td> 0</td>\n",
       "      <td> 1</td>\n",
       "      <td> 0</td>\n",
       "      <td> 0</td>\n",
       "      <td> 1</td>\n",
       "      <td>   0</td>\n",
       "    </tr>\n",
       "    <tr>\n",
       "      <th>...</th>\n",
       "      <td>...</td>\n",
       "      <td>...</td>\n",
       "      <td>...</td>\n",
       "      <td>...</td>\n",
       "      <td>...</td>\n",
       "      <td>...</td>\n",
       "      <td>...</td>\n",
       "      <td>...</td>\n",
       "      <td>...</td>\n",
       "      <td>...</td>\n",
       "      <td>...</td>\n",
       "      <td>...</td>\n",
       "      <td>...</td>\n",
       "    </tr>\n",
       "    <tr>\n",
       "      <th>54</th>\n",
       "      <td> 0</td>\n",
       "      <td> 0</td>\n",
       "      <td> 1</td>\n",
       "      <td> 0</td>\n",
       "      <td> 0</td>\n",
       "      <td> 0</td>\n",
       "      <td> 1</td>\n",
       "      <td> 0</td>\n",
       "      <td> 0</td>\n",
       "      <td> 1</td>\n",
       "      <td> 0</td>\n",
       "      <td> 0</td>\n",
       "      <td> 179</td>\n",
       "    </tr>\n",
       "    <tr>\n",
       "      <th>55</th>\n",
       "      <td> 0</td>\n",
       "      <td> 1</td>\n",
       "      <td> 0</td>\n",
       "      <td> 0</td>\n",
       "      <td> 1</td>\n",
       "      <td> 0</td>\n",
       "      <td> 0</td>\n",
       "      <td> 0</td>\n",
       "      <td> 0</td>\n",
       "      <td> 1</td>\n",
       "      <td> 0</td>\n",
       "      <td> 0</td>\n",
       "      <td> 179</td>\n",
       "    </tr>\n",
       "    <tr>\n",
       "      <th>56</th>\n",
       "      <td> 0</td>\n",
       "      <td> 0</td>\n",
       "      <td> 1</td>\n",
       "      <td> 0</td>\n",
       "      <td> 0</td>\n",
       "      <td> 0</td>\n",
       "      <td> 0</td>\n",
       "      <td> 1</td>\n",
       "      <td> 0</td>\n",
       "      <td> 1</td>\n",
       "      <td> 0</td>\n",
       "      <td> 1</td>\n",
       "      <td> 179</td>\n",
       "    </tr>\n",
       "    <tr>\n",
       "      <th>57</th>\n",
       "      <td> 0</td>\n",
       "      <td> 1</td>\n",
       "      <td> 0</td>\n",
       "      <td> 0</td>\n",
       "      <td> 1</td>\n",
       "      <td> 0</td>\n",
       "      <td> 0</td>\n",
       "      <td> 1</td>\n",
       "      <td> 0</td>\n",
       "      <td> 1</td>\n",
       "      <td> 0</td>\n",
       "      <td> 0</td>\n",
       "      <td> 179</td>\n",
       "    </tr>\n",
       "    <tr>\n",
       "      <th>58</th>\n",
       "      <td> 0</td>\n",
       "      <td> 0</td>\n",
       "      <td> 1</td>\n",
       "      <td> 0</td>\n",
       "      <td> 0</td>\n",
       "      <td> 0</td>\n",
       "      <td> 1</td>\n",
       "      <td> 0</td>\n",
       "      <td> 0</td>\n",
       "      <td> 1</td>\n",
       "      <td> 0</td>\n",
       "      <td> 0</td>\n",
       "      <td> 179</td>\n",
       "    </tr>\n",
       "    <tr>\n",
       "      <th>59</th>\n",
       "      <td> 0</td>\n",
       "      <td> 1</td>\n",
       "      <td> 0</td>\n",
       "      <td> 0</td>\n",
       "      <td> 1</td>\n",
       "      <td> 0</td>\n",
       "      <td> 0</td>\n",
       "      <td> 0</td>\n",
       "      <td> 0</td>\n",
       "      <td> 1</td>\n",
       "      <td> 0</td>\n",
       "      <td> 0</td>\n",
       "      <td> 179</td>\n",
       "    </tr>\n",
       "    <tr>\n",
       "      <th>60</th>\n",
       "      <td> 0</td>\n",
       "      <td> 0</td>\n",
       "      <td> 1</td>\n",
       "      <td> 0</td>\n",
       "      <td> 0</td>\n",
       "      <td> 0</td>\n",
       "      <td> 0</td>\n",
       "      <td> 1</td>\n",
       "      <td> 0</td>\n",
       "      <td> 1</td>\n",
       "      <td> 0</td>\n",
       "      <td> 1</td>\n",
       "      <td> 179</td>\n",
       "    </tr>\n",
       "    <tr>\n",
       "      <th>61</th>\n",
       "      <td> 0</td>\n",
       "      <td> 0</td>\n",
       "      <td> 1</td>\n",
       "      <td> 0</td>\n",
       "      <td> 0</td>\n",
       "      <td> 0</td>\n",
       "      <td> 1</td>\n",
       "      <td> 0</td>\n",
       "      <td> 0</td>\n",
       "      <td> 1</td>\n",
       "      <td> 0</td>\n",
       "      <td> 0</td>\n",
       "      <td> 179</td>\n",
       "    </tr>\n",
       "    <tr>\n",
       "      <th>62</th>\n",
       "      <td> 0</td>\n",
       "      <td> 1</td>\n",
       "      <td> 0</td>\n",
       "      <td> 0</td>\n",
       "      <td> 1</td>\n",
       "      <td> 0</td>\n",
       "      <td> 0</td>\n",
       "      <td> 1</td>\n",
       "      <td> 0</td>\n",
       "      <td> 1</td>\n",
       "      <td> 0</td>\n",
       "      <td> 0</td>\n",
       "      <td> 179</td>\n",
       "    </tr>\n",
       "    <tr>\n",
       "      <th>63</th>\n",
       "      <td> 0</td>\n",
       "      <td> 0</td>\n",
       "      <td> 1</td>\n",
       "      <td> 0</td>\n",
       "      <td> 0</td>\n",
       "      <td> 0</td>\n",
       "      <td> 1</td>\n",
       "      <td> 0</td>\n",
       "      <td> 0</td>\n",
       "      <td> 1</td>\n",
       "      <td> 0</td>\n",
       "      <td> 0</td>\n",
       "      <td> 179</td>\n",
       "    </tr>\n",
       "    <tr>\n",
       "      <th>64</th>\n",
       "      <td> 0</td>\n",
       "      <td> 1</td>\n",
       "      <td> 0</td>\n",
       "      <td> 0</td>\n",
       "      <td> 1</td>\n",
       "      <td> 0</td>\n",
       "      <td> 0</td>\n",
       "      <td> 0</td>\n",
       "      <td> 0</td>\n",
       "      <td> 1</td>\n",
       "      <td> 0</td>\n",
       "      <td> 0</td>\n",
       "      <td> 179</td>\n",
       "    </tr>\n",
       "    <tr>\n",
       "      <th>65</th>\n",
       "      <td> 0</td>\n",
       "      <td> 1</td>\n",
       "      <td> 0</td>\n",
       "      <td> 0</td>\n",
       "      <td> 1</td>\n",
       "      <td> 0</td>\n",
       "      <td> 0</td>\n",
       "      <td> 0</td>\n",
       "      <td> 0</td>\n",
       "      <td> 1</td>\n",
       "      <td> 0</td>\n",
       "      <td> 0</td>\n",
       "      <td> 179</td>\n",
       "    </tr>\n",
       "    <tr>\n",
       "      <th>66</th>\n",
       "      <td> 0</td>\n",
       "      <td> 0</td>\n",
       "      <td> 1</td>\n",
       "      <td> 0</td>\n",
       "      <td> 0</td>\n",
       "      <td> 0</td>\n",
       "      <td> 1</td>\n",
       "      <td> 0</td>\n",
       "      <td> 0</td>\n",
       "      <td> 1</td>\n",
       "      <td> 0</td>\n",
       "      <td> 0</td>\n",
       "      <td> 179</td>\n",
       "    </tr>\n",
       "    <tr>\n",
       "      <th>67</th>\n",
       "      <td> 0</td>\n",
       "      <td> 1</td>\n",
       "      <td> 0</td>\n",
       "      <td> 0</td>\n",
       "      <td> 1</td>\n",
       "      <td> 0</td>\n",
       "      <td> 0</td>\n",
       "      <td> 0</td>\n",
       "      <td> 0</td>\n",
       "      <td> 1</td>\n",
       "      <td> 0</td>\n",
       "      <td> 0</td>\n",
       "      <td> 179</td>\n",
       "    </tr>\n",
       "    <tr>\n",
       "      <th>68</th>\n",
       "      <td> 0</td>\n",
       "      <td> 0</td>\n",
       "      <td> 1</td>\n",
       "      <td> 0</td>\n",
       "      <td> 0</td>\n",
       "      <td> 0</td>\n",
       "      <td> 0</td>\n",
       "      <td> 1</td>\n",
       "      <td> 0</td>\n",
       "      <td> 1</td>\n",
       "      <td> 0</td>\n",
       "      <td> 1</td>\n",
       "      <td> 179</td>\n",
       "    </tr>\n",
       "    <tr>\n",
       "      <th>69</th>\n",
       "      <td> 0</td>\n",
       "      <td> 0</td>\n",
       "      <td> 1</td>\n",
       "      <td> 0</td>\n",
       "      <td> 0</td>\n",
       "      <td> 0</td>\n",
       "      <td> 1</td>\n",
       "      <td> 0</td>\n",
       "      <td> 0</td>\n",
       "      <td> 1</td>\n",
       "      <td> 0</td>\n",
       "      <td> 0</td>\n",
       "      <td> 179</td>\n",
       "    </tr>\n",
       "    <tr>\n",
       "      <th>70</th>\n",
       "      <td> 0</td>\n",
       "      <td> 1</td>\n",
       "      <td> 0</td>\n",
       "      <td> 0</td>\n",
       "      <td> 1</td>\n",
       "      <td> 0</td>\n",
       "      <td> 0</td>\n",
       "      <td> 0</td>\n",
       "      <td> 0</td>\n",
       "      <td> 1</td>\n",
       "      <td> 0</td>\n",
       "      <td> 0</td>\n",
       "      <td> 179</td>\n",
       "    </tr>\n",
       "    <tr>\n",
       "      <th>71</th>\n",
       "      <td> 0</td>\n",
       "      <td> 0</td>\n",
       "      <td> 1</td>\n",
       "      <td> 0</td>\n",
       "      <td> 0</td>\n",
       "      <td> 0</td>\n",
       "      <td> 1</td>\n",
       "      <td> 0</td>\n",
       "      <td> 0</td>\n",
       "      <td> 1</td>\n",
       "      <td> 0</td>\n",
       "      <td> 0</td>\n",
       "      <td> 179</td>\n",
       "    </tr>\n",
       "    <tr>\n",
       "      <th>72</th>\n",
       "      <td> 0</td>\n",
       "      <td> 1</td>\n",
       "      <td> 0</td>\n",
       "      <td> 0</td>\n",
       "      <td> 1</td>\n",
       "      <td> 0</td>\n",
       "      <td> 0</td>\n",
       "      <td> 0</td>\n",
       "      <td> 0</td>\n",
       "      <td> 1</td>\n",
       "      <td> 0</td>\n",
       "      <td> 0</td>\n",
       "      <td> 179</td>\n",
       "    </tr>\n",
       "    <tr>\n",
       "      <th>73</th>\n",
       "      <td> 0</td>\n",
       "      <td> 0</td>\n",
       "      <td> 1</td>\n",
       "      <td> 0</td>\n",
       "      <td> 0</td>\n",
       "      <td> 0</td>\n",
       "      <td> 0</td>\n",
       "      <td> 1</td>\n",
       "      <td> 0</td>\n",
       "      <td> 1</td>\n",
       "      <td> 0</td>\n",
       "      <td> 1</td>\n",
       "      <td> 179</td>\n",
       "    </tr>\n",
       "    <tr>\n",
       "      <th>74</th>\n",
       "      <td> 0</td>\n",
       "      <td> 0</td>\n",
       "      <td> 1</td>\n",
       "      <td> 0</td>\n",
       "      <td> 0</td>\n",
       "      <td> 0</td>\n",
       "      <td> 1</td>\n",
       "      <td> 0</td>\n",
       "      <td> 0</td>\n",
       "      <td> 1</td>\n",
       "      <td> 0</td>\n",
       "      <td> 0</td>\n",
       "      <td> 179</td>\n",
       "    </tr>\n",
       "    <tr>\n",
       "      <th>75</th>\n",
       "      <td> 0</td>\n",
       "      <td> 1</td>\n",
       "      <td> 0</td>\n",
       "      <td> 0</td>\n",
       "      <td> 1</td>\n",
       "      <td> 0</td>\n",
       "      <td> 0</td>\n",
       "      <td> 1</td>\n",
       "      <td> 0</td>\n",
       "      <td> 1</td>\n",
       "      <td> 0</td>\n",
       "      <td> 0</td>\n",
       "      <td> 179</td>\n",
       "    </tr>\n",
       "    <tr>\n",
       "      <th>76</th>\n",
       "      <td> 0</td>\n",
       "      <td> 0</td>\n",
       "      <td> 1</td>\n",
       "      <td> 0</td>\n",
       "      <td> 0</td>\n",
       "      <td> 0</td>\n",
       "      <td> 1</td>\n",
       "      <td> 0</td>\n",
       "      <td> 0</td>\n",
       "      <td> 1</td>\n",
       "      <td> 0</td>\n",
       "      <td> 0</td>\n",
       "      <td> 179</td>\n",
       "    </tr>\n",
       "    <tr>\n",
       "      <th>77</th>\n",
       "      <td> 0</td>\n",
       "      <td> 1</td>\n",
       "      <td> 0</td>\n",
       "      <td> 0</td>\n",
       "      <td> 1</td>\n",
       "      <td> 0</td>\n",
       "      <td> 0</td>\n",
       "      <td> 0</td>\n",
       "      <td> 0</td>\n",
       "      <td> 1</td>\n",
       "      <td> 0</td>\n",
       "      <td> 0</td>\n",
       "      <td> 179</td>\n",
       "    </tr>\n",
       "    <tr>\n",
       "      <th>78</th>\n",
       "      <td> 0</td>\n",
       "      <td> 0</td>\n",
       "      <td> 1</td>\n",
       "      <td> 0</td>\n",
       "      <td> 0</td>\n",
       "      <td> 0</td>\n",
       "      <td> 0</td>\n",
       "      <td> 1</td>\n",
       "      <td> 0</td>\n",
       "      <td> 1</td>\n",
       "      <td> 0</td>\n",
       "      <td> 1</td>\n",
       "      <td> 179</td>\n",
       "    </tr>\n",
       "    <tr>\n",
       "      <th>79</th>\n",
       "      <td> 0</td>\n",
       "      <td> 0</td>\n",
       "      <td> 1</td>\n",
       "      <td> 0</td>\n",
       "      <td> 0</td>\n",
       "      <td> 0</td>\n",
       "      <td> 1</td>\n",
       "      <td> 0</td>\n",
       "      <td> 0</td>\n",
       "      <td> 1</td>\n",
       "      <td> 0</td>\n",
       "      <td> 0</td>\n",
       "      <td> 179</td>\n",
       "    </tr>\n",
       "    <tr>\n",
       "      <th>80</th>\n",
       "      <td> 0</td>\n",
       "      <td> 1</td>\n",
       "      <td> 0</td>\n",
       "      <td> 0</td>\n",
       "      <td> 1</td>\n",
       "      <td> 0</td>\n",
       "      <td> 0</td>\n",
       "      <td> 1</td>\n",
       "      <td> 0</td>\n",
       "      <td> 1</td>\n",
       "      <td> 0</td>\n",
       "      <td> 0</td>\n",
       "      <td> 179</td>\n",
       "    </tr>\n",
       "    <tr>\n",
       "      <th>81</th>\n",
       "      <td> 0</td>\n",
       "      <td> 0</td>\n",
       "      <td> 1</td>\n",
       "      <td> 0</td>\n",
       "      <td> 0</td>\n",
       "      <td> 0</td>\n",
       "      <td> 1</td>\n",
       "      <td> 0</td>\n",
       "      <td> 0</td>\n",
       "      <td> 1</td>\n",
       "      <td> 0</td>\n",
       "      <td> 0</td>\n",
       "      <td> 179</td>\n",
       "    </tr>\n",
       "    <tr>\n",
       "      <th>82</th>\n",
       "      <td> 1</td>\n",
       "      <td> 0</td>\n",
       "      <td> 1</td>\n",
       "      <td> 0</td>\n",
       "      <td> 0</td>\n",
       "      <td> 0</td>\n",
       "      <td> 1</td>\n",
       "      <td> 0</td>\n",
       "      <td> 0</td>\n",
       "      <td> 1</td>\n",
       "      <td> 0</td>\n",
       "      <td> 0</td>\n",
       "      <td> 179</td>\n",
       "    </tr>\n",
       "    <tr>\n",
       "      <th>83</th>\n",
       "      <td> 0</td>\n",
       "      <td> 0</td>\n",
       "      <td> 0</td>\n",
       "      <td> 0</td>\n",
       "      <td> 0</td>\n",
       "      <td> 0</td>\n",
       "      <td> 0</td>\n",
       "      <td> 0</td>\n",
       "      <td> 0</td>\n",
       "      <td> 0</td>\n",
       "      <td> 0</td>\n",
       "      <td> 0</td>\n",
       "      <td> 179</td>\n",
       "    </tr>\n",
       "  </tbody>\n",
       "</table>\n",
       "<p>14621 rows × 13 columns</p>\n",
       "</div>"
      ],
      "text/plain": [
       "    C  Db  D  Eb  E  F  Gb  G  Ab  A  Bb  B  track_id\n",
       "0   0   0  0   0  0  0   0  0   0  0   0  0         0\n",
       "1   0   0  0   0  1  0   0  0   1  0   0  1         0\n",
       "2   0   1  0   0  1  0   0  0   0  1   0  0         0\n",
       "3   0   0  0   0  1  0   0  0   1  0   0  1         0\n",
       "4   0   0  0   1  0  0   1  0   0  0   0  1         0\n",
       "5   0   0  0   0  1  0   0  0   1  0   0  1         0\n",
       "6   0   0  1   0  1  0   0  0   1  0   0  1         0\n",
       "7   0   1  0   0  1  0   0  0   0  1   0  0         0\n",
       "8   1   0  0   0  1  0   0  0   0  1   0  0         0\n",
       "9   0   0  0   0  1  0   0  0   1  0   0  1         0\n",
       "10  0   0  0   1  0  0   1  0   0  0   0  1         0\n",
       "11  0   0  0   0  1  0   0  0   1  0   0  1         0\n",
       "12  0   1  0   0  1  0   0  0   0  1   0  0         0\n",
       "13  0   0  0   0  1  0   0  0   1  0   0  1         0\n",
       "14  0   0  0   1  0  0   1  0   0  0   0  1         0\n",
       "15  0   0  0   0  1  0   0  0   1  0   0  1         0\n",
       "16  0   0  1   0  1  0   0  0   1  0   0  1         0\n",
       "17  0   1  0   0  1  0   0  0   0  1   0  0         0\n",
       "18  1   0  0   0  1  0   0  0   0  1   0  0         0\n",
       "19  0   0  0   0  1  0   0  0   1  0   0  1         0\n",
       "20  0   0  0   1  0  0   1  0   0  0   0  1         0\n",
       "21  0   0  0   0  1  0   0  0   1  0   0  1         0\n",
       "22  0   1  0   0  1  0   0  0   0  1   0  0         0\n",
       "23  0   0  0   1  0  0   1  0   0  0   0  1         0\n",
       "24  0   1  0   0  1  0   0  0   0  1   0  0         0\n",
       "25  0   0  0   0  1  0   0  0   1  0   0  1         0\n",
       "26  0   1  0   0  1  0   0  0   0  1   0  0         0\n",
       "27  0   0  0   0  1  0   0  0   1  0   0  1         0\n",
       "28  0   0  0   1  0  0   1  0   0  0   0  1         0\n",
       "29  0   0  0   0  1  0   0  0   1  0   0  1         0\n",
       ".. ..  .. ..  .. .. ..  .. ..  .. ..  .. ..       ...\n",
       "54  0   0  1   0  0  0   1  0   0  1   0  0       179\n",
       "55  0   1  0   0  1  0   0  0   0  1   0  0       179\n",
       "56  0   0  1   0  0  0   0  1   0  1   0  1       179\n",
       "57  0   1  0   0  1  0   0  1   0  1   0  0       179\n",
       "58  0   0  1   0  0  0   1  0   0  1   0  0       179\n",
       "59  0   1  0   0  1  0   0  0   0  1   0  0       179\n",
       "60  0   0  1   0  0  0   0  1   0  1   0  1       179\n",
       "61  0   0  1   0  0  0   1  0   0  1   0  0       179\n",
       "62  0   1  0   0  1  0   0  1   0  1   0  0       179\n",
       "63  0   0  1   0  0  0   1  0   0  1   0  0       179\n",
       "64  0   1  0   0  1  0   0  0   0  1   0  0       179\n",
       "65  0   1  0   0  1  0   0  0   0  1   0  0       179\n",
       "66  0   0  1   0  0  0   1  0   0  1   0  0       179\n",
       "67  0   1  0   0  1  0   0  0   0  1   0  0       179\n",
       "68  0   0  1   0  0  0   0  1   0  1   0  1       179\n",
       "69  0   0  1   0  0  0   1  0   0  1   0  0       179\n",
       "70  0   1  0   0  1  0   0  0   0  1   0  0       179\n",
       "71  0   0  1   0  0  0   1  0   0  1   0  0       179\n",
       "72  0   1  0   0  1  0   0  0   0  1   0  0       179\n",
       "73  0   0  1   0  0  0   0  1   0  1   0  1       179\n",
       "74  0   0  1   0  0  0   1  0   0  1   0  0       179\n",
       "75  0   1  0   0  1  0   0  1   0  1   0  0       179\n",
       "76  0   0  1   0  0  0   1  0   0  1   0  0       179\n",
       "77  0   1  0   0  1  0   0  0   0  1   0  0       179\n",
       "78  0   0  1   0  0  0   0  1   0  1   0  1       179\n",
       "79  0   0  1   0  0  0   1  0   0  1   0  0       179\n",
       "80  0   1  0   0  1  0   0  1   0  1   0  0       179\n",
       "81  0   0  1   0  0  0   1  0   0  1   0  0       179\n",
       "82  1   0  1   0  0  0   1  0   0  1   0  0       179\n",
       "83  0   0  0   0  0  0   0  0   0  0   0  0       179\n",
       "\n",
       "[14621 rows x 13 columns]"
      ]
     },
     "execution_count": 139,
     "metadata": {},
     "output_type": "execute_result"
    }
   ],
   "source": [
    "#all_chords[pcs_columns + ['track_id']]"
   ]
  },
  {
   "cell_type": "code",
   "execution_count": 152,
   "metadata": {
    "collapsed": false
   },
   "outputs": [
    {
     "data": {
      "text/html": [
       "<div style=\"max-height:1000px;max-width:1500px;overflow:auto;\">\n",
       "<table border=\"1\" class=\"dataframe\">\n",
       "  <thead>\n",
       "    <tr style=\"text-align: right;\">\n",
       "      <th></th>\n",
       "      <th>start</th>\n",
       "      <th>end</th>\n",
       "      <th>label</th>\n",
       "      <th>root</th>\n",
       "      <th>bass</th>\n",
       "      <th>C</th>\n",
       "      <th>Db</th>\n",
       "      <th>D</th>\n",
       "      <th>Eb</th>\n",
       "      <th>E</th>\n",
       "      <th>F</th>\n",
       "      <th>Gb</th>\n",
       "      <th>G</th>\n",
       "      <th>Ab</th>\n",
       "      <th>A</th>\n",
       "      <th>Bb</th>\n",
       "      <th>B</th>\n",
       "      <th>track_id</th>\n",
       "      <th>duration</th>\n",
       "    </tr>\n",
       "  </thead>\n",
       "  <tbody>\n",
       "    <tr>\n",
       "      <th>0 </th>\n",
       "      <td>   0.000000</td>\n",
       "      <td>   2.612267</td>\n",
       "      <td>        N</td>\n",
       "      <td>  0</td>\n",
       "      <td>  0</td>\n",
       "      <td> 0</td>\n",
       "      <td> 0</td>\n",
       "      <td> 0</td>\n",
       "      <td> 0</td>\n",
       "      <td> 0</td>\n",
       "      <td> 0</td>\n",
       "      <td> 0</td>\n",
       "      <td> 0</td>\n",
       "      <td> 0</td>\n",
       "      <td> 0</td>\n",
       "      <td> 0</td>\n",
       "      <td> 0</td>\n",
       "      <td>   0</td>\n",
       "      <td>  2.612267</td>\n",
       "    </tr>\n",
       "    <tr>\n",
       "      <th>1 </th>\n",
       "      <td>   2.612267</td>\n",
       "      <td>  11.459070</td>\n",
       "      <td>        E</td>\n",
       "      <td>  4</td>\n",
       "      <td>  4</td>\n",
       "      <td> 0</td>\n",
       "      <td> 0</td>\n",
       "      <td> 0</td>\n",
       "      <td> 0</td>\n",
       "      <td> 1</td>\n",
       "      <td> 0</td>\n",
       "      <td> 0</td>\n",
       "      <td> 0</td>\n",
       "      <td> 1</td>\n",
       "      <td> 0</td>\n",
       "      <td> 0</td>\n",
       "      <td> 1</td>\n",
       "      <td>   0</td>\n",
       "      <td>  8.846803</td>\n",
       "    </tr>\n",
       "    <tr>\n",
       "      <th>2 </th>\n",
       "      <td>  11.459070</td>\n",
       "      <td>  12.921927</td>\n",
       "      <td>        A</td>\n",
       "      <td>  9</td>\n",
       "      <td>  9</td>\n",
       "      <td> 0</td>\n",
       "      <td> 1</td>\n",
       "      <td> 0</td>\n",
       "      <td> 0</td>\n",
       "      <td> 1</td>\n",
       "      <td> 0</td>\n",
       "      <td> 0</td>\n",
       "      <td> 0</td>\n",
       "      <td> 0</td>\n",
       "      <td> 1</td>\n",
       "      <td> 0</td>\n",
       "      <td> 0</td>\n",
       "      <td>   0</td>\n",
       "      <td>  1.462857</td>\n",
       "    </tr>\n",
       "    <tr>\n",
       "      <th>3 </th>\n",
       "      <td>  12.921927</td>\n",
       "      <td>  17.443474</td>\n",
       "      <td>        E</td>\n",
       "      <td>  4</td>\n",
       "      <td>  4</td>\n",
       "      <td> 0</td>\n",
       "      <td> 0</td>\n",
       "      <td> 0</td>\n",
       "      <td> 0</td>\n",
       "      <td> 1</td>\n",
       "      <td> 0</td>\n",
       "      <td> 0</td>\n",
       "      <td> 0</td>\n",
       "      <td> 1</td>\n",
       "      <td> 0</td>\n",
       "      <td> 0</td>\n",
       "      <td> 1</td>\n",
       "      <td>   0</td>\n",
       "      <td>  4.521547</td>\n",
       "    </tr>\n",
       "    <tr>\n",
       "      <th>4 </th>\n",
       "      <td>  17.443474</td>\n",
       "      <td>  20.410362</td>\n",
       "      <td>        B</td>\n",
       "      <td> 11</td>\n",
       "      <td> 11</td>\n",
       "      <td> 0</td>\n",
       "      <td> 0</td>\n",
       "      <td> 0</td>\n",
       "      <td> 1</td>\n",
       "      <td> 0</td>\n",
       "      <td> 0</td>\n",
       "      <td> 1</td>\n",
       "      <td> 0</td>\n",
       "      <td> 0</td>\n",
       "      <td> 0</td>\n",
       "      <td> 0</td>\n",
       "      <td> 1</td>\n",
       "      <td>   0</td>\n",
       "      <td>  2.966888</td>\n",
       "    </tr>\n",
       "    <tr>\n",
       "      <th>5 </th>\n",
       "      <td>  20.410362</td>\n",
       "      <td>  21.908049</td>\n",
       "      <td>        E</td>\n",
       "      <td>  4</td>\n",
       "      <td>  4</td>\n",
       "      <td> 0</td>\n",
       "      <td> 0</td>\n",
       "      <td> 0</td>\n",
       "      <td> 0</td>\n",
       "      <td> 1</td>\n",
       "      <td> 0</td>\n",
       "      <td> 0</td>\n",
       "      <td> 0</td>\n",
       "      <td> 1</td>\n",
       "      <td> 0</td>\n",
       "      <td> 0</td>\n",
       "      <td> 1</td>\n",
       "      <td>   0</td>\n",
       "      <td>  1.497687</td>\n",
       "    </tr>\n",
       "    <tr>\n",
       "      <th>6 </th>\n",
       "      <td>  21.908049</td>\n",
       "      <td>  23.370907</td>\n",
       "      <td>    E:7/3</td>\n",
       "      <td>  4</td>\n",
       "      <td>  8</td>\n",
       "      <td> 0</td>\n",
       "      <td> 0</td>\n",
       "      <td> 1</td>\n",
       "      <td> 0</td>\n",
       "      <td> 1</td>\n",
       "      <td> 0</td>\n",
       "      <td> 0</td>\n",
       "      <td> 0</td>\n",
       "      <td> 1</td>\n",
       "      <td> 0</td>\n",
       "      <td> 0</td>\n",
       "      <td> 1</td>\n",
       "      <td>   0</td>\n",
       "      <td>  1.462858</td>\n",
       "    </tr>\n",
       "    <tr>\n",
       "      <th>7 </th>\n",
       "      <td>  23.370907</td>\n",
       "      <td>  24.856984</td>\n",
       "      <td>        A</td>\n",
       "      <td>  9</td>\n",
       "      <td>  9</td>\n",
       "      <td> 0</td>\n",
       "      <td> 1</td>\n",
       "      <td> 0</td>\n",
       "      <td> 0</td>\n",
       "      <td> 1</td>\n",
       "      <td> 0</td>\n",
       "      <td> 0</td>\n",
       "      <td> 0</td>\n",
       "      <td> 0</td>\n",
       "      <td> 1</td>\n",
       "      <td> 0</td>\n",
       "      <td> 0</td>\n",
       "      <td>   0</td>\n",
       "      <td>  1.486077</td>\n",
       "    </tr>\n",
       "    <tr>\n",
       "      <th>8 </th>\n",
       "      <td>  24.856984</td>\n",
       "      <td>  26.343061</td>\n",
       "      <td> A:min/b3</td>\n",
       "      <td>  9</td>\n",
       "      <td>  0</td>\n",
       "      <td> 1</td>\n",
       "      <td> 0</td>\n",
       "      <td> 0</td>\n",
       "      <td> 0</td>\n",
       "      <td> 1</td>\n",
       "      <td> 0</td>\n",
       "      <td> 0</td>\n",
       "      <td> 0</td>\n",
       "      <td> 0</td>\n",
       "      <td> 1</td>\n",
       "      <td> 0</td>\n",
       "      <td> 0</td>\n",
       "      <td>   0</td>\n",
       "      <td>  1.486077</td>\n",
       "    </tr>\n",
       "    <tr>\n",
       "      <th>9 </th>\n",
       "      <td>  26.343061</td>\n",
       "      <td>  27.840748</td>\n",
       "      <td>        E</td>\n",
       "      <td>  4</td>\n",
       "      <td>  4</td>\n",
       "      <td> 0</td>\n",
       "      <td> 0</td>\n",
       "      <td> 0</td>\n",
       "      <td> 0</td>\n",
       "      <td> 1</td>\n",
       "      <td> 0</td>\n",
       "      <td> 0</td>\n",
       "      <td> 0</td>\n",
       "      <td> 1</td>\n",
       "      <td> 0</td>\n",
       "      <td> 0</td>\n",
       "      <td> 1</td>\n",
       "      <td>   0</td>\n",
       "      <td>  1.497687</td>\n",
       "    </tr>\n",
       "    <tr>\n",
       "      <th>10</th>\n",
       "      <td>  27.840748</td>\n",
       "      <td>  29.350045</td>\n",
       "      <td>        B</td>\n",
       "      <td> 11</td>\n",
       "      <td> 11</td>\n",
       "      <td> 0</td>\n",
       "      <td> 0</td>\n",
       "      <td> 0</td>\n",
       "      <td> 1</td>\n",
       "      <td> 0</td>\n",
       "      <td> 0</td>\n",
       "      <td> 1</td>\n",
       "      <td> 0</td>\n",
       "      <td> 0</td>\n",
       "      <td> 0</td>\n",
       "      <td> 0</td>\n",
       "      <td> 1</td>\n",
       "      <td>   0</td>\n",
       "      <td>  1.509297</td>\n",
       "    </tr>\n",
       "    <tr>\n",
       "      <th>11</th>\n",
       "      <td>  29.350045</td>\n",
       "      <td>  35.305963</td>\n",
       "      <td>        E</td>\n",
       "      <td>  4</td>\n",
       "      <td>  4</td>\n",
       "      <td> 0</td>\n",
       "      <td> 0</td>\n",
       "      <td> 0</td>\n",
       "      <td> 0</td>\n",
       "      <td> 1</td>\n",
       "      <td> 0</td>\n",
       "      <td> 0</td>\n",
       "      <td> 0</td>\n",
       "      <td> 1</td>\n",
       "      <td> 0</td>\n",
       "      <td> 0</td>\n",
       "      <td> 1</td>\n",
       "      <td>   0</td>\n",
       "      <td>  5.955918</td>\n",
       "    </tr>\n",
       "    <tr>\n",
       "      <th>12</th>\n",
       "      <td>  35.305963</td>\n",
       "      <td>  36.803650</td>\n",
       "      <td>        A</td>\n",
       "      <td>  9</td>\n",
       "      <td>  9</td>\n",
       "      <td> 0</td>\n",
       "      <td> 1</td>\n",
       "      <td> 0</td>\n",
       "      <td> 0</td>\n",
       "      <td> 1</td>\n",
       "      <td> 0</td>\n",
       "      <td> 0</td>\n",
       "      <td> 0</td>\n",
       "      <td> 0</td>\n",
       "      <td> 1</td>\n",
       "      <td> 0</td>\n",
       "      <td> 0</td>\n",
       "      <td>   0</td>\n",
       "      <td>  1.497687</td>\n",
       "    </tr>\n",
       "    <tr>\n",
       "      <th>13</th>\n",
       "      <td>  36.803650</td>\n",
       "      <td>  41.263102</td>\n",
       "      <td>        E</td>\n",
       "      <td>  4</td>\n",
       "      <td>  4</td>\n",
       "      <td> 0</td>\n",
       "      <td> 0</td>\n",
       "      <td> 0</td>\n",
       "      <td> 0</td>\n",
       "      <td> 1</td>\n",
       "      <td> 0</td>\n",
       "      <td> 0</td>\n",
       "      <td> 0</td>\n",
       "      <td> 1</td>\n",
       "      <td> 0</td>\n",
       "      <td> 0</td>\n",
       "      <td> 1</td>\n",
       "      <td>   0</td>\n",
       "      <td>  4.459452</td>\n",
       "    </tr>\n",
       "    <tr>\n",
       "      <th>14</th>\n",
       "      <td>  41.263102</td>\n",
       "      <td>  44.245646</td>\n",
       "      <td>        B</td>\n",
       "      <td> 11</td>\n",
       "      <td> 11</td>\n",
       "      <td> 0</td>\n",
       "      <td> 0</td>\n",
       "      <td> 0</td>\n",
       "      <td> 1</td>\n",
       "      <td> 0</td>\n",
       "      <td> 0</td>\n",
       "      <td> 1</td>\n",
       "      <td> 0</td>\n",
       "      <td> 0</td>\n",
       "      <td> 0</td>\n",
       "      <td> 0</td>\n",
       "      <td> 1</td>\n",
       "      <td>   0</td>\n",
       "      <td>  2.982544</td>\n",
       "    </tr>\n",
       "    <tr>\n",
       "      <th>15</th>\n",
       "      <td>  44.245646</td>\n",
       "      <td>  45.720113</td>\n",
       "      <td>        E</td>\n",
       "      <td>  4</td>\n",
       "      <td>  4</td>\n",
       "      <td> 0</td>\n",
       "      <td> 0</td>\n",
       "      <td> 0</td>\n",
       "      <td> 0</td>\n",
       "      <td> 1</td>\n",
       "      <td> 0</td>\n",
       "      <td> 0</td>\n",
       "      <td> 0</td>\n",
       "      <td> 1</td>\n",
       "      <td> 0</td>\n",
       "      <td> 0</td>\n",
       "      <td> 1</td>\n",
       "      <td>   0</td>\n",
       "      <td>  1.474467</td>\n",
       "    </tr>\n",
       "    <tr>\n",
       "      <th>16</th>\n",
       "      <td>  45.720113</td>\n",
       "      <td>  47.206190</td>\n",
       "      <td>    E:7/3</td>\n",
       "      <td>  4</td>\n",
       "      <td>  8</td>\n",
       "      <td> 0</td>\n",
       "      <td> 0</td>\n",
       "      <td> 1</td>\n",
       "      <td> 0</td>\n",
       "      <td> 1</td>\n",
       "      <td> 0</td>\n",
       "      <td> 0</td>\n",
       "      <td> 0</td>\n",
       "      <td> 1</td>\n",
       "      <td> 0</td>\n",
       "      <td> 0</td>\n",
       "      <td> 1</td>\n",
       "      <td>   0</td>\n",
       "      <td>  1.486077</td>\n",
       "    </tr>\n",
       "    <tr>\n",
       "      <th>17</th>\n",
       "      <td>  47.206190</td>\n",
       "      <td>  48.692267</td>\n",
       "      <td>        A</td>\n",
       "      <td>  9</td>\n",
       "      <td>  9</td>\n",
       "      <td> 0</td>\n",
       "      <td> 1</td>\n",
       "      <td> 0</td>\n",
       "      <td> 0</td>\n",
       "      <td> 1</td>\n",
       "      <td> 0</td>\n",
       "      <td> 0</td>\n",
       "      <td> 0</td>\n",
       "      <td> 0</td>\n",
       "      <td> 1</td>\n",
       "      <td> 0</td>\n",
       "      <td> 0</td>\n",
       "      <td>   0</td>\n",
       "      <td>  1.486077</td>\n",
       "    </tr>\n",
       "    <tr>\n",
       "      <th>18</th>\n",
       "      <td>  48.692267</td>\n",
       "      <td>  50.155124</td>\n",
       "      <td> A:min/b3</td>\n",
       "      <td>  9</td>\n",
       "      <td>  0</td>\n",
       "      <td> 1</td>\n",
       "      <td> 0</td>\n",
       "      <td> 0</td>\n",
       "      <td> 0</td>\n",
       "      <td> 1</td>\n",
       "      <td> 0</td>\n",
       "      <td> 0</td>\n",
       "      <td> 0</td>\n",
       "      <td> 0</td>\n",
       "      <td> 1</td>\n",
       "      <td> 0</td>\n",
       "      <td> 0</td>\n",
       "      <td>   0</td>\n",
       "      <td>  1.462857</td>\n",
       "    </tr>\n",
       "    <tr>\n",
       "      <th>19</th>\n",
       "      <td>  50.155124</td>\n",
       "      <td>  51.652811</td>\n",
       "      <td>        E</td>\n",
       "      <td>  4</td>\n",
       "      <td>  4</td>\n",
       "      <td> 0</td>\n",
       "      <td> 0</td>\n",
       "      <td> 0</td>\n",
       "      <td> 0</td>\n",
       "      <td> 1</td>\n",
       "      <td> 0</td>\n",
       "      <td> 0</td>\n",
       "      <td> 0</td>\n",
       "      <td> 1</td>\n",
       "      <td> 0</td>\n",
       "      <td> 0</td>\n",
       "      <td> 1</td>\n",
       "      <td>   0</td>\n",
       "      <td>  1.497687</td>\n",
       "    </tr>\n",
       "    <tr>\n",
       "      <th>20</th>\n",
       "      <td>  51.652811</td>\n",
       "      <td>  53.138888</td>\n",
       "      <td>        B</td>\n",
       "      <td> 11</td>\n",
       "      <td> 11</td>\n",
       "      <td> 0</td>\n",
       "      <td> 0</td>\n",
       "      <td> 0</td>\n",
       "      <td> 1</td>\n",
       "      <td> 0</td>\n",
       "      <td> 0</td>\n",
       "      <td> 1</td>\n",
       "      <td> 0</td>\n",
       "      <td> 0</td>\n",
       "      <td> 0</td>\n",
       "      <td> 0</td>\n",
       "      <td> 1</td>\n",
       "      <td>   0</td>\n",
       "      <td>  1.486077</td>\n",
       "    </tr>\n",
       "    <tr>\n",
       "      <th>21</th>\n",
       "      <td>  53.138888</td>\n",
       "      <td>  56.111043</td>\n",
       "      <td>        E</td>\n",
       "      <td>  4</td>\n",
       "      <td>  4</td>\n",
       "      <td> 0</td>\n",
       "      <td> 0</td>\n",
       "      <td> 0</td>\n",
       "      <td> 0</td>\n",
       "      <td> 1</td>\n",
       "      <td> 0</td>\n",
       "      <td> 0</td>\n",
       "      <td> 0</td>\n",
       "      <td> 1</td>\n",
       "      <td> 0</td>\n",
       "      <td> 0</td>\n",
       "      <td> 1</td>\n",
       "      <td>   0</td>\n",
       "      <td>  2.972155</td>\n",
       "    </tr>\n",
       "    <tr>\n",
       "      <th>22</th>\n",
       "      <td>  56.111043</td>\n",
       "      <td>  65.131995</td>\n",
       "      <td>        A</td>\n",
       "      <td>  9</td>\n",
       "      <td>  9</td>\n",
       "      <td> 0</td>\n",
       "      <td> 1</td>\n",
       "      <td> 0</td>\n",
       "      <td> 0</td>\n",
       "      <td> 1</td>\n",
       "      <td> 0</td>\n",
       "      <td> 0</td>\n",
       "      <td> 0</td>\n",
       "      <td> 0</td>\n",
       "      <td> 1</td>\n",
       "      <td> 0</td>\n",
       "      <td> 0</td>\n",
       "      <td>   0</td>\n",
       "      <td>  9.020952</td>\n",
       "    </tr>\n",
       "    <tr>\n",
       "      <th>23</th>\n",
       "      <td>  65.131995</td>\n",
       "      <td>  68.150589</td>\n",
       "      <td>        B</td>\n",
       "      <td> 11</td>\n",
       "      <td> 11</td>\n",
       "      <td> 0</td>\n",
       "      <td> 0</td>\n",
       "      <td> 0</td>\n",
       "      <td> 1</td>\n",
       "      <td> 0</td>\n",
       "      <td> 0</td>\n",
       "      <td> 1</td>\n",
       "      <td> 0</td>\n",
       "      <td> 0</td>\n",
       "      <td> 0</td>\n",
       "      <td> 0</td>\n",
       "      <td> 1</td>\n",
       "      <td>   0</td>\n",
       "      <td>  3.018594</td>\n",
       "    </tr>\n",
       "    <tr>\n",
       "      <th>24</th>\n",
       "      <td>  68.150589</td>\n",
       "      <td>  71.192403</td>\n",
       "      <td>        A</td>\n",
       "      <td>  9</td>\n",
       "      <td>  9</td>\n",
       "      <td> 0</td>\n",
       "      <td> 1</td>\n",
       "      <td> 0</td>\n",
       "      <td> 0</td>\n",
       "      <td> 1</td>\n",
       "      <td> 0</td>\n",
       "      <td> 0</td>\n",
       "      <td> 0</td>\n",
       "      <td> 0</td>\n",
       "      <td> 1</td>\n",
       "      <td> 0</td>\n",
       "      <td> 0</td>\n",
       "      <td>   0</td>\n",
       "      <td>  3.041814</td>\n",
       "    </tr>\n",
       "    <tr>\n",
       "      <th>25</th>\n",
       "      <td>  71.192403</td>\n",
       "      <td>  74.199387</td>\n",
       "      <td>        E</td>\n",
       "      <td>  4</td>\n",
       "      <td>  4</td>\n",
       "      <td> 0</td>\n",
       "      <td> 0</td>\n",
       "      <td> 0</td>\n",
       "      <td> 0</td>\n",
       "      <td> 1</td>\n",
       "      <td> 0</td>\n",
       "      <td> 0</td>\n",
       "      <td> 0</td>\n",
       "      <td> 1</td>\n",
       "      <td> 0</td>\n",
       "      <td> 0</td>\n",
       "      <td> 1</td>\n",
       "      <td>   0</td>\n",
       "      <td>  3.006984</td>\n",
       "    </tr>\n",
       "    <tr>\n",
       "      <th>26</th>\n",
       "      <td>  74.199387</td>\n",
       "      <td>  75.697074</td>\n",
       "      <td>        A</td>\n",
       "      <td>  9</td>\n",
       "      <td>  9</td>\n",
       "      <td> 0</td>\n",
       "      <td> 1</td>\n",
       "      <td> 0</td>\n",
       "      <td> 0</td>\n",
       "      <td> 1</td>\n",
       "      <td> 0</td>\n",
       "      <td> 0</td>\n",
       "      <td> 0</td>\n",
       "      <td> 0</td>\n",
       "      <td> 1</td>\n",
       "      <td> 0</td>\n",
       "      <td> 0</td>\n",
       "      <td>   0</td>\n",
       "      <td>  1.497687</td>\n",
       "    </tr>\n",
       "    <tr>\n",
       "      <th>27</th>\n",
       "      <td>  75.697074</td>\n",
       "      <td>  80.236575</td>\n",
       "      <td>        E</td>\n",
       "      <td>  4</td>\n",
       "      <td>  4</td>\n",
       "      <td> 0</td>\n",
       "      <td> 0</td>\n",
       "      <td> 0</td>\n",
       "      <td> 0</td>\n",
       "      <td> 1</td>\n",
       "      <td> 0</td>\n",
       "      <td> 0</td>\n",
       "      <td> 0</td>\n",
       "      <td> 1</td>\n",
       "      <td> 0</td>\n",
       "      <td> 0</td>\n",
       "      <td> 1</td>\n",
       "      <td>   0</td>\n",
       "      <td>  4.539501</td>\n",
       "    </tr>\n",
       "    <tr>\n",
       "      <th>28</th>\n",
       "      <td>  80.236575</td>\n",
       "      <td>  83.208730</td>\n",
       "      <td>        B</td>\n",
       "      <td> 11</td>\n",
       "      <td> 11</td>\n",
       "      <td> 0</td>\n",
       "      <td> 0</td>\n",
       "      <td> 0</td>\n",
       "      <td> 1</td>\n",
       "      <td> 0</td>\n",
       "      <td> 0</td>\n",
       "      <td> 1</td>\n",
       "      <td> 0</td>\n",
       "      <td> 0</td>\n",
       "      <td> 0</td>\n",
       "      <td> 0</td>\n",
       "      <td> 1</td>\n",
       "      <td>   0</td>\n",
       "      <td>  2.972155</td>\n",
       "    </tr>\n",
       "    <tr>\n",
       "      <th>29</th>\n",
       "      <td>  83.208730</td>\n",
       "      <td>  86.221693</td>\n",
       "      <td>        E</td>\n",
       "      <td>  4</td>\n",
       "      <td>  4</td>\n",
       "      <td> 0</td>\n",
       "      <td> 0</td>\n",
       "      <td> 0</td>\n",
       "      <td> 0</td>\n",
       "      <td> 1</td>\n",
       "      <td> 0</td>\n",
       "      <td> 0</td>\n",
       "      <td> 0</td>\n",
       "      <td> 1</td>\n",
       "      <td> 0</td>\n",
       "      <td> 0</td>\n",
       "      <td> 1</td>\n",
       "      <td>   0</td>\n",
       "      <td>  3.012963</td>\n",
       "    </tr>\n",
       "    <tr>\n",
       "      <th>...</th>\n",
       "      <td>...</td>\n",
       "      <td>...</td>\n",
       "      <td>...</td>\n",
       "      <td>...</td>\n",
       "      <td>...</td>\n",
       "      <td>...</td>\n",
       "      <td>...</td>\n",
       "      <td>...</td>\n",
       "      <td>...</td>\n",
       "      <td>...</td>\n",
       "      <td>...</td>\n",
       "      <td>...</td>\n",
       "      <td>...</td>\n",
       "      <td>...</td>\n",
       "      <td>...</td>\n",
       "      <td>...</td>\n",
       "      <td>...</td>\n",
       "      <td>...</td>\n",
       "      <td>...</td>\n",
       "    </tr>\n",
       "    <tr>\n",
       "      <th>54</th>\n",
       "      <td> 120.053537</td>\n",
       "      <td> 122.004013</td>\n",
       "      <td>        D</td>\n",
       "      <td>  2</td>\n",
       "      <td>  2</td>\n",
       "      <td> 0</td>\n",
       "      <td> 0</td>\n",
       "      <td> 1</td>\n",
       "      <td> 0</td>\n",
       "      <td> 0</td>\n",
       "      <td> 0</td>\n",
       "      <td> 1</td>\n",
       "      <td> 0</td>\n",
       "      <td> 0</td>\n",
       "      <td> 1</td>\n",
       "      <td> 0</td>\n",
       "      <td> 0</td>\n",
       "      <td> 179</td>\n",
       "      <td>  1.950476</td>\n",
       "    </tr>\n",
       "    <tr>\n",
       "      <th>55</th>\n",
       "      <td> 122.004013</td>\n",
       "      <td> 122.967641</td>\n",
       "      <td>        A</td>\n",
       "      <td>  9</td>\n",
       "      <td>  9</td>\n",
       "      <td> 0</td>\n",
       "      <td> 1</td>\n",
       "      <td> 0</td>\n",
       "      <td> 0</td>\n",
       "      <td> 1</td>\n",
       "      <td> 0</td>\n",
       "      <td> 0</td>\n",
       "      <td> 0</td>\n",
       "      <td> 0</td>\n",
       "      <td> 1</td>\n",
       "      <td> 0</td>\n",
       "      <td> 0</td>\n",
       "      <td> 179</td>\n",
       "      <td>  0.963628</td>\n",
       "    </tr>\n",
       "    <tr>\n",
       "      <th>56</th>\n",
       "      <td> 122.967641</td>\n",
       "      <td> 123.942879</td>\n",
       "      <td>      G/2</td>\n",
       "      <td>  7</td>\n",
       "      <td>  9</td>\n",
       "      <td> 0</td>\n",
       "      <td> 0</td>\n",
       "      <td> 1</td>\n",
       "      <td> 0</td>\n",
       "      <td> 0</td>\n",
       "      <td> 0</td>\n",
       "      <td> 0</td>\n",
       "      <td> 1</td>\n",
       "      <td> 0</td>\n",
       "      <td> 1</td>\n",
       "      <td> 0</td>\n",
       "      <td> 1</td>\n",
       "      <td> 179</td>\n",
       "      <td>  0.975238</td>\n",
       "    </tr>\n",
       "    <tr>\n",
       "      <th>57</th>\n",
       "      <td> 123.942879</td>\n",
       "      <td> 127.843832</td>\n",
       "      <td>      A:7</td>\n",
       "      <td>  9</td>\n",
       "      <td>  9</td>\n",
       "      <td> 0</td>\n",
       "      <td> 1</td>\n",
       "      <td> 0</td>\n",
       "      <td> 0</td>\n",
       "      <td> 1</td>\n",
       "      <td> 0</td>\n",
       "      <td> 0</td>\n",
       "      <td> 1</td>\n",
       "      <td> 0</td>\n",
       "      <td> 1</td>\n",
       "      <td> 0</td>\n",
       "      <td> 0</td>\n",
       "      <td> 179</td>\n",
       "      <td>  3.900953</td>\n",
       "    </tr>\n",
       "    <tr>\n",
       "      <th>58</th>\n",
       "      <td> 127.843832</td>\n",
       "      <td> 129.805918</td>\n",
       "      <td>        D</td>\n",
       "      <td>  2</td>\n",
       "      <td>  2</td>\n",
       "      <td> 0</td>\n",
       "      <td> 0</td>\n",
       "      <td> 1</td>\n",
       "      <td> 0</td>\n",
       "      <td> 0</td>\n",
       "      <td> 0</td>\n",
       "      <td> 1</td>\n",
       "      <td> 0</td>\n",
       "      <td> 0</td>\n",
       "      <td> 1</td>\n",
       "      <td> 0</td>\n",
       "      <td> 0</td>\n",
       "      <td> 179</td>\n",
       "      <td>  1.962086</td>\n",
       "    </tr>\n",
       "    <tr>\n",
       "      <th>59</th>\n",
       "      <td> 129.805918</td>\n",
       "      <td> 130.792766</td>\n",
       "      <td>        A</td>\n",
       "      <td>  9</td>\n",
       "      <td>  9</td>\n",
       "      <td> 0</td>\n",
       "      <td> 1</td>\n",
       "      <td> 0</td>\n",
       "      <td> 0</td>\n",
       "      <td> 1</td>\n",
       "      <td> 0</td>\n",
       "      <td> 0</td>\n",
       "      <td> 0</td>\n",
       "      <td> 0</td>\n",
       "      <td> 1</td>\n",
       "      <td> 0</td>\n",
       "      <td> 0</td>\n",
       "      <td> 179</td>\n",
       "      <td>  0.986848</td>\n",
       "    </tr>\n",
       "    <tr>\n",
       "      <th>60</th>\n",
       "      <td> 130.792766</td>\n",
       "      <td> 131.245555</td>\n",
       "      <td>      G/2</td>\n",
       "      <td>  7</td>\n",
       "      <td>  9</td>\n",
       "      <td> 0</td>\n",
       "      <td> 0</td>\n",
       "      <td> 1</td>\n",
       "      <td> 0</td>\n",
       "      <td> 0</td>\n",
       "      <td> 0</td>\n",
       "      <td> 0</td>\n",
       "      <td> 1</td>\n",
       "      <td> 0</td>\n",
       "      <td> 1</td>\n",
       "      <td> 0</td>\n",
       "      <td> 1</td>\n",
       "      <td> 179</td>\n",
       "      <td>  0.452789</td>\n",
       "    </tr>\n",
       "    <tr>\n",
       "      <th>61</th>\n",
       "      <td> 131.245555</td>\n",
       "      <td> 131.756394</td>\n",
       "      <td>      D/5</td>\n",
       "      <td>  2</td>\n",
       "      <td>  9</td>\n",
       "      <td> 0</td>\n",
       "      <td> 0</td>\n",
       "      <td> 1</td>\n",
       "      <td> 0</td>\n",
       "      <td> 0</td>\n",
       "      <td> 0</td>\n",
       "      <td> 1</td>\n",
       "      <td> 0</td>\n",
       "      <td> 0</td>\n",
       "      <td> 1</td>\n",
       "      <td> 0</td>\n",
       "      <td> 0</td>\n",
       "      <td> 179</td>\n",
       "      <td>  0.510839</td>\n",
       "    </tr>\n",
       "    <tr>\n",
       "      <th>62</th>\n",
       "      <td> 131.756394</td>\n",
       "      <td> 135.622517</td>\n",
       "      <td>      A:7</td>\n",
       "      <td>  9</td>\n",
       "      <td>  9</td>\n",
       "      <td> 0</td>\n",
       "      <td> 1</td>\n",
       "      <td> 0</td>\n",
       "      <td> 0</td>\n",
       "      <td> 1</td>\n",
       "      <td> 0</td>\n",
       "      <td> 0</td>\n",
       "      <td> 1</td>\n",
       "      <td> 0</td>\n",
       "      <td> 1</td>\n",
       "      <td> 0</td>\n",
       "      <td> 0</td>\n",
       "      <td> 179</td>\n",
       "      <td>  3.866123</td>\n",
       "    </tr>\n",
       "    <tr>\n",
       "      <th>63</th>\n",
       "      <td> 135.622517</td>\n",
       "      <td> 137.549773</td>\n",
       "      <td>        D</td>\n",
       "      <td>  2</td>\n",
       "      <td>  2</td>\n",
       "      <td> 0</td>\n",
       "      <td> 0</td>\n",
       "      <td> 1</td>\n",
       "      <td> 0</td>\n",
       "      <td> 0</td>\n",
       "      <td> 0</td>\n",
       "      <td> 1</td>\n",
       "      <td> 0</td>\n",
       "      <td> 0</td>\n",
       "      <td> 1</td>\n",
       "      <td> 0</td>\n",
       "      <td> 0</td>\n",
       "      <td> 179</td>\n",
       "      <td>  1.927256</td>\n",
       "    </tr>\n",
       "    <tr>\n",
       "      <th>64</th>\n",
       "      <td> 137.549773</td>\n",
       "      <td> 139.477029</td>\n",
       "      <td>        A</td>\n",
       "      <td>  9</td>\n",
       "      <td>  9</td>\n",
       "      <td> 0</td>\n",
       "      <td> 1</td>\n",
       "      <td> 0</td>\n",
       "      <td> 0</td>\n",
       "      <td> 1</td>\n",
       "      <td> 0</td>\n",
       "      <td> 0</td>\n",
       "      <td> 0</td>\n",
       "      <td> 0</td>\n",
       "      <td> 1</td>\n",
       "      <td> 0</td>\n",
       "      <td> 0</td>\n",
       "      <td> 179</td>\n",
       "      <td>  1.927256</td>\n",
       "    </tr>\n",
       "    <tr>\n",
       "      <th>65</th>\n",
       "      <td> 139.477029</td>\n",
       "      <td> 143.308321</td>\n",
       "      <td>        A</td>\n",
       "      <td>  9</td>\n",
       "      <td>  9</td>\n",
       "      <td> 0</td>\n",
       "      <td> 1</td>\n",
       "      <td> 0</td>\n",
       "      <td> 0</td>\n",
       "      <td> 1</td>\n",
       "      <td> 0</td>\n",
       "      <td> 0</td>\n",
       "      <td> 0</td>\n",
       "      <td> 0</td>\n",
       "      <td> 1</td>\n",
       "      <td> 0</td>\n",
       "      <td> 0</td>\n",
       "      <td> 179</td>\n",
       "      <td>  3.831292</td>\n",
       "    </tr>\n",
       "    <tr>\n",
       "      <th>66</th>\n",
       "      <td> 143.308321</td>\n",
       "      <td> 145.258798</td>\n",
       "      <td>        D</td>\n",
       "      <td>  2</td>\n",
       "      <td>  2</td>\n",
       "      <td> 0</td>\n",
       "      <td> 0</td>\n",
       "      <td> 1</td>\n",
       "      <td> 0</td>\n",
       "      <td> 0</td>\n",
       "      <td> 0</td>\n",
       "      <td> 1</td>\n",
       "      <td> 0</td>\n",
       "      <td> 0</td>\n",
       "      <td> 1</td>\n",
       "      <td> 0</td>\n",
       "      <td> 0</td>\n",
       "      <td> 179</td>\n",
       "      <td>  1.950477</td>\n",
       "    </tr>\n",
       "    <tr>\n",
       "      <th>67</th>\n",
       "      <td> 145.258798</td>\n",
       "      <td> 146.245646</td>\n",
       "      <td>        A</td>\n",
       "      <td>  9</td>\n",
       "      <td>  9</td>\n",
       "      <td> 0</td>\n",
       "      <td> 1</td>\n",
       "      <td> 0</td>\n",
       "      <td> 0</td>\n",
       "      <td> 1</td>\n",
       "      <td> 0</td>\n",
       "      <td> 0</td>\n",
       "      <td> 0</td>\n",
       "      <td> 0</td>\n",
       "      <td> 1</td>\n",
       "      <td> 0</td>\n",
       "      <td> 0</td>\n",
       "      <td> 179</td>\n",
       "      <td>  0.986848</td>\n",
       "    </tr>\n",
       "    <tr>\n",
       "      <th>68</th>\n",
       "      <td> 146.245646</td>\n",
       "      <td> 146.733265</td>\n",
       "      <td>      G/2</td>\n",
       "      <td>  7</td>\n",
       "      <td>  9</td>\n",
       "      <td> 0</td>\n",
       "      <td> 0</td>\n",
       "      <td> 1</td>\n",
       "      <td> 0</td>\n",
       "      <td> 0</td>\n",
       "      <td> 0</td>\n",
       "      <td> 0</td>\n",
       "      <td> 1</td>\n",
       "      <td> 0</td>\n",
       "      <td> 1</td>\n",
       "      <td> 0</td>\n",
       "      <td> 1</td>\n",
       "      <td> 179</td>\n",
       "      <td>  0.487619</td>\n",
       "    </tr>\n",
       "    <tr>\n",
       "      <th>69</th>\n",
       "      <td> 146.733265</td>\n",
       "      <td> 147.244104</td>\n",
       "      <td>      D/5</td>\n",
       "      <td>  2</td>\n",
       "      <td>  9</td>\n",
       "      <td> 0</td>\n",
       "      <td> 0</td>\n",
       "      <td> 1</td>\n",
       "      <td> 0</td>\n",
       "      <td> 0</td>\n",
       "      <td> 0</td>\n",
       "      <td> 1</td>\n",
       "      <td> 0</td>\n",
       "      <td> 0</td>\n",
       "      <td> 1</td>\n",
       "      <td> 0</td>\n",
       "      <td> 0</td>\n",
       "      <td> 179</td>\n",
       "      <td>  0.510839</td>\n",
       "    </tr>\n",
       "    <tr>\n",
       "      <th>70</th>\n",
       "      <td> 147.244104</td>\n",
       "      <td> 151.110226</td>\n",
       "      <td>        A</td>\n",
       "      <td>  9</td>\n",
       "      <td>  9</td>\n",
       "      <td> 0</td>\n",
       "      <td> 1</td>\n",
       "      <td> 0</td>\n",
       "      <td> 0</td>\n",
       "      <td> 1</td>\n",
       "      <td> 0</td>\n",
       "      <td> 0</td>\n",
       "      <td> 0</td>\n",
       "      <td> 0</td>\n",
       "      <td> 1</td>\n",
       "      <td> 0</td>\n",
       "      <td> 0</td>\n",
       "      <td> 179</td>\n",
       "      <td>  3.866122</td>\n",
       "    </tr>\n",
       "    <tr>\n",
       "      <th>71</th>\n",
       "      <td> 151.110226</td>\n",
       "      <td> 153.060702</td>\n",
       "      <td>        D</td>\n",
       "      <td>  2</td>\n",
       "      <td>  2</td>\n",
       "      <td> 0</td>\n",
       "      <td> 0</td>\n",
       "      <td> 1</td>\n",
       "      <td> 0</td>\n",
       "      <td> 0</td>\n",
       "      <td> 0</td>\n",
       "      <td> 1</td>\n",
       "      <td> 0</td>\n",
       "      <td> 0</td>\n",
       "      <td> 1</td>\n",
       "      <td> 0</td>\n",
       "      <td> 0</td>\n",
       "      <td> 179</td>\n",
       "      <td>  1.950476</td>\n",
       "    </tr>\n",
       "    <tr>\n",
       "      <th>72</th>\n",
       "      <td> 153.060702</td>\n",
       "      <td> 154.024331</td>\n",
       "      <td>        A</td>\n",
       "      <td>  9</td>\n",
       "      <td>  9</td>\n",
       "      <td> 0</td>\n",
       "      <td> 1</td>\n",
       "      <td> 0</td>\n",
       "      <td> 0</td>\n",
       "      <td> 1</td>\n",
       "      <td> 0</td>\n",
       "      <td> 0</td>\n",
       "      <td> 0</td>\n",
       "      <td> 0</td>\n",
       "      <td> 1</td>\n",
       "      <td> 0</td>\n",
       "      <td> 0</td>\n",
       "      <td> 179</td>\n",
       "      <td>  0.963629</td>\n",
       "    </tr>\n",
       "    <tr>\n",
       "      <th>73</th>\n",
       "      <td> 154.024331</td>\n",
       "      <td> 154.523560</td>\n",
       "      <td>      G/2</td>\n",
       "      <td>  7</td>\n",
       "      <td>  9</td>\n",
       "      <td> 0</td>\n",
       "      <td> 0</td>\n",
       "      <td> 1</td>\n",
       "      <td> 0</td>\n",
       "      <td> 0</td>\n",
       "      <td> 0</td>\n",
       "      <td> 0</td>\n",
       "      <td> 1</td>\n",
       "      <td> 0</td>\n",
       "      <td> 1</td>\n",
       "      <td> 0</td>\n",
       "      <td> 1</td>\n",
       "      <td> 179</td>\n",
       "      <td>  0.499229</td>\n",
       "    </tr>\n",
       "    <tr>\n",
       "      <th>74</th>\n",
       "      <td> 154.523560</td>\n",
       "      <td> 155.022789</td>\n",
       "      <td>      D/5</td>\n",
       "      <td>  2</td>\n",
       "      <td>  9</td>\n",
       "      <td> 0</td>\n",
       "      <td> 0</td>\n",
       "      <td> 1</td>\n",
       "      <td> 0</td>\n",
       "      <td> 0</td>\n",
       "      <td> 0</td>\n",
       "      <td> 1</td>\n",
       "      <td> 0</td>\n",
       "      <td> 0</td>\n",
       "      <td> 1</td>\n",
       "      <td> 0</td>\n",
       "      <td> 0</td>\n",
       "      <td> 179</td>\n",
       "      <td>  0.499229</td>\n",
       "    </tr>\n",
       "    <tr>\n",
       "      <th>75</th>\n",
       "      <td> 155.022789</td>\n",
       "      <td> 158.854081</td>\n",
       "      <td>      A:7</td>\n",
       "      <td>  9</td>\n",
       "      <td>  9</td>\n",
       "      <td> 0</td>\n",
       "      <td> 1</td>\n",
       "      <td> 0</td>\n",
       "      <td> 0</td>\n",
       "      <td> 1</td>\n",
       "      <td> 0</td>\n",
       "      <td> 0</td>\n",
       "      <td> 1</td>\n",
       "      <td> 0</td>\n",
       "      <td> 1</td>\n",
       "      <td> 0</td>\n",
       "      <td> 0</td>\n",
       "      <td> 179</td>\n",
       "      <td>  3.831292</td>\n",
       "    </tr>\n",
       "    <tr>\n",
       "      <th>76</th>\n",
       "      <td> 158.854081</td>\n",
       "      <td> 160.781337</td>\n",
       "      <td>        D</td>\n",
       "      <td>  2</td>\n",
       "      <td>  2</td>\n",
       "      <td> 0</td>\n",
       "      <td> 0</td>\n",
       "      <td> 1</td>\n",
       "      <td> 0</td>\n",
       "      <td> 0</td>\n",
       "      <td> 0</td>\n",
       "      <td> 1</td>\n",
       "      <td> 0</td>\n",
       "      <td> 0</td>\n",
       "      <td> 1</td>\n",
       "      <td> 0</td>\n",
       "      <td> 0</td>\n",
       "      <td> 179</td>\n",
       "      <td>  1.927256</td>\n",
       "    </tr>\n",
       "    <tr>\n",
       "      <th>77</th>\n",
       "      <td> 160.781337</td>\n",
       "      <td> 161.489546</td>\n",
       "      <td>        A</td>\n",
       "      <td>  9</td>\n",
       "      <td>  9</td>\n",
       "      <td> 0</td>\n",
       "      <td> 1</td>\n",
       "      <td> 0</td>\n",
       "      <td> 0</td>\n",
       "      <td> 1</td>\n",
       "      <td> 0</td>\n",
       "      <td> 0</td>\n",
       "      <td> 0</td>\n",
       "      <td> 0</td>\n",
       "      <td> 1</td>\n",
       "      <td> 0</td>\n",
       "      <td> 0</td>\n",
       "      <td> 179</td>\n",
       "      <td>  0.708209</td>\n",
       "    </tr>\n",
       "    <tr>\n",
       "      <th>78</th>\n",
       "      <td> 161.489546</td>\n",
       "      <td> 162.174535</td>\n",
       "      <td>      G/2</td>\n",
       "      <td>  7</td>\n",
       "      <td>  9</td>\n",
       "      <td> 0</td>\n",
       "      <td> 0</td>\n",
       "      <td> 1</td>\n",
       "      <td> 0</td>\n",
       "      <td> 0</td>\n",
       "      <td> 0</td>\n",
       "      <td> 0</td>\n",
       "      <td> 1</td>\n",
       "      <td> 0</td>\n",
       "      <td> 1</td>\n",
       "      <td> 0</td>\n",
       "      <td> 1</td>\n",
       "      <td> 179</td>\n",
       "      <td>  0.684989</td>\n",
       "    </tr>\n",
       "    <tr>\n",
       "      <th>79</th>\n",
       "      <td> 162.174535</td>\n",
       "      <td> 162.696984</td>\n",
       "      <td>      D/5</td>\n",
       "      <td>  2</td>\n",
       "      <td>  9</td>\n",
       "      <td> 0</td>\n",
       "      <td> 0</td>\n",
       "      <td> 1</td>\n",
       "      <td> 0</td>\n",
       "      <td> 0</td>\n",
       "      <td> 0</td>\n",
       "      <td> 1</td>\n",
       "      <td> 0</td>\n",
       "      <td> 0</td>\n",
       "      <td> 1</td>\n",
       "      <td> 0</td>\n",
       "      <td> 0</td>\n",
       "      <td> 179</td>\n",
       "      <td>  0.522449</td>\n",
       "    </tr>\n",
       "    <tr>\n",
       "      <th>80</th>\n",
       "      <td> 162.696984</td>\n",
       "      <td> 166.423786</td>\n",
       "      <td>      A:7</td>\n",
       "      <td>  9</td>\n",
       "      <td>  9</td>\n",
       "      <td> 0</td>\n",
       "      <td> 1</td>\n",
       "      <td> 0</td>\n",
       "      <td> 0</td>\n",
       "      <td> 1</td>\n",
       "      <td> 0</td>\n",
       "      <td> 0</td>\n",
       "      <td> 1</td>\n",
       "      <td> 0</td>\n",
       "      <td> 1</td>\n",
       "      <td> 0</td>\n",
       "      <td> 0</td>\n",
       "      <td> 179</td>\n",
       "      <td>  3.726802</td>\n",
       "    </tr>\n",
       "    <tr>\n",
       "      <th>81</th>\n",
       "      <td> 166.423786</td>\n",
       "      <td> 168.192617</td>\n",
       "      <td>        D</td>\n",
       "      <td>  2</td>\n",
       "      <td>  2</td>\n",
       "      <td> 0</td>\n",
       "      <td> 0</td>\n",
       "      <td> 1</td>\n",
       "      <td> 0</td>\n",
       "      <td> 0</td>\n",
       "      <td> 0</td>\n",
       "      <td> 1</td>\n",
       "      <td> 0</td>\n",
       "      <td> 0</td>\n",
       "      <td> 1</td>\n",
       "      <td> 0</td>\n",
       "      <td> 0</td>\n",
       "      <td> 179</td>\n",
       "      <td>  1.768831</td>\n",
       "    </tr>\n",
       "    <tr>\n",
       "      <th>82</th>\n",
       "      <td> 168.192617</td>\n",
       "      <td> 174.281557</td>\n",
       "      <td>      D:7</td>\n",
       "      <td>  2</td>\n",
       "      <td>  2</td>\n",
       "      <td> 1</td>\n",
       "      <td> 0</td>\n",
       "      <td> 1</td>\n",
       "      <td> 0</td>\n",
       "      <td> 0</td>\n",
       "      <td> 0</td>\n",
       "      <td> 1</td>\n",
       "      <td> 0</td>\n",
       "      <td> 0</td>\n",
       "      <td> 1</td>\n",
       "      <td> 0</td>\n",
       "      <td> 0</td>\n",
       "      <td> 179</td>\n",
       "      <td>  6.088940</td>\n",
       "    </tr>\n",
       "    <tr>\n",
       "      <th>83</th>\n",
       "      <td> 174.281557</td>\n",
       "      <td> 186.984490</td>\n",
       "      <td>        N</td>\n",
       "      <td>  0</td>\n",
       "      <td>  0</td>\n",
       "      <td> 0</td>\n",
       "      <td> 0</td>\n",
       "      <td> 0</td>\n",
       "      <td> 0</td>\n",
       "      <td> 0</td>\n",
       "      <td> 0</td>\n",
       "      <td> 0</td>\n",
       "      <td> 0</td>\n",
       "      <td> 0</td>\n",
       "      <td> 0</td>\n",
       "      <td> 0</td>\n",
       "      <td> 0</td>\n",
       "      <td> 179</td>\n",
       "      <td> 12.702933</td>\n",
       "    </tr>\n",
       "  </tbody>\n",
       "</table>\n",
       "<p>14621 rows × 19 columns</p>\n",
       "</div>"
      ],
      "text/plain": [
       "         start         end     label  root  bass  C  Db  D  Eb  E  F  Gb  G  \\\n",
       "0     0.000000    2.612267         N     0     0  0   0  0   0  0  0   0  0   \n",
       "1     2.612267   11.459070         E     4     4  0   0  0   0  1  0   0  0   \n",
       "2    11.459070   12.921927         A     9     9  0   1  0   0  1  0   0  0   \n",
       "3    12.921927   17.443474         E     4     4  0   0  0   0  1  0   0  0   \n",
       "4    17.443474   20.410362         B    11    11  0   0  0   1  0  0   1  0   \n",
       "5    20.410362   21.908049         E     4     4  0   0  0   0  1  0   0  0   \n",
       "6    21.908049   23.370907     E:7/3     4     8  0   0  1   0  1  0   0  0   \n",
       "7    23.370907   24.856984         A     9     9  0   1  0   0  1  0   0  0   \n",
       "8    24.856984   26.343061  A:min/b3     9     0  1   0  0   0  1  0   0  0   \n",
       "9    26.343061   27.840748         E     4     4  0   0  0   0  1  0   0  0   \n",
       "10   27.840748   29.350045         B    11    11  0   0  0   1  0  0   1  0   \n",
       "11   29.350045   35.305963         E     4     4  0   0  0   0  1  0   0  0   \n",
       "12   35.305963   36.803650         A     9     9  0   1  0   0  1  0   0  0   \n",
       "13   36.803650   41.263102         E     4     4  0   0  0   0  1  0   0  0   \n",
       "14   41.263102   44.245646         B    11    11  0   0  0   1  0  0   1  0   \n",
       "15   44.245646   45.720113         E     4     4  0   0  0   0  1  0   0  0   \n",
       "16   45.720113   47.206190     E:7/3     4     8  0   0  1   0  1  0   0  0   \n",
       "17   47.206190   48.692267         A     9     9  0   1  0   0  1  0   0  0   \n",
       "18   48.692267   50.155124  A:min/b3     9     0  1   0  0   0  1  0   0  0   \n",
       "19   50.155124   51.652811         E     4     4  0   0  0   0  1  0   0  0   \n",
       "20   51.652811   53.138888         B    11    11  0   0  0   1  0  0   1  0   \n",
       "21   53.138888   56.111043         E     4     4  0   0  0   0  1  0   0  0   \n",
       "22   56.111043   65.131995         A     9     9  0   1  0   0  1  0   0  0   \n",
       "23   65.131995   68.150589         B    11    11  0   0  0   1  0  0   1  0   \n",
       "24   68.150589   71.192403         A     9     9  0   1  0   0  1  0   0  0   \n",
       "25   71.192403   74.199387         E     4     4  0   0  0   0  1  0   0  0   \n",
       "26   74.199387   75.697074         A     9     9  0   1  0   0  1  0   0  0   \n",
       "27   75.697074   80.236575         E     4     4  0   0  0   0  1  0   0  0   \n",
       "28   80.236575   83.208730         B    11    11  0   0  0   1  0  0   1  0   \n",
       "29   83.208730   86.221693         E     4     4  0   0  0   0  1  0   0  0   \n",
       "..         ...         ...       ...   ...   ... ..  .. ..  .. .. ..  .. ..   \n",
       "54  120.053537  122.004013         D     2     2  0   0  1   0  0  0   1  0   \n",
       "55  122.004013  122.967641         A     9     9  0   1  0   0  1  0   0  0   \n",
       "56  122.967641  123.942879       G/2     7     9  0   0  1   0  0  0   0  1   \n",
       "57  123.942879  127.843832       A:7     9     9  0   1  0   0  1  0   0  1   \n",
       "58  127.843832  129.805918         D     2     2  0   0  1   0  0  0   1  0   \n",
       "59  129.805918  130.792766         A     9     9  0   1  0   0  1  0   0  0   \n",
       "60  130.792766  131.245555       G/2     7     9  0   0  1   0  0  0   0  1   \n",
       "61  131.245555  131.756394       D/5     2     9  0   0  1   0  0  0   1  0   \n",
       "62  131.756394  135.622517       A:7     9     9  0   1  0   0  1  0   0  1   \n",
       "63  135.622517  137.549773         D     2     2  0   0  1   0  0  0   1  0   \n",
       "64  137.549773  139.477029         A     9     9  0   1  0   0  1  0   0  0   \n",
       "65  139.477029  143.308321         A     9     9  0   1  0   0  1  0   0  0   \n",
       "66  143.308321  145.258798         D     2     2  0   0  1   0  0  0   1  0   \n",
       "67  145.258798  146.245646         A     9     9  0   1  0   0  1  0   0  0   \n",
       "68  146.245646  146.733265       G/2     7     9  0   0  1   0  0  0   0  1   \n",
       "69  146.733265  147.244104       D/5     2     9  0   0  1   0  0  0   1  0   \n",
       "70  147.244104  151.110226         A     9     9  0   1  0   0  1  0   0  0   \n",
       "71  151.110226  153.060702         D     2     2  0   0  1   0  0  0   1  0   \n",
       "72  153.060702  154.024331         A     9     9  0   1  0   0  1  0   0  0   \n",
       "73  154.024331  154.523560       G/2     7     9  0   0  1   0  0  0   0  1   \n",
       "74  154.523560  155.022789       D/5     2     9  0   0  1   0  0  0   1  0   \n",
       "75  155.022789  158.854081       A:7     9     9  0   1  0   0  1  0   0  1   \n",
       "76  158.854081  160.781337         D     2     2  0   0  1   0  0  0   1  0   \n",
       "77  160.781337  161.489546         A     9     9  0   1  0   0  1  0   0  0   \n",
       "78  161.489546  162.174535       G/2     7     9  0   0  1   0  0  0   0  1   \n",
       "79  162.174535  162.696984       D/5     2     9  0   0  1   0  0  0   1  0   \n",
       "80  162.696984  166.423786       A:7     9     9  0   1  0   0  1  0   0  1   \n",
       "81  166.423786  168.192617         D     2     2  0   0  1   0  0  0   1  0   \n",
       "82  168.192617  174.281557       D:7     2     2  1   0  1   0  0  0   1  0   \n",
       "83  174.281557  186.984490         N     0     0  0   0  0   0  0  0   0  0   \n",
       "\n",
       "    Ab  A  Bb  B  track_id   duration  \n",
       "0    0  0   0  0         0   2.612267  \n",
       "1    1  0   0  1         0   8.846803  \n",
       "2    0  1   0  0         0   1.462857  \n",
       "3    1  0   0  1         0   4.521547  \n",
       "4    0  0   0  1         0   2.966888  \n",
       "5    1  0   0  1         0   1.497687  \n",
       "6    1  0   0  1         0   1.462858  \n",
       "7    0  1   0  0         0   1.486077  \n",
       "8    0  1   0  0         0   1.486077  \n",
       "9    1  0   0  1         0   1.497687  \n",
       "10   0  0   0  1         0   1.509297  \n",
       "11   1  0   0  1         0   5.955918  \n",
       "12   0  1   0  0         0   1.497687  \n",
       "13   1  0   0  1         0   4.459452  \n",
       "14   0  0   0  1         0   2.982544  \n",
       "15   1  0   0  1         0   1.474467  \n",
       "16   1  0   0  1         0   1.486077  \n",
       "17   0  1   0  0         0   1.486077  \n",
       "18   0  1   0  0         0   1.462857  \n",
       "19   1  0   0  1         0   1.497687  \n",
       "20   0  0   0  1         0   1.486077  \n",
       "21   1  0   0  1         0   2.972155  \n",
       "22   0  1   0  0         0   9.020952  \n",
       "23   0  0   0  1         0   3.018594  \n",
       "24   0  1   0  0         0   3.041814  \n",
       "25   1  0   0  1         0   3.006984  \n",
       "26   0  1   0  0         0   1.497687  \n",
       "27   1  0   0  1         0   4.539501  \n",
       "28   0  0   0  1         0   2.972155  \n",
       "29   1  0   0  1         0   3.012963  \n",
       "..  .. ..  .. ..       ...        ...  \n",
       "54   0  1   0  0       179   1.950476  \n",
       "55   0  1   0  0       179   0.963628  \n",
       "56   0  1   0  1       179   0.975238  \n",
       "57   0  1   0  0       179   3.900953  \n",
       "58   0  1   0  0       179   1.962086  \n",
       "59   0  1   0  0       179   0.986848  \n",
       "60   0  1   0  1       179   0.452789  \n",
       "61   0  1   0  0       179   0.510839  \n",
       "62   0  1   0  0       179   3.866123  \n",
       "63   0  1   0  0       179   1.927256  \n",
       "64   0  1   0  0       179   1.927256  \n",
       "65   0  1   0  0       179   3.831292  \n",
       "66   0  1   0  0       179   1.950477  \n",
       "67   0  1   0  0       179   0.986848  \n",
       "68   0  1   0  1       179   0.487619  \n",
       "69   0  1   0  0       179   0.510839  \n",
       "70   0  1   0  0       179   3.866122  \n",
       "71   0  1   0  0       179   1.950476  \n",
       "72   0  1   0  0       179   0.963629  \n",
       "73   0  1   0  1       179   0.499229  \n",
       "74   0  1   0  0       179   0.499229  \n",
       "75   0  1   0  0       179   3.831292  \n",
       "76   0  1   0  0       179   1.927256  \n",
       "77   0  1   0  0       179   0.708209  \n",
       "78   0  1   0  1       179   0.684989  \n",
       "79   0  1   0  0       179   0.522449  \n",
       "80   0  1   0  0       179   3.726802  \n",
       "81   0  1   0  0       179   1.768831  \n",
       "82   0  1   0  0       179   6.088940  \n",
       "83   0  0   0  0       179  12.702933  \n",
       "\n",
       "[14621 rows x 19 columns]"
      ]
     },
     "execution_count": 152,
     "metadata": {},
     "output_type": "execute_result"
    }
   ],
   "source": [
    "all_chords"
   ]
  },
  {
   "cell_type": "markdown",
   "metadata": {},
   "source": [
    "Distribution of chord segment duration:"
   ]
  },
  {
   "cell_type": "code",
   "execution_count": 147,
   "metadata": {
    "collapsed": false
   },
   "outputs": [
    {
     "data": {
      "image/png": "[encoded data removed]",
      "text/plain": [
       "<matplotlib.figure.Figure at 0x10fa7b6d8>"
      ]
     },
     "metadata": {},
     "output_type": "display_data"
    }
   ],
   "source": [
    "duration = all_chords['duration']\n",
    "duration.hist(bins=100);"
   ]
  },
  {
   "cell_type": "code",
   "execution_count": 151,
   "metadata": {
    "collapsed": false
   },
   "outputs": [
    {
     "data": {
      "image/png": "[encoded data removed]",
      "text/plain": [
       "<matplotlib.figure.Figure at 0x110c80cf8>"
      ]
     },
     "metadata": {},
     "output_type": "display_data"
    }
   ],
   "source": [
    "sns.distplot(duration[duration < 10], bins=100)\n",
    "xlabel('duration (sec)');"
   ]
  },
  {
   "cell_type": "markdown",
   "metadata": {},
   "source": [
    "# Let's do some machine learning :)\n",
    "\n",
    "## Task: predict track id (song) - based on chords and segment duration\n",
    "\n",
    "### Start with a independent data points (no context) and logistic regression"
   ]
  },
  {
   "cell_type": "markdown",
   "metadata": {},
   "source": [
    "First prepare the data into training, validation and test set."
   ]
  },
  {
   "cell_type": "code",
   "execution_count": 258,
   "metadata": {
    "collapsed": false
   },
   "outputs": [
    {
     "data": {
      "text/plain": [
       "array([180])"
      ]
     },
     "execution_count": 258,
     "metadata": {},
     "output_type": "execute_result"
    }
   ],
   "source": [
    "X = all_chords[['duration'] + pcs_columns].astype(np.float32)\n",
    "y = all_chords['track_id'].astype(np.int32)"
   ]
  },
  {
   "cell_type": "code",
   "execution_count": 254,
   "metadata": {
    "collapsed": false
   },
   "outputs": [
    {
     "data": {
      "text/plain": [
       "(8772, 2924, 2925)"
      ]
     },
     "execution_count": 254,
     "metadata": {},
     "output_type": "execute_result"
    }
   ],
   "source": [
    "from sklearn.cross_validation import train_test_split\n",
    "\n",
    "X_train, X_test, y_train, y_test = train_test_split(X, y, test_size=0.2, random_state=42)\n",
    "X_train, X_valid, y_train, y_valid = train_test_split(X_train, y_train, test_size=0.25, random_state=42)\n",
    "\n",
    "len(X_train), len(X_valid), len(X_test)"
   ]
  },
  {
   "cell_type": "code",
   "execution_count": 242,
   "metadata": {
    "collapsed": true
   },
   "outputs": [],
   "source": [
    "from sklearn.linear_model import LogisticRegression"
   ]
  },
  {
   "cell_type": "code",
   "execution_count": 243,
   "metadata": {
    "collapsed": false
   },
   "outputs": [
    {
     "data": {
      "text/plain": [
       "LogisticRegression(C=1.0, class_weight=None, dual=False, fit_intercept=True,\n",
       "          intercept_scaling=1, penalty='l2', random_state=None, tol=0.0001)"
      ]
     },
     "execution_count": 243,
     "metadata": {},
     "output_type": "execute_result"
    }
   ],
   "source": [
    "lr_model = LogisticRegression()\n",
    "lr_model.fit(X_train, y_train)"
   ]
  },
  {
   "cell_type": "code",
   "execution_count": 275,
   "metadata": {
    "collapsed": false
   },
   "outputs": [
    {
     "data": {
      "text/plain": [
       "0.11183310533515732"
      ]
     },
     "execution_count": 275,
     "metadata": {},
     "output_type": "execute_result"
    }
   ],
   "source": [
    "from sklearn.metrics import classification_report, confusion_matrix\n",
    "\n",
    "y_pred_lr = lr_model.predict(X_valid)\n",
    "\n",
    "lr_model.score(X_valid, y_valid)"
   ]
  },
  {
   "cell_type": "code",
   "execution_count": 276,
   "metadata": {
    "collapsed": false
   },
   "outputs": [
    {
     "name": "stdout",
     "output_type": "stream",
     "text": [
      "             precision    recall  f1-score   support\n",
      "\n",
      "          0       0.00      0.00      0.00        11\n",
      "          1       0.00      0.00      0.00         6\n",
      "          2       0.02      0.22      0.04         9\n",
      "          3       0.00      0.00      0.00         5\n",
      "          4       0.00      0.00      0.00        14\n",
      "          5       0.23      0.13      0.17        23\n",
      "          6       0.00      0.00      0.00        17\n",
      "          7       0.00      0.00      0.00        16\n",
      "          8       0.00      0.00      0.00        16\n",
      "          9       0.00      0.00      0.00         8\n",
      "         10       0.33      0.15      0.21        27\n",
      "         11       0.12      0.18      0.15        17\n",
      "         12       0.00      0.00      0.00        11\n",
      "         13       0.00      0.00      0.00        16\n",
      "         14       0.00      0.00      0.00        14\n",
      "         15       0.00      0.00      0.00         6\n",
      "         16       0.00      0.00      0.00        12\n",
      "         17       0.07      0.21      0.11        19\n",
      "         18       0.00      0.00      0.00         8\n",
      "         19       0.17      0.07      0.10        15\n",
      "         20       0.00      0.00      0.00         9\n",
      "         21       0.00      0.00      0.00        19\n",
      "         22       0.00      0.00      0.00        16\n",
      "         23       0.00      0.00      0.00        11\n",
      "         24       0.00      0.00      0.00         6\n",
      "         25       0.00      0.00      0.00        18\n",
      "         26       0.00      0.00      0.00        20\n",
      "         27       0.00      0.00      0.00        17\n",
      "         28       0.00      0.00      0.00        16\n",
      "         29       0.05      0.32      0.09        28\n",
      "         30       0.00      0.00      0.00        12\n",
      "         31       0.33      0.06      0.10        18\n",
      "         32       0.00      0.00      0.00        15\n",
      "         33       0.00      0.00      0.00        19\n",
      "         34       0.00      0.00      0.00        11\n",
      "         35       0.00      0.00      0.00        14\n",
      "         36       0.00      0.00      0.00        11\n",
      "         37       0.00      0.00      0.00        17\n",
      "         38       0.00      0.00      0.00        14\n",
      "         39       0.00      0.00      0.00        13\n",
      "         40       0.00      0.00      0.00        14\n",
      "         41       0.00      0.00      0.00        12\n",
      "         42       0.00      0.00      0.00        22\n",
      "         43       0.00      0.00      0.00        17\n",
      "         44       0.00      0.00      0.00         6\n",
      "         45       0.00      0.00      0.00        13\n",
      "         46       0.19      0.73      0.31        15\n",
      "         47       0.00      0.00      0.00        14\n",
      "         48       0.00      0.00      0.00        23\n",
      "         49       0.00      0.00      0.00        21\n",
      "         50       0.06      0.31      0.10        13\n",
      "         51       0.00      0.00      0.00        18\n",
      "         52       0.00      0.00      0.00        15\n",
      "         53       0.00      0.00      0.00        10\n",
      "         54       0.00      0.00      0.00         9\n",
      "         55       0.00      0.00      0.00        10\n",
      "         56       0.00      0.00      0.00        22\n",
      "         57       0.00      0.00      0.00        22\n",
      "         58       0.33      0.08      0.12        26\n",
      "         59       0.00      0.00      0.00        16\n",
      "         60       0.00      0.00      0.00        15\n",
      "         61       0.00      0.00      0.00         6\n",
      "         62       0.00      0.00      0.00        13\n",
      "         63       0.00      0.00      0.00        16\n",
      "         64       0.00      0.00      0.00        23\n",
      "         65       0.00      0.00      0.00        26\n",
      "         66       0.00      0.00      0.00        16\n",
      "         67       0.30      0.18      0.22        17\n",
      "         68       0.00      0.00      0.00        13\n",
      "         69       0.00      0.00      0.00        11\n",
      "         70       0.00      0.00      0.00         6\n",
      "         71       0.04      0.14      0.07        22\n",
      "         72       0.00      0.00      0.00        11\n",
      "         73       0.00      0.00      0.00        14\n",
      "         74       0.00      0.00      0.00        16\n",
      "         75       0.06      0.07      0.06        15\n",
      "         76       0.00      0.00      0.00        14\n",
      "         77       0.12      0.18      0.14        11\n",
      "         78       0.37      0.66      0.47        29\n",
      "         79       0.00      0.00      0.00        21\n",
      "         80       0.20      0.52      0.29        21\n",
      "         81       0.00      0.00      0.00         4\n",
      "         82       0.00      0.00      0.00        11\n",
      "         83       0.12      0.20      0.15         5\n",
      "         84       0.43      0.30      0.35        10\n",
      "         85       0.19      0.12      0.15        25\n",
      "         86       1.00      0.29      0.44         7\n",
      "         87       0.00      0.00      0.00        33\n",
      "         88       0.15      0.11      0.13        27\n",
      "         89       0.05      0.06      0.06        17\n",
      "         90       0.00      0.00      0.00        14\n",
      "         91       0.00      0.00      0.00        11\n",
      "         92       0.00      0.00      0.00         9\n",
      "         93       0.00      0.00      0.00         7\n",
      "         94       0.00      0.00      0.00        15\n",
      "         95       0.00      0.00      0.00        18\n",
      "         96       0.50      0.33      0.40         9\n",
      "         97       0.00      0.00      0.00         9\n",
      "         98       0.00      0.00      0.00        25\n",
      "         99       0.00      0.00      0.00        24\n",
      "        100       0.13      0.24      0.17        17\n",
      "        101       0.78      0.41      0.54        17\n",
      "        102       0.00      0.00      0.00        15\n",
      "        103       0.08      0.04      0.05        25\n",
      "        104       0.50      0.50      0.50         2\n",
      "        105       0.67      0.12      0.20        17\n",
      "        106       0.00      0.00      0.00        15\n",
      "        107       0.00      0.00      0.00        31\n",
      "        108       0.00      0.00      0.00        15\n",
      "        109       0.29      0.10      0.15        20\n",
      "        110       0.00      0.00      0.00         8\n",
      "        111       0.08      0.11      0.10        18\n",
      "        112       0.00      0.00      0.00         7\n",
      "        113       0.40      0.50      0.44         4\n",
      "        114       0.00      0.00      0.00        10\n",
      "        115       0.00      0.00      0.00        25\n",
      "        116       0.10      0.04      0.06        24\n",
      "        117       0.00      0.00      0.00        23\n",
      "        118       0.10      0.24      0.15        37\n",
      "        119       0.05      0.26      0.09        19\n",
      "        120       0.00      0.00      0.00        29\n",
      "        121       0.00      0.00      0.00        20\n",
      "        122       0.28      0.50      0.36        30\n",
      "        123       0.71      0.33      0.45        15\n",
      "        124       0.15      0.45      0.23        20\n",
      "        125       0.00      0.00      0.00         4\n",
      "        126       0.00      0.00      0.00        28\n",
      "        127       0.23      0.25      0.24        28\n",
      "        128       0.00      0.00      0.00        20\n",
      "        129       0.09      0.24      0.13        17\n",
      "        130       0.00      0.00      0.00        11\n",
      "        131       0.11      0.13      0.12        31\n",
      "        132       0.17      0.21      0.19        14\n",
      "        133       0.25      0.22      0.23        23\n",
      "        134       0.00      0.00      0.00        11\n",
      "        135       0.00      0.00      0.00         4\n",
      "        136       0.11      0.10      0.11        10\n",
      "        137       0.00      0.00      0.00        26\n",
      "        138       0.00      0.00      0.00         9\n",
      "        139       0.12      0.25      0.16        12\n",
      "        140       0.04      0.50      0.08        22\n",
      "        141       0.09      0.34      0.14        29\n",
      "        142       0.00      0.00      0.00        25\n",
      "        143       0.33      0.14      0.20         7\n",
      "        144       0.12      0.06      0.08        17\n",
      "        145       0.12      0.17      0.14        12\n",
      "        146       0.00      0.00      0.00        19\n",
      "        147       0.00      0.00      0.00        16\n",
      "        148       0.21      0.17      0.19        18\n",
      "        149       0.15      0.44      0.22        16\n",
      "        150       0.00      0.00      0.00        23\n",
      "        151       0.20      0.10      0.13        10\n",
      "        152       0.00      0.00      0.00        17\n",
      "        153       0.12      0.52      0.20        44\n",
      "        154       0.00      0.00      0.00        16\n",
      "        155       0.13      0.33      0.19        21\n",
      "        156       0.24      0.42      0.31        65\n",
      "        157       0.00      0.00      0.00        22\n",
      "        158       1.00      0.17      0.29        12\n",
      "        159       0.00      0.00      0.00        30\n",
      "        160       0.00      0.00      0.00         5\n",
      "        161       0.00      0.00      0.00         7\n",
      "        162       0.00      0.00      0.00        22\n",
      "        163       0.00      0.00      0.00        12\n",
      "        164       0.00      0.00      0.00         5\n",
      "        165       0.00      0.00      0.00         8\n",
      "        166       0.00      0.00      0.00        15\n",
      "        167       0.00      0.00      0.00         6\n",
      "        168       0.10      0.12      0.11        16\n",
      "        169       0.00      0.00      0.00        19\n",
      "        170       0.00      0.00      0.00        12\n",
      "        171       0.05      0.21      0.08        14\n",
      "        172       0.00      0.00      0.00         8\n",
      "        173       0.07      0.64      0.12        28\n",
      "        174       0.00      0.00      0.00         3\n",
      "        175       0.06      0.25      0.10        32\n",
      "        176       0.13      0.44      0.21         9\n",
      "        177       0.24      0.26      0.25        23\n",
      "        178       0.00      0.00      0.00         5\n",
      "        179       0.00      0.00      0.00        15\n",
      "\n",
      "avg / total       0.08      0.11      0.08      2924\n",
      "\n"
     ]
    },
    {
     "name": "stderr",
     "output_type": "stream",
     "text": [
      "/Users/bzamecnik/Documents/dev/pyvenv/py3.4/lib/python3.4/site-packages/sklearn/metrics/metrics.py:1771: UndefinedMetricWarning: Precision and F-score are ill-defined and being set to 0.0 in labels with no predicted samples.\n",
      "  'precision', 'predicted', average, warn_for)\n"
     ]
    }
   ],
   "source": [
    "print(classification_report(y_valid, y_pred_lr))"
   ]
  },
  {
   "cell_type": "code",
   "execution_count": 277,
   "metadata": {
    "collapsed": false
   },
   "outputs": [
    {
     "data": {
      "image/png": "[encoded data removed]",
      "text/plain": [
       "<matplotlib.figure.Figure at 0x1189ebf60>"
      ]
     },
     "metadata": {},
     "output_type": "display_data"
    }
   ],
   "source": [
    "matshow(confusion_matrix(y_valid, y_pred_lr), cmap=cm.Spectral_r)\n",
    "colorbar();"
   ]
  },
  {
   "cell_type": "code",
   "execution_count": 285,
   "metadata": {
    "collapsed": false
   },
   "outputs": [
    {
     "name": "stderr",
     "output_type": "stream",
     "text": [
      "INFO:theanets.layers:layer hid1: 13 -> 50, logistic, 700 parameters\n"
     ]
    },
    {
     "name": "stdout",
     "output_type": "stream",
     "text": [
      "I 2015-09-16 01:27:40 theanets.layers:370 layer hid1: 13 -> 50, logistic, 700 parameters\n"
     ]
    },
    {
     "name": "stderr",
     "output_type": "stream",
     "text": [
      "INFO:theanets.layers:layer out: 50 -> 180, softmax, 9180 parameters\n"
     ]
    },
    {
     "name": "stdout",
     "output_type": "stream",
     "text": [
      "I 2015-09-16 01:27:40 theanets.layers:370 layer out: 50 -> 180, softmax, 9180 parameters\n"
     ]
    },
    {
     "name": "stderr",
     "output_type": "stream",
     "text": [
      "INFO:theanets.dataset:valid: 46 of 46 mini-batches of (64, 13) -> (64,)\n"
     ]
    },
    {
     "name": "stdout",
     "output_type": "stream",
     "text": [
      "I 2015-09-16 01:27:40 theanets.dataset:158 valid: 46 of 46 mini-batches of (64, 13) -> (64,)\n"
     ]
    },
    {
     "name": "stderr",
     "output_type": "stream",
     "text": [
      "INFO:theanets.dataset:train: 138 of 138 mini-batches of (64, 13) -> (64,)\n"
     ]
    },
    {
     "name": "stdout",
     "output_type": "stream",
     "text": [
      "I 2015-09-16 01:27:40 theanets.dataset:158 train: 138 of 138 mini-batches of (64, 13) -> (64,)\n"
     ]
    },
    {
     "name": "stderr",
     "output_type": "stream",
     "text": [
      "INFO:theanets.main:creating trainer <class 'theanets.trainer.RmsProp'>\n"
     ]
    },
    {
     "name": "stdout",
     "output_type": "stream",
     "text": [
      "I 2015-09-16 01:27:40 theanets.main:195 creating trainer <class 'theanets.trainer.RmsProp'>\n"
     ]
    },
    {
     "name": "stderr",
     "output_type": "stream",
     "text": [
      "INFO:theanets.main:--batch_size = 64\n"
     ]
    },
    {
     "name": "stdout",
     "output_type": "stream",
     "text": [
      "I 2015-09-16 01:27:40 theanets.main:197 --batch_size = 64\n"
     ]
    },
    {
     "name": "stderr",
     "output_type": "stream",
     "text": [
      "INFO:theanets.main:--cg_batches = None\n"
     ]
    },
    {
     "name": "stdout",
     "output_type": "stream",
     "text": [
      "I 2015-09-16 01:27:40 theanets.main:197 --cg_batches = None\n"
     ]
    },
    {
     "name": "stderr",
     "output_type": "stream",
     "text": [
      "INFO:theanets.main:--contractive = 0\n"
     ]
    },
    {
     "name": "stdout",
     "output_type": "stream",
     "text": [
      "I 2015-09-16 01:27:40 theanets.main:197 --contractive = 0\n"
     ]
    },
    {
     "name": "stderr",
     "output_type": "stream",
     "text": [
      "INFO:theanets.main:--decode_from = 1\n"
     ]
    },
    {
     "name": "stdout",
     "output_type": "stream",
     "text": [
      "I 2015-09-16 01:27:40 theanets.main:197 --decode_from = 1\n"
     ]
    },
    {
     "name": "stderr",
     "output_type": "stream",
     "text": [
      "INFO:theanets.main:--global_backtracking = False\n"
     ]
    },
    {
     "name": "stdout",
     "output_type": "stream",
     "text": [
      "I 2015-09-16 01:27:40 theanets.main:197 --global_backtracking = False\n"
     ]
    },
    {
     "name": "stderr",
     "output_type": "stream",
     "text": [
      "INFO:theanets.main:--gradient_clip = 1000000.0\n"
     ]
    },
    {
     "name": "stdout",
     "output_type": "stream",
     "text": [
      "I 2015-09-16 01:27:40 theanets.main:197 --gradient_clip = 1000000.0\n"
     ]
    },
    {
     "name": "stderr",
     "output_type": "stream",
     "text": [
      "INFO:theanets.main:--help_activation = False\n"
     ]
    },
    {
     "name": "stdout",
     "output_type": "stream",
     "text": [
      "I 2015-09-16 01:27:40 theanets.main:197 --help_activation = False\n"
     ]
    },
    {
     "name": "stderr",
     "output_type": "stream",
     "text": [
      "INFO:theanets.main:--help_optimize = False\n"
     ]
    },
    {
     "name": "stdout",
     "output_type": "stream",
     "text": [
      "I 2015-09-16 01:27:40 theanets.main:197 --help_optimize = False\n"
     ]
    },
    {
     "name": "stderr",
     "output_type": "stream",
     "text": [
      "INFO:theanets.main:--hidden_activation = logistic\n"
     ]
    },
    {
     "name": "stdout",
     "output_type": "stream",
     "text": [
      "I 2015-09-16 01:27:40 theanets.main:197 --hidden_activation = logistic\n"
     ]
    },
    {
     "name": "stderr",
     "output_type": "stream",
     "text": [
      "INFO:theanets.main:--hidden_dropouts = 0\n"
     ]
    },
    {
     "name": "stdout",
     "output_type": "stream",
     "text": [
      "I 2015-09-16 01:27:40 theanets.main:197 --hidden_dropouts = 0\n"
     ]
    },
    {
     "name": "stderr",
     "output_type": "stream",
     "text": [
      "INFO:theanets.main:--hidden_l1 = 0.1\n"
     ]
    },
    {
     "name": "stdout",
     "output_type": "stream",
     "text": [
      "I 2015-09-16 01:27:40 theanets.main:197 --hidden_l1 = 0.1\n"
     ]
    },
    {
     "name": "stderr",
     "output_type": "stream",
     "text": [
      "INFO:theanets.main:--hidden_l2 = 0\n"
     ]
    },
    {
     "name": "stdout",
     "output_type": "stream",
     "text": [
      "I 2015-09-16 01:27:40 theanets.main:197 --hidden_l2 = 0\n"
     ]
    },
    {
     "name": "stderr",
     "output_type": "stream",
     "text": [
      "INFO:theanets.main:--hidden_noise = 0\n"
     ]
    },
    {
     "name": "stdout",
     "output_type": "stream",
     "text": [
      "I 2015-09-16 01:27:40 theanets.main:197 --hidden_noise = 0\n"
     ]
    },
    {
     "name": "stderr",
     "output_type": "stream",
     "text": [
      "INFO:theanets.main:--initial_lambda = 1.0\n"
     ]
    },
    {
     "name": "stdout",
     "output_type": "stream",
     "text": [
      "I 2015-09-16 01:27:40 theanets.main:197 --initial_lambda = 1.0\n"
     ]
    },
    {
     "name": "stderr",
     "output_type": "stream",
     "text": [
      "INFO:theanets.main:--input_dropouts = 0\n"
     ]
    },
    {
     "name": "stdout",
     "output_type": "stream",
     "text": [
      "I 2015-09-16 01:27:40 theanets.main:197 --input_dropouts = 0\n"
     ]
    },
    {
     "name": "stderr",
     "output_type": "stream",
     "text": [
      "INFO:theanets.main:--input_noise = 0\n"
     ]
    },
    {
     "name": "stdout",
     "output_type": "stream",
     "text": [
      "I 2015-09-16 01:27:40 theanets.main:197 --input_noise = 0\n"
     ]
    },
    {
     "name": "stderr",
     "output_type": "stream",
     "text": [
      "INFO:theanets.main:--layers = (13, 50, 180)\n"
     ]
    },
    {
     "name": "stdout",
     "output_type": "stream",
     "text": [
      "I 2015-09-16 01:27:40 theanets.main:197 --layers = (13, 50, 180)\n"
     ]
    },
    {
     "name": "stderr",
     "output_type": "stream",
     "text": [
      "INFO:theanets.main:--learning_rate = 0.01\n"
     ]
    },
    {
     "name": "stdout",
     "output_type": "stream",
     "text": [
      "I 2015-09-16 01:27:40 theanets.main:197 --learning_rate = 0.01\n"
     ]
    },
    {
     "name": "stderr",
     "output_type": "stream",
     "text": [
      "INFO:theanets.main:--max_gradient_norm = 1000000.0\n"
     ]
    },
    {
     "name": "stdout",
     "output_type": "stream",
     "text": [
      "I 2015-09-16 01:27:40 theanets.main:197 --max_gradient_norm = 1000000.0\n"
     ]
    },
    {
     "name": "stderr",
     "output_type": "stream",
     "text": [
      "INFO:theanets.main:--min_improvement = 0.01\n"
     ]
    },
    {
     "name": "stdout",
     "output_type": "stream",
     "text": [
      "I 2015-09-16 01:27:40 theanets.main:197 --min_improvement = 0.01\n"
     ]
    },
    {
     "name": "stderr",
     "output_type": "stream",
     "text": [
      "INFO:theanets.main:--momentum = 0.5\n"
     ]
    },
    {
     "name": "stdout",
     "output_type": "stream",
     "text": [
      "I 2015-09-16 01:27:40 theanets.main:197 --momentum = 0.5\n"
     ]
    },
    {
     "name": "stderr",
     "output_type": "stream",
     "text": [
      "INFO:theanets.main:--optimize = ()\n"
     ]
    },
    {
     "name": "stdout",
     "output_type": "stream",
     "text": [
      "I 2015-09-16 01:27:40 theanets.main:197 --optimize = ()\n"
     ]
    },
    {
     "name": "stderr",
     "output_type": "stream",
     "text": [
      "INFO:theanets.main:--output_activation = linear\n"
     ]
    },
    {
     "name": "stdout",
     "output_type": "stream",
     "text": [
      "I 2015-09-16 01:27:40 theanets.main:197 --output_activation = linear\n"
     ]
    },
    {
     "name": "stderr",
     "output_type": "stream",
     "text": [
      "INFO:theanets.main:--patience = 4\n"
     ]
    },
    {
     "name": "stdout",
     "output_type": "stream",
     "text": [
      "I 2015-09-16 01:27:40 theanets.main:197 --patience = 4\n"
     ]
    },
    {
     "name": "stderr",
     "output_type": "stream",
     "text": [
      "INFO:theanets.main:--preconditioner = False\n"
     ]
    },
    {
     "name": "stdout",
     "output_type": "stream",
     "text": [
      "I 2015-09-16 01:27:40 theanets.main:197 --preconditioner = False\n"
     ]
    },
    {
     "name": "stderr",
     "output_type": "stream",
     "text": [
      "INFO:theanets.main:--recurrent_error_start = 3\n"
     ]
    },
    {
     "name": "stdout",
     "output_type": "stream",
     "text": [
      "I 2015-09-16 01:27:40 theanets.main:197 --recurrent_error_start = 3\n"
     ]
    },
    {
     "name": "stderr",
     "output_type": "stream",
     "text": [
      "INFO:theanets.main:--rms_halflife = 7\n"
     ]
    },
    {
     "name": "stdout",
     "output_type": "stream",
     "text": [
      "I 2015-09-16 01:27:40 theanets.main:197 --rms_halflife = 7\n"
     ]
    },
    {
     "name": "stderr",
     "output_type": "stream",
     "text": [
      "INFO:theanets.main:--rprop_decrease = 0.99\n"
     ]
    },
    {
     "name": "stdout",
     "output_type": "stream",
     "text": [
      "I 2015-09-16 01:27:40 theanets.main:197 --rprop_decrease = 0.99\n"
     ]
    },
    {
     "name": "stderr",
     "output_type": "stream",
     "text": [
      "INFO:theanets.main:--rprop_increase = 1.01\n"
     ]
    },
    {
     "name": "stdout",
     "output_type": "stream",
     "text": [
      "I 2015-09-16 01:27:40 theanets.main:197 --rprop_increase = 1.01\n"
     ]
    },
    {
     "name": "stderr",
     "output_type": "stream",
     "text": [
      "INFO:theanets.main:--rprop_max_step = 1.0\n"
     ]
    },
    {
     "name": "stdout",
     "output_type": "stream",
     "text": [
      "I 2015-09-16 01:27:40 theanets.main:197 --rprop_max_step = 1.0\n"
     ]
    },
    {
     "name": "stderr",
     "output_type": "stream",
     "text": [
      "INFO:theanets.main:--rprop_min_step = 0.0\n"
     ]
    },
    {
     "name": "stdout",
     "output_type": "stream",
     "text": [
      "I 2015-09-16 01:27:40 theanets.main:197 --rprop_min_step = 0.0\n"
     ]
    },
    {
     "name": "stderr",
     "output_type": "stream",
     "text": [
      "INFO:theanets.main:--save_every = 0\n"
     ]
    },
    {
     "name": "stdout",
     "output_type": "stream",
     "text": [
      "I 2015-09-16 01:27:40 theanets.main:197 --save_every = 0\n"
     ]
    },
    {
     "name": "stderr",
     "output_type": "stream",
     "text": [
      "INFO:theanets.main:--save_progress = None\n"
     ]
    },
    {
     "name": "stdout",
     "output_type": "stream",
     "text": [
      "I 2015-09-16 01:27:40 theanets.main:197 --save_progress = None\n"
     ]
    },
    {
     "name": "stderr",
     "output_type": "stream",
     "text": [
      "INFO:theanets.main:--tied_weights = False\n"
     ]
    },
    {
     "name": "stdout",
     "output_type": "stream",
     "text": [
      "I 2015-09-16 01:27:40 theanets.main:197 --tied_weights = False\n"
     ]
    },
    {
     "name": "stderr",
     "output_type": "stream",
     "text": [
      "INFO:theanets.main:--train_batches = None\n"
     ]
    },
    {
     "name": "stdout",
     "output_type": "stream",
     "text": [
      "I 2015-09-16 01:27:40 theanets.main:197 --train_batches = None\n"
     ]
    },
    {
     "name": "stderr",
     "output_type": "stream",
     "text": [
      "INFO:theanets.main:--valid_batches = None\n"
     ]
    },
    {
     "name": "stdout",
     "output_type": "stream",
     "text": [
      "I 2015-09-16 01:27:40 theanets.main:197 --valid_batches = None\n"
     ]
    },
    {
     "name": "stderr",
     "output_type": "stream",
     "text": [
      "INFO:theanets.main:--validate_every = 10\n"
     ]
    },
    {
     "name": "stdout",
     "output_type": "stream",
     "text": [
      "I 2015-09-16 01:27:40 theanets.main:197 --validate_every = 10\n"
     ]
    },
    {
     "name": "stderr",
     "output_type": "stream",
     "text": [
      "INFO:theanets.main:--weight_l1 = 0\n"
     ]
    },
    {
     "name": "stdout",
     "output_type": "stream",
     "text": [
      "I 2015-09-16 01:27:40 theanets.main:197 --weight_l1 = 0\n"
     ]
    },
    {
     "name": "stderr",
     "output_type": "stream",
     "text": [
      "INFO:theanets.main:--weight_l2 = 0\n"
     ]
    },
    {
     "name": "stdout",
     "output_type": "stream",
     "text": [
      "I 2015-09-16 01:27:40 theanets.main:197 --weight_l2 = 0\n"
     ]
    },
    {
     "name": "stderr",
     "output_type": "stream",
     "text": [
      "INFO:theanets.trainer:compiling evaluation function\n"
     ]
    },
    {
     "name": "stdout",
     "output_type": "stream",
     "text": [
      "I 2015-09-16 01:27:40 theanets.trainer:129 compiling evaluation function\n"
     ]
    },
    {
     "name": "stderr",
     "output_type": "stream",
     "text": [
      "INFO:theanets.trainer:compiling RmsProp learning function\n"
     ]
    },
    {
     "name": "stdout",
     "output_type": "stream",
     "text": [
      "I 2015-09-16 01:27:41 theanets.trainer:296 compiling RmsProp learning function\n"
     ]
    },
    {
     "name": "stderr",
     "output_type": "stream",
     "text": [
      "INFO:theanets.trainer:validation 0 loss=8.420953 err=5.80 hid1<0.1=0.9 hid1<0.9=99.7 out<0.1=100.0 out<0.9=100.0 acc=0.20 *\n"
     ]
    },
    {
     "name": "stdout",
     "output_type": "stream",
     "text": [
      "I 2015-09-16 01:27:54 theanets.trainer:169 validation 0 loss=8.420953 err=5.80 hid1<0.1=0.9 hid1<0.9=99.7 out<0.1=100.0 out<0.9=100.0 acc=0.20 *\n"
     ]
    },
    {
     "name": "stderr",
     "output_type": "stream",
     "text": [
      "INFO:theanets.trainer:RmsProp 1 loss=5.708115 err=5.26 hid1<0.1=75.1 hid1<0.9=100.0 out<0.1=100.0 out<0.9=100.0 acc=1.20\n"
     ]
    },
    {
     "name": "stdout",
     "output_type": "stream",
     "text": [
      "I 2015-09-16 01:27:55 theanets.trainer:169 RmsProp 1 loss=5.708115 err=5.26 hid1<0.1=75.1 hid1<0.9=100.0 out<0.1=100.0 out<0.9=100.0 acc=1.20\n"
     ]
    },
    {
     "name": "stderr",
     "output_type": "stream",
     "text": [
      "INFO:theanets.trainer:RmsProp 2 loss=5.221023 err=5.14 hid1<0.1=98.2 hid1<0.9=100.0 out<0.1=100.0 out<0.9=100.0 acc=1.39\n"
     ]
    },
    {
     "name": "stdout",
     "output_type": "stream",
     "text": [
      "I 2015-09-16 01:27:55 theanets.trainer:169 RmsProp 2 loss=5.221023 err=5.14 hid1<0.1=98.2 hid1<0.9=100.0 out<0.1=100.0 out<0.9=100.0 acc=1.39\n"
     ]
    },
    {
     "name": "stderr",
     "output_type": "stream",
     "text": [
      "INFO:theanets.trainer:RmsProp 3 loss=5.159905 err=5.11 hid1<0.1=99.1 hid1<0.9=100.0 out<0.1=100.0 out<0.9=100.0 acc=1.42\n"
     ]
    },
    {
     "name": "stdout",
     "output_type": "stream",
     "text": [
      "I 2015-09-16 01:27:55 theanets.trainer:169 RmsProp 3 loss=5.159905 err=5.11 hid1<0.1=99.1 hid1<0.9=100.0 out<0.1=100.0 out<0.9=100.0 acc=1.42\n"
     ]
    },
    {
     "name": "stderr",
     "output_type": "stream",
     "text": [
      "INFO:theanets.trainer:RmsProp 4 loss=5.141227 err=5.11 hid1<0.1=99.4 hid1<0.9=100.0 out<0.1=100.0 out<0.9=100.0 acc=1.52\n"
     ]
    },
    {
     "name": "stdout",
     "output_type": "stream",
     "text": [
      "I 2015-09-16 01:27:55 theanets.trainer:169 RmsProp 4 loss=5.141227 err=5.11 hid1<0.1=99.4 hid1<0.9=100.0 out<0.1=100.0 out<0.9=100.0 acc=1.52\n"
     ]
    },
    {
     "name": "stderr",
     "output_type": "stream",
     "text": [
      "INFO:theanets.trainer:RmsProp 5 loss=5.132797 err=5.10 hid1<0.1=99.5 hid1<0.9=100.0 out<0.1=100.0 out<0.9=100.0 acc=1.38\n"
     ]
    },
    {
     "name": "stdout",
     "output_type": "stream",
     "text": [
      "I 2015-09-16 01:27:56 theanets.trainer:169 RmsProp 5 loss=5.132797 err=5.10 hid1<0.1=99.5 hid1<0.9=100.0 out<0.1=100.0 out<0.9=100.0 acc=1.38\n"
     ]
    },
    {
     "name": "stderr",
     "output_type": "stream",
     "text": [
      "INFO:theanets.trainer:RmsProp 6 loss=5.126067 err=5.10 hid1<0.1=99.5 hid1<0.9=100.0 out<0.1=100.0 out<0.9=100.0 acc=1.70\n"
     ]
    },
    {
     "name": "stdout",
     "output_type": "stream",
     "text": [
      "I 2015-09-16 01:27:56 theanets.trainer:169 RmsProp 6 loss=5.126067 err=5.10 hid1<0.1=99.5 hid1<0.9=100.0 out<0.1=100.0 out<0.9=100.0 acc=1.70\n"
     ]
    },
    {
     "name": "stderr",
     "output_type": "stream",
     "text": [
      "INFO:theanets.trainer:RmsProp 7 loss=5.108299 err=5.08 hid1<0.1=99.3 hid1<0.9=100.0 out<0.1=100.0 out<0.9=100.0 acc=2.31\n"
     ]
    },
    {
     "name": "stdout",
     "output_type": "stream",
     "text": [
      "I 2015-09-16 01:27:57 theanets.trainer:169 RmsProp 7 loss=5.108299 err=5.08 hid1<0.1=99.3 hid1<0.9=100.0 out<0.1=100.0 out<0.9=100.0 acc=2.31\n"
     ]
    },
    {
     "name": "stderr",
     "output_type": "stream",
     "text": [
      "INFO:theanets.trainer:RmsProp 8 loss=5.077066 err=5.04 hid1<0.1=99.2 hid1<0.9=99.9 out<0.1=100.0 out<0.9=100.0 acc=2.52\n"
     ]
    },
    {
     "name": "stdout",
     "output_type": "stream",
     "text": [
      "I 2015-09-16 01:27:57 theanets.trainer:169 RmsProp 8 loss=5.077066 err=5.04 hid1<0.1=99.2 hid1<0.9=99.9 out<0.1=100.0 out<0.9=100.0 acc=2.52\n"
     ]
    },
    {
     "name": "stderr",
     "output_type": "stream",
     "text": [
      "INFO:theanets.trainer:RmsProp 9 loss=5.042741 err=5.01 hid1<0.1=99.2 hid1<0.9=99.9 out<0.1=100.0 out<0.9=100.0 acc=2.37\n"
     ]
    },
    {
     "name": "stdout",
     "output_type": "stream",
     "text": [
      "I 2015-09-16 01:27:57 theanets.trainer:169 RmsProp 9 loss=5.042741 err=5.01 hid1<0.1=99.2 hid1<0.9=99.9 out<0.1=100.0 out<0.9=100.0 acc=2.37\n"
     ]
    },
    {
     "name": "stderr",
     "output_type": "stream",
     "text": [
      "INFO:theanets.trainer:RmsProp 10 loss=5.013196 err=4.98 hid1<0.1=99.2 hid1<0.9=99.8 out<0.1=100.0 out<0.9=100.0 acc=2.66\n"
     ]
    },
    {
     "name": "stdout",
     "output_type": "stream",
     "text": [
      "I 2015-09-16 01:27:58 theanets.trainer:169 RmsProp 10 loss=5.013196 err=4.98 hid1<0.1=99.2 hid1<0.9=99.8 out<0.1=100.0 out<0.9=100.0 acc=2.66\n"
     ]
    },
    {
     "name": "stderr",
     "output_type": "stream",
     "text": [
      "INFO:theanets.trainer:validation 1 loss=5.000525 err=4.97 hid1<0.1=99.3 hid1<0.9=99.8 out<0.1=100.0 out<0.9=100.0 acc=2.94 *\n"
     ]
    },
    {
     "name": "stdout",
     "output_type": "stream",
     "text": [
      "I 2015-09-16 01:27:58 theanets.trainer:169 validation 1 loss=5.000525 err=4.97 hid1<0.1=99.3 hid1<0.9=99.8 out<0.1=100.0 out<0.9=100.0 acc=2.94 *\n"
     ]
    },
    {
     "name": "stderr",
     "output_type": "stream",
     "text": [
      "INFO:theanets.trainer:RmsProp 11 loss=4.990588 err=4.96 hid1<0.1=99.2 hid1<0.9=99.8 out<0.1=100.0 out<0.9=100.0 acc=2.37\n"
     ]
    },
    {
     "name": "stdout",
     "output_type": "stream",
     "text": [
      "I 2015-09-16 01:27:58 theanets.trainer:169 RmsProp 11 loss=4.990588 err=4.96 hid1<0.1=99.2 hid1<0.9=99.8 out<0.1=100.0 out<0.9=100.0 acc=2.37\n"
     ]
    },
    {
     "name": "stderr",
     "output_type": "stream",
     "text": [
      "INFO:theanets.trainer:RmsProp 12 loss=4.971305 err=4.94 hid1<0.1=99.2 hid1<0.9=99.8 out<0.1=100.0 out<0.9=100.0 acc=2.77\n"
     ]
    },
    {
     "name": "stdout",
     "output_type": "stream",
     "text": [
      "I 2015-09-16 01:27:59 theanets.trainer:169 RmsProp 12 loss=4.971305 err=4.94 hid1<0.1=99.2 hid1<0.9=99.8 out<0.1=100.0 out<0.9=100.0 acc=2.77\n"
     ]
    },
    {
     "name": "stderr",
     "output_type": "stream",
     "text": [
      "INFO:theanets.trainer:RmsProp 13 loss=4.955299 err=4.92 hid1<0.1=99.1 hid1<0.9=99.8 out<0.1=100.0 out<0.9=100.0 acc=2.49\n"
     ]
    },
    {
     "name": "stdout",
     "output_type": "stream",
     "text": [
      "I 2015-09-16 01:27:59 theanets.trainer:169 RmsProp 13 loss=4.955299 err=4.92 hid1<0.1=99.1 hid1<0.9=99.8 out<0.1=100.0 out<0.9=100.0 acc=2.49\n"
     ]
    },
    {
     "name": "stderr",
     "output_type": "stream",
     "text": [
      "INFO:theanets.trainer:RmsProp 14 loss=4.937040 err=4.90 hid1<0.1=98.9 hid1<0.9=99.8 out<0.1=100.0 out<0.9=100.0 acc=2.84\n"
     ]
    },
    {
     "name": "stdout",
     "output_type": "stream",
     "text": [
      "I 2015-09-16 01:27:59 theanets.trainer:169 RmsProp 14 loss=4.937040 err=4.90 hid1<0.1=98.9 hid1<0.9=99.8 out<0.1=100.0 out<0.9=100.0 acc=2.84\n"
     ]
    },
    {
     "name": "stderr",
     "output_type": "stream",
     "text": [
      "INFO:theanets.trainer:RmsProp 15 loss=4.912410 err=4.87 hid1<0.1=98.6 hid1<0.9=99.8 out<0.1=100.0 out<0.9=100.0 acc=2.94\n"
     ]
    },
    {
     "name": "stdout",
     "output_type": "stream",
     "text": [
      "I 2015-09-16 01:27:59 theanets.trainer:169 RmsProp 15 loss=4.912410 err=4.87 hid1<0.1=98.6 hid1<0.9=99.8 out<0.1=100.0 out<0.9=100.0 acc=2.94\n"
     ]
    },
    {
     "name": "stderr",
     "output_type": "stream",
     "text": [
      "INFO:theanets.trainer:RmsProp 16 loss=4.883998 err=4.83 hid1<0.1=98.5 hid1<0.9=99.7 out<0.1=100.0 out<0.9=100.0 acc=3.62\n"
     ]
    },
    {
     "name": "stdout",
     "output_type": "stream",
     "text": [
      "I 2015-09-16 01:28:00 theanets.trainer:169 RmsProp 16 loss=4.883998 err=4.83 hid1<0.1=98.5 hid1<0.9=99.7 out<0.1=100.0 out<0.9=100.0 acc=3.62\n"
     ]
    },
    {
     "name": "stderr",
     "output_type": "stream",
     "text": [
      "INFO:theanets.trainer:RmsProp 17 loss=4.851658 err=4.80 hid1<0.1=98.4 hid1<0.9=99.7 out<0.1=100.0 out<0.9=100.0 acc=4.06\n"
     ]
    },
    {
     "name": "stdout",
     "output_type": "stream",
     "text": [
      "I 2015-09-16 01:28:00 theanets.trainer:169 RmsProp 17 loss=4.851658 err=4.80 hid1<0.1=98.4 hid1<0.9=99.7 out<0.1=100.0 out<0.9=100.0 acc=4.06\n"
     ]
    },
    {
     "name": "stderr",
     "output_type": "stream",
     "text": [
      "INFO:theanets.trainer:RmsProp 18 loss=4.820749 err=4.76 hid1<0.1=98.4 hid1<0.9=99.6 out<0.1=100.0 out<0.9=100.0 acc=4.19\n"
     ]
    },
    {
     "name": "stdout",
     "output_type": "stream",
     "text": [
      "I 2015-09-16 01:28:00 theanets.trainer:169 RmsProp 18 loss=4.820749 err=4.76 hid1<0.1=98.4 hid1<0.9=99.6 out<0.1=100.0 out<0.9=100.0 acc=4.19\n"
     ]
    },
    {
     "name": "stderr",
     "output_type": "stream",
     "text": [
      "INFO:theanets.trainer:RmsProp 19 loss=4.792747 err=4.73 hid1<0.1=98.4 hid1<0.9=99.5 out<0.1=100.0 out<0.9=100.0 acc=4.11\n"
     ]
    },
    {
     "name": "stdout",
     "output_type": "stream",
     "text": [
      "I 2015-09-16 01:28:01 theanets.trainer:169 RmsProp 19 loss=4.792747 err=4.73 hid1<0.1=98.4 hid1<0.9=99.5 out<0.1=100.0 out<0.9=100.0 acc=4.11\n"
     ]
    },
    {
     "name": "stderr",
     "output_type": "stream",
     "text": [
      "INFO:theanets.trainer:RmsProp 20 loss=4.768692 err=4.71 hid1<0.1=98.4 hid1<0.9=99.5 out<0.1=100.0 out<0.9=100.0 acc=4.08\n"
     ]
    },
    {
     "name": "stdout",
     "output_type": "stream",
     "text": [
      "I 2015-09-16 01:28:01 theanets.trainer:169 RmsProp 20 loss=4.768692 err=4.71 hid1<0.1=98.4 hid1<0.9=99.5 out<0.1=100.0 out<0.9=100.0 acc=4.08\n"
     ]
    },
    {
     "name": "stderr",
     "output_type": "stream",
     "text": [
      "INFO:theanets.trainer:validation 2 loss=4.773251 err=4.71 hid1<0.1=98.3 hid1<0.9=99.5 out<0.1=100.0 out<0.9=100.0 acc=4.18 *\n"
     ]
    },
    {
     "name": "stdout",
     "output_type": "stream",
     "text": [
      "I 2015-09-16 01:28:01 theanets.trainer:169 validation 2 loss=4.773251 err=4.71 hid1<0.1=98.3 hid1<0.9=99.5 out<0.1=100.0 out<0.9=100.0 acc=4.18 *\n"
     ]
    },
    {
     "name": "stderr",
     "output_type": "stream",
     "text": [
      "INFO:theanets.trainer:RmsProp 21 loss=4.744812 err=4.68 hid1<0.1=98.2 hid1<0.9=99.4 out<0.1=100.0 out<0.9=100.0 acc=4.36\n"
     ]
    },
    {
     "name": "stdout",
     "output_type": "stream",
     "text": [
      "I 2015-09-16 01:28:02 theanets.trainer:169 RmsProp 21 loss=4.744812 err=4.68 hid1<0.1=98.2 hid1<0.9=99.4 out<0.1=100.0 out<0.9=100.0 acc=4.36\n"
     ]
    },
    {
     "name": "stderr",
     "output_type": "stream",
     "text": [
      "INFO:theanets.trainer:RmsProp 22 loss=4.716956 err=4.64 hid1<0.1=97.8 hid1<0.9=99.4 out<0.1=100.0 out<0.9=100.0 acc=4.65\n"
     ]
    },
    {
     "name": "stdout",
     "output_type": "stream",
     "text": [
      "I 2015-09-16 01:28:02 theanets.trainer:169 RmsProp 22 loss=4.716956 err=4.64 hid1<0.1=97.8 hid1<0.9=99.4 out<0.1=100.0 out<0.9=100.0 acc=4.65\n"
     ]
    },
    {
     "name": "stderr",
     "output_type": "stream",
     "text": [
      "INFO:theanets.trainer:RmsProp 23 loss=4.685604 err=4.60 hid1<0.1=97.5 hid1<0.9=99.4 out<0.1=100.0 out<0.9=100.0 acc=4.88\n"
     ]
    },
    {
     "name": "stdout",
     "output_type": "stream",
     "text": [
      "I 2015-09-16 01:28:02 theanets.trainer:169 RmsProp 23 loss=4.685604 err=4.60 hid1<0.1=97.5 hid1<0.9=99.4 out<0.1=100.0 out<0.9=100.0 acc=4.88\n"
     ]
    },
    {
     "name": "stderr",
     "output_type": "stream",
     "text": [
      "INFO:theanets.trainer:RmsProp 24 loss=4.656520 err=4.57 hid1<0.1=97.4 hid1<0.9=99.3 out<0.1=100.0 out<0.9=100.0 acc=5.24\n"
     ]
    },
    {
     "name": "stdout",
     "output_type": "stream",
     "text": [
      "I 2015-09-16 01:28:02 theanets.trainer:169 RmsProp 24 loss=4.656520 err=4.57 hid1<0.1=97.4 hid1<0.9=99.3 out<0.1=100.0 out<0.9=100.0 acc=5.24\n"
     ]
    },
    {
     "name": "stderr",
     "output_type": "stream",
     "text": [
      "INFO:theanets.trainer:RmsProp 25 loss=4.630331 err=4.54 hid1<0.1=97.4 hid1<0.9=99.2 out<0.1=100.0 out<0.9=100.0 acc=5.42\n"
     ]
    },
    {
     "name": "stdout",
     "output_type": "stream",
     "text": [
      "I 2015-09-16 01:28:03 theanets.trainer:169 RmsProp 25 loss=4.630331 err=4.54 hid1<0.1=97.4 hid1<0.9=99.2 out<0.1=100.0 out<0.9=100.0 acc=5.42\n"
     ]
    },
    {
     "name": "stderr",
     "output_type": "stream",
     "text": [
      "INFO:theanets.trainer:RmsProp 26 loss=4.609091 err=4.52 hid1<0.1=97.3 hid1<0.9=99.2 out<0.1=100.0 out<0.9=100.0 acc=5.85\n"
     ]
    },
    {
     "name": "stdout",
     "output_type": "stream",
     "text": [
      "I 2015-09-16 01:28:03 theanets.trainer:169 RmsProp 26 loss=4.609091 err=4.52 hid1<0.1=97.3 hid1<0.9=99.2 out<0.1=100.0 out<0.9=100.0 acc=5.85\n"
     ]
    },
    {
     "name": "stderr",
     "output_type": "stream",
     "text": [
      "INFO:theanets.trainer:RmsProp 27 loss=4.591471 err=4.50 hid1<0.1=97.2 hid1<0.9=99.1 out<0.1=100.0 out<0.9=100.0 acc=5.59\n"
     ]
    },
    {
     "name": "stdout",
     "output_type": "stream",
     "text": [
      "I 2015-09-16 01:28:03 theanets.trainer:169 RmsProp 27 loss=4.591471 err=4.50 hid1<0.1=97.2 hid1<0.9=99.1 out<0.1=100.0 out<0.9=100.0 acc=5.59\n"
     ]
    },
    {
     "name": "stderr",
     "output_type": "stream",
     "text": [
      "INFO:theanets.trainer:RmsProp 28 loss=4.575965 err=4.48 hid1<0.1=97.1 hid1<0.9=99.1 out<0.1=100.0 out<0.9=100.0 acc=5.81\n"
     ]
    },
    {
     "name": "stdout",
     "output_type": "stream",
     "text": [
      "I 2015-09-16 01:28:04 theanets.trainer:169 RmsProp 28 loss=4.575965 err=4.48 hid1<0.1=97.1 hid1<0.9=99.1 out<0.1=100.0 out<0.9=100.0 acc=5.81\n"
     ]
    },
    {
     "name": "stderr",
     "output_type": "stream",
     "text": [
      "INFO:theanets.trainer:RmsProp 29 loss=4.563416 err=4.47 hid1<0.1=97.1 hid1<0.9=99.1 out<0.1=100.0 out<0.9=100.0 acc=5.48\n"
     ]
    },
    {
     "name": "stdout",
     "output_type": "stream",
     "text": [
      "I 2015-09-16 01:28:04 theanets.trainer:169 RmsProp 29 loss=4.563416 err=4.47 hid1<0.1=97.1 hid1<0.9=99.1 out<0.1=100.0 out<0.9=100.0 acc=5.48\n"
     ]
    },
    {
     "name": "stderr",
     "output_type": "stream",
     "text": [
      "INFO:theanets.trainer:RmsProp 30 loss=4.554222 err=4.46 hid1<0.1=97.1 hid1<0.9=99.0 out<0.1=100.0 out<0.9=100.0 acc=5.93\n"
     ]
    },
    {
     "name": "stdout",
     "output_type": "stream",
     "text": [
      "I 2015-09-16 01:28:04 theanets.trainer:169 RmsProp 30 loss=4.554222 err=4.46 hid1<0.1=97.1 hid1<0.9=99.0 out<0.1=100.0 out<0.9=100.0 acc=5.93\n"
     ]
    },
    {
     "name": "stderr",
     "output_type": "stream",
     "text": [
      "INFO:theanets.trainer:validation 3 loss=4.562751 err=4.46 hid1<0.1=97.0 hid1<0.9=99.0 out<0.1=100.0 out<0.9=100.0 acc=5.93 *\n"
     ]
    },
    {
     "name": "stdout",
     "output_type": "stream",
     "text": [
      "I 2015-09-16 01:28:04 theanets.trainer:169 validation 3 loss=4.562751 err=4.46 hid1<0.1=97.0 hid1<0.9=99.0 out<0.1=100.0 out<0.9=100.0 acc=5.93 *\n"
     ]
    },
    {
     "name": "stderr",
     "output_type": "stream",
     "text": [
      "INFO:theanets.trainer:RmsProp 31 loss=4.544036 err=4.45 hid1<0.1=97.0 hid1<0.9=99.0 out<0.1=100.0 out<0.9=100.0 acc=5.74\n"
     ]
    },
    {
     "name": "stdout",
     "output_type": "stream",
     "text": [
      "I 2015-09-16 01:28:04 theanets.trainer:169 RmsProp 31 loss=4.544036 err=4.45 hid1<0.1=97.0 hid1<0.9=99.0 out<0.1=100.0 out<0.9=100.0 acc=5.74\n"
     ]
    },
    {
     "name": "stderr",
     "output_type": "stream",
     "text": [
      "INFO:theanets.trainer:RmsProp 32 loss=4.536437 err=4.44 hid1<0.1=97.0 hid1<0.9=99.0 out<0.1=100.0 out<0.9=100.0 acc=6.06\n"
     ]
    },
    {
     "name": "stdout",
     "output_type": "stream",
     "text": [
      "I 2015-09-16 01:28:05 theanets.trainer:169 RmsProp 32 loss=4.536437 err=4.44 hid1<0.1=97.0 hid1<0.9=99.0 out<0.1=100.0 out<0.9=100.0 acc=6.06\n"
     ]
    },
    {
     "name": "stderr",
     "output_type": "stream",
     "text": [
      "INFO:theanets.trainer:RmsProp 33 loss=4.529445 err=4.43 hid1<0.1=97.0 hid1<0.9=99.0 out<0.1=100.0 out<0.9=100.0 acc=6.09\n"
     ]
    },
    {
     "name": "stdout",
     "output_type": "stream",
     "text": [
      "I 2015-09-16 01:28:05 theanets.trainer:169 RmsProp 33 loss=4.529445 err=4.43 hid1<0.1=97.0 hid1<0.9=99.0 out<0.1=100.0 out<0.9=100.0 acc=6.09\n"
     ]
    },
    {
     "name": "stderr",
     "output_type": "stream",
     "text": [
      "INFO:theanets.trainer:RmsProp 34 loss=4.521784 err=4.42 hid1<0.1=97.0 hid1<0.9=99.0 out<0.1=100.0 out<0.9=100.0 acc=5.81\n"
     ]
    },
    {
     "name": "stdout",
     "output_type": "stream",
     "text": [
      "I 2015-09-16 01:28:05 theanets.trainer:169 RmsProp 34 loss=4.521784 err=4.42 hid1<0.1=97.0 hid1<0.9=99.0 out<0.1=100.0 out<0.9=100.0 acc=5.81\n"
     ]
    },
    {
     "name": "stderr",
     "output_type": "stream",
     "text": [
      "INFO:theanets.trainer:RmsProp 35 loss=4.517204 err=4.42 hid1<0.1=97.0 hid1<0.9=99.0 out<0.1=100.0 out<0.9=100.0 acc=6.03\n"
     ]
    },
    {
     "name": "stdout",
     "output_type": "stream",
     "text": [
      "I 2015-09-16 01:28:06 theanets.trainer:169 RmsProp 35 loss=4.517204 err=4.42 hid1<0.1=97.0 hid1<0.9=99.0 out<0.1=100.0 out<0.9=100.0 acc=6.03\n"
     ]
    },
    {
     "name": "stderr",
     "output_type": "stream",
     "text": [
      "INFO:theanets.trainer:RmsProp 36 loss=4.513229 err=4.41 hid1<0.1=97.0 hid1<0.9=99.0 out<0.1=100.0 out<0.9=100.0 acc=5.94\n"
     ]
    },
    {
     "name": "stdout",
     "output_type": "stream",
     "text": [
      "I 2015-09-16 01:28:06 theanets.trainer:169 RmsProp 36 loss=4.513229 err=4.41 hid1<0.1=97.0 hid1<0.9=99.0 out<0.1=100.0 out<0.9=100.0 acc=5.94\n"
     ]
    },
    {
     "name": "stderr",
     "output_type": "stream",
     "text": [
      "INFO:theanets.trainer:RmsProp 37 loss=4.508374 err=4.41 hid1<0.1=97.0 hid1<0.9=99.0 out<0.1=100.0 out<0.9=100.0 acc=6.33\n"
     ]
    },
    {
     "name": "stdout",
     "output_type": "stream",
     "text": [
      "I 2015-09-16 01:28:06 theanets.trainer:169 RmsProp 37 loss=4.508374 err=4.41 hid1<0.1=97.0 hid1<0.9=99.0 out<0.1=100.0 out<0.9=100.0 acc=6.33\n"
     ]
    },
    {
     "name": "stderr",
     "output_type": "stream",
     "text": [
      "INFO:theanets.trainer:RmsProp 38 loss=4.504381 err=4.40 hid1<0.1=97.0 hid1<0.9=99.0 out<0.1=100.0 out<0.9=100.0 acc=6.16\n"
     ]
    },
    {
     "name": "stdout",
     "output_type": "stream",
     "text": [
      "I 2015-09-16 01:28:07 theanets.trainer:169 RmsProp 38 loss=4.504381 err=4.40 hid1<0.1=97.0 hid1<0.9=99.0 out<0.1=100.0 out<0.9=100.0 acc=6.16\n"
     ]
    },
    {
     "name": "stderr",
     "output_type": "stream",
     "text": [
      "INFO:theanets.trainer:RmsProp 39 loss=4.500857 err=4.40 hid1<0.1=97.0 hid1<0.9=99.0 out<0.1=100.0 out<0.9=100.0 acc=6.24\n"
     ]
    },
    {
     "name": "stdout",
     "output_type": "stream",
     "text": [
      "I 2015-09-16 01:28:07 theanets.trainer:169 RmsProp 39 loss=4.500857 err=4.40 hid1<0.1=97.0 hid1<0.9=99.0 out<0.1=100.0 out<0.9=100.0 acc=6.24\n"
     ]
    },
    {
     "name": "stderr",
     "output_type": "stream",
     "text": [
      "INFO:theanets.trainer:RmsProp 40 loss=4.497306 err=4.40 hid1<0.1=97.0 hid1<0.9=99.0 out<0.1=100.0 out<0.9=100.0 acc=6.17\n"
     ]
    },
    {
     "name": "stdout",
     "output_type": "stream",
     "text": [
      "I 2015-09-16 01:28:07 theanets.trainer:169 RmsProp 40 loss=4.497306 err=4.40 hid1<0.1=97.0 hid1<0.9=99.0 out<0.1=100.0 out<0.9=100.0 acc=6.17\n"
     ]
    },
    {
     "name": "stderr",
     "output_type": "stream",
     "text": [
      "INFO:theanets.trainer:validation 4 loss=4.521465 err=4.42 hid1<0.1=97.0 hid1<0.9=98.9 out<0.1=99.9 out<0.9=100.0 acc=6.94\n"
     ]
    },
    {
     "name": "stdout",
     "output_type": "stream",
     "text": [
      "I 2015-09-16 01:28:07 theanets.trainer:169 validation 4 loss=4.521465 err=4.42 hid1<0.1=97.0 hid1<0.9=98.9 out<0.1=99.9 out<0.9=100.0 acc=6.94\n"
     ]
    },
    {
     "name": "stderr",
     "output_type": "stream",
     "text": [
      "INFO:theanets.trainer:RmsProp 41 loss=4.494581 err=4.39 hid1<0.1=97.0 hid1<0.9=99.0 out<0.1=99.9 out<0.9=100.0 acc=6.25\n"
     ]
    },
    {
     "name": "stdout",
     "output_type": "stream",
     "text": [
      "I 2015-09-16 01:28:08 theanets.trainer:169 RmsProp 41 loss=4.494581 err=4.39 hid1<0.1=97.0 hid1<0.9=99.0 out<0.1=99.9 out<0.9=100.0 acc=6.25\n"
     ]
    },
    {
     "name": "stderr",
     "output_type": "stream",
     "text": [
      "INFO:theanets.trainer:RmsProp 42 loss=4.491361 err=4.39 hid1<0.1=97.0 hid1<0.9=99.0 out<0.1=100.0 out<0.9=100.0 acc=6.37\n"
     ]
    },
    {
     "name": "stdout",
     "output_type": "stream",
     "text": [
      "I 2015-09-16 01:28:08 theanets.trainer:169 RmsProp 42 loss=4.491361 err=4.39 hid1<0.1=97.0 hid1<0.9=99.0 out<0.1=100.0 out<0.9=100.0 acc=6.37\n"
     ]
    },
    {
     "name": "stderr",
     "output_type": "stream",
     "text": [
      "INFO:theanets.trainer:RmsProp 43 loss=4.490266 err=4.39 hid1<0.1=97.0 hid1<0.9=99.0 out<0.1=100.0 out<0.9=100.0 acc=6.27\n"
     ]
    },
    {
     "name": "stdout",
     "output_type": "stream",
     "text": [
      "I 2015-09-16 01:28:09 theanets.trainer:169 RmsProp 43 loss=4.490266 err=4.39 hid1<0.1=97.0 hid1<0.9=99.0 out<0.1=100.0 out<0.9=100.0 acc=6.27\n"
     ]
    },
    {
     "name": "stderr",
     "output_type": "stream",
     "text": [
      "INFO:theanets.trainer:RmsProp 44 loss=4.487065 err=4.39 hid1<0.1=97.0 hid1<0.9=99.0 out<0.1=100.0 out<0.9=100.0 acc=6.17\n"
     ]
    },
    {
     "name": "stdout",
     "output_type": "stream",
     "text": [
      "I 2015-09-16 01:28:09 theanets.trainer:169 RmsProp 44 loss=4.487065 err=4.39 hid1<0.1=97.0 hid1<0.9=99.0 out<0.1=100.0 out<0.9=100.0 acc=6.17\n"
     ]
    },
    {
     "name": "stderr",
     "output_type": "stream",
     "text": [
      "INFO:theanets.trainer:RmsProp 45 loss=4.484522 err=4.38 hid1<0.1=97.0 hid1<0.9=99.0 out<0.1=100.0 out<0.9=100.0 acc=6.47\n"
     ]
    },
    {
     "name": "stdout",
     "output_type": "stream",
     "text": [
      "I 2015-09-16 01:28:09 theanets.trainer:169 RmsProp 45 loss=4.484522 err=4.38 hid1<0.1=97.0 hid1<0.9=99.0 out<0.1=100.0 out<0.9=100.0 acc=6.47\n"
     ]
    },
    {
     "name": "stderr",
     "output_type": "stream",
     "text": [
      "INFO:theanets.trainer:RmsProp 46 loss=4.482367 err=4.38 hid1<0.1=97.0 hid1<0.9=99.0 out<0.1=100.0 out<0.9=100.0 acc=6.25\n"
     ]
    },
    {
     "name": "stdout",
     "output_type": "stream",
     "text": [
      "I 2015-09-16 01:28:10 theanets.trainer:169 RmsProp 46 loss=4.482367 err=4.38 hid1<0.1=97.0 hid1<0.9=99.0 out<0.1=100.0 out<0.9=100.0 acc=6.25\n"
     ]
    },
    {
     "name": "stderr",
     "output_type": "stream",
     "text": [
      "INFO:theanets.trainer:RmsProp 47 loss=4.479771 err=4.38 hid1<0.1=97.0 hid1<0.9=99.0 out<0.1=99.9 out<0.9=100.0 acc=5.96\n"
     ]
    },
    {
     "name": "stdout",
     "output_type": "stream",
     "text": [
      "I 2015-09-16 01:28:10 theanets.trainer:169 RmsProp 47 loss=4.479771 err=4.38 hid1<0.1=97.0 hid1<0.9=99.0 out<0.1=99.9 out<0.9=100.0 acc=5.96\n"
     ]
    },
    {
     "name": "stderr",
     "output_type": "stream",
     "text": [
      "INFO:theanets.trainer:RmsProp 48 loss=4.478754 err=4.38 hid1<0.1=97.0 hid1<0.9=99.0 out<0.1=100.0 out<0.9=100.0 acc=6.43\n"
     ]
    },
    {
     "name": "stdout",
     "output_type": "stream",
     "text": [
      "I 2015-09-16 01:28:10 theanets.trainer:169 RmsProp 48 loss=4.478754 err=4.38 hid1<0.1=97.0 hid1<0.9=99.0 out<0.1=100.0 out<0.9=100.0 acc=6.43\n"
     ]
    },
    {
     "name": "stderr",
     "output_type": "stream",
     "text": [
      "INFO:theanets.trainer:RmsProp 49 loss=4.475881 err=4.37 hid1<0.1=96.9 hid1<0.9=99.0 out<0.1=99.9 out<0.9=100.0 acc=6.59\n"
     ]
    },
    {
     "name": "stdout",
     "output_type": "stream",
     "text": [
      "I 2015-09-16 01:28:11 theanets.trainer:169 RmsProp 49 loss=4.475881 err=4.37 hid1<0.1=96.9 hid1<0.9=99.0 out<0.1=99.9 out<0.9=100.0 acc=6.59\n"
     ]
    },
    {
     "name": "stderr",
     "output_type": "stream",
     "text": [
      "INFO:theanets.trainer:RmsProp 50 loss=4.475798 err=4.37 hid1<0.1=97.0 hid1<0.9=99.0 out<0.1=100.0 out<0.9=100.0 acc=6.39\n"
     ]
    },
    {
     "name": "stdout",
     "output_type": "stream",
     "text": [
      "I 2015-09-16 01:28:11 theanets.trainer:169 RmsProp 50 loss=4.475798 err=4.37 hid1<0.1=97.0 hid1<0.9=99.0 out<0.1=100.0 out<0.9=100.0 acc=6.39\n"
     ]
    },
    {
     "name": "stderr",
     "output_type": "stream",
     "text": [
      "INFO:theanets.trainer:validation 5 loss=4.506948 err=4.40 hid1<0.1=97.0 hid1<0.9=98.9 out<0.1=99.9 out<0.9=100.0 acc=6.13 *\n"
     ]
    },
    {
     "name": "stdout",
     "output_type": "stream",
     "text": [
      "I 2015-09-16 01:28:11 theanets.trainer:169 validation 5 loss=4.506948 err=4.40 hid1<0.1=97.0 hid1<0.9=98.9 out<0.1=99.9 out<0.9=100.0 acc=6.13 *\n"
     ]
    },
    {
     "name": "stderr",
     "output_type": "stream",
     "text": [
      "INFO:theanets.trainer:RmsProp 51 loss=4.473212 err=4.37 hid1<0.1=96.9 hid1<0.9=99.0 out<0.1=99.9 out<0.9=100.0 acc=6.30\n"
     ]
    },
    {
     "name": "stdout",
     "output_type": "stream",
     "text": [
      "I 2015-09-16 01:28:11 theanets.trainer:169 RmsProp 51 loss=4.473212 err=4.37 hid1<0.1=96.9 hid1<0.9=99.0 out<0.1=99.9 out<0.9=100.0 acc=6.30\n"
     ]
    },
    {
     "name": "stderr",
     "output_type": "stream",
     "text": [
      "INFO:theanets.trainer:RmsProp 52 loss=4.471423 err=4.37 hid1<0.1=96.9 hid1<0.9=99.0 out<0.1=100.0 out<0.9=100.0 acc=6.23\n"
     ]
    },
    {
     "name": "stdout",
     "output_type": "stream",
     "text": [
      "I 2015-09-16 01:28:12 theanets.trainer:169 RmsProp 52 loss=4.471423 err=4.37 hid1<0.1=96.9 hid1<0.9=99.0 out<0.1=100.0 out<0.9=100.0 acc=6.23\n"
     ]
    },
    {
     "name": "stderr",
     "output_type": "stream",
     "text": [
      "INFO:theanets.trainer:RmsProp 53 loss=4.469165 err=4.37 hid1<0.1=96.9 hid1<0.9=99.0 out<0.1=99.9 out<0.9=100.0 acc=6.34\n"
     ]
    },
    {
     "name": "stdout",
     "output_type": "stream",
     "text": [
      "I 2015-09-16 01:28:12 theanets.trainer:169 RmsProp 53 loss=4.469165 err=4.37 hid1<0.1=96.9 hid1<0.9=99.0 out<0.1=99.9 out<0.9=100.0 acc=6.34\n"
     ]
    },
    {
     "name": "stderr",
     "output_type": "stream",
     "text": [
      "INFO:theanets.trainer:RmsProp 54 loss=4.469367 err=4.37 hid1<0.1=96.9 hid1<0.9=99.0 out<0.1=100.0 out<0.9=100.0 acc=6.35\n"
     ]
    },
    {
     "name": "stdout",
     "output_type": "stream",
     "text": [
      "I 2015-09-16 01:28:13 theanets.trainer:169 RmsProp 54 loss=4.469367 err=4.37 hid1<0.1=96.9 hid1<0.9=99.0 out<0.1=100.0 out<0.9=100.0 acc=6.35\n"
     ]
    },
    {
     "name": "stderr",
     "output_type": "stream",
     "text": [
      "INFO:theanets.trainer:RmsProp 55 loss=4.467570 err=4.37 hid1<0.1=96.9 hid1<0.9=99.0 out<0.1=99.9 out<0.9=100.0 acc=6.42\n"
     ]
    },
    {
     "name": "stdout",
     "output_type": "stream",
     "text": [
      "I 2015-09-16 01:28:13 theanets.trainer:169 RmsProp 55 loss=4.467570 err=4.37 hid1<0.1=96.9 hid1<0.9=99.0 out<0.1=99.9 out<0.9=100.0 acc=6.42\n"
     ]
    },
    {
     "name": "stderr",
     "output_type": "stream",
     "text": [
      "INFO:theanets.trainer:RmsProp 56 loss=4.465740 err=4.36 hid1<0.1=96.9 hid1<0.9=99.0 out<0.1=99.9 out<0.9=100.0 acc=6.45\n"
     ]
    },
    {
     "name": "stdout",
     "output_type": "stream",
     "text": [
      "I 2015-09-16 01:28:13 theanets.trainer:169 RmsProp 56 loss=4.465740 err=4.36 hid1<0.1=96.9 hid1<0.9=99.0 out<0.1=99.9 out<0.9=100.0 acc=6.45\n"
     ]
    },
    {
     "name": "stderr",
     "output_type": "stream",
     "text": [
      "INFO:theanets.trainer:RmsProp 57 loss=4.464414 err=4.36 hid1<0.1=96.9 hid1<0.9=99.0 out<0.1=100.0 out<0.9=100.0 acc=6.30\n"
     ]
    },
    {
     "name": "stdout",
     "output_type": "stream",
     "text": [
      "I 2015-09-16 01:28:14 theanets.trainer:169 RmsProp 57 loss=4.464414 err=4.36 hid1<0.1=96.9 hid1<0.9=99.0 out<0.1=100.0 out<0.9=100.0 acc=6.30\n"
     ]
    },
    {
     "name": "stderr",
     "output_type": "stream",
     "text": [
      "INFO:theanets.trainer:RmsProp 58 loss=4.463217 err=4.36 hid1<0.1=96.9 hid1<0.9=99.0 out<0.1=99.9 out<0.9=100.0 acc=6.24\n"
     ]
    },
    {
     "name": "stdout",
     "output_type": "stream",
     "text": [
      "I 2015-09-16 01:28:14 theanets.trainer:169 RmsProp 58 loss=4.463217 err=4.36 hid1<0.1=96.9 hid1<0.9=99.0 out<0.1=99.9 out<0.9=100.0 acc=6.24\n"
     ]
    },
    {
     "name": "stderr",
     "output_type": "stream",
     "text": [
      "INFO:theanets.trainer:RmsProp 59 loss=4.462979 err=4.36 hid1<0.1=96.9 hid1<0.9=99.0 out<0.1=99.9 out<0.9=100.0 acc=6.39\n"
     ]
    },
    {
     "name": "stdout",
     "output_type": "stream",
     "text": [
      "I 2015-09-16 01:28:14 theanets.trainer:169 RmsProp 59 loss=4.462979 err=4.36 hid1<0.1=96.9 hid1<0.9=99.0 out<0.1=99.9 out<0.9=100.0 acc=6.39\n"
     ]
    },
    {
     "name": "stderr",
     "output_type": "stream",
     "text": [
      "INFO:theanets.trainer:RmsProp 60 loss=4.461901 err=4.36 hid1<0.1=96.9 hid1<0.9=99.0 out<0.1=99.9 out<0.9=100.0 acc=6.42\n"
     ]
    },
    {
     "name": "stdout",
     "output_type": "stream",
     "text": [
      "I 2015-09-16 01:28:15 theanets.trainer:169 RmsProp 60 loss=4.461901 err=4.36 hid1<0.1=96.9 hid1<0.9=99.0 out<0.1=99.9 out<0.9=100.0 acc=6.42\n"
     ]
    },
    {
     "name": "stderr",
     "output_type": "stream",
     "text": [
      "INFO:theanets.trainer:validation 6 loss=4.494724 err=4.39 hid1<0.1=97.0 hid1<0.9=98.9 out<0.1=99.9 out<0.9=100.0 acc=7.28\n"
     ]
    },
    {
     "name": "stdout",
     "output_type": "stream",
     "text": [
      "I 2015-09-16 01:28:15 theanets.trainer:169 validation 6 loss=4.494724 err=4.39 hid1<0.1=97.0 hid1<0.9=98.9 out<0.1=99.9 out<0.9=100.0 acc=7.28\n"
     ]
    },
    {
     "name": "stderr",
     "output_type": "stream",
     "text": [
      "INFO:theanets.trainer:RmsProp 61 loss=4.460941 err=4.36 hid1<0.1=96.9 hid1<0.9=99.0 out<0.1=99.9 out<0.9=100.0 acc=6.49\n"
     ]
    },
    {
     "name": "stdout",
     "output_type": "stream",
     "text": [
      "I 2015-09-16 01:28:15 theanets.trainer:169 RmsProp 61 loss=4.460941 err=4.36 hid1<0.1=96.9 hid1<0.9=99.0 out<0.1=99.9 out<0.9=100.0 acc=6.49\n"
     ]
    },
    {
     "name": "stderr",
     "output_type": "stream",
     "text": [
      "INFO:theanets.trainer:RmsProp 62 loss=4.458754 err=4.36 hid1<0.1=96.9 hid1<0.9=99.0 out<0.1=99.9 out<0.9=100.0 acc=6.45\n"
     ]
    },
    {
     "name": "stdout",
     "output_type": "stream",
     "text": [
      "I 2015-09-16 01:28:15 theanets.trainer:169 RmsProp 62 loss=4.458754 err=4.36 hid1<0.1=96.9 hid1<0.9=99.0 out<0.1=99.9 out<0.9=100.0 acc=6.45\n"
     ]
    },
    {
     "name": "stderr",
     "output_type": "stream",
     "text": [
      "INFO:theanets.trainer:RmsProp 63 loss=4.457318 err=4.36 hid1<0.1=97.0 hid1<0.9=99.0 out<0.1=99.9 out<0.9=100.0 acc=6.47\n"
     ]
    },
    {
     "name": "stdout",
     "output_type": "stream",
     "text": [
      "I 2015-09-16 01:28:16 theanets.trainer:169 RmsProp 63 loss=4.457318 err=4.36 hid1<0.1=97.0 hid1<0.9=99.0 out<0.1=99.9 out<0.9=100.0 acc=6.47\n"
     ]
    },
    {
     "name": "stderr",
     "output_type": "stream",
     "text": [
      "INFO:theanets.trainer:RmsProp 64 loss=4.457949 err=4.36 hid1<0.1=96.9 hid1<0.9=99.0 out<0.1=99.9 out<0.9=100.0 acc=6.22\n"
     ]
    },
    {
     "name": "stdout",
     "output_type": "stream",
     "text": [
      "I 2015-09-16 01:28:16 theanets.trainer:169 RmsProp 64 loss=4.457949 err=4.36 hid1<0.1=96.9 hid1<0.9=99.0 out<0.1=99.9 out<0.9=100.0 acc=6.22\n"
     ]
    },
    {
     "name": "stderr",
     "output_type": "stream",
     "text": [
      "INFO:theanets.trainer:RmsProp 65 loss=4.456310 err=4.35 hid1<0.1=96.9 hid1<0.9=99.0 out<0.1=99.9 out<0.9=100.0 acc=6.18\n"
     ]
    },
    {
     "name": "stdout",
     "output_type": "stream",
     "text": [
      "I 2015-09-16 01:28:16 theanets.trainer:169 RmsProp 65 loss=4.456310 err=4.35 hid1<0.1=96.9 hid1<0.9=99.0 out<0.1=99.9 out<0.9=100.0 acc=6.18\n"
     ]
    },
    {
     "name": "stderr",
     "output_type": "stream",
     "text": [
      "INFO:theanets.trainer:RmsProp 66 loss=4.455160 err=4.35 hid1<0.1=96.9 hid1<0.9=99.0 out<0.1=99.9 out<0.9=100.0 acc=6.36\n"
     ]
    },
    {
     "name": "stdout",
     "output_type": "stream",
     "text": [
      "I 2015-09-16 01:28:16 theanets.trainer:169 RmsProp 66 loss=4.455160 err=4.35 hid1<0.1=96.9 hid1<0.9=99.0 out<0.1=99.9 out<0.9=100.0 acc=6.36\n"
     ]
    },
    {
     "name": "stderr",
     "output_type": "stream",
     "text": [
      "INFO:theanets.trainer:RmsProp 67 loss=4.455313 err=4.35 hid1<0.1=96.9 hid1<0.9=99.0 out<0.1=99.9 out<0.9=100.0 acc=6.42\n"
     ]
    },
    {
     "name": "stdout",
     "output_type": "stream",
     "text": [
      "I 2015-09-16 01:28:17 theanets.trainer:169 RmsProp 67 loss=4.455313 err=4.35 hid1<0.1=96.9 hid1<0.9=99.0 out<0.1=99.9 out<0.9=100.0 acc=6.42\n"
     ]
    },
    {
     "name": "stderr",
     "output_type": "stream",
     "text": [
      "INFO:theanets.trainer:RmsProp 68 loss=4.452290 err=4.35 hid1<0.1=96.9 hid1<0.9=99.0 out<0.1=99.9 out<0.9=100.0 acc=6.71\n"
     ]
    },
    {
     "name": "stdout",
     "output_type": "stream",
     "text": [
      "I 2015-09-16 01:28:17 theanets.trainer:169 RmsProp 68 loss=4.452290 err=4.35 hid1<0.1=96.9 hid1<0.9=99.0 out<0.1=99.9 out<0.9=100.0 acc=6.71\n"
     ]
    },
    {
     "name": "stderr",
     "output_type": "stream",
     "text": [
      "INFO:theanets.trainer:RmsProp 69 loss=4.453828 err=4.35 hid1<0.1=96.9 hid1<0.9=99.0 out<0.1=99.9 out<0.9=100.0 acc=6.05\n"
     ]
    },
    {
     "name": "stdout",
     "output_type": "stream",
     "text": [
      "I 2015-09-16 01:28:17 theanets.trainer:169 RmsProp 69 loss=4.453828 err=4.35 hid1<0.1=96.9 hid1<0.9=99.0 out<0.1=99.9 out<0.9=100.0 acc=6.05\n"
     ]
    },
    {
     "name": "stderr",
     "output_type": "stream",
     "text": [
      "INFO:theanets.trainer:RmsProp 70 loss=4.451632 err=4.35 hid1<0.1=97.0 hid1<0.9=99.0 out<0.1=99.9 out<0.9=100.0 acc=6.37\n"
     ]
    },
    {
     "name": "stdout",
     "output_type": "stream",
     "text": [
      "I 2015-09-16 01:28:18 theanets.trainer:169 RmsProp 70 loss=4.451632 err=4.35 hid1<0.1=97.0 hid1<0.9=99.0 out<0.1=99.9 out<0.9=100.0 acc=6.37\n"
     ]
    },
    {
     "name": "stderr",
     "output_type": "stream",
     "text": [
      "INFO:theanets.trainer:validation 7 loss=4.491538 err=4.39 hid1<0.1=96.9 hid1<0.9=98.9 out<0.1=99.9 out<0.9=100.0 acc=6.88\n"
     ]
    },
    {
     "name": "stdout",
     "output_type": "stream",
     "text": [
      "I 2015-09-16 01:28:18 theanets.trainer:169 validation 7 loss=4.491538 err=4.39 hid1<0.1=96.9 hid1<0.9=98.9 out<0.1=99.9 out<0.9=100.0 acc=6.88\n"
     ]
    },
    {
     "name": "stderr",
     "output_type": "stream",
     "text": [
      "INFO:theanets.trainer:RmsProp 71 loss=4.452420 err=4.35 hid1<0.1=96.9 hid1<0.9=99.0 out<0.1=99.9 out<0.9=100.0 acc=6.54\n"
     ]
    },
    {
     "name": "stdout",
     "output_type": "stream",
     "text": [
      "I 2015-09-16 01:28:18 theanets.trainer:169 RmsProp 71 loss=4.452420 err=4.35 hid1<0.1=96.9 hid1<0.9=99.0 out<0.1=99.9 out<0.9=100.0 acc=6.54\n"
     ]
    },
    {
     "name": "stderr",
     "output_type": "stream",
     "text": [
      "INFO:theanets.trainer:RmsProp 72 loss=4.450191 err=4.35 hid1<0.1=96.9 hid1<0.9=99.0 out<0.1=99.9 out<0.9=100.0 acc=6.42\n"
     ]
    },
    {
     "name": "stdout",
     "output_type": "stream",
     "text": [
      "I 2015-09-16 01:28:18 theanets.trainer:169 RmsProp 72 loss=4.450191 err=4.35 hid1<0.1=96.9 hid1<0.9=99.0 out<0.1=99.9 out<0.9=100.0 acc=6.42\n"
     ]
    },
    {
     "name": "stderr",
     "output_type": "stream",
     "text": [
      "INFO:theanets.trainer:RmsProp 73 loss=4.448815 err=4.35 hid1<0.1=96.9 hid1<0.9=99.0 out<0.1=99.9 out<0.9=100.0 acc=6.49\n"
     ]
    },
    {
     "name": "stdout",
     "output_type": "stream",
     "text": [
      "I 2015-09-16 01:28:19 theanets.trainer:169 RmsProp 73 loss=4.448815 err=4.35 hid1<0.1=96.9 hid1<0.9=99.0 out<0.1=99.9 out<0.9=100.0 acc=6.49\n"
     ]
    },
    {
     "name": "stderr",
     "output_type": "stream",
     "text": [
      "INFO:theanets.trainer:RmsProp 74 loss=4.448070 err=4.35 hid1<0.1=96.9 hid1<0.9=99.0 out<0.1=99.9 out<0.9=100.0 acc=6.78\n"
     ]
    },
    {
     "name": "stdout",
     "output_type": "stream",
     "text": [
      "I 2015-09-16 01:28:19 theanets.trainer:169 RmsProp 74 loss=4.448070 err=4.35 hid1<0.1=96.9 hid1<0.9=99.0 out<0.1=99.9 out<0.9=100.0 acc=6.78\n"
     ]
    },
    {
     "name": "stderr",
     "output_type": "stream",
     "text": [
      "INFO:theanets.trainer:RmsProp 75 loss=4.447124 err=4.34 hid1<0.1=96.9 hid1<0.9=99.0 out<0.1=99.9 out<0.9=100.0 acc=6.70\n"
     ]
    },
    {
     "name": "stdout",
     "output_type": "stream",
     "text": [
      "I 2015-09-16 01:28:19 theanets.trainer:169 RmsProp 75 loss=4.447124 err=4.34 hid1<0.1=96.9 hid1<0.9=99.0 out<0.1=99.9 out<0.9=100.0 acc=6.70\n"
     ]
    },
    {
     "name": "stderr",
     "output_type": "stream",
     "text": [
      "INFO:theanets.trainer:RmsProp 76 loss=4.444724 err=4.34 hid1<0.1=96.9 hid1<0.9=99.0 out<0.1=99.9 out<0.9=100.0 acc=6.65\n"
     ]
    },
    {
     "name": "stdout",
     "output_type": "stream",
     "text": [
      "I 2015-09-16 01:28:19 theanets.trainer:169 RmsProp 76 loss=4.444724 err=4.34 hid1<0.1=96.9 hid1<0.9=99.0 out<0.1=99.9 out<0.9=100.0 acc=6.65\n"
     ]
    },
    {
     "name": "stderr",
     "output_type": "stream",
     "text": [
      "INFO:theanets.trainer:RmsProp 77 loss=4.443238 err=4.34 hid1<0.1=96.9 hid1<0.9=99.0 out<0.1=99.9 out<0.9=100.0 acc=6.56\n"
     ]
    },
    {
     "name": "stdout",
     "output_type": "stream",
     "text": [
      "I 2015-09-16 01:28:20 theanets.trainer:169 RmsProp 77 loss=4.443238 err=4.34 hid1<0.1=96.9 hid1<0.9=99.0 out<0.1=99.9 out<0.9=100.0 acc=6.56\n"
     ]
    },
    {
     "name": "stderr",
     "output_type": "stream",
     "text": [
      "INFO:theanets.trainer:RmsProp 78 loss=4.441787 err=4.34 hid1<0.1=96.9 hid1<0.9=99.1 out<0.1=99.9 out<0.9=100.0 acc=6.65\n"
     ]
    },
    {
     "name": "stdout",
     "output_type": "stream",
     "text": [
      "I 2015-09-16 01:28:20 theanets.trainer:169 RmsProp 78 loss=4.441787 err=4.34 hid1<0.1=96.9 hid1<0.9=99.1 out<0.1=99.9 out<0.9=100.0 acc=6.65\n"
     ]
    },
    {
     "name": "stderr",
     "output_type": "stream",
     "text": [
      "INFO:theanets.trainer:RmsProp 79 loss=4.440745 err=4.34 hid1<0.1=96.9 hid1<0.9=99.1 out<0.1=99.9 out<0.9=100.0 acc=6.95\n"
     ]
    },
    {
     "name": "stdout",
     "output_type": "stream",
     "text": [
      "I 2015-09-16 01:28:20 theanets.trainer:169 RmsProp 79 loss=4.440745 err=4.34 hid1<0.1=96.9 hid1<0.9=99.1 out<0.1=99.9 out<0.9=100.0 acc=6.95\n"
     ]
    },
    {
     "name": "stderr",
     "output_type": "stream",
     "text": [
      "INFO:theanets.trainer:RmsProp 80 loss=4.438402 err=4.33 hid1<0.1=96.9 hid1<0.9=99.1 out<0.1=99.9 out<0.9=100.0 acc=6.91\n"
     ]
    },
    {
     "name": "stdout",
     "output_type": "stream",
     "text": [
      "I 2015-09-16 01:28:20 theanets.trainer:169 RmsProp 80 loss=4.438402 err=4.33 hid1<0.1=96.9 hid1<0.9=99.1 out<0.1=99.9 out<0.9=100.0 acc=6.91\n"
     ]
    },
    {
     "name": "stderr",
     "output_type": "stream",
     "text": [
      "INFO:theanets.trainer:validation 8 loss=4.477842 err=4.37 hid1<0.1=96.9 hid1<0.9=99.0 out<0.1=99.9 out<0.9=100.0 acc=6.44\n"
     ]
    },
    {
     "name": "stdout",
     "output_type": "stream",
     "text": [
      "I 2015-09-16 01:28:21 theanets.trainer:169 validation 8 loss=4.477842 err=4.37 hid1<0.1=96.9 hid1<0.9=99.0 out<0.1=99.9 out<0.9=100.0 acc=6.44\n"
     ]
    },
    {
     "name": "stderr",
     "output_type": "stream",
     "text": [
      "INFO:theanets.trainer:RmsProp 81 loss=4.437894 err=4.33 hid1<0.1=96.9 hid1<0.9=99.1 out<0.1=99.9 out<0.9=100.0 acc=6.69\n"
     ]
    },
    {
     "name": "stdout",
     "output_type": "stream",
     "text": [
      "I 2015-09-16 01:28:21 theanets.trainer:169 RmsProp 81 loss=4.437894 err=4.33 hid1<0.1=96.9 hid1<0.9=99.1 out<0.1=99.9 out<0.9=100.0 acc=6.69\n"
     ]
    },
    {
     "name": "stderr",
     "output_type": "stream",
     "text": [
      "INFO:theanets.trainer:RmsProp 82 loss=4.436222 err=4.33 hid1<0.1=96.9 hid1<0.9=99.1 out<0.1=99.9 out<0.9=100.0 acc=6.59\n"
     ]
    },
    {
     "name": "stdout",
     "output_type": "stream",
     "text": [
      "I 2015-09-16 01:28:21 theanets.trainer:169 RmsProp 82 loss=4.436222 err=4.33 hid1<0.1=96.9 hid1<0.9=99.1 out<0.1=99.9 out<0.9=100.0 acc=6.59\n"
     ]
    },
    {
     "name": "stderr",
     "output_type": "stream",
     "text": [
      "INFO:theanets.trainer:RmsProp 83 loss=4.434881 err=4.33 hid1<0.1=96.9 hid1<0.9=99.1 out<0.1=99.9 out<0.9=100.0 acc=6.85\n"
     ]
    },
    {
     "name": "stdout",
     "output_type": "stream",
     "text": [
      "I 2015-09-16 01:28:21 theanets.trainer:169 RmsProp 83 loss=4.434881 err=4.33 hid1<0.1=96.9 hid1<0.9=99.1 out<0.1=99.9 out<0.9=100.0 acc=6.85\n"
     ]
    },
    {
     "name": "stderr",
     "output_type": "stream",
     "text": [
      "INFO:theanets.trainer:RmsProp 84 loss=4.432049 err=4.33 hid1<0.1=96.8 hid1<0.9=99.1 out<0.1=99.9 out<0.9=100.0 acc=6.83\n"
     ]
    },
    {
     "name": "stdout",
     "output_type": "stream",
     "text": [
      "I 2015-09-16 01:28:22 theanets.trainer:169 RmsProp 84 loss=4.432049 err=4.33 hid1<0.1=96.8 hid1<0.9=99.1 out<0.1=99.9 out<0.9=100.0 acc=6.83\n"
     ]
    },
    {
     "name": "stderr",
     "output_type": "stream",
     "text": [
      "INFO:theanets.trainer:RmsProp 85 loss=4.431212 err=4.33 hid1<0.1=96.8 hid1<0.9=99.1 out<0.1=99.9 out<0.9=100.0 acc=6.79\n"
     ]
    },
    {
     "name": "stdout",
     "output_type": "stream",
     "text": [
      "I 2015-09-16 01:28:22 theanets.trainer:169 RmsProp 85 loss=4.431212 err=4.33 hid1<0.1=96.8 hid1<0.9=99.1 out<0.1=99.9 out<0.9=100.0 acc=6.79\n"
     ]
    },
    {
     "name": "stderr",
     "output_type": "stream",
     "text": [
      "INFO:theanets.trainer:RmsProp 86 loss=4.429122 err=4.32 hid1<0.1=96.8 hid1<0.9=99.1 out<0.1=99.9 out<0.9=100.0 acc=7.07\n"
     ]
    },
    {
     "name": "stdout",
     "output_type": "stream",
     "text": [
      "I 2015-09-16 01:28:22 theanets.trainer:169 RmsProp 86 loss=4.429122 err=4.32 hid1<0.1=96.8 hid1<0.9=99.1 out<0.1=99.9 out<0.9=100.0 acc=7.07\n"
     ]
    },
    {
     "name": "stderr",
     "output_type": "stream",
     "text": [
      "INFO:theanets.trainer:RmsProp 87 loss=4.427561 err=4.32 hid1<0.1=96.8 hid1<0.9=99.1 out<0.1=99.9 out<0.9=100.0 acc=6.69\n"
     ]
    },
    {
     "name": "stdout",
     "output_type": "stream",
     "text": [
      "I 2015-09-16 01:28:23 theanets.trainer:169 RmsProp 87 loss=4.427561 err=4.32 hid1<0.1=96.8 hid1<0.9=99.1 out<0.1=99.9 out<0.9=100.0 acc=6.69\n"
     ]
    },
    {
     "name": "stderr",
     "output_type": "stream",
     "text": [
      "INFO:theanets.trainer:RmsProp 88 loss=4.427006 err=4.32 hid1<0.1=96.8 hid1<0.9=99.1 out<0.1=99.9 out<0.9=100.0 acc=6.78\n"
     ]
    },
    {
     "name": "stdout",
     "output_type": "stream",
     "text": [
      "I 2015-09-16 01:28:23 theanets.trainer:169 RmsProp 88 loss=4.427006 err=4.32 hid1<0.1=96.8 hid1<0.9=99.1 out<0.1=99.9 out<0.9=100.0 acc=6.78\n"
     ]
    },
    {
     "name": "stderr",
     "output_type": "stream",
     "text": [
      "INFO:theanets.trainer:RmsProp 89 loss=4.422358 err=4.32 hid1<0.1=96.8 hid1<0.9=99.1 out<0.1=99.9 out<0.9=100.0 acc=6.84\n"
     ]
    },
    {
     "name": "stdout",
     "output_type": "stream",
     "text": [
      "I 2015-09-16 01:28:23 theanets.trainer:169 RmsProp 89 loss=4.422358 err=4.32 hid1<0.1=96.8 hid1<0.9=99.1 out<0.1=99.9 out<0.9=100.0 acc=6.84\n"
     ]
    },
    {
     "name": "stderr",
     "output_type": "stream",
     "text": [
      "INFO:theanets.trainer:RmsProp 90 loss=4.421309 err=4.32 hid1<0.1=96.8 hid1<0.9=99.1 out<0.1=99.9 out<0.9=100.0 acc=6.69\n"
     ]
    },
    {
     "name": "stdout",
     "output_type": "stream",
     "text": [
      "I 2015-09-16 01:28:24 theanets.trainer:169 RmsProp 90 loss=4.421309 err=4.32 hid1<0.1=96.8 hid1<0.9=99.1 out<0.1=99.9 out<0.9=100.0 acc=6.69\n"
     ]
    },
    {
     "name": "stderr",
     "output_type": "stream",
     "text": [
      "INFO:theanets.trainer:validation 9 loss=4.464902 err=4.36 hid1<0.1=96.8 hid1<0.9=99.0 out<0.1=99.9 out<0.9=100.0 acc=7.15\n"
     ]
    },
    {
     "name": "stdout",
     "output_type": "stream",
     "text": [
      "I 2015-09-16 01:28:24 theanets.trainer:169 validation 9 loss=4.464902 err=4.36 hid1<0.1=96.8 hid1<0.9=99.0 out<0.1=99.9 out<0.9=100.0 acc=7.15\n"
     ]
    },
    {
     "name": "stderr",
     "output_type": "stream",
     "text": [
      "INFO:theanets.trainer:RmsProp 91 loss=4.420060 err=4.31 hid1<0.1=96.8 hid1<0.9=99.1 out<0.1=99.9 out<0.9=100.0 acc=7.03\n"
     ]
    },
    {
     "name": "stdout",
     "output_type": "stream",
     "text": [
      "I 2015-09-16 01:28:24 theanets.trainer:169 RmsProp 91 loss=4.420060 err=4.31 hid1<0.1=96.8 hid1<0.9=99.1 out<0.1=99.9 out<0.9=100.0 acc=7.03\n"
     ]
    },
    {
     "name": "stderr",
     "output_type": "stream",
     "text": [
      "INFO:theanets.trainer:RmsProp 92 loss=4.417624 err=4.31 hid1<0.1=96.8 hid1<0.9=99.1 out<0.1=99.9 out<0.9=100.0 acc=7.10\n"
     ]
    },
    {
     "name": "stdout",
     "output_type": "stream",
     "text": [
      "I 2015-09-16 01:28:25 theanets.trainer:169 RmsProp 92 loss=4.417624 err=4.31 hid1<0.1=96.8 hid1<0.9=99.1 out<0.1=99.9 out<0.9=100.0 acc=7.10\n"
     ]
    },
    {
     "name": "stderr",
     "output_type": "stream",
     "text": [
      "INFO:theanets.trainer:RmsProp 93 loss=4.414837 err=4.31 hid1<0.1=96.8 hid1<0.9=99.1 out<0.1=99.9 out<0.9=100.0 acc=6.83\n"
     ]
    },
    {
     "name": "stdout",
     "output_type": "stream",
     "text": [
      "I 2015-09-16 01:28:25 theanets.trainer:169 RmsProp 93 loss=4.414837 err=4.31 hid1<0.1=96.8 hid1<0.9=99.1 out<0.1=99.9 out<0.9=100.0 acc=6.83\n"
     ]
    },
    {
     "name": "stderr",
     "output_type": "stream",
     "text": [
      "INFO:theanets.trainer:RmsProp 94 loss=4.413218 err=4.31 hid1<0.1=96.8 hid1<0.9=99.1 out<0.1=99.9 out<0.9=100.0 acc=7.05\n"
     ]
    },
    {
     "name": "stdout",
     "output_type": "stream",
     "text": [
      "I 2015-09-16 01:28:25 theanets.trainer:169 RmsProp 94 loss=4.413218 err=4.31 hid1<0.1=96.8 hid1<0.9=99.1 out<0.1=99.9 out<0.9=100.0 acc=7.05\n"
     ]
    },
    {
     "name": "stderr",
     "output_type": "stream",
     "text": [
      "INFO:theanets.trainer:RmsProp 95 loss=4.411298 err=4.30 hid1<0.1=96.8 hid1<0.9=99.1 out<0.1=99.9 out<0.9=100.0 acc=6.99\n"
     ]
    },
    {
     "name": "stdout",
     "output_type": "stream",
     "text": [
      "I 2015-09-16 01:28:25 theanets.trainer:169 RmsProp 95 loss=4.411298 err=4.30 hid1<0.1=96.8 hid1<0.9=99.1 out<0.1=99.9 out<0.9=100.0 acc=6.99\n"
     ]
    },
    {
     "name": "stderr",
     "output_type": "stream",
     "text": [
      "INFO:theanets.trainer:RmsProp 96 loss=4.408932 err=4.30 hid1<0.1=96.7 hid1<0.9=99.1 out<0.1=99.9 out<0.9=100.0 acc=6.86\n"
     ]
    },
    {
     "name": "stdout",
     "output_type": "stream",
     "text": [
      "I 2015-09-16 01:28:26 theanets.trainer:169 RmsProp 96 loss=4.408932 err=4.30 hid1<0.1=96.7 hid1<0.9=99.1 out<0.1=99.9 out<0.9=100.0 acc=6.86\n"
     ]
    },
    {
     "name": "stderr",
     "output_type": "stream",
     "text": [
      "INFO:theanets.trainer:RmsProp 97 loss=4.405703 err=4.30 hid1<0.1=96.6 hid1<0.9=99.1 out<0.1=99.9 out<0.9=100.0 acc=7.18\n"
     ]
    },
    {
     "name": "stdout",
     "output_type": "stream",
     "text": [
      "I 2015-09-16 01:28:26 theanets.trainer:169 RmsProp 97 loss=4.405703 err=4.30 hid1<0.1=96.6 hid1<0.9=99.1 out<0.1=99.9 out<0.9=100.0 acc=7.18\n"
     ]
    },
    {
     "name": "stderr",
     "output_type": "stream",
     "text": [
      "INFO:theanets.trainer:RmsProp 98 loss=4.403493 err=4.29 hid1<0.1=96.6 hid1<0.9=99.0 out<0.1=99.9 out<0.9=100.0 acc=7.20\n"
     ]
    },
    {
     "name": "stdout",
     "output_type": "stream",
     "text": [
      "I 2015-09-16 01:28:26 theanets.trainer:169 RmsProp 98 loss=4.403493 err=4.29 hid1<0.1=96.6 hid1<0.9=99.0 out<0.1=99.9 out<0.9=100.0 acc=7.20\n"
     ]
    },
    {
     "name": "stderr",
     "output_type": "stream",
     "text": [
      "INFO:theanets.trainer:RmsProp 99 loss=4.399036 err=4.29 hid1<0.1=96.6 hid1<0.9=99.1 out<0.1=99.9 out<0.9=100.0 acc=7.54\n"
     ]
    },
    {
     "name": "stdout",
     "output_type": "stream",
     "text": [
      "I 2015-09-16 01:28:27 theanets.trainer:169 RmsProp 99 loss=4.399036 err=4.29 hid1<0.1=96.6 hid1<0.9=99.1 out<0.1=99.9 out<0.9=100.0 acc=7.54\n"
     ]
    },
    {
     "name": "stderr",
     "output_type": "stream",
     "text": [
      "INFO:theanets.trainer:RmsProp 100 loss=4.395781 err=4.29 hid1<0.1=96.5 hid1<0.9=99.0 out<0.1=99.9 out<0.9=100.0 acc=7.21\n"
     ]
    },
    {
     "name": "stdout",
     "output_type": "stream",
     "text": [
      "I 2015-09-16 01:28:27 theanets.trainer:169 RmsProp 100 loss=4.395781 err=4.29 hid1<0.1=96.5 hid1<0.9=99.0 out<0.1=99.9 out<0.9=100.0 acc=7.21\n"
     ]
    },
    {
     "name": "stderr",
     "output_type": "stream",
     "text": [
      "INFO:theanets.trainer:validation 10 loss=4.439670 err=4.33 hid1<0.1=96.6 hid1<0.9=99.0 out<0.1=99.9 out<0.9=100.0 acc=7.66 *\n"
     ]
    },
    {
     "name": "stdout",
     "output_type": "stream",
     "text": [
      "I 2015-09-16 01:28:27 theanets.trainer:169 validation 10 loss=4.439670 err=4.33 hid1<0.1=96.6 hid1<0.9=99.0 out<0.1=99.9 out<0.9=100.0 acc=7.66 *\n"
     ]
    },
    {
     "name": "stderr",
     "output_type": "stream",
     "text": [
      "INFO:theanets.trainer:RmsProp 101 loss=4.391821 err=4.28 hid1<0.1=96.6 hid1<0.9=99.0 out<0.1=99.9 out<0.9=100.0 acc=7.34\n"
     ]
    },
    {
     "name": "stdout",
     "output_type": "stream",
     "text": [
      "I 2015-09-16 01:28:27 theanets.trainer:169 RmsProp 101 loss=4.391821 err=4.28 hid1<0.1=96.6 hid1<0.9=99.0 out<0.1=99.9 out<0.9=100.0 acc=7.34\n"
     ]
    },
    {
     "name": "stderr",
     "output_type": "stream",
     "text": [
      "INFO:theanets.trainer:RmsProp 102 loss=4.389145 err=4.28 hid1<0.1=96.6 hid1<0.9=99.0 out<0.1=99.9 out<0.9=100.0 acc=7.60\n"
     ]
    },
    {
     "name": "stdout",
     "output_type": "stream",
     "text": [
      "I 2015-09-16 01:28:28 theanets.trainer:169 RmsProp 102 loss=4.389145 err=4.28 hid1<0.1=96.6 hid1<0.9=99.0 out<0.1=99.9 out<0.9=100.0 acc=7.60\n"
     ]
    },
    {
     "name": "stderr",
     "output_type": "stream",
     "text": [
      "INFO:theanets.trainer:RmsProp 103 loss=4.386158 err=4.28 hid1<0.1=96.6 hid1<0.9=99.0 out<0.1=99.9 out<0.9=100.0 acc=7.52\n"
     ]
    },
    {
     "name": "stdout",
     "output_type": "stream",
     "text": [
      "I 2015-09-16 01:28:28 theanets.trainer:169 RmsProp 103 loss=4.386158 err=4.28 hid1<0.1=96.6 hid1<0.9=99.0 out<0.1=99.9 out<0.9=100.0 acc=7.52\n"
     ]
    },
    {
     "name": "stderr",
     "output_type": "stream",
     "text": [
      "INFO:theanets.trainer:RmsProp 104 loss=4.383983 err=4.27 hid1<0.1=96.6 hid1<0.9=99.0 out<0.1=99.9 out<0.9=100.0 acc=7.77\n"
     ]
    },
    {
     "name": "stdout",
     "output_type": "stream",
     "text": [
      "I 2015-09-16 01:28:28 theanets.trainer:169 RmsProp 104 loss=4.383983 err=4.27 hid1<0.1=96.6 hid1<0.9=99.0 out<0.1=99.9 out<0.9=100.0 acc=7.77\n"
     ]
    },
    {
     "name": "stderr",
     "output_type": "stream",
     "text": [
      "INFO:theanets.trainer:RmsProp 105 loss=4.380274 err=4.27 hid1<0.1=96.6 hid1<0.9=99.0 out<0.1=99.9 out<0.9=100.0 acc=7.43\n"
     ]
    },
    {
     "name": "stdout",
     "output_type": "stream",
     "text": [
      "I 2015-09-16 01:28:29 theanets.trainer:169 RmsProp 105 loss=4.380274 err=4.27 hid1<0.1=96.6 hid1<0.9=99.0 out<0.1=99.9 out<0.9=100.0 acc=7.43\n"
     ]
    },
    {
     "name": "stderr",
     "output_type": "stream",
     "text": [
      "INFO:theanets.trainer:RmsProp 106 loss=4.377556 err=4.27 hid1<0.1=96.6 hid1<0.9=99.0 out<0.1=99.9 out<0.9=100.0 acc=7.94\n"
     ]
    },
    {
     "name": "stdout",
     "output_type": "stream",
     "text": [
      "I 2015-09-16 01:28:29 theanets.trainer:169 RmsProp 106 loss=4.377556 err=4.27 hid1<0.1=96.6 hid1<0.9=99.0 out<0.1=99.9 out<0.9=100.0 acc=7.94\n"
     ]
    },
    {
     "name": "stderr",
     "output_type": "stream",
     "text": [
      "INFO:theanets.trainer:RmsProp 107 loss=4.375278 err=4.26 hid1<0.1=96.6 hid1<0.9=99.0 out<0.1=99.9 out<0.9=100.0 acc=7.57\n"
     ]
    },
    {
     "name": "stdout",
     "output_type": "stream",
     "text": [
      "I 2015-09-16 01:28:29 theanets.trainer:169 RmsProp 107 loss=4.375278 err=4.26 hid1<0.1=96.6 hid1<0.9=99.0 out<0.1=99.9 out<0.9=100.0 acc=7.57\n"
     ]
    },
    {
     "name": "stderr",
     "output_type": "stream",
     "text": [
      "INFO:theanets.trainer:RmsProp 108 loss=4.372415 err=4.26 hid1<0.1=96.6 hid1<0.9=99.0 out<0.1=99.9 out<0.9=100.0 acc=8.12\n"
     ]
    },
    {
     "name": "stdout",
     "output_type": "stream",
     "text": [
      "I 2015-09-16 01:28:29 theanets.trainer:169 RmsProp 108 loss=4.372415 err=4.26 hid1<0.1=96.6 hid1<0.9=99.0 out<0.1=99.9 out<0.9=100.0 acc=8.12\n"
     ]
    },
    {
     "name": "stderr",
     "output_type": "stream",
     "text": [
      "INFO:theanets.trainer:RmsProp 109 loss=4.371431 err=4.26 hid1<0.1=96.6 hid1<0.9=99.0 out<0.1=99.9 out<0.9=100.0 acc=8.00\n"
     ]
    },
    {
     "name": "stdout",
     "output_type": "stream",
     "text": [
      "I 2015-09-16 01:28:30 theanets.trainer:169 RmsProp 109 loss=4.371431 err=4.26 hid1<0.1=96.6 hid1<0.9=99.0 out<0.1=99.9 out<0.9=100.0 acc=8.00\n"
     ]
    },
    {
     "name": "stderr",
     "output_type": "stream",
     "text": [
      "INFO:theanets.trainer:RmsProp 110 loss=4.368392 err=4.26 hid1<0.1=96.5 hid1<0.9=99.0 out<0.1=99.9 out<0.9=100.0 acc=7.95\n"
     ]
    },
    {
     "name": "stdout",
     "output_type": "stream",
     "text": [
      "I 2015-09-16 01:28:30 theanets.trainer:169 RmsProp 110 loss=4.368392 err=4.26 hid1<0.1=96.5 hid1<0.9=99.0 out<0.1=99.9 out<0.9=100.0 acc=7.95\n"
     ]
    },
    {
     "name": "stderr",
     "output_type": "stream",
     "text": [
      "INFO:theanets.trainer:validation 11 loss=4.419380 err=4.30 hid1<0.1=96.5 hid1<0.9=99.0 out<0.1=99.9 out<0.9=100.0 acc=7.93\n"
     ]
    },
    {
     "name": "stdout",
     "output_type": "stream",
     "text": [
      "I 2015-09-16 01:28:30 theanets.trainer:169 validation 11 loss=4.419380 err=4.30 hid1<0.1=96.5 hid1<0.9=99.0 out<0.1=99.9 out<0.9=100.0 acc=7.93\n"
     ]
    },
    {
     "name": "stderr",
     "output_type": "stream",
     "text": [
      "INFO:theanets.trainer:RmsProp 111 loss=4.366743 err=4.25 hid1<0.1=96.6 hid1<0.9=99.0 out<0.1=99.9 out<0.9=100.0 acc=7.94\n"
     ]
    },
    {
     "name": "stdout",
     "output_type": "stream",
     "text": [
      "I 2015-09-16 01:28:30 theanets.trainer:169 RmsProp 111 loss=4.366743 err=4.25 hid1<0.1=96.6 hid1<0.9=99.0 out<0.1=99.9 out<0.9=100.0 acc=7.94\n"
     ]
    },
    {
     "name": "stderr",
     "output_type": "stream",
     "text": [
      "INFO:theanets.trainer:RmsProp 112 loss=4.364198 err=4.25 hid1<0.1=96.5 hid1<0.9=99.0 out<0.1=99.9 out<0.9=100.0 acc=8.19\n"
     ]
    },
    {
     "name": "stdout",
     "output_type": "stream",
     "text": [
      "I 2015-09-16 01:28:31 theanets.trainer:169 RmsProp 112 loss=4.364198 err=4.25 hid1<0.1=96.5 hid1<0.9=99.0 out<0.1=99.9 out<0.9=100.0 acc=8.19\n"
     ]
    },
    {
     "name": "stderr",
     "output_type": "stream",
     "text": [
      "INFO:theanets.trainer:RmsProp 113 loss=4.362275 err=4.25 hid1<0.1=96.5 hid1<0.9=99.0 out<0.1=99.9 out<0.9=100.0 acc=7.99\n"
     ]
    },
    {
     "name": "stdout",
     "output_type": "stream",
     "text": [
      "I 2015-09-16 01:28:31 theanets.trainer:169 RmsProp 113 loss=4.362275 err=4.25 hid1<0.1=96.5 hid1<0.9=99.0 out<0.1=99.9 out<0.9=100.0 acc=7.99\n"
     ]
    },
    {
     "name": "stderr",
     "output_type": "stream",
     "text": [
      "INFO:theanets.trainer:RmsProp 114 loss=4.360933 err=4.25 hid1<0.1=96.5 hid1<0.9=99.0 out<0.1=99.9 out<0.9=100.0 acc=8.00\n"
     ]
    },
    {
     "name": "stdout",
     "output_type": "stream",
     "text": [
      "I 2015-09-16 01:28:31 theanets.trainer:169 RmsProp 114 loss=4.360933 err=4.25 hid1<0.1=96.5 hid1<0.9=99.0 out<0.1=99.9 out<0.9=100.0 acc=8.00\n"
     ]
    },
    {
     "name": "stderr",
     "output_type": "stream",
     "text": [
      "INFO:theanets.trainer:RmsProp 115 loss=4.359538 err=4.25 hid1<0.1=96.5 hid1<0.9=99.0 out<0.1=99.9 out<0.9=100.0 acc=7.87\n"
     ]
    },
    {
     "name": "stdout",
     "output_type": "stream",
     "text": [
      "I 2015-09-16 01:28:31 theanets.trainer:169 RmsProp 115 loss=4.359538 err=4.25 hid1<0.1=96.5 hid1<0.9=99.0 out<0.1=99.9 out<0.9=100.0 acc=7.87\n"
     ]
    },
    {
     "name": "stderr",
     "output_type": "stream",
     "text": [
      "INFO:theanets.trainer:RmsProp 116 loss=4.356013 err=4.24 hid1<0.1=96.5 hid1<0.9=99.0 out<0.1=99.9 out<0.9=100.0 acc=7.84\n"
     ]
    },
    {
     "name": "stdout",
     "output_type": "stream",
     "text": [
      "I 2015-09-16 01:28:32 theanets.trainer:169 RmsProp 116 loss=4.356013 err=4.24 hid1<0.1=96.5 hid1<0.9=99.0 out<0.1=99.9 out<0.9=100.0 acc=7.84\n"
     ]
    },
    {
     "name": "stderr",
     "output_type": "stream",
     "text": [
      "INFO:theanets.trainer:RmsProp 117 loss=4.354908 err=4.24 hid1<0.1=96.5 hid1<0.9=99.0 out<0.1=99.9 out<0.9=100.0 acc=7.82\n"
     ]
    },
    {
     "name": "stdout",
     "output_type": "stream",
     "text": [
      "I 2015-09-16 01:28:32 theanets.trainer:169 RmsProp 117 loss=4.354908 err=4.24 hid1<0.1=96.5 hid1<0.9=99.0 out<0.1=99.9 out<0.9=100.0 acc=7.82\n"
     ]
    },
    {
     "name": "stderr",
     "output_type": "stream",
     "text": [
      "INFO:theanets.trainer:RmsProp 118 loss=4.351700 err=4.24 hid1<0.1=96.5 hid1<0.9=99.0 out<0.1=99.9 out<0.9=100.0 acc=8.24\n"
     ]
    },
    {
     "name": "stdout",
     "output_type": "stream",
     "text": [
      "I 2015-09-16 01:28:32 theanets.trainer:169 RmsProp 118 loss=4.351700 err=4.24 hid1<0.1=96.5 hid1<0.9=99.0 out<0.1=99.9 out<0.9=100.0 acc=8.24\n"
     ]
    },
    {
     "name": "stderr",
     "output_type": "stream",
     "text": [
      "INFO:theanets.trainer:RmsProp 119 loss=4.349983 err=4.24 hid1<0.1=96.5 hid1<0.9=98.9 out<0.1=99.9 out<0.9=100.0 acc=8.11\n"
     ]
    },
    {
     "name": "stdout",
     "output_type": "stream",
     "text": [
      "I 2015-09-16 01:28:33 theanets.trainer:169 RmsProp 119 loss=4.349983 err=4.24 hid1<0.1=96.5 hid1<0.9=98.9 out<0.1=99.9 out<0.9=100.0 acc=8.11\n"
     ]
    },
    {
     "name": "stderr",
     "output_type": "stream",
     "text": [
      "INFO:theanets.trainer:RmsProp 120 loss=4.348404 err=4.23 hid1<0.1=96.5 hid1<0.9=98.9 out<0.1=99.9 out<0.9=100.0 acc=8.04\n"
     ]
    },
    {
     "name": "stdout",
     "output_type": "stream",
     "text": [
      "I 2015-09-16 01:28:33 theanets.trainer:169 RmsProp 120 loss=4.348404 err=4.23 hid1<0.1=96.5 hid1<0.9=98.9 out<0.1=99.9 out<0.9=100.0 acc=8.04\n"
     ]
    },
    {
     "name": "stderr",
     "output_type": "stream",
     "text": [
      "INFO:theanets.trainer:validation 12 loss=4.398981 err=4.28 hid1<0.1=96.4 hid1<0.9=98.9 out<0.1=99.9 out<0.9=100.0 acc=8.47\n"
     ]
    },
    {
     "name": "stdout",
     "output_type": "stream",
     "text": [
      "I 2015-09-16 01:28:33 theanets.trainer:169 validation 12 loss=4.398981 err=4.28 hid1<0.1=96.4 hid1<0.9=98.9 out<0.1=99.9 out<0.9=100.0 acc=8.47\n"
     ]
    },
    {
     "name": "stderr",
     "output_type": "stream",
     "text": [
      "INFO:theanets.trainer:RmsProp 121 loss=4.347010 err=4.23 hid1<0.1=96.5 hid1<0.9=98.9 out<0.1=99.9 out<0.9=100.0 acc=8.41\n"
     ]
    },
    {
     "name": "stdout",
     "output_type": "stream",
     "text": [
      "I 2015-09-16 01:28:33 theanets.trainer:169 RmsProp 121 loss=4.347010 err=4.23 hid1<0.1=96.5 hid1<0.9=98.9 out<0.1=99.9 out<0.9=100.0 acc=8.41\n"
     ]
    },
    {
     "name": "stderr",
     "output_type": "stream",
     "text": [
      "INFO:theanets.trainer:RmsProp 122 loss=4.345991 err=4.23 hid1<0.1=96.5 hid1<0.9=98.9 out<0.1=99.9 out<0.9=100.0 acc=8.13\n"
     ]
    },
    {
     "name": "stdout",
     "output_type": "stream",
     "text": [
      "I 2015-09-16 01:28:33 theanets.trainer:169 RmsProp 122 loss=4.345991 err=4.23 hid1<0.1=96.5 hid1<0.9=98.9 out<0.1=99.9 out<0.9=100.0 acc=8.13\n"
     ]
    },
    {
     "name": "stderr",
     "output_type": "stream",
     "text": [
      "INFO:theanets.trainer:RmsProp 123 loss=4.343024 err=4.23 hid1<0.1=96.5 hid1<0.9=98.9 out<0.1=99.9 out<0.9=100.0 acc=7.96\n"
     ]
    },
    {
     "name": "stdout",
     "output_type": "stream",
     "text": [
      "I 2015-09-16 01:28:34 theanets.trainer:169 RmsProp 123 loss=4.343024 err=4.23 hid1<0.1=96.5 hid1<0.9=98.9 out<0.1=99.9 out<0.9=100.0 acc=7.96\n"
     ]
    },
    {
     "name": "stderr",
     "output_type": "stream",
     "text": [
      "INFO:theanets.trainer:RmsProp 124 loss=4.341284 err=4.23 hid1<0.1=96.5 hid1<0.9=98.9 out<0.1=99.9 out<0.9=100.0 acc=8.05\n"
     ]
    },
    {
     "name": "stdout",
     "output_type": "stream",
     "text": [
      "I 2015-09-16 01:28:34 theanets.trainer:169 RmsProp 124 loss=4.341284 err=4.23 hid1<0.1=96.5 hid1<0.9=98.9 out<0.1=99.9 out<0.9=100.0 acc=8.05\n"
     ]
    },
    {
     "name": "stderr",
     "output_type": "stream",
     "text": [
      "INFO:theanets.trainer:RmsProp 125 loss=4.339443 err=4.22 hid1<0.1=96.5 hid1<0.9=98.9 out<0.1=99.9 out<0.9=100.0 acc=8.21\n"
     ]
    },
    {
     "name": "stdout",
     "output_type": "stream",
     "text": [
      "I 2015-09-16 01:28:34 theanets.trainer:169 RmsProp 125 loss=4.339443 err=4.22 hid1<0.1=96.5 hid1<0.9=98.9 out<0.1=99.9 out<0.9=100.0 acc=8.21\n"
     ]
    },
    {
     "name": "stderr",
     "output_type": "stream",
     "text": [
      "INFO:theanets.trainer:RmsProp 126 loss=4.338030 err=4.22 hid1<0.1=96.4 hid1<0.9=98.9 out<0.1=99.9 out<0.9=100.0 acc=8.33\n"
     ]
    },
    {
     "name": "stdout",
     "output_type": "stream",
     "text": [
      "I 2015-09-16 01:28:35 theanets.trainer:169 RmsProp 126 loss=4.338030 err=4.22 hid1<0.1=96.4 hid1<0.9=98.9 out<0.1=99.9 out<0.9=100.0 acc=8.33\n"
     ]
    },
    {
     "name": "stderr",
     "output_type": "stream",
     "text": [
      "INFO:theanets.trainer:RmsProp 127 loss=4.336356 err=4.22 hid1<0.1=96.4 hid1<0.9=98.9 out<0.1=99.9 out<0.9=100.0 acc=8.32\n"
     ]
    },
    {
     "name": "stdout",
     "output_type": "stream",
     "text": [
      "I 2015-09-16 01:28:35 theanets.trainer:169 RmsProp 127 loss=4.336356 err=4.22 hid1<0.1=96.4 hid1<0.9=98.9 out<0.1=99.9 out<0.9=100.0 acc=8.32\n"
     ]
    },
    {
     "name": "stderr",
     "output_type": "stream",
     "text": [
      "INFO:theanets.trainer:RmsProp 128 loss=4.333790 err=4.22 hid1<0.1=96.4 hid1<0.9=98.9 out<0.1=99.9 out<0.9=100.0 acc=8.07\n"
     ]
    },
    {
     "name": "stdout",
     "output_type": "stream",
     "text": [
      "I 2015-09-16 01:28:35 theanets.trainer:169 RmsProp 128 loss=4.333790 err=4.22 hid1<0.1=96.4 hid1<0.9=98.9 out<0.1=99.9 out<0.9=100.0 acc=8.07\n"
     ]
    },
    {
     "name": "stderr",
     "output_type": "stream",
     "text": [
      "INFO:theanets.trainer:RmsProp 129 loss=4.332059 err=4.21 hid1<0.1=96.4 hid1<0.9=98.9 out<0.1=99.9 out<0.9=100.0 acc=8.44\n"
     ]
    },
    {
     "name": "stdout",
     "output_type": "stream",
     "text": [
      "I 2015-09-16 01:28:35 theanets.trainer:169 RmsProp 129 loss=4.332059 err=4.21 hid1<0.1=96.4 hid1<0.9=98.9 out<0.1=99.9 out<0.9=100.0 acc=8.44\n"
     ]
    },
    {
     "name": "stderr",
     "output_type": "stream",
     "text": [
      "INFO:theanets.trainer:RmsProp 130 loss=4.332208 err=4.21 hid1<0.1=96.4 hid1<0.9=98.9 out<0.1=99.9 out<0.9=100.0 acc=8.25\n"
     ]
    },
    {
     "name": "stdout",
     "output_type": "stream",
     "text": [
      "I 2015-09-16 01:28:36 theanets.trainer:169 RmsProp 130 loss=4.332208 err=4.21 hid1<0.1=96.4 hid1<0.9=98.9 out<0.1=99.9 out<0.9=100.0 acc=8.25\n"
     ]
    },
    {
     "name": "stderr",
     "output_type": "stream",
     "text": [
      "INFO:theanets.trainer:validation 13 loss=4.388001 err=4.27 hid1<0.1=96.4 hid1<0.9=98.8 out<0.1=99.9 out<0.9=100.0 acc=8.13 *\n"
     ]
    },
    {
     "name": "stdout",
     "output_type": "stream",
     "text": [
      "I 2015-09-16 01:28:36 theanets.trainer:169 validation 13 loss=4.388001 err=4.27 hid1<0.1=96.4 hid1<0.9=98.8 out<0.1=99.9 out<0.9=100.0 acc=8.13 *\n"
     ]
    },
    {
     "name": "stderr",
     "output_type": "stream",
     "text": [
      "INFO:theanets.trainer:RmsProp 131 loss=4.328955 err=4.21 hid1<0.1=96.4 hid1<0.9=98.9 out<0.1=99.9 out<0.9=100.0 acc=8.33\n"
     ]
    },
    {
     "name": "stdout",
     "output_type": "stream",
     "text": [
      "I 2015-09-16 01:28:36 theanets.trainer:169 RmsProp 131 loss=4.328955 err=4.21 hid1<0.1=96.4 hid1<0.9=98.9 out<0.1=99.9 out<0.9=100.0 acc=8.33\n"
     ]
    },
    {
     "name": "stderr",
     "output_type": "stream",
     "text": [
      "INFO:theanets.trainer:RmsProp 132 loss=4.327947 err=4.21 hid1<0.1=96.4 hid1<0.9=98.9 out<0.1=99.9 out<0.9=100.0 acc=8.31\n"
     ]
    },
    {
     "name": "stdout",
     "output_type": "stream",
     "text": [
      "I 2015-09-16 01:28:36 theanets.trainer:169 RmsProp 132 loss=4.327947 err=4.21 hid1<0.1=96.4 hid1<0.9=98.9 out<0.1=99.9 out<0.9=100.0 acc=8.31\n"
     ]
    },
    {
     "name": "stderr",
     "output_type": "stream",
     "text": [
      "INFO:theanets.trainer:RmsProp 133 loss=4.326163 err=4.21 hid1<0.1=96.4 hid1<0.9=98.9 out<0.1=99.9 out<0.9=100.0 acc=8.62\n"
     ]
    },
    {
     "name": "stdout",
     "output_type": "stream",
     "text": [
      "I 2015-09-16 01:28:37 theanets.trainer:169 RmsProp 133 loss=4.326163 err=4.21 hid1<0.1=96.4 hid1<0.9=98.9 out<0.1=99.9 out<0.9=100.0 acc=8.62\n"
     ]
    },
    {
     "name": "stderr",
     "output_type": "stream",
     "text": [
      "INFO:theanets.trainer:RmsProp 134 loss=4.323984 err=4.20 hid1<0.1=96.4 hid1<0.9=98.9 out<0.1=99.9 out<0.9=100.0 acc=8.32\n"
     ]
    },
    {
     "name": "stdout",
     "output_type": "stream",
     "text": [
      "I 2015-09-16 01:28:37 theanets.trainer:169 RmsProp 134 loss=4.323984 err=4.20 hid1<0.1=96.4 hid1<0.9=98.9 out<0.1=99.9 out<0.9=100.0 acc=8.32\n"
     ]
    },
    {
     "name": "stderr",
     "output_type": "stream",
     "text": [
      "INFO:theanets.trainer:RmsProp 135 loss=4.322527 err=4.20 hid1<0.1=96.4 hid1<0.9=98.9 out<0.1=99.9 out<0.9=100.0 acc=8.08\n"
     ]
    },
    {
     "name": "stdout",
     "output_type": "stream",
     "text": [
      "I 2015-09-16 01:28:37 theanets.trainer:169 RmsProp 135 loss=4.322527 err=4.20 hid1<0.1=96.4 hid1<0.9=98.9 out<0.1=99.9 out<0.9=100.0 acc=8.08\n"
     ]
    },
    {
     "name": "stderr",
     "output_type": "stream",
     "text": [
      "INFO:theanets.trainer:RmsProp 136 loss=4.322453 err=4.20 hid1<0.1=96.4 hid1<0.9=98.9 out<0.1=99.9 out<0.9=100.0 acc=8.12\n"
     ]
    },
    {
     "name": "stdout",
     "output_type": "stream",
     "text": [
      "I 2015-09-16 01:28:38 theanets.trainer:169 RmsProp 136 loss=4.322453 err=4.20 hid1<0.1=96.4 hid1<0.9=98.9 out<0.1=99.9 out<0.9=100.0 acc=8.12\n"
     ]
    },
    {
     "name": "stderr",
     "output_type": "stream",
     "text": [
      "INFO:theanets.trainer:RmsProp 137 loss=4.319496 err=4.20 hid1<0.1=96.3 hid1<0.9=98.9 out<0.1=99.9 out<0.9=100.0 acc=8.64\n"
     ]
    },
    {
     "name": "stdout",
     "output_type": "stream",
     "text": [
      "I 2015-09-16 01:28:38 theanets.trainer:169 RmsProp 137 loss=4.319496 err=4.20 hid1<0.1=96.3 hid1<0.9=98.9 out<0.1=99.9 out<0.9=100.0 acc=8.64\n"
     ]
    },
    {
     "name": "stderr",
     "output_type": "stream",
     "text": [
      "INFO:theanets.trainer:RmsProp 138 loss=4.318100 err=4.20 hid1<0.1=96.4 hid1<0.9=98.9 out<0.1=99.9 out<0.9=100.0 acc=8.12\n"
     ]
    },
    {
     "name": "stdout",
     "output_type": "stream",
     "text": [
      "I 2015-09-16 01:28:38 theanets.trainer:169 RmsProp 138 loss=4.318100 err=4.20 hid1<0.1=96.4 hid1<0.9=98.9 out<0.1=99.9 out<0.9=100.0 acc=8.12\n"
     ]
    },
    {
     "name": "stderr",
     "output_type": "stream",
     "text": [
      "INFO:theanets.trainer:RmsProp 139 loss=4.316503 err=4.20 hid1<0.1=96.3 hid1<0.9=98.9 out<0.1=99.9 out<0.9=100.0 acc=8.83\n"
     ]
    },
    {
     "name": "stdout",
     "output_type": "stream",
     "text": [
      "I 2015-09-16 01:28:39 theanets.trainer:169 RmsProp 139 loss=4.316503 err=4.20 hid1<0.1=96.3 hid1<0.9=98.9 out<0.1=99.9 out<0.9=100.0 acc=8.83\n"
     ]
    },
    {
     "name": "stderr",
     "output_type": "stream",
     "text": [
      "INFO:theanets.trainer:RmsProp 140 loss=4.314840 err=4.19 hid1<0.1=96.3 hid1<0.9=98.8 out<0.1=99.9 out<0.9=100.0 acc=8.37\n"
     ]
    },
    {
     "name": "stdout",
     "output_type": "stream",
     "text": [
      "I 2015-09-16 01:28:39 theanets.trainer:169 RmsProp 140 loss=4.314840 err=4.19 hid1<0.1=96.3 hid1<0.9=98.8 out<0.1=99.9 out<0.9=100.0 acc=8.37\n"
     ]
    },
    {
     "name": "stderr",
     "output_type": "stream",
     "text": [
      "INFO:theanets.trainer:validation 14 loss=4.372751 err=4.25 hid1<0.1=96.2 hid1<0.9=98.8 out<0.1=99.8 out<0.9=100.0 acc=8.54\n"
     ]
    },
    {
     "name": "stdout",
     "output_type": "stream",
     "text": [
      "I 2015-09-16 01:28:39 theanets.trainer:169 validation 14 loss=4.372751 err=4.25 hid1<0.1=96.2 hid1<0.9=98.8 out<0.1=99.8 out<0.9=100.0 acc=8.54\n"
     ]
    },
    {
     "name": "stderr",
     "output_type": "stream",
     "text": [
      "INFO:theanets.trainer:RmsProp 141 loss=4.314042 err=4.19 hid1<0.1=96.3 hid1<0.9=98.8 out<0.1=99.9 out<0.9=100.0 acc=8.51\n"
     ]
    },
    {
     "name": "stdout",
     "output_type": "stream",
     "text": [
      "I 2015-09-16 01:28:39 theanets.trainer:169 RmsProp 141 loss=4.314042 err=4.19 hid1<0.1=96.3 hid1<0.9=98.8 out<0.1=99.9 out<0.9=100.0 acc=8.51\n"
     ]
    },
    {
     "name": "stderr",
     "output_type": "stream",
     "text": [
      "INFO:theanets.trainer:RmsProp 142 loss=4.312453 err=4.19 hid1<0.1=96.3 hid1<0.9=98.8 out<0.1=99.9 out<0.9=100.0 acc=8.32\n"
     ]
    },
    {
     "name": "stdout",
     "output_type": "stream",
     "text": [
      "I 2015-09-16 01:28:40 theanets.trainer:169 RmsProp 142 loss=4.312453 err=4.19 hid1<0.1=96.3 hid1<0.9=98.8 out<0.1=99.9 out<0.9=100.0 acc=8.32\n"
     ]
    },
    {
     "name": "stderr",
     "output_type": "stream",
     "text": [
      "INFO:theanets.trainer:RmsProp 143 loss=4.310238 err=4.19 hid1<0.1=96.3 hid1<0.9=98.8 out<0.1=99.9 out<0.9=100.0 acc=8.21\n"
     ]
    },
    {
     "name": "stdout",
     "output_type": "stream",
     "text": [
      "I 2015-09-16 01:28:40 theanets.trainer:169 RmsProp 143 loss=4.310238 err=4.19 hid1<0.1=96.3 hid1<0.9=98.8 out<0.1=99.9 out<0.9=100.0 acc=8.21\n"
     ]
    },
    {
     "name": "stderr",
     "output_type": "stream",
     "text": [
      "INFO:theanets.trainer:RmsProp 144 loss=4.310103 err=4.19 hid1<0.1=96.3 hid1<0.9=98.8 out<0.1=99.9 out<0.9=100.0 acc=8.47\n"
     ]
    },
    {
     "name": "stdout",
     "output_type": "stream",
     "text": [
      "I 2015-09-16 01:28:40 theanets.trainer:169 RmsProp 144 loss=4.310103 err=4.19 hid1<0.1=96.3 hid1<0.9=98.8 out<0.1=99.9 out<0.9=100.0 acc=8.47\n"
     ]
    },
    {
     "name": "stderr",
     "output_type": "stream",
     "text": [
      "INFO:theanets.trainer:RmsProp 145 loss=4.309559 err=4.19 hid1<0.1=96.3 hid1<0.9=98.8 out<0.1=99.9 out<0.9=100.0 acc=8.39\n"
     ]
    },
    {
     "name": "stdout",
     "output_type": "stream",
     "text": [
      "I 2015-09-16 01:28:41 theanets.trainer:169 RmsProp 145 loss=4.309559 err=4.19 hid1<0.1=96.3 hid1<0.9=98.8 out<0.1=99.9 out<0.9=100.0 acc=8.39\n"
     ]
    },
    {
     "name": "stderr",
     "output_type": "stream",
     "text": [
      "INFO:theanets.trainer:RmsProp 146 loss=4.307913 err=4.19 hid1<0.1=96.3 hid1<0.9=98.8 out<0.1=99.9 out<0.9=100.0 acc=8.41\n"
     ]
    },
    {
     "name": "stdout",
     "output_type": "stream",
     "text": [
      "I 2015-09-16 01:28:41 theanets.trainer:169 RmsProp 146 loss=4.307913 err=4.19 hid1<0.1=96.3 hid1<0.9=98.8 out<0.1=99.9 out<0.9=100.0 acc=8.41\n"
     ]
    },
    {
     "name": "stderr",
     "output_type": "stream",
     "text": [
      "INFO:theanets.trainer:RmsProp 147 loss=4.306717 err=4.19 hid1<0.1=96.3 hid1<0.9=98.8 out<0.1=99.8 out<0.9=100.0 acc=8.48\n"
     ]
    },
    {
     "name": "stdout",
     "output_type": "stream",
     "text": [
      "I 2015-09-16 01:28:41 theanets.trainer:169 RmsProp 147 loss=4.306717 err=4.19 hid1<0.1=96.3 hid1<0.9=98.8 out<0.1=99.8 out<0.9=100.0 acc=8.48\n"
     ]
    },
    {
     "name": "stderr",
     "output_type": "stream",
     "text": [
      "INFO:theanets.trainer:RmsProp 148 loss=4.304955 err=4.18 hid1<0.1=96.3 hid1<0.9=98.8 out<0.1=99.8 out<0.9=100.0 acc=8.38\n"
     ]
    },
    {
     "name": "stdout",
     "output_type": "stream",
     "text": [
      "I 2015-09-16 01:28:42 theanets.trainer:169 RmsProp 148 loss=4.304955 err=4.18 hid1<0.1=96.3 hid1<0.9=98.8 out<0.1=99.8 out<0.9=100.0 acc=8.38\n"
     ]
    },
    {
     "name": "stderr",
     "output_type": "stream",
     "text": [
      "INFO:theanets.trainer:RmsProp 149 loss=4.304820 err=4.18 hid1<0.1=96.3 hid1<0.9=98.8 out<0.1=99.8 out<0.9=100.0 acc=8.24\n"
     ]
    },
    {
     "name": "stdout",
     "output_type": "stream",
     "text": [
      "I 2015-09-16 01:28:42 theanets.trainer:169 RmsProp 149 loss=4.304820 err=4.18 hid1<0.1=96.3 hid1<0.9=98.8 out<0.1=99.8 out<0.9=100.0 acc=8.24\n"
     ]
    },
    {
     "name": "stderr",
     "output_type": "stream",
     "text": [
      "INFO:theanets.trainer:RmsProp 150 loss=4.302747 err=4.18 hid1<0.1=96.3 hid1<0.9=98.8 out<0.1=99.8 out<0.9=100.0 acc=8.65\n"
     ]
    },
    {
     "name": "stdout",
     "output_type": "stream",
     "text": [
      "I 2015-09-16 01:28:42 theanets.trainer:169 RmsProp 150 loss=4.302747 err=4.18 hid1<0.1=96.3 hid1<0.9=98.8 out<0.1=99.8 out<0.9=100.0 acc=8.65\n"
     ]
    },
    {
     "name": "stderr",
     "output_type": "stream",
     "text": [
      "INFO:theanets.trainer:validation 15 loss=4.369592 err=4.25 hid1<0.1=96.2 hid1<0.9=98.7 out<0.1=99.8 out<0.9=100.0 acc=8.44\n"
     ]
    },
    {
     "name": "stdout",
     "output_type": "stream",
     "text": [
      "I 2015-09-16 01:28:42 theanets.trainer:169 validation 15 loss=4.369592 err=4.25 hid1<0.1=96.2 hid1<0.9=98.7 out<0.1=99.8 out<0.9=100.0 acc=8.44\n"
     ]
    },
    {
     "name": "stderr",
     "output_type": "stream",
     "text": [
      "INFO:theanets.trainer:RmsProp 151 loss=4.302832 err=4.18 hid1<0.1=96.3 hid1<0.9=98.8 out<0.1=99.8 out<0.9=100.0 acc=8.50\n"
     ]
    },
    {
     "name": "stdout",
     "output_type": "stream",
     "text": [
      "I 2015-09-16 01:28:43 theanets.trainer:169 RmsProp 151 loss=4.302832 err=4.18 hid1<0.1=96.3 hid1<0.9=98.8 out<0.1=99.8 out<0.9=100.0 acc=8.50\n"
     ]
    },
    {
     "name": "stderr",
     "output_type": "stream",
     "text": [
      "INFO:theanets.trainer:RmsProp 152 loss=4.301625 err=4.18 hid1<0.1=96.3 hid1<0.9=98.8 out<0.1=99.8 out<0.9=100.0 acc=8.51\n"
     ]
    },
    {
     "name": "stdout",
     "output_type": "stream",
     "text": [
      "I 2015-09-16 01:28:43 theanets.trainer:169 RmsProp 152 loss=4.301625 err=4.18 hid1<0.1=96.3 hid1<0.9=98.8 out<0.1=99.8 out<0.9=100.0 acc=8.51\n"
     ]
    },
    {
     "name": "stderr",
     "output_type": "stream",
     "text": [
      "INFO:theanets.trainer:RmsProp 153 loss=4.300034 err=4.18 hid1<0.1=96.3 hid1<0.9=98.8 out<0.1=99.8 out<0.9=100.0 acc=8.55\n"
     ]
    },
    {
     "name": "stdout",
     "output_type": "stream",
     "text": [
      "I 2015-09-16 01:28:43 theanets.trainer:169 RmsProp 153 loss=4.300034 err=4.18 hid1<0.1=96.3 hid1<0.9=98.8 out<0.1=99.8 out<0.9=100.0 acc=8.55\n"
     ]
    },
    {
     "name": "stderr",
     "output_type": "stream",
     "text": [
      "INFO:theanets.trainer:RmsProp 154 loss=4.300277 err=4.18 hid1<0.1=96.3 hid1<0.9=98.8 out<0.1=99.8 out<0.9=100.0 acc=8.64\n"
     ]
    },
    {
     "name": "stdout",
     "output_type": "stream",
     "text": [
      "I 2015-09-16 01:28:44 theanets.trainer:169 RmsProp 154 loss=4.300277 err=4.18 hid1<0.1=96.3 hid1<0.9=98.8 out<0.1=99.8 out<0.9=100.0 acc=8.64\n"
     ]
    },
    {
     "name": "stderr",
     "output_type": "stream",
     "text": [
      "INFO:theanets.trainer:RmsProp 155 loss=4.297411 err=4.17 hid1<0.1=96.3 hid1<0.9=98.8 out<0.1=99.8 out<0.9=100.0 acc=8.80\n"
     ]
    },
    {
     "name": "stdout",
     "output_type": "stream",
     "text": [
      "I 2015-09-16 01:28:44 theanets.trainer:169 RmsProp 155 loss=4.297411 err=4.17 hid1<0.1=96.3 hid1<0.9=98.8 out<0.1=99.8 out<0.9=100.0 acc=8.80\n"
     ]
    },
    {
     "name": "stderr",
     "output_type": "stream",
     "text": [
      "INFO:theanets.trainer:RmsProp 156 loss=4.298218 err=4.17 hid1<0.1=96.3 hid1<0.9=98.8 out<0.1=99.8 out<0.9=100.0 acc=8.57\n"
     ]
    },
    {
     "name": "stdout",
     "output_type": "stream",
     "text": [
      "I 2015-09-16 01:28:44 theanets.trainer:169 RmsProp 156 loss=4.298218 err=4.17 hid1<0.1=96.3 hid1<0.9=98.8 out<0.1=99.8 out<0.9=100.0 acc=8.57\n"
     ]
    },
    {
     "name": "stderr",
     "output_type": "stream",
     "text": [
      "INFO:theanets.trainer:RmsProp 157 loss=4.294830 err=4.17 hid1<0.1=96.3 hid1<0.9=98.8 out<0.1=99.8 out<0.9=100.0 acc=8.64\n"
     ]
    },
    {
     "name": "stdout",
     "output_type": "stream",
     "text": [
      "I 2015-09-16 01:28:45 theanets.trainer:169 RmsProp 157 loss=4.294830 err=4.17 hid1<0.1=96.3 hid1<0.9=98.8 out<0.1=99.8 out<0.9=100.0 acc=8.64\n"
     ]
    },
    {
     "name": "stderr",
     "output_type": "stream",
     "text": [
      "INFO:theanets.trainer:RmsProp 158 loss=4.294913 err=4.17 hid1<0.1=96.2 hid1<0.9=98.8 out<0.1=99.8 out<0.9=100.0 acc=8.65\n"
     ]
    },
    {
     "name": "stdout",
     "output_type": "stream",
     "text": [
      "I 2015-09-16 01:28:45 theanets.trainer:169 RmsProp 158 loss=4.294913 err=4.17 hid1<0.1=96.2 hid1<0.9=98.8 out<0.1=99.8 out<0.9=100.0 acc=8.65\n"
     ]
    },
    {
     "name": "stderr",
     "output_type": "stream",
     "text": [
      "INFO:theanets.trainer:RmsProp 159 loss=4.294403 err=4.17 hid1<0.1=96.2 hid1<0.9=98.8 out<0.1=99.8 out<0.9=100.0 acc=8.47\n"
     ]
    },
    {
     "name": "stdout",
     "output_type": "stream",
     "text": [
      "I 2015-09-16 01:28:45 theanets.trainer:169 RmsProp 159 loss=4.294403 err=4.17 hid1<0.1=96.2 hid1<0.9=98.8 out<0.1=99.8 out<0.9=100.0 acc=8.47\n"
     ]
    },
    {
     "name": "stderr",
     "output_type": "stream",
     "text": [
      "INFO:theanets.trainer:RmsProp 160 loss=4.292911 err=4.17 hid1<0.1=96.2 hid1<0.9=98.8 out<0.1=99.8 out<0.9=100.0 acc=8.88\n"
     ]
    },
    {
     "name": "stdout",
     "output_type": "stream",
     "text": [
      "I 2015-09-16 01:28:46 theanets.trainer:169 RmsProp 160 loss=4.292911 err=4.17 hid1<0.1=96.2 hid1<0.9=98.8 out<0.1=99.8 out<0.9=100.0 acc=8.88\n"
     ]
    },
    {
     "name": "stderr",
     "output_type": "stream",
     "text": [
      "INFO:theanets.trainer:validation 16 loss=4.363050 err=4.23 hid1<0.1=96.2 hid1<0.9=98.7 out<0.1=99.8 out<0.9=100.0 acc=8.30\n"
     ]
    },
    {
     "name": "stdout",
     "output_type": "stream",
     "text": [
      "I 2015-09-16 01:28:46 theanets.trainer:169 validation 16 loss=4.363050 err=4.23 hid1<0.1=96.2 hid1<0.9=98.7 out<0.1=99.8 out<0.9=100.0 acc=8.30\n"
     ]
    },
    {
     "name": "stderr",
     "output_type": "stream",
     "text": [
      "INFO:theanets.trainer:RmsProp 161 loss=4.291275 err=4.17 hid1<0.1=96.2 hid1<0.9=98.8 out<0.1=99.8 out<0.9=100.0 acc=8.38\n"
     ]
    },
    {
     "name": "stdout",
     "output_type": "stream",
     "text": [
      "I 2015-09-16 01:28:46 theanets.trainer:169 RmsProp 161 loss=4.291275 err=4.17 hid1<0.1=96.2 hid1<0.9=98.8 out<0.1=99.8 out<0.9=100.0 acc=8.38\n"
     ]
    },
    {
     "name": "stderr",
     "output_type": "stream",
     "text": [
      "INFO:theanets.trainer:RmsProp 162 loss=4.290847 err=4.17 hid1<0.1=96.2 hid1<0.9=98.8 out<0.1=99.8 out<0.9=100.0 acc=8.53\n"
     ]
    },
    {
     "name": "stdout",
     "output_type": "stream",
     "text": [
      "I 2015-09-16 01:28:47 theanets.trainer:169 RmsProp 162 loss=4.290847 err=4.17 hid1<0.1=96.2 hid1<0.9=98.8 out<0.1=99.8 out<0.9=100.0 acc=8.53\n"
     ]
    },
    {
     "name": "stderr",
     "output_type": "stream",
     "text": [
      "INFO:theanets.trainer:RmsProp 163 loss=4.289896 err=4.17 hid1<0.1=96.2 hid1<0.9=98.8 out<0.1=99.8 out<0.9=100.0 acc=8.58\n"
     ]
    },
    {
     "name": "stdout",
     "output_type": "stream",
     "text": [
      "I 2015-09-16 01:28:47 theanets.trainer:169 RmsProp 163 loss=4.289896 err=4.17 hid1<0.1=96.2 hid1<0.9=98.8 out<0.1=99.8 out<0.9=100.0 acc=8.58\n"
     ]
    },
    {
     "name": "stderr",
     "output_type": "stream",
     "text": [
      "INFO:theanets.trainer:RmsProp 164 loss=4.288615 err=4.16 hid1<0.1=96.2 hid1<0.9=98.8 out<0.1=99.8 out<0.9=100.0 acc=8.44\n"
     ]
    },
    {
     "name": "stdout",
     "output_type": "stream",
     "text": [
      "I 2015-09-16 01:28:47 theanets.trainer:169 RmsProp 164 loss=4.288615 err=4.16 hid1<0.1=96.2 hid1<0.9=98.8 out<0.1=99.8 out<0.9=100.0 acc=8.44\n"
     ]
    },
    {
     "name": "stderr",
     "output_type": "stream",
     "text": [
      "INFO:theanets.trainer:RmsProp 165 loss=4.287486 err=4.16 hid1<0.1=96.2 hid1<0.9=98.8 out<0.1=99.8 out<0.9=100.0 acc=9.05\n"
     ]
    },
    {
     "name": "stdout",
     "output_type": "stream",
     "text": [
      "I 2015-09-16 01:28:48 theanets.trainer:169 RmsProp 165 loss=4.287486 err=4.16 hid1<0.1=96.2 hid1<0.9=98.8 out<0.1=99.8 out<0.9=100.0 acc=9.05\n"
     ]
    },
    {
     "name": "stderr",
     "output_type": "stream",
     "text": [
      "INFO:theanets.trainer:RmsProp 166 loss=4.285734 err=4.16 hid1<0.1=96.2 hid1<0.9=98.8 out<0.1=99.8 out<0.9=100.0 acc=8.57\n"
     ]
    },
    {
     "name": "stdout",
     "output_type": "stream",
     "text": [
      "I 2015-09-16 01:28:48 theanets.trainer:169 RmsProp 166 loss=4.285734 err=4.16 hid1<0.1=96.2 hid1<0.9=98.8 out<0.1=99.8 out<0.9=100.0 acc=8.57\n"
     ]
    },
    {
     "name": "stderr",
     "output_type": "stream",
     "text": [
      "INFO:theanets.trainer:RmsProp 167 loss=4.286601 err=4.16 hid1<0.1=96.2 hid1<0.9=98.8 out<0.1=99.8 out<0.9=100.0 acc=8.48\n"
     ]
    },
    {
     "name": "stdout",
     "output_type": "stream",
     "text": [
      "I 2015-09-16 01:28:49 theanets.trainer:169 RmsProp 167 loss=4.286601 err=4.16 hid1<0.1=96.2 hid1<0.9=98.8 out<0.1=99.8 out<0.9=100.0 acc=8.48\n"
     ]
    },
    {
     "name": "stderr",
     "output_type": "stream",
     "text": [
      "INFO:theanets.trainer:RmsProp 168 loss=4.285649 err=4.16 hid1<0.1=96.2 hid1<0.9=98.7 out<0.1=99.8 out<0.9=100.0 acc=8.71\n"
     ]
    },
    {
     "name": "stdout",
     "output_type": "stream",
     "text": [
      "I 2015-09-16 01:28:49 theanets.trainer:169 RmsProp 168 loss=4.285649 err=4.16 hid1<0.1=96.2 hid1<0.9=98.7 out<0.1=99.8 out<0.9=100.0 acc=8.71\n"
     ]
    },
    {
     "name": "stderr",
     "output_type": "stream",
     "text": [
      "INFO:theanets.trainer:RmsProp 169 loss=4.284604 err=4.16 hid1<0.1=96.2 hid1<0.9=98.7 out<0.1=99.8 out<0.9=100.0 acc=8.61\n"
     ]
    },
    {
     "name": "stdout",
     "output_type": "stream",
     "text": [
      "I 2015-09-16 01:28:49 theanets.trainer:169 RmsProp 169 loss=4.284604 err=4.16 hid1<0.1=96.2 hid1<0.9=98.7 out<0.1=99.8 out<0.9=100.0 acc=8.61\n"
     ]
    },
    {
     "name": "stderr",
     "output_type": "stream",
     "text": [
      "INFO:theanets.trainer:RmsProp 170 loss=4.283633 err=4.16 hid1<0.1=96.1 hid1<0.9=98.7 out<0.1=99.8 out<0.9=100.0 acc=8.38\n"
     ]
    },
    {
     "name": "stdout",
     "output_type": "stream",
     "text": [
      "I 2015-09-16 01:28:50 theanets.trainer:169 RmsProp 170 loss=4.283633 err=4.16 hid1<0.1=96.1 hid1<0.9=98.7 out<0.1=99.8 out<0.9=100.0 acc=8.38\n"
     ]
    },
    {
     "name": "stderr",
     "output_type": "stream",
     "text": [
      "INFO:theanets.trainer:validation 17 loss=4.351898 err=4.22 hid1<0.1=96.1 hid1<0.9=98.7 out<0.1=99.8 out<0.9=100.0 acc=8.41\n"
     ]
    },
    {
     "name": "stdout",
     "output_type": "stream",
     "text": [
      "I 2015-09-16 01:28:50 theanets.trainer:169 validation 17 loss=4.351898 err=4.22 hid1<0.1=96.1 hid1<0.9=98.7 out<0.1=99.8 out<0.9=100.0 acc=8.41\n"
     ]
    },
    {
     "name": "stderr",
     "output_type": "stream",
     "text": [
      "INFO:theanets.trainer:RmsProp 171 loss=4.282375 err=4.16 hid1<0.1=96.2 hid1<0.9=98.7 out<0.1=99.8 out<0.9=100.0 acc=8.56\n"
     ]
    },
    {
     "name": "stdout",
     "output_type": "stream",
     "text": [
      "I 2015-09-16 01:28:50 theanets.trainer:169 RmsProp 171 loss=4.282375 err=4.16 hid1<0.1=96.2 hid1<0.9=98.7 out<0.1=99.8 out<0.9=100.0 acc=8.56\n"
     ]
    },
    {
     "name": "stderr",
     "output_type": "stream",
     "text": [
      "INFO:theanets.trainer:RmsProp 172 loss=4.281419 err=4.16 hid1<0.1=96.1 hid1<0.9=98.7 out<0.1=99.8 out<0.9=100.0 acc=8.29\n"
     ]
    },
    {
     "name": "stdout",
     "output_type": "stream",
     "text": [
      "I 2015-09-16 01:28:51 theanets.trainer:169 RmsProp 172 loss=4.281419 err=4.16 hid1<0.1=96.1 hid1<0.9=98.7 out<0.1=99.8 out<0.9=100.0 acc=8.29\n"
     ]
    },
    {
     "name": "stderr",
     "output_type": "stream",
     "text": [
      "INFO:theanets.trainer:RmsProp 173 loss=4.279759 err=4.15 hid1<0.1=96.1 hid1<0.9=98.7 out<0.1=99.8 out<0.9=100.0 acc=8.53\n"
     ]
    },
    {
     "name": "stdout",
     "output_type": "stream",
     "text": [
      "I 2015-09-16 01:28:51 theanets.trainer:169 RmsProp 173 loss=4.279759 err=4.15 hid1<0.1=96.1 hid1<0.9=98.7 out<0.1=99.8 out<0.9=100.0 acc=8.53\n"
     ]
    },
    {
     "name": "stderr",
     "output_type": "stream",
     "text": [
      "INFO:theanets.trainer:RmsProp 174 loss=4.281221 err=4.16 hid1<0.1=96.1 hid1<0.9=98.7 out<0.1=99.8 out<0.9=100.0 acc=8.61\n"
     ]
    },
    {
     "name": "stdout",
     "output_type": "stream",
     "text": [
      "I 2015-09-16 01:28:52 theanets.trainer:169 RmsProp 174 loss=4.281221 err=4.16 hid1<0.1=96.1 hid1<0.9=98.7 out<0.1=99.8 out<0.9=100.0 acc=8.61\n"
     ]
    },
    {
     "name": "stderr",
     "output_type": "stream",
     "text": [
      "INFO:theanets.trainer:RmsProp 175 loss=4.278079 err=4.15 hid1<0.1=96.1 hid1<0.9=98.7 out<0.1=99.8 out<0.9=100.0 acc=8.33\n"
     ]
    },
    {
     "name": "stdout",
     "output_type": "stream",
     "text": [
      "I 2015-09-16 01:28:52 theanets.trainer:169 RmsProp 175 loss=4.278079 err=4.15 hid1<0.1=96.1 hid1<0.9=98.7 out<0.1=99.8 out<0.9=100.0 acc=8.33\n"
     ]
    },
    {
     "name": "stderr",
     "output_type": "stream",
     "text": [
      "INFO:theanets.trainer:RmsProp 176 loss=4.277175 err=4.15 hid1<0.1=96.1 hid1<0.9=98.7 out<0.1=99.8 out<0.9=100.0 acc=8.61\n"
     ]
    },
    {
     "name": "stdout",
     "output_type": "stream",
     "text": [
      "I 2015-09-16 01:28:52 theanets.trainer:169 RmsProp 176 loss=4.277175 err=4.15 hid1<0.1=96.1 hid1<0.9=98.7 out<0.1=99.8 out<0.9=100.0 acc=8.61\n"
     ]
    },
    {
     "name": "stderr",
     "output_type": "stream",
     "text": [
      "INFO:theanets.trainer:RmsProp 177 loss=4.276791 err=4.15 hid1<0.1=96.1 hid1<0.9=98.7 out<0.1=99.8 out<0.9=100.0 acc=8.97\n"
     ]
    },
    {
     "name": "stdout",
     "output_type": "stream",
     "text": [
      "I 2015-09-16 01:28:53 theanets.trainer:169 RmsProp 177 loss=4.276791 err=4.15 hid1<0.1=96.1 hid1<0.9=98.7 out<0.1=99.8 out<0.9=100.0 acc=8.97\n"
     ]
    },
    {
     "name": "stderr",
     "output_type": "stream",
     "text": [
      "INFO:theanets.trainer:RmsProp 178 loss=4.275241 err=4.15 hid1<0.1=96.1 hid1<0.9=98.7 out<0.1=99.8 out<0.9=100.0 acc=8.75\n"
     ]
    },
    {
     "name": "stdout",
     "output_type": "stream",
     "text": [
      "I 2015-09-16 01:28:53 theanets.trainer:169 RmsProp 178 loss=4.275241 err=4.15 hid1<0.1=96.1 hid1<0.9=98.7 out<0.1=99.8 out<0.9=100.0 acc=8.75\n"
     ]
    },
    {
     "name": "stderr",
     "output_type": "stream",
     "text": [
      "INFO:theanets.trainer:RmsProp 179 loss=4.275324 err=4.15 hid1<0.1=96.1 hid1<0.9=98.7 out<0.1=99.8 out<0.9=100.0 acc=8.34\n"
     ]
    },
    {
     "name": "stdout",
     "output_type": "stream",
     "text": [
      "I 2015-09-16 01:28:54 theanets.trainer:169 RmsProp 179 loss=4.275324 err=4.15 hid1<0.1=96.1 hid1<0.9=98.7 out<0.1=99.8 out<0.9=100.0 acc=8.34\n"
     ]
    },
    {
     "name": "stderr",
     "output_type": "stream",
     "text": [
      "INFO:theanets.trainer:RmsProp 180 loss=4.274080 err=4.15 hid1<0.1=96.0 hid1<0.9=98.7 out<0.1=99.8 out<0.9=100.0 acc=8.37\n"
     ]
    },
    {
     "name": "stdout",
     "output_type": "stream",
     "text": [
      "I 2015-09-16 01:28:54 theanets.trainer:169 RmsProp 180 loss=4.274080 err=4.15 hid1<0.1=96.0 hid1<0.9=98.7 out<0.1=99.8 out<0.9=100.0 acc=8.37\n"
     ]
    },
    {
     "name": "stderr",
     "output_type": "stream",
     "text": [
      "INFO:theanets.trainer:validation 18 loss=4.343259 err=4.21 hid1<0.1=96.0 hid1<0.9=98.7 out<0.1=99.8 out<0.9=100.0 acc=9.02 *\n"
     ]
    },
    {
     "name": "stdout",
     "output_type": "stream",
     "text": [
      "I 2015-09-16 01:28:54 theanets.trainer:169 validation 18 loss=4.343259 err=4.21 hid1<0.1=96.0 hid1<0.9=98.7 out<0.1=99.8 out<0.9=100.0 acc=9.02 *\n"
     ]
    },
    {
     "name": "stderr",
     "output_type": "stream",
     "text": [
      "INFO:theanets.trainer:RmsProp 181 loss=4.274193 err=4.15 hid1<0.1=96.1 hid1<0.9=98.7 out<0.1=99.8 out<0.9=100.0 acc=9.05\n"
     ]
    },
    {
     "name": "stdout",
     "output_type": "stream",
     "text": [
      "I 2015-09-16 01:28:54 theanets.trainer:169 RmsProp 181 loss=4.274193 err=4.15 hid1<0.1=96.1 hid1<0.9=98.7 out<0.1=99.8 out<0.9=100.0 acc=9.05\n"
     ]
    },
    {
     "name": "stderr",
     "output_type": "stream",
     "text": [
      "INFO:theanets.trainer:RmsProp 182 loss=4.271129 err=4.14 hid1<0.1=96.0 hid1<0.9=98.7 out<0.1=99.8 out<0.9=100.0 acc=8.70\n"
     ]
    },
    {
     "name": "stdout",
     "output_type": "stream",
     "text": [
      "I 2015-09-16 01:28:55 theanets.trainer:169 RmsProp 182 loss=4.271129 err=4.14 hid1<0.1=96.0 hid1<0.9=98.7 out<0.1=99.8 out<0.9=100.0 acc=8.70\n"
     ]
    },
    {
     "name": "stderr",
     "output_type": "stream",
     "text": [
      "INFO:theanets.trainer:RmsProp 183 loss=4.272237 err=4.14 hid1<0.1=96.0 hid1<0.9=98.7 out<0.1=99.8 out<0.9=100.0 acc=8.81\n"
     ]
    },
    {
     "name": "stdout",
     "output_type": "stream",
     "text": [
      "I 2015-09-16 01:28:55 theanets.trainer:169 RmsProp 183 loss=4.272237 err=4.14 hid1<0.1=96.0 hid1<0.9=98.7 out<0.1=99.8 out<0.9=100.0 acc=8.81\n"
     ]
    },
    {
     "name": "stderr",
     "output_type": "stream",
     "text": [
      "INFO:theanets.trainer:RmsProp 184 loss=4.269933 err=4.14 hid1<0.1=96.0 hid1<0.9=98.7 out<0.1=99.8 out<0.9=100.0 acc=8.65\n"
     ]
    },
    {
     "name": "stdout",
     "output_type": "stream",
     "text": [
      "I 2015-09-16 01:28:55 theanets.trainer:169 RmsProp 184 loss=4.269933 err=4.14 hid1<0.1=96.0 hid1<0.9=98.7 out<0.1=99.8 out<0.9=100.0 acc=8.65\n"
     ]
    },
    {
     "name": "stderr",
     "output_type": "stream",
     "text": [
      "INFO:theanets.trainer:RmsProp 185 loss=4.269090 err=4.14 hid1<0.1=96.0 hid1<0.9=98.7 out<0.1=99.8 out<0.9=100.0 acc=8.74\n"
     ]
    },
    {
     "name": "stdout",
     "output_type": "stream",
     "text": [
      "I 2015-09-16 01:28:56 theanets.trainer:169 RmsProp 185 loss=4.269090 err=4.14 hid1<0.1=96.0 hid1<0.9=98.7 out<0.1=99.8 out<0.9=100.0 acc=8.74\n"
     ]
    },
    {
     "name": "stderr",
     "output_type": "stream",
     "text": [
      "INFO:theanets.trainer:RmsProp 186 loss=4.268762 err=4.14 hid1<0.1=96.0 hid1<0.9=98.7 out<0.1=99.8 out<0.9=100.0 acc=9.00\n"
     ]
    },
    {
     "name": "stdout",
     "output_type": "stream",
     "text": [
      "I 2015-09-16 01:28:56 theanets.trainer:169 RmsProp 186 loss=4.268762 err=4.14 hid1<0.1=96.0 hid1<0.9=98.7 out<0.1=99.8 out<0.9=100.0 acc=9.00\n"
     ]
    },
    {
     "name": "stderr",
     "output_type": "stream",
     "text": [
      "INFO:theanets.trainer:RmsProp 187 loss=4.267376 err=4.14 hid1<0.1=96.0 hid1<0.9=98.7 out<0.1=99.8 out<0.9=100.0 acc=8.53\n"
     ]
    },
    {
     "name": "stdout",
     "output_type": "stream",
     "text": [
      "I 2015-09-16 01:28:57 theanets.trainer:169 RmsProp 187 loss=4.267376 err=4.14 hid1<0.1=96.0 hid1<0.9=98.7 out<0.1=99.8 out<0.9=100.0 acc=8.53\n"
     ]
    },
    {
     "name": "stderr",
     "output_type": "stream",
     "text": [
      "INFO:theanets.trainer:RmsProp 188 loss=4.263378 err=4.13 hid1<0.1=96.0 hid1<0.9=98.7 out<0.1=99.8 out<0.9=100.0 acc=8.84\n"
     ]
    },
    {
     "name": "stdout",
     "output_type": "stream",
     "text": [
      "I 2015-09-16 01:28:57 theanets.trainer:169 RmsProp 188 loss=4.263378 err=4.13 hid1<0.1=96.0 hid1<0.9=98.7 out<0.1=99.8 out<0.9=100.0 acc=8.84\n"
     ]
    },
    {
     "name": "stderr",
     "output_type": "stream",
     "text": [
      "INFO:theanets.trainer:RmsProp 189 loss=4.264361 err=4.13 hid1<0.1=95.9 hid1<0.9=98.7 out<0.1=99.8 out<0.9=100.0 acc=8.58\n"
     ]
    },
    {
     "name": "stdout",
     "output_type": "stream",
     "text": [
      "I 2015-09-16 01:28:57 theanets.trainer:169 RmsProp 189 loss=4.264361 err=4.13 hid1<0.1=95.9 hid1<0.9=98.7 out<0.1=99.8 out<0.9=100.0 acc=8.58\n"
     ]
    },
    {
     "name": "stderr",
     "output_type": "stream",
     "text": [
      "INFO:theanets.trainer:RmsProp 190 loss=4.263399 err=4.13 hid1<0.1=95.9 hid1<0.9=98.7 out<0.1=99.8 out<0.9=100.0 acc=8.76\n"
     ]
    },
    {
     "name": "stdout",
     "output_type": "stream",
     "text": [
      "I 2015-09-16 01:28:58 theanets.trainer:169 RmsProp 190 loss=4.263399 err=4.13 hid1<0.1=95.9 hid1<0.9=98.7 out<0.1=99.8 out<0.9=100.0 acc=8.76\n"
     ]
    },
    {
     "name": "stderr",
     "output_type": "stream",
     "text": [
      "INFO:theanets.trainer:validation 19 loss=4.337478 err=4.20 hid1<0.1=95.9 hid1<0.9=98.6 out<0.1=99.8 out<0.9=100.0 acc=8.79\n"
     ]
    },
    {
     "name": "stdout",
     "output_type": "stream",
     "text": [
      "I 2015-09-16 01:28:58 theanets.trainer:169 validation 19 loss=4.337478 err=4.20 hid1<0.1=95.9 hid1<0.9=98.6 out<0.1=99.8 out<0.9=100.0 acc=8.79\n"
     ]
    },
    {
     "name": "stderr",
     "output_type": "stream",
     "text": [
      "INFO:theanets.trainer:RmsProp 191 loss=4.262836 err=4.13 hid1<0.1=95.9 hid1<0.9=98.7 out<0.1=99.8 out<0.9=100.0 acc=8.64\n"
     ]
    },
    {
     "name": "stdout",
     "output_type": "stream",
     "text": [
      "I 2015-09-16 01:28:58 theanets.trainer:169 RmsProp 191 loss=4.262836 err=4.13 hid1<0.1=95.9 hid1<0.9=98.7 out<0.1=99.8 out<0.9=100.0 acc=8.64\n"
     ]
    },
    {
     "name": "stderr",
     "output_type": "stream",
     "text": [
      "INFO:theanets.trainer:RmsProp 192 loss=4.261055 err=4.13 hid1<0.1=95.9 hid1<0.9=98.7 out<0.1=99.8 out<0.9=100.0 acc=8.93\n"
     ]
    },
    {
     "name": "stdout",
     "output_type": "stream",
     "text": [
      "I 2015-09-16 01:28:59 theanets.trainer:169 RmsProp 192 loss=4.261055 err=4.13 hid1<0.1=95.9 hid1<0.9=98.7 out<0.1=99.8 out<0.9=100.0 acc=8.93\n"
     ]
    },
    {
     "name": "stderr",
     "output_type": "stream",
     "text": [
      "INFO:theanets.trainer:RmsProp 193 loss=4.259257 err=4.13 hid1<0.1=95.9 hid1<0.9=98.7 out<0.1=99.8 out<0.9=100.0 acc=8.73\n"
     ]
    },
    {
     "name": "stdout",
     "output_type": "stream",
     "text": [
      "I 2015-09-16 01:28:59 theanets.trainer:169 RmsProp 193 loss=4.259257 err=4.13 hid1<0.1=95.9 hid1<0.9=98.7 out<0.1=99.8 out<0.9=100.0 acc=8.73\n"
     ]
    },
    {
     "name": "stderr",
     "output_type": "stream",
     "text": [
      "INFO:theanets.trainer:RmsProp 194 loss=4.258867 err=4.13 hid1<0.1=95.9 hid1<0.9=98.7 out<0.1=99.8 out<0.9=100.0 acc=8.77\n"
     ]
    },
    {
     "name": "stdout",
     "output_type": "stream",
     "text": [
      "I 2015-09-16 01:29:00 theanets.trainer:169 RmsProp 194 loss=4.258867 err=4.13 hid1<0.1=95.9 hid1<0.9=98.7 out<0.1=99.8 out<0.9=100.0 acc=8.77\n"
     ]
    },
    {
     "name": "stderr",
     "output_type": "stream",
     "text": [
      "INFO:theanets.trainer:RmsProp 195 loss=4.257860 err=4.13 hid1<0.1=95.9 hid1<0.9=98.7 out<0.1=99.8 out<0.9=100.0 acc=8.81\n"
     ]
    },
    {
     "name": "stdout",
     "output_type": "stream",
     "text": [
      "I 2015-09-16 01:29:01 theanets.trainer:169 RmsProp 195 loss=4.257860 err=4.13 hid1<0.1=95.9 hid1<0.9=98.7 out<0.1=99.8 out<0.9=100.0 acc=8.81\n"
     ]
    },
    {
     "name": "stderr",
     "output_type": "stream",
     "text": [
      "INFO:theanets.trainer:RmsProp 196 loss=4.256283 err=4.12 hid1<0.1=95.9 hid1<0.9=98.7 out<0.1=99.8 out<0.9=100.0 acc=8.76\n"
     ]
    },
    {
     "name": "stdout",
     "output_type": "stream",
     "text": [
      "I 2015-09-16 01:29:01 theanets.trainer:169 RmsProp 196 loss=4.256283 err=4.12 hid1<0.1=95.9 hid1<0.9=98.7 out<0.1=99.8 out<0.9=100.0 acc=8.76\n"
     ]
    },
    {
     "name": "stderr",
     "output_type": "stream",
     "text": [
      "INFO:theanets.trainer:RmsProp 197 loss=4.254623 err=4.12 hid1<0.1=95.9 hid1<0.9=98.7 out<0.1=99.8 out<0.9=100.0 acc=8.82\n"
     ]
    },
    {
     "name": "stdout",
     "output_type": "stream",
     "text": [
      "I 2015-09-16 01:29:02 theanets.trainer:169 RmsProp 197 loss=4.254623 err=4.12 hid1<0.1=95.9 hid1<0.9=98.7 out<0.1=99.8 out<0.9=100.0 acc=8.82\n"
     ]
    },
    {
     "name": "stderr",
     "output_type": "stream",
     "text": [
      "INFO:theanets.trainer:RmsProp 198 loss=4.253692 err=4.12 hid1<0.1=95.9 hid1<0.9=98.7 out<0.1=99.8 out<0.9=100.0 acc=9.00\n"
     ]
    },
    {
     "name": "stdout",
     "output_type": "stream",
     "text": [
      "I 2015-09-16 01:29:02 theanets.trainer:169 RmsProp 198 loss=4.253692 err=4.12 hid1<0.1=95.9 hid1<0.9=98.7 out<0.1=99.8 out<0.9=100.0 acc=9.00\n"
     ]
    },
    {
     "name": "stderr",
     "output_type": "stream",
     "text": [
      "INFO:theanets.trainer:RmsProp 199 loss=4.252455 err=4.12 hid1<0.1=95.8 hid1<0.9=98.7 out<0.1=99.8 out<0.9=100.0 acc=8.76\n"
     ]
    },
    {
     "name": "stdout",
     "output_type": "stream",
     "text": [
      "I 2015-09-16 01:29:02 theanets.trainer:169 RmsProp 199 loss=4.252455 err=4.12 hid1<0.1=95.8 hid1<0.9=98.7 out<0.1=99.8 out<0.9=100.0 acc=8.76\n"
     ]
    },
    {
     "name": "stderr",
     "output_type": "stream",
     "text": [
      "INFO:theanets.trainer:RmsProp 200 loss=4.252119 err=4.12 hid1<0.1=95.8 hid1<0.9=98.7 out<0.1=99.8 out<0.9=100.0 acc=8.75\n"
     ]
    },
    {
     "name": "stdout",
     "output_type": "stream",
     "text": [
      "I 2015-09-16 01:29:03 theanets.trainer:169 RmsProp 200 loss=4.252119 err=4.12 hid1<0.1=95.8 hid1<0.9=98.7 out<0.1=99.8 out<0.9=100.0 acc=8.75\n"
     ]
    },
    {
     "name": "stderr",
     "output_type": "stream",
     "text": [
      "INFO:theanets.trainer:validation 20 loss=4.328119 err=4.19 hid1<0.1=95.8 hid1<0.9=98.6 out<0.1=99.8 out<0.9=100.0 acc=9.02\n"
     ]
    },
    {
     "name": "stdout",
     "output_type": "stream",
     "text": [
      "I 2015-09-16 01:29:03 theanets.trainer:169 validation 20 loss=4.328119 err=4.19 hid1<0.1=95.8 hid1<0.9=98.6 out<0.1=99.8 out<0.9=100.0 acc=9.02\n"
     ]
    },
    {
     "name": "stderr",
     "output_type": "stream",
     "text": [
      "INFO:theanets.trainer:RmsProp 201 loss=4.250616 err=4.12 hid1<0.1=95.8 hid1<0.9=98.7 out<0.1=99.8 out<0.9=100.0 acc=8.97\n"
     ]
    },
    {
     "name": "stdout",
     "output_type": "stream",
     "text": [
      "I 2015-09-16 01:29:03 theanets.trainer:169 RmsProp 201 loss=4.250616 err=4.12 hid1<0.1=95.8 hid1<0.9=98.7 out<0.1=99.8 out<0.9=100.0 acc=8.97\n"
     ]
    },
    {
     "name": "stderr",
     "output_type": "stream",
     "text": [
      "INFO:theanets.trainer:RmsProp 202 loss=4.249609 err=4.12 hid1<0.1=95.8 hid1<0.9=98.7 out<0.1=99.8 out<0.9=100.0 acc=9.00\n"
     ]
    },
    {
     "name": "stdout",
     "output_type": "stream",
     "text": [
      "I 2015-09-16 01:29:04 theanets.trainer:169 RmsProp 202 loss=4.249609 err=4.12 hid1<0.1=95.8 hid1<0.9=98.7 out<0.1=99.8 out<0.9=100.0 acc=9.00\n"
     ]
    },
    {
     "name": "stderr",
     "output_type": "stream",
     "text": [
      "INFO:theanets.trainer:RmsProp 203 loss=4.248490 err=4.11 hid1<0.1=95.8 hid1<0.9=98.6 out<0.1=99.8 out<0.9=100.0 acc=8.75\n"
     ]
    },
    {
     "name": "stdout",
     "output_type": "stream",
     "text": [
      "I 2015-09-16 01:29:04 theanets.trainer:169 RmsProp 203 loss=4.248490 err=4.11 hid1<0.1=95.8 hid1<0.9=98.6 out<0.1=99.8 out<0.9=100.0 acc=8.75\n"
     ]
    },
    {
     "name": "stderr",
     "output_type": "stream",
     "text": [
      "INFO:theanets.trainer:RmsProp 204 loss=4.247209 err=4.11 hid1<0.1=95.8 hid1<0.9=98.6 out<0.1=99.8 out<0.9=100.0 acc=8.79\n"
     ]
    },
    {
     "name": "stdout",
     "output_type": "stream",
     "text": [
      "I 2015-09-16 01:29:04 theanets.trainer:169 RmsProp 204 loss=4.247209 err=4.11 hid1<0.1=95.8 hid1<0.9=98.6 out<0.1=99.8 out<0.9=100.0 acc=8.79\n"
     ]
    },
    {
     "name": "stderr",
     "output_type": "stream",
     "text": [
      "INFO:theanets.trainer:RmsProp 205 loss=4.245596 err=4.11 hid1<0.1=95.8 hid1<0.9=98.6 out<0.1=99.8 out<0.9=100.0 acc=8.83\n"
     ]
    },
    {
     "name": "stdout",
     "output_type": "stream",
     "text": [
      "I 2015-09-16 01:29:05 theanets.trainer:169 RmsProp 205 loss=4.245596 err=4.11 hid1<0.1=95.8 hid1<0.9=98.6 out<0.1=99.8 out<0.9=100.0 acc=8.83\n"
     ]
    },
    {
     "name": "stderr",
     "output_type": "stream",
     "text": [
      "INFO:theanets.trainer:RmsProp 206 loss=4.243911 err=4.11 hid1<0.1=95.8 hid1<0.9=98.6 out<0.1=99.8 out<0.9=100.0 acc=9.06\n"
     ]
    },
    {
     "name": "stdout",
     "output_type": "stream",
     "text": [
      "I 2015-09-16 01:29:05 theanets.trainer:169 RmsProp 206 loss=4.243911 err=4.11 hid1<0.1=95.8 hid1<0.9=98.6 out<0.1=99.8 out<0.9=100.0 acc=9.06\n"
     ]
    },
    {
     "name": "stderr",
     "output_type": "stream",
     "text": [
      "INFO:theanets.trainer:RmsProp 207 loss=4.244331 err=4.11 hid1<0.1=95.8 hid1<0.9=98.6 out<0.1=99.8 out<0.9=100.0 acc=8.96\n"
     ]
    },
    {
     "name": "stdout",
     "output_type": "stream",
     "text": [
      "I 2015-09-16 01:29:06 theanets.trainer:169 RmsProp 207 loss=4.244331 err=4.11 hid1<0.1=95.8 hid1<0.9=98.6 out<0.1=99.8 out<0.9=100.0 acc=8.96\n"
     ]
    },
    {
     "name": "stderr",
     "output_type": "stream",
     "text": [
      "INFO:theanets.trainer:RmsProp 208 loss=4.242065 err=4.11 hid1<0.1=95.8 hid1<0.9=98.6 out<0.1=99.8 out<0.9=100.0 acc=9.05\n"
     ]
    },
    {
     "name": "stdout",
     "output_type": "stream",
     "text": [
      "I 2015-09-16 01:29:06 theanets.trainer:169 RmsProp 208 loss=4.242065 err=4.11 hid1<0.1=95.8 hid1<0.9=98.6 out<0.1=99.8 out<0.9=100.0 acc=9.05\n"
     ]
    },
    {
     "name": "stderr",
     "output_type": "stream",
     "text": [
      "INFO:theanets.trainer:RmsProp 209 loss=4.241320 err=4.10 hid1<0.1=95.8 hid1<0.9=98.6 out<0.1=99.8 out<0.9=100.0 acc=9.19\n"
     ]
    },
    {
     "name": "stdout",
     "output_type": "stream",
     "text": [
      "I 2015-09-16 01:29:07 theanets.trainer:169 RmsProp 209 loss=4.241320 err=4.10 hid1<0.1=95.8 hid1<0.9=98.6 out<0.1=99.8 out<0.9=100.0 acc=9.19\n"
     ]
    },
    {
     "name": "stderr",
     "output_type": "stream",
     "text": [
      "INFO:theanets.trainer:RmsProp 210 loss=4.239153 err=4.10 hid1<0.1=95.8 hid1<0.9=98.6 out<0.1=99.8 out<0.9=100.0 acc=9.04\n"
     ]
    },
    {
     "name": "stdout",
     "output_type": "stream",
     "text": [
      "I 2015-09-16 01:29:07 theanets.trainer:169 RmsProp 210 loss=4.239153 err=4.10 hid1<0.1=95.8 hid1<0.9=98.6 out<0.1=99.8 out<0.9=100.0 acc=9.04\n"
     ]
    },
    {
     "name": "stderr",
     "output_type": "stream",
     "text": [
      "INFO:theanets.trainer:validation 21 loss=4.315344 err=4.18 hid1<0.1=95.7 hid1<0.9=98.5 out<0.1=99.8 out<0.9=100.0 acc=9.39\n"
     ]
    },
    {
     "name": "stdout",
     "output_type": "stream",
     "text": [
      "I 2015-09-16 01:29:07 theanets.trainer:169 validation 21 loss=4.315344 err=4.18 hid1<0.1=95.7 hid1<0.9=98.5 out<0.1=99.8 out<0.9=100.0 acc=9.39\n"
     ]
    },
    {
     "name": "stderr",
     "output_type": "stream",
     "text": [
      "INFO:theanets.trainer:RmsProp 211 loss=4.238000 err=4.10 hid1<0.1=95.8 hid1<0.9=98.6 out<0.1=99.8 out<0.9=100.0 acc=8.81\n"
     ]
    },
    {
     "name": "stdout",
     "output_type": "stream",
     "text": [
      "I 2015-09-16 01:29:08 theanets.trainer:169 RmsProp 211 loss=4.238000 err=4.10 hid1<0.1=95.8 hid1<0.9=98.6 out<0.1=99.8 out<0.9=100.0 acc=8.81\n"
     ]
    },
    {
     "name": "stderr",
     "output_type": "stream",
     "text": [
      "INFO:theanets.trainer:RmsProp 212 loss=4.238797 err=4.10 hid1<0.1=95.8 hid1<0.9=98.6 out<0.1=99.8 out<0.9=100.0 acc=9.10\n"
     ]
    },
    {
     "name": "stdout",
     "output_type": "stream",
     "text": [
      "I 2015-09-16 01:29:09 theanets.trainer:169 RmsProp 212 loss=4.238797 err=4.10 hid1<0.1=95.8 hid1<0.9=98.6 out<0.1=99.8 out<0.9=100.0 acc=9.10\n"
     ]
    },
    {
     "name": "stderr",
     "output_type": "stream",
     "text": [
      "INFO:theanets.trainer:RmsProp 213 loss=4.235607 err=4.10 hid1<0.1=95.7 hid1<0.9=98.6 out<0.1=99.8 out<0.9=100.0 acc=9.38\n"
     ]
    },
    {
     "name": "stdout",
     "output_type": "stream",
     "text": [
      "I 2015-09-16 01:29:09 theanets.trainer:169 RmsProp 213 loss=4.235607 err=4.10 hid1<0.1=95.7 hid1<0.9=98.6 out<0.1=99.8 out<0.9=100.0 acc=9.38\n"
     ]
    },
    {
     "name": "stderr",
     "output_type": "stream",
     "text": [
      "INFO:theanets.trainer:RmsProp 214 loss=4.234821 err=4.10 hid1<0.1=95.7 hid1<0.9=98.6 out<0.1=99.8 out<0.9=100.0 acc=9.10\n"
     ]
    },
    {
     "name": "stdout",
     "output_type": "stream",
     "text": [
      "I 2015-09-16 01:29:10 theanets.trainer:169 RmsProp 214 loss=4.234821 err=4.10 hid1<0.1=95.7 hid1<0.9=98.6 out<0.1=99.8 out<0.9=100.0 acc=9.10\n"
     ]
    },
    {
     "name": "stderr",
     "output_type": "stream",
     "text": [
      "INFO:theanets.trainer:RmsProp 215 loss=4.233427 err=4.10 hid1<0.1=95.7 hid1<0.9=98.6 out<0.1=99.8 out<0.9=100.0 acc=9.44\n"
     ]
    },
    {
     "name": "stdout",
     "output_type": "stream",
     "text": [
      "I 2015-09-16 01:29:10 theanets.trainer:169 RmsProp 215 loss=4.233427 err=4.10 hid1<0.1=95.7 hid1<0.9=98.6 out<0.1=99.8 out<0.9=100.0 acc=9.44\n"
     ]
    },
    {
     "name": "stderr",
     "output_type": "stream",
     "text": [
      "INFO:theanets.trainer:RmsProp 216 loss=4.232158 err=4.09 hid1<0.1=95.7 hid1<0.9=98.6 out<0.1=99.8 out<0.9=100.0 acc=9.25\n"
     ]
    },
    {
     "name": "stdout",
     "output_type": "stream",
     "text": [
      "I 2015-09-16 01:29:11 theanets.trainer:169 RmsProp 216 loss=4.232158 err=4.09 hid1<0.1=95.7 hid1<0.9=98.6 out<0.1=99.8 out<0.9=100.0 acc=9.25\n"
     ]
    },
    {
     "name": "stderr",
     "output_type": "stream",
     "text": [
      "INFO:theanets.trainer:RmsProp 217 loss=4.230874 err=4.09 hid1<0.1=95.7 hid1<0.9=98.6 out<0.1=99.8 out<0.9=100.0 acc=9.28\n"
     ]
    },
    {
     "name": "stdout",
     "output_type": "stream",
     "text": [
      "I 2015-09-16 01:29:11 theanets.trainer:169 RmsProp 217 loss=4.230874 err=4.09 hid1<0.1=95.7 hid1<0.9=98.6 out<0.1=99.8 out<0.9=100.0 acc=9.28\n"
     ]
    },
    {
     "name": "stderr",
     "output_type": "stream",
     "text": [
      "INFO:theanets.trainer:RmsProp 218 loss=4.229484 err=4.09 hid1<0.1=95.7 hid1<0.9=98.6 out<0.1=99.8 out<0.9=100.0 acc=9.34\n"
     ]
    },
    {
     "name": "stdout",
     "output_type": "stream",
     "text": [
      "I 2015-09-16 01:29:11 theanets.trainer:169 RmsProp 218 loss=4.229484 err=4.09 hid1<0.1=95.7 hid1<0.9=98.6 out<0.1=99.8 out<0.9=100.0 acc=9.34\n"
     ]
    },
    {
     "name": "stderr",
     "output_type": "stream",
     "text": [
      "INFO:theanets.trainer:RmsProp 219 loss=4.227684 err=4.09 hid1<0.1=95.7 hid1<0.9=98.6 out<0.1=99.8 out<0.9=100.0 acc=9.22\n"
     ]
    },
    {
     "name": "stdout",
     "output_type": "stream",
     "text": [
      "I 2015-09-16 01:29:12 theanets.trainer:169 RmsProp 219 loss=4.227684 err=4.09 hid1<0.1=95.7 hid1<0.9=98.6 out<0.1=99.8 out<0.9=100.0 acc=9.22\n"
     ]
    },
    {
     "name": "stderr",
     "output_type": "stream",
     "text": [
      "INFO:theanets.trainer:RmsProp 220 loss=4.226922 err=4.09 hid1<0.1=95.7 hid1<0.9=98.6 out<0.1=99.8 out<0.9=100.0 acc=9.32\n"
     ]
    },
    {
     "name": "stdout",
     "output_type": "stream",
     "text": [
      "I 2015-09-16 01:29:12 theanets.trainer:169 RmsProp 220 loss=4.226922 err=4.09 hid1<0.1=95.7 hid1<0.9=98.6 out<0.1=99.8 out<0.9=100.0 acc=9.32\n"
     ]
    },
    {
     "name": "stderr",
     "output_type": "stream",
     "text": [
      "INFO:theanets.trainer:validation 22 loss=4.299394 err=4.16 hid1<0.1=95.7 hid1<0.9=98.5 out<0.1=99.8 out<0.9=100.0 acc=9.78 *\n"
     ]
    },
    {
     "name": "stdout",
     "output_type": "stream",
     "text": [
      "I 2015-09-16 01:29:12 theanets.trainer:169 validation 22 loss=4.299394 err=4.16 hid1<0.1=95.7 hid1<0.9=98.5 out<0.1=99.8 out<0.9=100.0 acc=9.78 *\n"
     ]
    },
    {
     "name": "stderr",
     "output_type": "stream",
     "text": [
      "INFO:theanets.trainer:RmsProp 221 loss=4.225786 err=4.09 hid1<0.1=95.7 hid1<0.9=98.6 out<0.1=99.8 out<0.9=100.0 acc=9.71\n"
     ]
    },
    {
     "name": "stdout",
     "output_type": "stream",
     "text": [
      "I 2015-09-16 01:29:12 theanets.trainer:169 RmsProp 221 loss=4.225786 err=4.09 hid1<0.1=95.7 hid1<0.9=98.6 out<0.1=99.8 out<0.9=100.0 acc=9.71\n"
     ]
    },
    {
     "name": "stderr",
     "output_type": "stream",
     "text": [
      "INFO:theanets.trainer:RmsProp 222 loss=4.224913 err=4.09 hid1<0.1=95.7 hid1<0.9=98.6 out<0.1=99.8 out<0.9=100.0 acc=9.65\n"
     ]
    },
    {
     "name": "stdout",
     "output_type": "stream",
     "text": [
      "I 2015-09-16 01:29:13 theanets.trainer:169 RmsProp 222 loss=4.224913 err=4.09 hid1<0.1=95.7 hid1<0.9=98.6 out<0.1=99.8 out<0.9=100.0 acc=9.65\n"
     ]
    },
    {
     "name": "stderr",
     "output_type": "stream",
     "text": [
      "INFO:theanets.trainer:RmsProp 223 loss=4.224467 err=4.08 hid1<0.1=95.7 hid1<0.9=98.6 out<0.1=99.8 out<0.9=100.0 acc=9.56\n"
     ]
    },
    {
     "name": "stdout",
     "output_type": "stream",
     "text": [
      "I 2015-09-16 01:29:14 theanets.trainer:169 RmsProp 223 loss=4.224467 err=4.08 hid1<0.1=95.7 hid1<0.9=98.6 out<0.1=99.8 out<0.9=100.0 acc=9.56\n"
     ]
    },
    {
     "name": "stderr",
     "output_type": "stream",
     "text": [
      "INFO:theanets.trainer:RmsProp 224 loss=4.223014 err=4.08 hid1<0.1=95.7 hid1<0.9=98.6 out<0.1=99.8 out<0.9=100.0 acc=9.86\n"
     ]
    },
    {
     "name": "stdout",
     "output_type": "stream",
     "text": [
      "I 2015-09-16 01:29:14 theanets.trainer:169 RmsProp 224 loss=4.223014 err=4.08 hid1<0.1=95.7 hid1<0.9=98.6 out<0.1=99.8 out<0.9=100.0 acc=9.86\n"
     ]
    },
    {
     "name": "stderr",
     "output_type": "stream",
     "text": [
      "INFO:theanets.trainer:RmsProp 225 loss=4.220676 err=4.08 hid1<0.1=95.6 hid1<0.9=98.6 out<0.1=99.8 out<0.9=100.0 acc=9.84\n"
     ]
    },
    {
     "name": "stdout",
     "output_type": "stream",
     "text": [
      "I 2015-09-16 01:29:15 theanets.trainer:169 RmsProp 225 loss=4.220676 err=4.08 hid1<0.1=95.6 hid1<0.9=98.6 out<0.1=99.8 out<0.9=100.0 acc=9.84\n"
     ]
    },
    {
     "name": "stderr",
     "output_type": "stream",
     "text": [
      "INFO:theanets.trainer:RmsProp 226 loss=4.220523 err=4.08 hid1<0.1=95.6 hid1<0.9=98.6 out<0.1=99.8 out<0.9=100.0 acc=10.00\n"
     ]
    },
    {
     "name": "stdout",
     "output_type": "stream",
     "text": [
      "I 2015-09-16 01:29:15 theanets.trainer:169 RmsProp 226 loss=4.220523 err=4.08 hid1<0.1=95.6 hid1<0.9=98.6 out<0.1=99.8 out<0.9=100.0 acc=10.00\n"
     ]
    },
    {
     "name": "stderr",
     "output_type": "stream",
     "text": [
      "INFO:theanets.trainer:RmsProp 227 loss=4.219485 err=4.08 hid1<0.1=95.6 hid1<0.9=98.6 out<0.1=99.8 out<0.9=100.0 acc=9.73\n"
     ]
    },
    {
     "name": "stdout",
     "output_type": "stream",
     "text": [
      "I 2015-09-16 01:29:16 theanets.trainer:169 RmsProp 227 loss=4.219485 err=4.08 hid1<0.1=95.6 hid1<0.9=98.6 out<0.1=99.8 out<0.9=100.0 acc=9.73\n"
     ]
    },
    {
     "name": "stderr",
     "output_type": "stream",
     "text": [
      "INFO:theanets.trainer:RmsProp 228 loss=4.219339 err=4.08 hid1<0.1=95.6 hid1<0.9=98.6 out<0.1=99.8 out<0.9=100.0 acc=9.78\n"
     ]
    },
    {
     "name": "stdout",
     "output_type": "stream",
     "text": [
      "I 2015-09-16 01:29:16 theanets.trainer:169 RmsProp 228 loss=4.219339 err=4.08 hid1<0.1=95.6 hid1<0.9=98.6 out<0.1=99.8 out<0.9=100.0 acc=9.78\n"
     ]
    },
    {
     "name": "stderr",
     "output_type": "stream",
     "text": [
      "INFO:theanets.trainer:RmsProp 229 loss=4.216348 err=4.08 hid1<0.1=95.6 hid1<0.9=98.5 out<0.1=99.8 out<0.9=100.0 acc=9.57\n"
     ]
    },
    {
     "name": "stdout",
     "output_type": "stream",
     "text": [
      "I 2015-09-16 01:29:16 theanets.trainer:169 RmsProp 229 loss=4.216348 err=4.08 hid1<0.1=95.6 hid1<0.9=98.5 out<0.1=99.8 out<0.9=100.0 acc=9.57\n"
     ]
    },
    {
     "name": "stderr",
     "output_type": "stream",
     "text": [
      "INFO:theanets.trainer:RmsProp 230 loss=4.216060 err=4.07 hid1<0.1=95.6 hid1<0.9=98.5 out<0.1=99.8 out<0.9=100.0 acc=9.82\n"
     ]
    },
    {
     "name": "stdout",
     "output_type": "stream",
     "text": [
      "I 2015-09-16 01:29:17 theanets.trainer:169 RmsProp 230 loss=4.216060 err=4.07 hid1<0.1=95.6 hid1<0.9=98.5 out<0.1=99.8 out<0.9=100.0 acc=9.82\n"
     ]
    },
    {
     "name": "stderr",
     "output_type": "stream",
     "text": [
      "INFO:theanets.trainer:validation 23 loss=4.295299 err=4.15 hid1<0.1=95.6 hid1<0.9=98.5 out<0.1=99.8 out<0.9=100.0 acc=10.30\n"
     ]
    },
    {
     "name": "stdout",
     "output_type": "stream",
     "text": [
      "I 2015-09-16 01:29:17 theanets.trainer:169 validation 23 loss=4.295299 err=4.15 hid1<0.1=95.6 hid1<0.9=98.5 out<0.1=99.8 out<0.9=100.0 acc=10.30\n"
     ]
    },
    {
     "name": "stderr",
     "output_type": "stream",
     "text": [
      "INFO:theanets.trainer:RmsProp 231 loss=4.215235 err=4.07 hid1<0.1=95.6 hid1<0.9=98.5 out<0.1=99.8 out<0.9=100.0 acc=9.58\n"
     ]
    },
    {
     "name": "stdout",
     "output_type": "stream",
     "text": [
      "I 2015-09-16 01:29:17 theanets.trainer:169 RmsProp 231 loss=4.215235 err=4.07 hid1<0.1=95.6 hid1<0.9=98.5 out<0.1=99.8 out<0.9=100.0 acc=9.58\n"
     ]
    },
    {
     "name": "stderr",
     "output_type": "stream",
     "text": [
      "INFO:theanets.trainer:RmsProp 232 loss=4.214838 err=4.07 hid1<0.1=95.6 hid1<0.9=98.5 out<0.1=99.8 out<0.9=100.0 acc=9.76\n"
     ]
    },
    {
     "name": "stdout",
     "output_type": "stream",
     "text": [
      "I 2015-09-16 01:29:17 theanets.trainer:169 RmsProp 232 loss=4.214838 err=4.07 hid1<0.1=95.6 hid1<0.9=98.5 out<0.1=99.8 out<0.9=100.0 acc=9.76\n"
     ]
    },
    {
     "name": "stderr",
     "output_type": "stream",
     "text": [
      "INFO:theanets.trainer:RmsProp 233 loss=4.212759 err=4.07 hid1<0.1=95.6 hid1<0.9=98.5 out<0.1=99.8 out<0.9=100.0 acc=9.57\n"
     ]
    },
    {
     "name": "stdout",
     "output_type": "stream",
     "text": [
      "I 2015-09-16 01:29:18 theanets.trainer:169 RmsProp 233 loss=4.212759 err=4.07 hid1<0.1=95.6 hid1<0.9=98.5 out<0.1=99.8 out<0.9=100.0 acc=9.57\n"
     ]
    },
    {
     "name": "stderr",
     "output_type": "stream",
     "text": [
      "INFO:theanets.trainer:RmsProp 234 loss=4.211907 err=4.07 hid1<0.1=95.6 hid1<0.9=98.5 out<0.1=99.8 out<0.9=100.0 acc=9.88\n"
     ]
    },
    {
     "name": "stdout",
     "output_type": "stream",
     "text": [
      "I 2015-09-16 01:29:18 theanets.trainer:169 RmsProp 234 loss=4.211907 err=4.07 hid1<0.1=95.6 hid1<0.9=98.5 out<0.1=99.8 out<0.9=100.0 acc=9.88\n"
     ]
    },
    {
     "name": "stderr",
     "output_type": "stream",
     "text": [
      "INFO:theanets.trainer:RmsProp 235 loss=4.211968 err=4.07 hid1<0.1=95.6 hid1<0.9=98.5 out<0.1=99.8 out<0.9=100.0 acc=9.45\n"
     ]
    },
    {
     "name": "stdout",
     "output_type": "stream",
     "text": [
      "I 2015-09-16 01:29:18 theanets.trainer:169 RmsProp 235 loss=4.211968 err=4.07 hid1<0.1=95.6 hid1<0.9=98.5 out<0.1=99.8 out<0.9=100.0 acc=9.45\n"
     ]
    },
    {
     "name": "stderr",
     "output_type": "stream",
     "text": [
      "INFO:theanets.trainer:RmsProp 236 loss=4.209574 err=4.07 hid1<0.1=95.6 hid1<0.9=98.5 out<0.1=99.8 out<0.9=100.0 acc=9.70\n"
     ]
    },
    {
     "name": "stdout",
     "output_type": "stream",
     "text": [
      "I 2015-09-16 01:29:19 theanets.trainer:169 RmsProp 236 loss=4.209574 err=4.07 hid1<0.1=95.6 hid1<0.9=98.5 out<0.1=99.8 out<0.9=100.0 acc=9.70\n"
     ]
    },
    {
     "name": "stderr",
     "output_type": "stream",
     "text": [
      "INFO:theanets.trainer:RmsProp 237 loss=4.209501 err=4.07 hid1<0.1=95.6 hid1<0.9=98.5 out<0.1=99.8 out<0.9=100.0 acc=9.73\n"
     ]
    },
    {
     "name": "stdout",
     "output_type": "stream",
     "text": [
      "I 2015-09-16 01:29:19 theanets.trainer:169 RmsProp 237 loss=4.209501 err=4.07 hid1<0.1=95.6 hid1<0.9=98.5 out<0.1=99.8 out<0.9=100.0 acc=9.73\n"
     ]
    },
    {
     "name": "stderr",
     "output_type": "stream",
     "text": [
      "INFO:theanets.trainer:RmsProp 238 loss=4.207346 err=4.06 hid1<0.1=95.6 hid1<0.9=98.5 out<0.1=99.8 out<0.9=100.0 acc=9.90\n"
     ]
    },
    {
     "name": "stdout",
     "output_type": "stream",
     "text": [
      "I 2015-09-16 01:29:20 theanets.trainer:169 RmsProp 238 loss=4.207346 err=4.06 hid1<0.1=95.6 hid1<0.9=98.5 out<0.1=99.8 out<0.9=100.0 acc=9.90\n"
     ]
    },
    {
     "name": "stderr",
     "output_type": "stream",
     "text": [
      "INFO:theanets.trainer:RmsProp 239 loss=4.207650 err=4.06 hid1<0.1=95.6 hid1<0.9=98.5 out<0.1=99.8 out<0.9=100.0 acc=9.93\n"
     ]
    },
    {
     "name": "stdout",
     "output_type": "stream",
     "text": [
      "I 2015-09-16 01:29:20 theanets.trainer:169 RmsProp 239 loss=4.207650 err=4.06 hid1<0.1=95.6 hid1<0.9=98.5 out<0.1=99.8 out<0.9=100.0 acc=9.93\n"
     ]
    },
    {
     "name": "stderr",
     "output_type": "stream",
     "text": [
      "INFO:theanets.trainer:RmsProp 240 loss=4.204970 err=4.06 hid1<0.1=95.6 hid1<0.9=98.5 out<0.1=99.8 out<0.9=100.0 acc=9.69\n"
     ]
    },
    {
     "name": "stdout",
     "output_type": "stream",
     "text": [
      "I 2015-09-16 01:29:20 theanets.trainer:169 RmsProp 240 loss=4.204970 err=4.06 hid1<0.1=95.6 hid1<0.9=98.5 out<0.1=99.8 out<0.9=100.0 acc=9.69\n"
     ]
    },
    {
     "name": "stderr",
     "output_type": "stream",
     "text": [
      "INFO:theanets.trainer:validation 24 loss=4.285622 err=4.14 hid1<0.1=95.5 hid1<0.9=98.4 out<0.1=99.8 out<0.9=100.0 acc=10.59\n"
     ]
    },
    {
     "name": "stdout",
     "output_type": "stream",
     "text": [
      "I 2015-09-16 01:29:20 theanets.trainer:169 validation 24 loss=4.285622 err=4.14 hid1<0.1=95.5 hid1<0.9=98.4 out<0.1=99.8 out<0.9=100.0 acc=10.59\n"
     ]
    },
    {
     "name": "stderr",
     "output_type": "stream",
     "text": [
      "INFO:theanets.trainer:RmsProp 241 loss=4.205325 err=4.06 hid1<0.1=95.5 hid1<0.9=98.5 out<0.1=99.8 out<0.9=100.0 acc=9.51\n"
     ]
    },
    {
     "name": "stdout",
     "output_type": "stream",
     "text": [
      "I 2015-09-16 01:29:21 theanets.trainer:169 RmsProp 241 loss=4.205325 err=4.06 hid1<0.1=95.5 hid1<0.9=98.5 out<0.1=99.8 out<0.9=100.0 acc=9.51\n"
     ]
    },
    {
     "name": "stderr",
     "output_type": "stream",
     "text": [
      "INFO:theanets.trainer:RmsProp 242 loss=4.203033 err=4.06 hid1<0.1=95.5 hid1<0.9=98.5 out<0.1=99.8 out<0.9=100.0 acc=9.88\n"
     ]
    },
    {
     "name": "stdout",
     "output_type": "stream",
     "text": [
      "I 2015-09-16 01:29:21 theanets.trainer:169 RmsProp 242 loss=4.203033 err=4.06 hid1<0.1=95.5 hid1<0.9=98.5 out<0.1=99.8 out<0.9=100.0 acc=9.88\n"
     ]
    },
    {
     "name": "stderr",
     "output_type": "stream",
     "text": [
      "INFO:theanets.trainer:RmsProp 243 loss=4.203285 err=4.06 hid1<0.1=95.5 hid1<0.9=98.5 out<0.1=99.8 out<0.9=100.0 acc=9.68\n"
     ]
    },
    {
     "name": "stdout",
     "output_type": "stream",
     "text": [
      "I 2015-09-16 01:29:21 theanets.trainer:169 RmsProp 243 loss=4.203285 err=4.06 hid1<0.1=95.5 hid1<0.9=98.5 out<0.1=99.8 out<0.9=100.0 acc=9.68\n"
     ]
    },
    {
     "name": "stderr",
     "output_type": "stream",
     "text": [
      "INFO:theanets.trainer:RmsProp 244 loss=4.200521 err=4.06 hid1<0.1=95.5 hid1<0.9=98.5 out<0.1=99.8 out<0.9=100.0 acc=9.96\n"
     ]
    },
    {
     "name": "stdout",
     "output_type": "stream",
     "text": [
      "I 2015-09-16 01:29:22 theanets.trainer:169 RmsProp 244 loss=4.200521 err=4.06 hid1<0.1=95.5 hid1<0.9=98.5 out<0.1=99.8 out<0.9=100.0 acc=9.96\n"
     ]
    },
    {
     "name": "stderr",
     "output_type": "stream",
     "text": [
      "INFO:theanets.trainer:RmsProp 245 loss=4.200701 err=4.06 hid1<0.1=95.5 hid1<0.9=98.5 out<0.1=99.8 out<0.9=100.0 acc=10.02\n"
     ]
    },
    {
     "name": "stdout",
     "output_type": "stream",
     "text": [
      "I 2015-09-16 01:29:22 theanets.trainer:169 RmsProp 245 loss=4.200701 err=4.06 hid1<0.1=95.5 hid1<0.9=98.5 out<0.1=99.8 out<0.9=100.0 acc=10.02\n"
     ]
    },
    {
     "name": "stderr",
     "output_type": "stream",
     "text": [
      "INFO:theanets.trainer:RmsProp 246 loss=4.199728 err=4.05 hid1<0.1=95.5 hid1<0.9=98.5 out<0.1=99.8 out<0.9=100.0 acc=9.81\n"
     ]
    },
    {
     "name": "stdout",
     "output_type": "stream",
     "text": [
      "I 2015-09-16 01:29:22 theanets.trainer:169 RmsProp 246 loss=4.199728 err=4.05 hid1<0.1=95.5 hid1<0.9=98.5 out<0.1=99.8 out<0.9=100.0 acc=9.81\n"
     ]
    },
    {
     "name": "stderr",
     "output_type": "stream",
     "text": [
      "INFO:theanets.trainer:RmsProp 247 loss=4.199591 err=4.05 hid1<0.1=95.5 hid1<0.9=98.5 out<0.1=99.8 out<0.9=100.0 acc=9.84\n"
     ]
    },
    {
     "name": "stdout",
     "output_type": "stream",
     "text": [
      "I 2015-09-16 01:29:23 theanets.trainer:169 RmsProp 247 loss=4.199591 err=4.05 hid1<0.1=95.5 hid1<0.9=98.5 out<0.1=99.8 out<0.9=100.0 acc=9.84\n"
     ]
    },
    {
     "name": "stderr",
     "output_type": "stream",
     "text": [
      "INFO:theanets.trainer:RmsProp 248 loss=4.197562 err=4.05 hid1<0.1=95.5 hid1<0.9=98.5 out<0.1=99.8 out<0.9=100.0 acc=10.07\n"
     ]
    },
    {
     "name": "stdout",
     "output_type": "stream",
     "text": [
      "I 2015-09-16 01:29:23 theanets.trainer:169 RmsProp 248 loss=4.197562 err=4.05 hid1<0.1=95.5 hid1<0.9=98.5 out<0.1=99.8 out<0.9=100.0 acc=10.07\n"
     ]
    },
    {
     "name": "stderr",
     "output_type": "stream",
     "text": [
      "INFO:theanets.trainer:RmsProp 249 loss=4.195215 err=4.05 hid1<0.1=95.5 hid1<0.9=98.5 out<0.1=99.8 out<0.9=100.0 acc=9.93\n"
     ]
    },
    {
     "name": "stdout",
     "output_type": "stream",
     "text": [
      "I 2015-09-16 01:29:24 theanets.trainer:169 RmsProp 249 loss=4.195215 err=4.05 hid1<0.1=95.5 hid1<0.9=98.5 out<0.1=99.8 out<0.9=100.0 acc=9.93\n"
     ]
    },
    {
     "name": "stderr",
     "output_type": "stream",
     "text": [
      "INFO:theanets.trainer:RmsProp 250 loss=4.195418 err=4.05 hid1<0.1=95.5 hid1<0.9=98.5 out<0.1=99.8 out<0.9=100.0 acc=9.82\n"
     ]
    },
    {
     "name": "stdout",
     "output_type": "stream",
     "text": [
      "I 2015-09-16 01:29:24 theanets.trainer:169 RmsProp 250 loss=4.195418 err=4.05 hid1<0.1=95.5 hid1<0.9=98.5 out<0.1=99.8 out<0.9=100.0 acc=9.82\n"
     ]
    },
    {
     "name": "stderr",
     "output_type": "stream",
     "text": [
      "INFO:theanets.trainer:validation 25 loss=4.270052 err=4.12 hid1<0.1=95.5 hid1<0.9=98.4 out<0.1=99.8 out<0.9=100.0 acc=10.76\n"
     ]
    },
    {
     "name": "stdout",
     "output_type": "stream",
     "text": [
      "I 2015-09-16 01:29:24 theanets.trainer:169 validation 25 loss=4.270052 err=4.12 hid1<0.1=95.5 hid1<0.9=98.4 out<0.1=99.8 out<0.9=100.0 acc=10.76\n"
     ]
    },
    {
     "name": "stderr",
     "output_type": "stream",
     "text": [
      "INFO:theanets.trainer:RmsProp 251 loss=4.194254 err=4.05 hid1<0.1=95.5 hid1<0.9=98.5 out<0.1=99.8 out<0.9=100.0 acc=9.77\n"
     ]
    },
    {
     "name": "stdout",
     "output_type": "stream",
     "text": [
      "I 2015-09-16 01:29:25 theanets.trainer:169 RmsProp 251 loss=4.194254 err=4.05 hid1<0.1=95.5 hid1<0.9=98.5 out<0.1=99.8 out<0.9=100.0 acc=9.77\n"
     ]
    },
    {
     "name": "stderr",
     "output_type": "stream",
     "text": [
      "INFO:theanets.trainer:RmsProp 252 loss=4.193425 err=4.05 hid1<0.1=95.5 hid1<0.9=98.5 out<0.1=99.8 out<0.9=100.0 acc=9.67\n"
     ]
    },
    {
     "name": "stdout",
     "output_type": "stream",
     "text": [
      "I 2015-09-16 01:29:25 theanets.trainer:169 RmsProp 252 loss=4.193425 err=4.05 hid1<0.1=95.5 hid1<0.9=98.5 out<0.1=99.8 out<0.9=100.0 acc=9.67\n"
     ]
    },
    {
     "name": "stderr",
     "output_type": "stream",
     "text": [
      "INFO:theanets.trainer:RmsProp 253 loss=4.193451 err=4.05 hid1<0.1=95.5 hid1<0.9=98.4 out<0.1=99.8 out<0.9=100.0 acc=10.26\n"
     ]
    },
    {
     "name": "stdout",
     "output_type": "stream",
     "text": [
      "I 2015-09-16 01:29:26 theanets.trainer:169 RmsProp 253 loss=4.193451 err=4.05 hid1<0.1=95.5 hid1<0.9=98.4 out<0.1=99.8 out<0.9=100.0 acc=10.26\n"
     ]
    },
    {
     "name": "stderr",
     "output_type": "stream",
     "text": [
      "INFO:theanets.trainer:RmsProp 254 loss=4.191326 err=4.04 hid1<0.1=95.5 hid1<0.9=98.4 out<0.1=99.8 out<0.9=100.0 acc=10.29\n"
     ]
    },
    {
     "name": "stdout",
     "output_type": "stream",
     "text": [
      "I 2015-09-16 01:29:26 theanets.trainer:169 RmsProp 254 loss=4.191326 err=4.04 hid1<0.1=95.5 hid1<0.9=98.4 out<0.1=99.8 out<0.9=100.0 acc=10.29\n"
     ]
    },
    {
     "name": "stderr",
     "output_type": "stream",
     "text": [
      "INFO:theanets.trainer:RmsProp 255 loss=4.190475 err=4.04 hid1<0.1=95.5 hid1<0.9=98.4 out<0.1=99.8 out<0.9=100.0 acc=9.96\n"
     ]
    },
    {
     "name": "stdout",
     "output_type": "stream",
     "text": [
      "I 2015-09-16 01:29:27 theanets.trainer:169 RmsProp 255 loss=4.190475 err=4.04 hid1<0.1=95.5 hid1<0.9=98.4 out<0.1=99.8 out<0.9=100.0 acc=9.96\n"
     ]
    },
    {
     "name": "stderr",
     "output_type": "stream",
     "text": [
      "INFO:theanets.trainer:RmsProp 256 loss=4.190141 err=4.04 hid1<0.1=95.5 hid1<0.9=98.4 out<0.1=99.8 out<0.9=100.0 acc=10.18\n"
     ]
    },
    {
     "name": "stdout",
     "output_type": "stream",
     "text": [
      "I 2015-09-16 01:29:27 theanets.trainer:169 RmsProp 256 loss=4.190141 err=4.04 hid1<0.1=95.5 hid1<0.9=98.4 out<0.1=99.8 out<0.9=100.0 acc=10.18\n"
     ]
    },
    {
     "name": "stderr",
     "output_type": "stream",
     "text": [
      "INFO:theanets.trainer:RmsProp 257 loss=4.191505 err=4.04 hid1<0.1=95.5 hid1<0.9=98.4 out<0.1=99.8 out<0.9=100.0 acc=10.10\n"
     ]
    },
    {
     "name": "stdout",
     "output_type": "stream",
     "text": [
      "I 2015-09-16 01:29:27 theanets.trainer:169 RmsProp 257 loss=4.191505 err=4.04 hid1<0.1=95.5 hid1<0.9=98.4 out<0.1=99.8 out<0.9=100.0 acc=10.10\n"
     ]
    },
    {
     "name": "stderr",
     "output_type": "stream",
     "text": [
      "INFO:theanets.trainer:RmsProp 258 loss=4.189242 err=4.04 hid1<0.1=95.5 hid1<0.9=98.4 out<0.1=99.8 out<0.9=100.0 acc=10.16\n"
     ]
    },
    {
     "name": "stdout",
     "output_type": "stream",
     "text": [
      "I 2015-09-16 01:29:28 theanets.trainer:169 RmsProp 258 loss=4.189242 err=4.04 hid1<0.1=95.5 hid1<0.9=98.4 out<0.1=99.8 out<0.9=100.0 acc=10.16\n"
     ]
    },
    {
     "name": "stderr",
     "output_type": "stream",
     "text": [
      "INFO:theanets.trainer:RmsProp 259 loss=4.188633 err=4.04 hid1<0.1=95.4 hid1<0.9=98.4 out<0.1=99.8 out<0.9=100.0 acc=10.18\n"
     ]
    },
    {
     "name": "stdout",
     "output_type": "stream",
     "text": [
      "I 2015-09-16 01:29:28 theanets.trainer:169 RmsProp 259 loss=4.188633 err=4.04 hid1<0.1=95.4 hid1<0.9=98.4 out<0.1=99.8 out<0.9=100.0 acc=10.18\n"
     ]
    },
    {
     "name": "stderr",
     "output_type": "stream",
     "text": [
      "INFO:theanets.trainer:RmsProp 260 loss=4.186866 err=4.04 hid1<0.1=95.4 hid1<0.9=98.4 out<0.1=99.8 out<0.9=100.0 acc=9.98\n"
     ]
    },
    {
     "name": "stdout",
     "output_type": "stream",
     "text": [
      "I 2015-09-16 01:29:29 theanets.trainer:169 RmsProp 260 loss=4.186866 err=4.04 hid1<0.1=95.4 hid1<0.9=98.4 out<0.1=99.8 out<0.9=100.0 acc=9.98\n"
     ]
    },
    {
     "name": "stderr",
     "output_type": "stream",
     "text": [
      "INFO:theanets.trainer:validation 26 loss=4.274318 err=4.12 hid1<0.1=95.4 hid1<0.9=98.3 out<0.1=99.7 out<0.9=100.0 acc=10.75\n"
     ]
    },
    {
     "name": "stdout",
     "output_type": "stream",
     "text": [
      "I 2015-09-16 01:29:29 theanets.trainer:169 validation 26 loss=4.274318 err=4.12 hid1<0.1=95.4 hid1<0.9=98.3 out<0.1=99.7 out<0.9=100.0 acc=10.75\n"
     ]
    },
    {
     "name": "stderr",
     "output_type": "stream",
     "text": [
      "INFO:theanets.trainer:RmsProp 261 loss=4.186627 err=4.04 hid1<0.1=95.4 hid1<0.9=98.4 out<0.1=99.8 out<0.9=100.0 acc=10.20\n"
     ]
    },
    {
     "name": "stdout",
     "output_type": "stream",
     "text": [
      "I 2015-09-16 01:29:29 theanets.trainer:169 RmsProp 261 loss=4.186627 err=4.04 hid1<0.1=95.4 hid1<0.9=98.4 out<0.1=99.8 out<0.9=100.0 acc=10.20\n"
     ]
    },
    {
     "name": "stderr",
     "output_type": "stream",
     "text": [
      "INFO:theanets.trainer:RmsProp 262 loss=4.185694 err=4.04 hid1<0.1=95.4 hid1<0.9=98.4 out<0.1=99.8 out<0.9=100.0 acc=9.90\n"
     ]
    },
    {
     "name": "stdout",
     "output_type": "stream",
     "text": [
      "I 2015-09-16 01:29:30 theanets.trainer:169 RmsProp 262 loss=4.185694 err=4.04 hid1<0.1=95.4 hid1<0.9=98.4 out<0.1=99.8 out<0.9=100.0 acc=9.90\n"
     ]
    },
    {
     "name": "stderr",
     "output_type": "stream",
     "text": [
      "INFO:theanets.trainer:RmsProp 263 loss=4.184949 err=4.04 hid1<0.1=95.4 hid1<0.9=98.4 out<0.1=99.8 out<0.9=100.0 acc=10.28\n"
     ]
    },
    {
     "name": "stdout",
     "output_type": "stream",
     "text": [
      "I 2015-09-16 01:29:30 theanets.trainer:169 RmsProp 263 loss=4.184949 err=4.04 hid1<0.1=95.4 hid1<0.9=98.4 out<0.1=99.8 out<0.9=100.0 acc=10.28\n"
     ]
    },
    {
     "name": "stderr",
     "output_type": "stream",
     "text": [
      "INFO:theanets.trainer:RmsProp 264 loss=4.184526 err=4.04 hid1<0.1=95.4 hid1<0.9=98.4 out<0.1=99.8 out<0.9=100.0 acc=10.36\n"
     ]
    },
    {
     "name": "stdout",
     "output_type": "stream",
     "text": [
      "I 2015-09-16 01:29:31 theanets.trainer:169 RmsProp 264 loss=4.184526 err=4.04 hid1<0.1=95.4 hid1<0.9=98.4 out<0.1=99.8 out<0.9=100.0 acc=10.36\n"
     ]
    },
    {
     "name": "stderr",
     "output_type": "stream",
     "text": [
      "INFO:theanets.trainer:RmsProp 265 loss=4.183216 err=4.03 hid1<0.1=95.4 hid1<0.9=98.4 out<0.1=99.8 out<0.9=100.0 acc=10.20\n"
     ]
    },
    {
     "name": "stdout",
     "output_type": "stream",
     "text": [
      "I 2015-09-16 01:29:31 theanets.trainer:169 RmsProp 265 loss=4.183216 err=4.03 hid1<0.1=95.4 hid1<0.9=98.4 out<0.1=99.8 out<0.9=100.0 acc=10.20\n"
     ]
    },
    {
     "name": "stderr",
     "output_type": "stream",
     "text": [
      "INFO:theanets.trainer:RmsProp 266 loss=4.181234 err=4.03 hid1<0.1=95.4 hid1<0.9=98.4 out<0.1=99.8 out<0.9=100.0 acc=10.22\n"
     ]
    },
    {
     "name": "stdout",
     "output_type": "stream",
     "text": [
      "I 2015-09-16 01:29:32 theanets.trainer:169 RmsProp 266 loss=4.181234 err=4.03 hid1<0.1=95.4 hid1<0.9=98.4 out<0.1=99.8 out<0.9=100.0 acc=10.22\n"
     ]
    },
    {
     "name": "stderr",
     "output_type": "stream",
     "text": [
      "INFO:theanets.trainer:RmsProp 267 loss=4.181140 err=4.03 hid1<0.1=95.4 hid1<0.9=98.4 out<0.1=99.8 out<0.9=100.0 acc=10.21\n"
     ]
    },
    {
     "name": "stdout",
     "output_type": "stream",
     "text": [
      "I 2015-09-16 01:29:32 theanets.trainer:169 RmsProp 267 loss=4.181140 err=4.03 hid1<0.1=95.4 hid1<0.9=98.4 out<0.1=99.8 out<0.9=100.0 acc=10.21\n"
     ]
    },
    {
     "name": "stderr",
     "output_type": "stream",
     "text": [
      "INFO:theanets.trainer:RmsProp 268 loss=4.180447 err=4.03 hid1<0.1=95.4 hid1<0.9=98.4 out<0.1=99.8 out<0.9=100.0 acc=10.21\n"
     ]
    },
    {
     "name": "stdout",
     "output_type": "stream",
     "text": [
      "I 2015-09-16 01:29:33 theanets.trainer:169 RmsProp 268 loss=4.180447 err=4.03 hid1<0.1=95.4 hid1<0.9=98.4 out<0.1=99.8 out<0.9=100.0 acc=10.21\n"
     ]
    },
    {
     "name": "stderr",
     "output_type": "stream",
     "text": [
      "INFO:theanets.trainer:RmsProp 269 loss=4.179091 err=4.03 hid1<0.1=95.4 hid1<0.9=98.4 out<0.1=99.8 out<0.9=100.0 acc=10.34\n"
     ]
    },
    {
     "name": "stdout",
     "output_type": "stream",
     "text": [
      "I 2015-09-16 01:29:33 theanets.trainer:169 RmsProp 269 loss=4.179091 err=4.03 hid1<0.1=95.4 hid1<0.9=98.4 out<0.1=99.8 out<0.9=100.0 acc=10.34\n"
     ]
    },
    {
     "name": "stderr",
     "output_type": "stream",
     "text": [
      "INFO:theanets.trainer:RmsProp 270 loss=4.177745 err=4.03 hid1<0.1=95.4 hid1<0.9=98.4 out<0.1=99.8 out<0.9=100.0 acc=10.45\n"
     ]
    },
    {
     "name": "stdout",
     "output_type": "stream",
     "text": [
      "I 2015-09-16 01:29:33 theanets.trainer:169 RmsProp 270 loss=4.177745 err=4.03 hid1<0.1=95.4 hid1<0.9=98.4 out<0.1=99.8 out<0.9=100.0 acc=10.45\n"
     ]
    },
    {
     "name": "stderr",
     "output_type": "stream",
     "text": [
      "INFO:theanets.trainer:validation 27 loss=4.264519 err=4.11 hid1<0.1=95.3 hid1<0.9=98.3 out<0.1=99.8 out<0.9=100.0 acc=11.36\n"
     ]
    },
    {
     "name": "stdout",
     "output_type": "stream",
     "text": [
      "I 2015-09-16 01:29:34 theanets.trainer:169 validation 27 loss=4.264519 err=4.11 hid1<0.1=95.3 hid1<0.9=98.3 out<0.1=99.8 out<0.9=100.0 acc=11.36\n"
     ]
    },
    {
     "name": "stderr",
     "output_type": "stream",
     "text": [
      "INFO:theanets.trainer:patience elapsed!\n"
     ]
    },
    {
     "name": "stdout",
     "output_type": "stream",
     "text": [
      "I 2015-09-16 01:29:34 theanets.trainer:253 patience elapsed!\n"
     ]
    },
    {
     "data": {
      "text/plain": [
       "(OrderedDict([('loss', 4.1777453007905381), ('err', 4.0277878788934238), ('hid1<0.1', 95.375), ('hid1<0.9', 98.401494565217391), ('out<0.1', 99.769776570048336), ('out<0.9', 100.0), ('acc', 10.450634057971014)]),\n",
       " OrderedDict([('loss', 4.2743176740148794), ('err', 4.1196194368859995), ('hid1<0.1', 95.389760375494092), ('hid1<0.9', 98.324357707509876), ('out<0.1', 99.722393774703562), ('out<0.9', 100.0), ('acc', 10.746047430830039)]))"
      ]
     },
     "execution_count": 285,
     "metadata": {},
     "output_type": "execute_result"
    }
   ],
   "source": [
    "import theanets\n",
    "import climate # some utilities for command line interfaces\n",
    "climate.enable_default_logging()\n",
    "\n",
    "exp = theanets.Experiment(\n",
    "    theanets.Classifier,\n",
    "    layers=(13, 50, 180),\n",
    "    hidden_l1=0.1)\n",
    "\n",
    "exp.train(\n",
    "    (X_train, y_train),\n",
    "    (X_valid, y_valid),\n",
    "    optimize='rmsprop',\n",
    "    learning_rate=0.01,\n",
    "    momentum=0.5)"
   ]
  },
  {
   "cell_type": "code",
   "execution_count": 286,
   "metadata": {
    "collapsed": false
   },
   "outputs": [
    {
     "data": {
      "text/plain": [
       "array([102,  71,  59, ..., 155,  77, 120])"
      ]
     },
     "execution_count": 286,
     "metadata": {},
     "output_type": "execute_result"
    }
   ],
   "source": [
    "y_pred_nn = exp.network.classify(X_valid)\n",
    "y_pred_nn"
   ]
  },
  {
   "cell_type": "code",
   "execution_count": 287,
   "metadata": {
    "collapsed": false
   },
   "outputs": [
    {
     "name": "stdout",
     "output_type": "stream",
     "text": [
      "             precision    recall  f1-score   support\n",
      "\n",
      "          0       0.00      0.00      0.00        11\n",
      "          1       0.00      0.00      0.00         6\n",
      "          2       0.04      0.22      0.07         9\n",
      "          3       0.00      0.00      0.00         5\n",
      "          4       0.00      0.00      0.00        14\n",
      "          5       0.00      0.00      0.00        23\n",
      "          6       0.00      0.00      0.00        17\n",
      "          7       0.00      0.00      0.00        16\n",
      "          8       0.00      0.00      0.00        16\n",
      "          9       0.00      0.00      0.00         8\n",
      "         10       0.00      0.00      0.00        27\n",
      "         11       0.00      0.00      0.00        17\n",
      "         12       0.00      0.00      0.00        11\n",
      "         13       0.00      0.00      0.00        16\n",
      "         14       0.00      0.00      0.00        14\n",
      "         15       0.00      0.00      0.00         6\n",
      "         16       0.00      0.00      0.00        12\n",
      "         17       0.00      0.00      0.00        19\n",
      "         18       0.00      0.00      0.00         8\n",
      "         19       0.00      0.00      0.00        15\n",
      "         20       0.00      0.00      0.00         9\n",
      "         21       0.00      0.00      0.00        19\n",
      "         22       0.00      0.00      0.00        16\n",
      "         23       0.00      0.00      0.00        11\n",
      "         24       0.00      0.00      0.00         6\n",
      "         25       0.00      0.00      0.00        18\n",
      "         26       0.14      0.30      0.19        20\n",
      "         27       0.00      0.00      0.00        17\n",
      "         28       0.00      0.00      0.00        16\n",
      "         29       0.00      0.00      0.00        28\n",
      "         30       0.00      0.00      0.00        12\n",
      "         31       0.25      0.11      0.15        18\n",
      "         32       0.00      0.00      0.00        15\n",
      "         33       0.00      0.00      0.00        19\n",
      "         34       0.00      0.00      0.00        11\n",
      "         35       0.00      0.00      0.00        14\n",
      "         36       0.00      0.00      0.00        11\n",
      "         37       0.00      0.00      0.00        17\n",
      "         38       0.00      0.00      0.00        14\n",
      "         39       0.00      0.00      0.00        13\n",
      "         40       0.00      0.00      0.00        14\n",
      "         41       0.00      0.00      0.00        12\n",
      "         42       0.14      0.23      0.18        22\n",
      "         43       0.00      0.00      0.00        17\n",
      "         44       0.00      0.00      0.00         6\n",
      "         45       0.00      0.00      0.00        13\n",
      "         46       0.39      0.73      0.51        15\n",
      "         47       0.00      0.00      0.00        14\n",
      "         48       0.00      0.00      0.00        23\n",
      "         49       0.17      0.14      0.15        21\n",
      "         50       0.00      0.00      0.00        13\n",
      "         51       0.00      0.00      0.00        18\n",
      "         52       0.00      0.00      0.00        15\n",
      "         53       0.00      0.00      0.00        10\n",
      "         54       0.00      0.00      0.00         9\n",
      "         55       0.00      0.00      0.00        10\n",
      "         56       0.00      0.00      0.00        22\n",
      "         57       0.00      0.00      0.00        22\n",
      "         58       0.32      0.31      0.31        26\n",
      "         59       0.17      0.50      0.26        16\n",
      "         60       0.00      0.00      0.00        15\n",
      "         61       0.00      0.00      0.00         6\n",
      "         62       0.00      0.00      0.00        13\n",
      "         63       0.00      0.00      0.00        16\n",
      "         64       0.00      0.00      0.00        23\n",
      "         65       0.00      0.00      0.00        26\n",
      "         66       0.00      0.00      0.00        16\n",
      "         67       0.00      0.00      0.00        17\n",
      "         68       0.00      0.00      0.00        13\n",
      "         69       0.00      0.00      0.00        11\n",
      "         70       0.00      0.00      0.00         6\n",
      "         71       0.06      0.50      0.10        22\n",
      "         72       0.30      0.27      0.29        11\n",
      "         73       0.00      0.00      0.00        14\n",
      "         74       0.00      0.00      0.00        16\n",
      "         75       0.00      0.00      0.00        15\n",
      "         76       0.00      0.00      0.00        14\n",
      "         77       0.09      0.09      0.09        11\n",
      "         78       0.43      0.69      0.53        29\n",
      "         79       0.00      0.00      0.00        21\n",
      "         80       0.05      0.10      0.07        21\n",
      "         81       0.00      0.00      0.00         4\n",
      "         82       0.00      0.00      0.00        11\n",
      "         83       0.00      0.00      0.00         5\n",
      "         84       0.00      0.00      0.00        10\n",
      "         85       0.05      0.04      0.04        25\n",
      "         86       0.00      0.00      0.00         7\n",
      "         87       0.00      0.00      0.00        33\n",
      "         88       0.19      0.30      0.23        27\n",
      "         89       0.00      0.00      0.00        17\n",
      "         90       0.00      0.00      0.00        14\n",
      "         91       0.00      0.00      0.00        11\n",
      "         92       0.05      0.11      0.07         9\n",
      "         93       0.00      0.00      0.00         7\n",
      "         94       0.00      0.00      0.00        15\n",
      "         95       0.00      0.00      0.00        18\n",
      "         96       0.00      0.00      0.00         9\n",
      "         97       0.00      0.00      0.00         9\n",
      "         98       0.00      0.00      0.00        25\n",
      "         99       0.00      0.00      0.00        24\n",
      "        100       0.00      0.00      0.00        17\n",
      "        101       0.00      0.00      0.00        17\n",
      "        102       0.01      0.13      0.02        15\n",
      "        103       0.00      0.00      0.00        25\n",
      "        104       0.00      0.00      0.00         2\n",
      "        105       0.00      0.00      0.00        17\n",
      "        106       0.00      0.00      0.00        15\n",
      "        107       0.00      0.00      0.00        31\n",
      "        108       0.00      0.00      0.00        15\n",
      "        109       0.00      0.00      0.00        20\n",
      "        110       0.00      0.00      0.00         8\n",
      "        111       0.08      0.17      0.11        18\n",
      "        112       0.00      0.00      0.00         7\n",
      "        113       0.00      0.00      0.00         4\n",
      "        114       0.00      0.00      0.00        10\n",
      "        115       0.00      0.00      0.00        25\n",
      "        116       0.06      0.21      0.10        24\n",
      "        117       0.00      0.00      0.00        23\n",
      "        118       0.29      0.38      0.33        37\n",
      "        119       0.00      0.00      0.00        19\n",
      "        120       0.14      0.31      0.19        29\n",
      "        121       0.00      0.00      0.00        20\n",
      "        122       0.12      0.33      0.18        30\n",
      "        123       0.00      0.00      0.00        15\n",
      "        124       0.11      0.40      0.17        20\n",
      "        125       0.00      0.00      0.00         4\n",
      "        126       0.00      0.00      0.00        28\n",
      "        127       0.01      0.04      0.02        28\n",
      "        128       0.00      0.00      0.00        20\n",
      "        129       0.14      0.18      0.16        17\n",
      "        130       0.00      0.00      0.00        11\n",
      "        131       0.03      0.10      0.04        31\n",
      "        132       0.11      0.21      0.15        14\n",
      "        133       0.00      0.00      0.00        23\n",
      "        134       0.00      0.00      0.00        11\n",
      "        135       0.00      0.00      0.00         4\n",
      "        136       0.04      0.10      0.06        10\n",
      "        137       0.00      0.00      0.00        26\n",
      "        138       0.00      0.00      0.00         9\n",
      "        139       0.00      0.00      0.00        12\n",
      "        140       0.05      0.23      0.08        22\n",
      "        141       0.45      0.31      0.37        29\n",
      "        142       0.00      0.00      0.00        25\n",
      "        143       0.00      0.00      0.00         7\n",
      "        144       0.09      0.41      0.14        17\n",
      "        145       0.03      0.25      0.06        12\n",
      "        146       0.00      0.00      0.00        19\n",
      "        147       0.00      0.00      0.00        16\n",
      "        148       0.00      0.00      0.00        18\n",
      "        149       0.50      0.12      0.20        16\n",
      "        150       0.04      0.22      0.06        23\n",
      "        151       0.00      0.00      0.00        10\n",
      "        152       0.00      0.00      0.00        17\n",
      "        153       0.13      0.64      0.22        44\n",
      "        154       0.00      0.00      0.00        16\n",
      "        155       0.07      0.38      0.12        21\n",
      "        156       0.23      0.45      0.31        65\n",
      "        157       0.00      0.00      0.00        22\n",
      "        158       0.00      0.00      0.00        12\n",
      "        159       0.00      0.00      0.00        30\n",
      "        160       0.00      0.00      0.00         5\n",
      "        161       0.00      0.00      0.00         7\n",
      "        162       0.00      0.00      0.00        22\n",
      "        163       0.00      0.00      0.00        12\n",
      "        164       0.00      0.00      0.00         5\n",
      "        165       0.00      0.00      0.00         8\n",
      "        166       0.00      0.00      0.00        15\n",
      "        167       0.00      0.00      0.00         6\n",
      "        168       0.00      0.00      0.00        16\n",
      "        169       0.00      0.00      0.00        19\n",
      "        170       0.50      0.08      0.14        12\n",
      "        171       0.50      0.14      0.22        14\n",
      "        172       0.00      0.00      0.00         8\n",
      "        173       0.05      0.46      0.09        28\n",
      "        174       0.00      0.00      0.00         3\n",
      "        175       0.14      0.25      0.18        32\n",
      "        176       0.00      0.00      0.00         9\n",
      "        177       0.16      0.52      0.24        23\n",
      "        178       0.00      0.00      0.00         5\n",
      "        179       0.00      0.00      0.00        15\n",
      "\n",
      "avg / total       0.05      0.10      0.06      2924\n",
      "\n"
     ]
    },
    {
     "name": "stderr",
     "output_type": "stream",
     "text": [
      "/Users/bzamecnik/Documents/dev/pyvenv/py3.4/lib/python3.4/site-packages/sklearn/metrics/metrics.py:1771: UndefinedMetricWarning: Precision and F-score are ill-defined and being set to 0.0 in labels with no predicted samples.\n",
      "  'precision', 'predicted', average, warn_for)\n"
     ]
    }
   ],
   "source": [
    "print(classification_report(y_valid, y_pred_nn))"
   ]
  },
  {
   "cell_type": "code",
   "execution_count": 288,
   "metadata": {
    "collapsed": false
   },
   "outputs": [
    {
     "data": {
      "image/png": "[encoded data removed]",
      "text/plain": [
       "<matplotlib.figure.Figure at 0x1188875f8>"
      ]
     },
     "metadata": {},
     "output_type": "display_data"
    }
   ],
   "source": [
    "matshow(confusion_matrix(y_valid, y_pred_nn), cmap=cm.Spectral_r)\n",
    "colorbar();"
   ]
  },
  {
   "cell_type": "markdown",
   "metadata": {},
   "source": [
    "# TODO\n",
    "\n",
    "- better feature engineering:\n",
    "  - scale the features\n",
    "  - use context, eg. blocks of chords instead of just a single chord segment\n",
    "- use a deep neural network, eg. via theanets to learn better low-dimensional features\n",
    "- use an RNN, that would automatically handle the context"
   ]
  },
  {
   "cell_type": "code",
   "execution_count": null,
   "metadata": {
    "collapsed": true
   },
   "outputs": [],
   "source": []
  },
  {
   "cell_type": "code",
   "execution_count": null,
   "metadata": {
    "collapsed": true
   },
   "outputs": [],
   "source": []
  }
 ],
 "metadata": {
  "kernelspec": {
   "display_name": "Python 3",
   "language": "python",
   "name": "python3"
  },
  "language_info": {
   "codemirror_mode": {
    "name": "ipython",
    "version": 3
   },
   "file_extension": ".py",
   "mimetype": "text/x-python",
   "name": "python",
   "nbconvert_exporter": "python",
   "pygments_lexer": "ipython3",
   "version": "3.4.3"
  }
 },
 "nbformat": 4,
 "nbformat_minor": 0
}
